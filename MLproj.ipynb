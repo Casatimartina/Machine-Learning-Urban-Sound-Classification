{
 "cells": [
  {
   "cell_type": "code",
   "execution_count": 3,
   "metadata": {},
   "outputs": [],
   "source": [
    "##### Audio Classification Using Machine Learning\n",
    "#####dataset url https://urbansounddataset.weebly.com/urbansound8k.html"
   ]
  },
  {
   "cell_type": "code",
   "execution_count": 4,
   "metadata": {},
   "outputs": [
    {
     "name": "stdout",
     "output_type": "stream",
     "text": [
      "Requirement already satisfied: librosa in c:\\users\\dell\\anaconda3\\lib\\site-packages (0.8.1)\n",
      "Requirement already satisfied: pooch>=1.0 in c:\\users\\dell\\anaconda3\\lib\\site-packages (from librosa) (1.5.2)\n",
      "Requirement already satisfied: joblib>=0.14 in c:\\users\\dell\\anaconda3\\lib\\site-packages (from librosa) (0.17.0)\n",
      "Requirement already satisfied: audioread>=2.0.0 in c:\\users\\dell\\anaconda3\\lib\\site-packages (from librosa) (2.1.9)\n",
      "Requirement already satisfied: numpy>=1.15.0 in c:\\users\\dell\\anaconda3\\lib\\site-packages (from librosa) (1.19.2)\n",
      "Requirement already satisfied: resampy>=0.2.2 in c:\\users\\dell\\anaconda3\\lib\\site-packages (from librosa) (0.2.2)\n",
      "Requirement already satisfied: decorator>=3.0.0 in c:\\users\\dell\\anaconda3\\lib\\site-packages (from librosa) (4.4.2)\n",
      "Requirement already satisfied: soundfile>=0.10.2 in c:\\users\\dell\\anaconda3\\lib\\site-packages (from librosa) (0.10.3.post1)\n",
      "Requirement already satisfied: numba>=0.43.0 in c:\\users\\dell\\anaconda3\\lib\\site-packages (from librosa) (0.51.2)\n",
      "Requirement already satisfied: scipy>=1.0.0 in c:\\users\\dell\\anaconda3\\lib\\site-packages (from librosa) (1.5.2)\n",
      "Requirement already satisfied: packaging>=20.0 in c:\\users\\dell\\anaconda3\\lib\\site-packages (from librosa) (20.4)\n",
      "Requirement already satisfied: scikit-learn!=0.19.0,>=0.14.0 in c:\\users\\dell\\anaconda3\\lib\\site-packages (from librosa) (0.23.2)\n",
      "Requirement already satisfied: appdirs in c:\\users\\dell\\anaconda3\\lib\\site-packages (from pooch>=1.0->librosa) (1.4.4)\n",
      "Requirement already satisfied: requests in c:\\users\\dell\\anaconda3\\lib\\site-packages (from pooch>=1.0->librosa) (2.24.0)\n",
      "Requirement already satisfied: six>=1.3 in c:\\users\\dell\\anaconda3\\lib\\site-packages (from resampy>=0.2.2->librosa) (1.15.0)\n",
      "Requirement already satisfied: cffi>=1.0 in c:\\users\\dell\\anaconda3\\lib\\site-packages (from soundfile>=0.10.2->librosa) (1.14.3)\n",
      "Requirement already satisfied: llvmlite<0.35,>=0.34.0.dev0 in c:\\users\\dell\\anaconda3\\lib\\site-packages (from numba>=0.43.0->librosa) (0.34.0)\n",
      "Requirement already satisfied: setuptools in c:\\users\\dell\\anaconda3\\lib\\site-packages (from numba>=0.43.0->librosa) (50.3.1.post20201107)\n",
      "Requirement already satisfied: pyparsing>=2.0.2 in c:\\users\\dell\\anaconda3\\lib\\site-packages (from packaging>=20.0->librosa) (2.4.7)\n",
      "Requirement already satisfied: threadpoolctl>=2.0.0 in c:\\users\\dell\\anaconda3\\lib\\site-packages (from scikit-learn!=0.19.0,>=0.14.0->librosa) (2.1.0)\n",
      "Requirement already satisfied: idna<3,>=2.5 in c:\\users\\dell\\anaconda3\\lib\\site-packages (from requests->pooch>=1.0->librosa) (2.10)\n",
      "Requirement already satisfied: urllib3!=1.25.0,!=1.25.1,<1.26,>=1.21.1 in c:\\users\\dell\\anaconda3\\lib\\site-packages (from requests->pooch>=1.0->librosa) (1.25.11)\n",
      "Requirement already satisfied: certifi>=2017.4.17 in c:\\users\\dell\\anaconda3\\lib\\site-packages (from requests->pooch>=1.0->librosa) (2020.6.20)\n",
      "Requirement already satisfied: chardet<4,>=3.0.2 in c:\\users\\dell\\anaconda3\\lib\\site-packages (from requests->pooch>=1.0->librosa) (3.0.4)\n",
      "Requirement already satisfied: pycparser in c:\\users\\dell\\anaconda3\\lib\\site-packages (from cffi>=1.0->soundfile>=0.10.2->librosa) (2.20)\n"
     ]
    }
   ],
   "source": [
    "!pip install librosa"
   ]
  },
  {
   "cell_type": "code",
   "execution_count": 5,
   "metadata": {},
   "outputs": [],
   "source": [
    "import matplotlib.pyplot as plt\n",
    "%matplotlib inline\n",
    "import IPython.display as ipd\n",
    "import librosa\n",
    "import librosa.display\n",
    "import pandas as pd\n",
    "import numpy as np\n",
    "import os\n",
    "from tqdm import tqdm\n",
    "import seaborn as sns\n",
    "\n",
    "from sklearn.preprocessing import LabelEncoder\n",
    "from sklearn.model_selection import train_test_split\n",
    "from sklearn.model_selection import KFold\n",
    "from sklearn.model_selection import cross_val_score\n",
    "from sklearn import metrics"
   ]
  },
  {
   "cell_type": "code",
   "execution_count": 9,
   "metadata": {},
   "outputs": [],
   "source": [
    "from sklearn.model_selection import RepeatedKFold"
   ]
  },
  {
   "cell_type": "code",
   "execution_count": 10,
   "metadata": {},
   "outputs": [
    {
     "name": "stdout",
     "output_type": "stream",
     "text": [
      "Requirement already satisfied: tensorflow in c:\\users\\dell\\anaconda3\\lib\\site-packages (2.7.0)\n",
      "Requirement already satisfied: google-pasta>=0.1.1 in c:\\users\\dell\\anaconda3\\lib\\site-packages (from tensorflow) (0.2.0)\n",
      "Requirement already satisfied: six>=1.12.0 in c:\\users\\dell\\anaconda3\\lib\\site-packages (from tensorflow) (1.15.0)\n",
      "Requirement already satisfied: h5py>=2.9.0 in c:\\users\\dell\\anaconda3\\lib\\site-packages (from tensorflow) (2.10.0)\n",
      "Requirement already satisfied: numpy>=1.14.5 in c:\\users\\dell\\anaconda3\\lib\\site-packages (from tensorflow) (1.19.2)\n",
      "Requirement already satisfied: grpcio<2.0,>=1.24.3 in c:\\users\\dell\\anaconda3\\lib\\site-packages (from tensorflow) (1.41.1)\n",
      "Requirement already satisfied: gast<0.5.0,>=0.2.1 in c:\\users\\dell\\anaconda3\\lib\\site-packages (from tensorflow) (0.4.0)\n",
      "Requirement already satisfied: keras<2.8,>=2.7.0rc0 in c:\\users\\dell\\anaconda3\\lib\\site-packages (from tensorflow) (2.7.0)\n",
      "Requirement already satisfied: tensorflow-estimator<2.8,~=2.7.0rc0 in c:\\users\\dell\\anaconda3\\lib\\site-packages (from tensorflow) (2.7.0)\n",
      "Requirement already satisfied: libclang>=9.0.1 in c:\\users\\dell\\anaconda3\\lib\\site-packages (from tensorflow) (12.0.0)\n",
      "Requirement already satisfied: wrapt>=1.11.0 in c:\\users\\dell\\anaconda3\\lib\\site-packages (from tensorflow) (1.11.2)\n",
      "Requirement already satisfied: keras-preprocessing>=1.1.1 in c:\\users\\dell\\anaconda3\\lib\\site-packages (from tensorflow) (1.1.2)\n",
      "Requirement already satisfied: astunparse>=1.6.0 in c:\\users\\dell\\anaconda3\\lib\\site-packages (from tensorflow) (1.6.3)\n",
      "Requirement already satisfied: termcolor>=1.1.0 in c:\\users\\dell\\anaconda3\\lib\\site-packages (from tensorflow) (1.1.0)\n",
      "Requirement already satisfied: tensorboard~=2.6 in c:\\users\\dell\\anaconda3\\lib\\site-packages (from tensorflow) (2.7.0)\n",
      "Requirement already satisfied: opt-einsum>=2.3.2 in c:\\users\\dell\\anaconda3\\lib\\site-packages (from tensorflow) (3.3.0)\n",
      "Requirement already satisfied: wheel<1.0,>=0.32.0 in c:\\users\\dell\\anaconda3\\lib\\site-packages (from tensorflow) (0.35.1)\n",
      "Requirement already satisfied: tensorflow-io-gcs-filesystem>=0.21.0 in c:\\users\\dell\\anaconda3\\lib\\site-packages (from tensorflow) (0.22.0)\n",
      "Requirement already satisfied: protobuf>=3.9.2 in c:\\users\\dell\\anaconda3\\lib\\site-packages (from tensorflow) (3.19.1)\n",
      "Requirement already satisfied: typing-extensions>=3.6.6 in c:\\users\\dell\\anaconda3\\lib\\site-packages (from tensorflow) (3.7.4.3)\n",
      "Requirement already satisfied: absl-py>=0.4.0 in c:\\users\\dell\\anaconda3\\lib\\site-packages (from tensorflow) (1.0.0)\n",
      "Requirement already satisfied: flatbuffers<3.0,>=1.12 in c:\\users\\dell\\anaconda3\\lib\\site-packages (from tensorflow) (2.0)\n",
      "Requirement already satisfied: requests<3,>=2.21.0 in c:\\users\\dell\\anaconda3\\lib\\site-packages (from tensorboard~=2.6->tensorflow) (2.24.0)\n",
      "Requirement already satisfied: setuptools>=41.0.0 in c:\\users\\dell\\anaconda3\\lib\\site-packages (from tensorboard~=2.6->tensorflow) (50.3.1.post20201107)\n",
      "Requirement already satisfied: markdown>=2.6.8 in c:\\users\\dell\\anaconda3\\lib\\site-packages (from tensorboard~=2.6->tensorflow) (3.3.4)\n",
      "Requirement already satisfied: google-auth-oauthlib<0.5,>=0.4.1 in c:\\users\\dell\\anaconda3\\lib\\site-packages (from tensorboard~=2.6->tensorflow) (0.4.6)\n",
      "Requirement already satisfied: tensorboard-data-server<0.7.0,>=0.6.0 in c:\\users\\dell\\anaconda3\\lib\\site-packages (from tensorboard~=2.6->tensorflow) (0.6.1)\n",
      "Requirement already satisfied: tensorboard-plugin-wit>=1.6.0 in c:\\users\\dell\\anaconda3\\lib\\site-packages (from tensorboard~=2.6->tensorflow) (1.8.0)\n",
      "Requirement already satisfied: werkzeug>=0.11.15 in c:\\users\\dell\\anaconda3\\lib\\site-packages (from tensorboard~=2.6->tensorflow) (1.0.1)\n",
      "Requirement already satisfied: google-auth<3,>=1.6.3 in c:\\users\\dell\\anaconda3\\lib\\site-packages (from tensorboard~=2.6->tensorflow) (2.3.3)\n",
      "Requirement already satisfied: certifi>=2017.4.17 in c:\\users\\dell\\anaconda3\\lib\\site-packages (from requests<3,>=2.21.0->tensorboard~=2.6->tensorflow) (2020.6.20)\n",
      "Requirement already satisfied: chardet<4,>=3.0.2 in c:\\users\\dell\\anaconda3\\lib\\site-packages (from requests<3,>=2.21.0->tensorboard~=2.6->tensorflow) (3.0.4)\n",
      "Requirement already satisfied: idna<3,>=2.5 in c:\\users\\dell\\anaconda3\\lib\\site-packages (from requests<3,>=2.21.0->tensorboard~=2.6->tensorflow) (2.10)\n",
      "Requirement already satisfied: urllib3!=1.25.0,!=1.25.1,<1.26,>=1.21.1 in c:\\users\\dell\\anaconda3\\lib\\site-packages (from requests<3,>=2.21.0->tensorboard~=2.6->tensorflow) (1.25.11)\n",
      "Requirement already satisfied: requests-oauthlib>=0.7.0 in c:\\users\\dell\\anaconda3\\lib\\site-packages (from google-auth-oauthlib<0.5,>=0.4.1->tensorboard~=2.6->tensorflow) (1.3.0)\n",
      "Requirement already satisfied: cachetools<5.0,>=2.0.0 in c:\\users\\dell\\anaconda3\\lib\\site-packages (from google-auth<3,>=1.6.3->tensorboard~=2.6->tensorflow) (4.2.4)\n",
      "Requirement already satisfied: pyasn1-modules>=0.2.1 in c:\\users\\dell\\anaconda3\\lib\\site-packages (from google-auth<3,>=1.6.3->tensorboard~=2.6->tensorflow) (0.2.8)\n",
      "Requirement already satisfied: rsa<5,>=3.1.4; python_version >= \"3.6\" in c:\\users\\dell\\anaconda3\\lib\\site-packages (from google-auth<3,>=1.6.3->tensorboard~=2.6->tensorflow) (4.7.2)\n",
      "Requirement already satisfied: oauthlib>=3.0.0 in c:\\users\\dell\\anaconda3\\lib\\site-packages (from requests-oauthlib>=0.7.0->google-auth-oauthlib<0.5,>=0.4.1->tensorboard~=2.6->tensorflow) (3.1.1)\n",
      "Requirement already satisfied: pyasn1<0.5.0,>=0.4.6 in c:\\users\\dell\\anaconda3\\lib\\site-packages (from pyasn1-modules>=0.2.1->google-auth<3,>=1.6.3->tensorboard~=2.6->tensorflow) (0.4.8)\n"
     ]
    }
   ],
   "source": [
    "!pip install tensorflow"
   ]
  },
  {
   "cell_type": "code",
   "execution_count": 170,
   "metadata": {},
   "outputs": [
    {
     "name": "stdout",
     "output_type": "stream",
     "text": [
      "2.7.0\n"
     ]
    }
   ],
   "source": [
    "import tensorflow as tf\n",
    "print(tf.__version__)\n",
    "from tensorflow.keras import models, layers\n",
    "from tensorflow.keras.utils import to_categorical\n",
    "from tensorflow.keras.models import Sequential\n",
    "from tensorflow.keras.layers import Dense, Dropout, Activation\n",
    "from tensorflow.keras.optimizers import Adam\n",
    "from keras.wrappers.scikit_learn import KerasClassifier\n"
   ]
  },
  {
   "cell_type": "code",
   "execution_count": 173,
   "metadata": {},
   "outputs": [],
   "source": [
    "seed = 123\n",
    "tf.random.set_seed(seed)\n",
    "np.random.seed(seed)\n"
   ]
  },
  {
   "cell_type": "code",
   "execution_count": 174,
   "metadata": {},
   "outputs": [],
   "source": [
    "file_path = '/Users/DELL/OneDrive/Desktop/DSE/UrbanSound8K/audio/'\n"
   ]
  },
  {
   "cell_type": "code",
   "execution_count": 175,
   "metadata": {},
   "outputs": [
    {
     "data": {
      "text/html": [
       "<div>\n",
       "<style scoped>\n",
       "    .dataframe tbody tr th:only-of-type {\n",
       "        vertical-align: middle;\n",
       "    }\n",
       "\n",
       "    .dataframe tbody tr th {\n",
       "        vertical-align: top;\n",
       "    }\n",
       "\n",
       "    .dataframe thead th {\n",
       "        text-align: right;\n",
       "    }\n",
       "</style>\n",
       "<table border=\"1\" class=\"dataframe\">\n",
       "  <thead>\n",
       "    <tr style=\"text-align: right;\">\n",
       "      <th></th>\n",
       "      <th>slice_file_name</th>\n",
       "      <th>fsID</th>\n",
       "      <th>start</th>\n",
       "      <th>end</th>\n",
       "      <th>salience</th>\n",
       "      <th>fold</th>\n",
       "      <th>classID</th>\n",
       "      <th>class</th>\n",
       "    </tr>\n",
       "  </thead>\n",
       "  <tbody>\n",
       "    <tr>\n",
       "      <th>0</th>\n",
       "      <td>100032-3-0-0.wav</td>\n",
       "      <td>100032</td>\n",
       "      <td>0.000000</td>\n",
       "      <td>0.317551</td>\n",
       "      <td>1</td>\n",
       "      <td>5</td>\n",
       "      <td>3</td>\n",
       "      <td>dog_bark</td>\n",
       "    </tr>\n",
       "    <tr>\n",
       "      <th>1</th>\n",
       "      <td>100263-2-0-117.wav</td>\n",
       "      <td>100263</td>\n",
       "      <td>58.500000</td>\n",
       "      <td>62.500000</td>\n",
       "      <td>1</td>\n",
       "      <td>5</td>\n",
       "      <td>2</td>\n",
       "      <td>children_playing</td>\n",
       "    </tr>\n",
       "    <tr>\n",
       "      <th>2</th>\n",
       "      <td>100263-2-0-121.wav</td>\n",
       "      <td>100263</td>\n",
       "      <td>60.500000</td>\n",
       "      <td>64.500000</td>\n",
       "      <td>1</td>\n",
       "      <td>5</td>\n",
       "      <td>2</td>\n",
       "      <td>children_playing</td>\n",
       "    </tr>\n",
       "    <tr>\n",
       "      <th>3</th>\n",
       "      <td>100263-2-0-126.wav</td>\n",
       "      <td>100263</td>\n",
       "      <td>63.000000</td>\n",
       "      <td>67.000000</td>\n",
       "      <td>1</td>\n",
       "      <td>5</td>\n",
       "      <td>2</td>\n",
       "      <td>children_playing</td>\n",
       "    </tr>\n",
       "    <tr>\n",
       "      <th>4</th>\n",
       "      <td>100263-2-0-137.wav</td>\n",
       "      <td>100263</td>\n",
       "      <td>68.500000</td>\n",
       "      <td>72.500000</td>\n",
       "      <td>1</td>\n",
       "      <td>5</td>\n",
       "      <td>2</td>\n",
       "      <td>children_playing</td>\n",
       "    </tr>\n",
       "    <tr>\n",
       "      <th>5</th>\n",
       "      <td>100263-2-0-143.wav</td>\n",
       "      <td>100263</td>\n",
       "      <td>71.500000</td>\n",
       "      <td>75.500000</td>\n",
       "      <td>1</td>\n",
       "      <td>5</td>\n",
       "      <td>2</td>\n",
       "      <td>children_playing</td>\n",
       "    </tr>\n",
       "    <tr>\n",
       "      <th>6</th>\n",
       "      <td>100263-2-0-161.wav</td>\n",
       "      <td>100263</td>\n",
       "      <td>80.500000</td>\n",
       "      <td>84.500000</td>\n",
       "      <td>1</td>\n",
       "      <td>5</td>\n",
       "      <td>2</td>\n",
       "      <td>children_playing</td>\n",
       "    </tr>\n",
       "    <tr>\n",
       "      <th>7</th>\n",
       "      <td>100263-2-0-3.wav</td>\n",
       "      <td>100263</td>\n",
       "      <td>1.500000</td>\n",
       "      <td>5.500000</td>\n",
       "      <td>1</td>\n",
       "      <td>5</td>\n",
       "      <td>2</td>\n",
       "      <td>children_playing</td>\n",
       "    </tr>\n",
       "    <tr>\n",
       "      <th>8</th>\n",
       "      <td>100263-2-0-36.wav</td>\n",
       "      <td>100263</td>\n",
       "      <td>18.000000</td>\n",
       "      <td>22.000000</td>\n",
       "      <td>1</td>\n",
       "      <td>5</td>\n",
       "      <td>2</td>\n",
       "      <td>children_playing</td>\n",
       "    </tr>\n",
       "    <tr>\n",
       "      <th>9</th>\n",
       "      <td>100648-1-0-0.wav</td>\n",
       "      <td>100648</td>\n",
       "      <td>4.823402</td>\n",
       "      <td>5.471927</td>\n",
       "      <td>2</td>\n",
       "      <td>10</td>\n",
       "      <td>1</td>\n",
       "      <td>car_horn</td>\n",
       "    </tr>\n",
       "    <tr>\n",
       "      <th>10</th>\n",
       "      <td>100648-1-1-0.wav</td>\n",
       "      <td>100648</td>\n",
       "      <td>8.998279</td>\n",
       "      <td>10.052132</td>\n",
       "      <td>2</td>\n",
       "      <td>10</td>\n",
       "      <td>1</td>\n",
       "      <td>car_horn</td>\n",
       "    </tr>\n",
       "  </tbody>\n",
       "</table>\n",
       "</div>"
      ],
      "text/plain": [
       "       slice_file_name    fsID      start        end  salience  fold  classID  \\\n",
       "0     100032-3-0-0.wav  100032   0.000000   0.317551         1     5        3   \n",
       "1   100263-2-0-117.wav  100263  58.500000  62.500000         1     5        2   \n",
       "2   100263-2-0-121.wav  100263  60.500000  64.500000         1     5        2   \n",
       "3   100263-2-0-126.wav  100263  63.000000  67.000000         1     5        2   \n",
       "4   100263-2-0-137.wav  100263  68.500000  72.500000         1     5        2   \n",
       "5   100263-2-0-143.wav  100263  71.500000  75.500000         1     5        2   \n",
       "6   100263-2-0-161.wav  100263  80.500000  84.500000         1     5        2   \n",
       "7     100263-2-0-3.wav  100263   1.500000   5.500000         1     5        2   \n",
       "8    100263-2-0-36.wav  100263  18.000000  22.000000         1     5        2   \n",
       "9     100648-1-0-0.wav  100648   4.823402   5.471927         2    10        1   \n",
       "10    100648-1-1-0.wav  100648   8.998279  10.052132         2    10        1   \n",
       "\n",
       "               class  \n",
       "0           dog_bark  \n",
       "1   children_playing  \n",
       "2   children_playing  \n",
       "3   children_playing  \n",
       "4   children_playing  \n",
       "5   children_playing  \n",
       "6   children_playing  \n",
       "7   children_playing  \n",
       "8   children_playing  \n",
       "9           car_horn  \n",
       "10          car_horn  "
      ]
     },
     "execution_count": 175,
     "metadata": {},
     "output_type": "execute_result"
    }
   ],
   "source": [
    "metadata = pd.read_csv('/Users/DELL/OneDrive/Desktop/DSE/UrbanSound8K/metadata/UrbanSound8K.csv')\n",
    "metadata.head(11)"
   ]
  },
  {
   "cell_type": "code",
   "execution_count": 176,
   "metadata": {},
   "outputs": [
    {
     "name": "stderr",
     "output_type": "stream",
     "text": [
      "C:\\Users\\DELL\\anaconda3\\lib\\site-packages\\seaborn\\_decorators.py:36: FutureWarning: Pass the following variable as a keyword arg: x. From version 0.12, the only valid positional argument will be `data`, and passing other arguments without an explicit keyword will result in an error or misinterpretation.\n",
      "  warnings.warn(\n"
     ]
    },
    {
     "data": {
      "text/plain": [
       "<AxesSubplot:xlabel='class', ylabel='count'>"
      ]
     },
     "execution_count": 176,
     "metadata": {},
     "output_type": "execute_result"
    },
    {
     "data": {
      "image/png": "[encoded data removed]",
      "text/plain": [
       "<Figure size 1080x504 with 1 Axes>"
      ]
     },
     "metadata": {
      "needs_background": "light"
     },
     "output_type": "display_data"
    }
   ],
   "source": [
    "#graphical representation of the balance of the classes\n",
    "plt.figure(figsize=(15,7))\n",
    "sns.countplot(metadata['class'], palette = 'pastel')"
   ]
  },
  {
   "cell_type": "code",
   "execution_count": 177,
   "metadata": {},
   "outputs": [
    {
     "data": {
      "text/plain": [
       "engine_idling       1000\n",
       "dog_bark            1000\n",
       "air_conditioner     1000\n",
       "drilling            1000\n",
       "street_music        1000\n",
       "children_playing    1000\n",
       "jackhammer          1000\n",
       "siren                929\n",
       "car_horn             429\n",
       "gun_shot             374\n",
       "Name: class, dtype: int64"
      ]
     },
     "execution_count": 177,
     "metadata": {},
     "output_type": "execute_result"
    }
   ],
   "source": [
    "metadata['class'].value_counts()"
   ]
  },
  {
   "cell_type": "code",
   "execution_count": 178,
   "metadata": {},
   "outputs": [
    {
     "name": "stderr",
     "output_type": "stream",
     "text": [
      "C:\\Users\\DELL\\anaconda3\\lib\\site-packages\\seaborn\\_decorators.py:36: FutureWarning: Pass the following variable as a keyword arg: x. From version 0.12, the only valid positional argument will be `data`, and passing other arguments without an explicit keyword will result in an error or misinterpretation.\n",
      "  warnings.warn(\n"
     ]
    },
    {
     "data": {
      "text/plain": [
       "<AxesSubplot:xlabel='fold', ylabel='count'>"
      ]
     },
     "execution_count": 178,
     "metadata": {},
     "output_type": "execute_result"
    },
    {
     "data": {
      "image/png": "[encoded data removed]",
      "text/plain": [
       "<Figure size 1080x504 with 1 Axes>"
      ]
     },
     "metadata": {
      "needs_background": "light"
     },
     "output_type": "display_data"
    }
   ],
   "source": [
    "#graphical representation of the balance of the folds\n",
    "plt.figure(figsize=(15,7))\n",
    "sns.countplot(metadata['fold'], palette = 'colorblind')"
   ]
  },
  {
   "cell_type": "code",
   "execution_count": 179,
   "metadata": {},
   "outputs": [
    {
     "data": {
      "text/plain": [
       "4     990\n",
       "5     936\n",
       "3     925\n",
       "2     888\n",
       "1     873\n",
       "7     838\n",
       "10    837\n",
       "6     823\n",
       "9     816\n",
       "8     806\n",
       "Name: fold, dtype: int64"
      ]
     },
     "execution_count": 179,
     "metadata": {},
     "output_type": "execute_result"
    }
   ],
   "source": [
    "metadata['fold'].value_counts()"
   ]
  },
  {
   "cell_type": "code",
   "execution_count": 180,
   "metadata": {},
   "outputs": [
    {
     "data": {
      "text/plain": [
       "count    8732.000000\n",
       "mean        3.607904\n",
       "std         0.973570\n",
       "min         0.054517\n",
       "25%         4.000000\n",
       "50%         4.000000\n",
       "75%         4.000000\n",
       "max         4.000000\n",
       "Name: duration, dtype: float64"
      ]
     },
     "execution_count": 180,
     "metadata": {},
     "output_type": "execute_result"
    }
   ],
   "source": [
    "# add duration feature and evaluate file durations\n",
    "\n",
    "metadata['duration'] = metadata['end'] - metadata['start']\n",
    "metadata['duration'].describe()"
   ]
  },
  {
   "cell_type": "code",
   "execution_count": 181,
   "metadata": {},
   "outputs": [
    {
     "data": {
      "image/png": "[encoded data removed]",
      "text/plain": [
       "<Figure size 1080x720 with 1 Axes>"
      ]
     },
     "metadata": {
      "needs_background": "light"
     },
     "output_type": "display_data"
    },
    {
     "name": "stdout",
     "output_type": "stream",
     "text": [
      "Greater than 3 seconds: 7468\n",
      "Lower than 3 seconds: 1264\n",
      "Lower than 1.5 seconds: 785\n"
     ]
    }
   ],
   "source": [
    "plt.hist(metadata['duration'], rwidth=0.9, color='#86bf91')\n",
    "\n",
    "plt.xlabel('Duration')\n",
    "plt.ylabel('Population')\n",
    "plt.title('Histogram of audio lengths')\n",
    "plt.grid(False)\n",
    "plt.show()\n",
    "\n",
    "# Count samples with duration > 3 sec\n",
    "gt_3sec = metadata['duration'][metadata['duration'] > 3].count()\n",
    "lt_3sec = metadata['duration'][metadata['duration'] < 3].count()\n",
    "lt_15sec = metadata['duration'][metadata['duration'] < 1.5].count()\n",
    "\n",
    "# Display counts of interest\n",
    "print(\"Greater than 3 seconds: {}\".format(gt_3sec))\n",
    "print(\"Lower than 3 seconds: {}\".format(lt_3sec))\n",
    "print(\"Lower than 1.5 seconds: {}\".format(lt_15sec))"
   ]
  },
  {
   "cell_type": "code",
   "execution_count": 182,
   "metadata": {},
   "outputs": [
    {
     "data": {
      "text/html": [
       "\n",
       "                <audio  controls=\"controls\" >\n",
       "                    <source src=\"data:audio/wav;base64,UklGRvTaAABXQVZFZm10IBAAAAABAAIARKwAABCxAgAEABAAZGF0YdDaAABq/2z/YP9j/2n/af9o/2X/YP9g/1v/X/9d/2b/a/9x/33/fP+Z/5P/t/+z/9b/2f/6//v/BwAEADsANQBQAEUAawBiAHcAbwCSAIwAmACWAJ8AoACeAJ0AkQCPAIAAfgCCAH4AeQB2AGcAZgBSAFQAQQBCADEANQAvADEADwANACAAGwASAAwACQAFABAAEwAQABoADgAZAB0AJQAkACcAOwA4AE8AUABTAFQAXwBgAFsAXQBfAGMAZQBqAGcAbQBdAGIAdwB3AGoAZwBpAGUAagBlAE0ASABeAF4ASABNADEANgA4ADcAHwAfAAgADQDy//b/2f/b/83/zf+//73/sP+t/7H/r/+0/7D/y//A/9P/zP/L/83/4//m//f/+P/0//X/+f/4/wEAAgAWABcAHQAbABoAFwAdABsAHAAeABkAHAALAA4ABQACAPv/9f/v/+r/3f/c/77/wP+q/6j/qP+n/5b/lP+I/4T/eP91/3j/dv9k/2L/Zf9g/3L/cP9i/2L/WP9c/1P/VP9W/1X/W/9b/2b/aP99/37/lv+Z/7H/tP/p/+v/+P/8/yEAJgBFAEUAYwBiAGUAaABoAGgAhAB/AHUAcgB0AG8AcQBuAF8AYgBMAE4ARABDACsALAAnACQAHQAVAB4AGgAKAAoAFwAUABIADAAbABcAIwAfAB4AGwAuAC4ALQAvAD4AQQBJAE4AVwBYAFEATwBZAFgAYABfAEsASgBJAEgATQBNADsAOwAxADAAOQA3ADQAMwAxADIAOQA4ADYALgAvACcAMAAtACEAIgAxADAA/v///wQAAQDo/+T/6P/k/9X/z//b/9b/zf/L/9T/0//V/9L/5//h//T/8P8HAAoADAANABUAFwAPABUAJAAnACgAJgAcABoAJgAjACEAIAAeACAAFAAUAP7//P/t/+r/5v/l/9D/0P/A/77/t/+2/6b/qP+s/7L/lf+Z/57/n/+T/5L/k/+V/5L/lP94/3b/e/95/3//fv9o/2b/Yv9h/1v/W/9j/1//aP9m/1//XP94/3r/q/+v/7r/vv/j/+H/GwAcADkAPQBmAGsAeQB8AJcAlQC+AL4AsQC1AK4AtACnAKYAhwCGAHoAfAByAHUATwBOAEMAQgArACwAFwAaABAAGAAKABEABgAMAAQACwAXABoAJgAjACsAKAA4ADoARQBJAFAATwBGAEcASwBOAFAATgA8ADwAKgAtABUAFgAJAAYABwAHAO//8v/t//H/AAABAO7/8f/7/wAA5f/k/9z/2P/X/9T/yP/O/7r/wv+a/6D/n/+h/5r/nf+I/43/i/+L/4H/e/98/3r/gf+E/6b/qf+6/7z/0f/Q/9v/3P/v//b/DQAVACQAKwA3AD4AUQBTAFYAVwBTAFUATgBNAEkASgAzADUAIQAiAAYACgDz//j/1//W/73/vP+l/6T/pv+o/4n/iv+E/4L/hf+E/4L/fv+G/4L/eP9z/2X/Y/9h/2L/O/9D/yT/LP8i/yb/Bf8H/x3/H/9A/z3/fP94/6//qv8LAAMASwBCAK0AqgD3APkALAEvAVwBXwGDAYUBiwGKAYEBhAFpAW4BLQEvAf0A/QDIAMwAewB/AFYAVwAlACEAAwAAAAoABwD8//j/CAAFABsAGgAqACgAVgBVAGMAXgB6AHUAlwCUAJcAkwB8AHcAagBmAFAATwAqACsA8f/z/8z/y/+j/5//gf99/2T/X/9M/0j/R/9C/0n/Qv9Y/1L/X/9c/3P/c/+A/4j/gv+L/4b/jf+B/4j/gP+E/4b/hf9u/2f/gP99/3H/df+X/5v/sv+u/8L/vP/m/+T/AwAFABkAGgBQAE0AWgBaAHYAeACKAIgAhQCCAI4AjAB9AH8AVgBaADoAPAAhACQA8P/1/8r/zf+e/6L/mf+Z/4//j/9o/2j/Wv9Z/0j/SP9K/0f/Lv8n/xj/Ff8Q/xH/+P7+/v/+B/8D/wf/GP8W/xT/Ef8S/xH/Gv8Z/yn/I/9M/0T/cv9v/7j/uf8ZABkAjQCKAPwA/QBXAV0BogGmAdAB0AH9AfsB7wHtAdgB1wGyAa8BbQFoAToBNgH1APYAuQC8AIoAigBNAE4ALAAtACMAIgAJAAoAEQARABkAFgA8ADgASABBAG4AZQBzAGkAZwBhAGMAXwA/ADgAJwAgANb/1f+V/5b/ff99/1D/UP8z/zf/E/8T///+/f7u/uv+7f7s/uP+5/7U/tv+3/7h/un+5v4i/x3/L/8q/1X/U/92/2//kP+F/63/pf++/7//yv/N/+H/4f8CAAUAHgAmADoAQACBAH8AoACcALYAsgDSANEA2wDbANQA0gCsAK0ApAClAIYAhwBYAFsAPwA/ABwAGgDq/+X/sf+z/43/lP9O/1X/MP80/xD/Ev8H/wf/Dv8Q/xn/Hf8x/zn/UP9X/1v/Xf9+/37/Xv9h/17/Y/9K/0n/M/8u/zL/K/8+/zX/Tv9G/5b/kv/r/+r/SwBJAMIAwQAdAR0BlgGVAegB5AElAiMCQgJDAkgCRwI+AjoCFQIOAs4BygF9AXwBJwEpAdsA3QCiAKIAbwBvAGQAZgBlAGcAgACCAJwAmwDKAMoA7wDxAPIA+QD1AP0A6ADwAL8AwACQAI0AXgBbABYAFgDU/9j/lf+Z/1D/Tv8K/wr/2/7c/o/+jf5n/mP+WP5X/lf+Vv5Z/lb+cv5z/p/+o/7M/s7+BP8D/xf/GP88/zz/Vf9O/2j/X/9q/2b/f/+B/5j/kv+5/7D/4//d/wUABQA/AEIAegB7ALEArwDvAOgADAEFARsBFgEcARgBAQEAAdgA1QCjAKEAYABgABEADwC6/7f/bf9p/xP/E//W/tT+tP6y/o3+kP56/nz+nP6X/qb+ov7L/sr+9f7x/v3++P4w/y7/Qv8//1r/Wv99/3//kf+N/5X/kP+O/4n/pf+g/7b/tv/o/+7/TwBYALEAuQBGAUoBygHLAVcCVgKsAqsC2ALYAsgCyQKfAp8CXgJbAhwCFwKuAasBWQFVAQIB/ADAALkAkgCTAGIAaABTAFcAawBrAIQAgQCiAJ0AxgDFANQA1gDQAM8AtgCyAGcAYwAhAB0AzP/J/2T/Yv8Y/xr/x/7N/o/+j/5m/mT+Z/5n/lr+Wf5X/lX+W/5U/kr+R/48/j7+Tv5U/lb+Xf59/oP+oP6g/sr+xf4I/wL/Fv8R/yn/Iv8x/yj/U/9M/2f/Yv+M/4f/xP/H/xkAIABhAGUAxgDIAP0A/gBDAUIBagFpAW0BbQFpAWkBQAE9AewA6gCjAKQAMAAvAM7/yv9g/2D/5v7o/pz+nf5Q/k7+Jf4j/hT+FP4g/iD+Tv5Q/pX+mv7b/uH+Rf9L/4D/hv+j/6j/qP+t/6b/qv+M/5H/Xv9j/1X/Wv+Q/5f/5P/r/3YAfAAaAR0B3QHeAZ8CngI+AzwDqQOqA9ED0wPvA+kD2QPTA4ADfgMdAx8DigKMAv0B/QE7ATkBpACdADAAKQDW/9b/qf+u/7//xv8VABUAngCfAAIBCAFaAWEBgAGFAV4BYAEOARABjQCPANb/2/87/0L/nv6m/hb+IP6s/a/9SP1E/Qf9BP3U/Nj8tfy//Kv8rvzb/Nb8Dv0I/VP9VP2r/av9BP4A/lP+T/56/nr+mf6X/qz+q/65/r3+y/7M/vz+9v5A/z3/sf+2/zYAPACiAKYAJwElAZgBlgH4AfcBPAI/AooCiQKYApYCrgKrAo8CjQJEAkUCyQHPARkBIQFuAHcApf+q//X++v5O/lD+3v3f/Z/9o/15/YH9df1+/bX9u/0L/g3+bP5m/sv+x/40/zX/jv+S/8//1f/p/+7/4//j/8P/w/+T/5D/gP+A/47/k//h/+X/bABpABUBFQHYAdwBwQLBAnQDbgPoA+IDMgQtBCsEKwTjA+UDVANVA5ECjwLGAcYB/QD9ACYAKgBj/2n/3/7p/sf+0f7q/u/+Rv9J/woADQDdAOMAuQHAAS8CNQJsAm4CYgJiAgICAwIsATABKgAxAEX/R/97/nb+tv2x/QP9Af1u/Gn8H/wU/Pv78fvk+9775Pvi+yL8H/yq/KL8Hv0X/Zr9lP0A/vv9c/5v/p3+nv6s/q/+tP62/s3+0f4e/x//bf9t//v/+/+GAIMASQFEAdEBzwE/AkACjAKRAtUC2wL/AgID/wIBA+wC7wLJAskCdwJ3AvoB+gFNAUoBfQCAAMH/x/8T/xX/cv5u/vP97v3D/cD9r/2t/dH9zv0K/gX+RP4//q7+rP7z/vD+T/9L/5T/kf+a/5j/pP+k/5L/k/9Y/1v/J/8r/w3/D/8v/y7/sf+y/24AaQA3AS8BSAJAAj0DNAMVBAsEiASCBK0EqgSkBKMEZARjBMYDxwPmAugCDwIPAkwBUAF5AH4Ao/+n/yv/Lf8Z/xz/ZP9k/8f/xf9xAHAAagFrATACNQKlAqsClgKbAkkCTAKlAaYBrgCtAH3/fv9Y/lf+Y/1f/Zv8mPz9+/v7W/td+wn7C/sb+xz7GPsb+2H7Zfvq++n7nfyZ/Er9Rv3z/fL9ZP5k/sz+zf79/gD/Bv8L/w//Ev8s/yn/eP90/+v/6P97AHYAJwEjAdgB1wF4AnoC+wL5Aj4DOwNyA3QDgQOFA1gDYAMMAxQDjgKRAt8B2wE+ATgBagBqAHP/ef/C/sr+Hf4i/p/9of11/Xj9S/1Q/Xj9e/3N/dD9PP4//qD+pP7z/vX+Wf9Y/5n/lv/N/87/4//l/+L/5f/w/+//BwADACwALAB5AHoAygDJAD8BPgHoAegBhwKIAv4C/QKKA4kD5APjAxoEFgTvA+8DnwOlAzgDPgOvArcCDwIXAkwBUAGqAKoATgBOABoAIADq//H/CAAMAF8AXQDlAOEASAFFAZABkAGvAbABfwF/ASMBJgFwAHIAiv+E/5b+kP6G/Yn9g/yJ/KP7ovv9+vv6l/qW+kn6TPpW+lf6cvpy+tr63Pph+2X7BfwH/LP8svxw/XH9Ef4W/rP+u/4l/yr/iP+N//j/+/9JAEsAqQCsABIBEwG7AbgBSgJJAtYC1wJQA1UDmAObA8gDxwO5A7gDfAN4A/4C+gJzAnQCvQHBAQ4BEgE8ADwAcP9s/8j+xf4z/jH+xP3B/Xf9dP1X/Vr9ef18/dr92f1B/j/+rv6t/iv/K/+t/63/KwAsAJAAlADrAO8AogGmAUICQgLcAtkCYQNiA94D3QNIBEQEbgRtBC0ELgT0A/UDmwOdAy0DMAOZApwC6gHpAXQBcgEjASABtwC3AFUAVQAoACcAIAAhADEAMwAdACAAMwAzAFAATgAuACwA3f/Z/4j/gv8k/x3/rf6p/j3+PP7F/cP9Tf1L/eX86fxc/GP8o/ul+9762voh+h36mvmV+Qn5CfnH+Mn4x/jJ+Az5C/l4+XT5IPoe+vr6+/r9+wH8L/03/Xv+f/6+/7n/8QDoACwCIwIaAxMDsgOuAzkENQSNBIoE2ATVBOgE5AT1BPME+wT+BO4E7gTiBN4EqQSiBFYEVQTsA+4DiwOOAwoDCANRAksCmAGVAdgA1wABAP//Vf9V/wT/Bf+q/qj+q/6o/uv+6P6c/5v/hQCFAJcBlwHUAtECJgQiBBQFFgV+BYIFmwWeBUkFSgWHBIQEhQOCA1gCWQI2ATkBYQBnAJL/mv/4/vv+pP6i/jv+Of4K/gv+3P3c/ar9qP1h/V79Bf0E/Zn8mfwl/CT8l/uV+836z/o7+kD6zfnO+aX5pPm1+bX5B/oG+q/6rvpv+2v7/fv5+7H8r/xN/Uz9nP2c/dD90P3s/ev97P3p/fj98f0D/v79Lv4t/lz+V/7E/sD+Qf9E/+H/6/+PAJkAGAEhAakBrAEdAh4CfgJ+Aq4CqgLSAswC1wLYAhQDGQN8A38DqAOqAwIEBARyBHME0wTSBAYFCQUXBRsFUwVTBbkFuAUNBg0GFQYTBk4GTQacBpwG5gbnBhkHGgcwBzMHdwd8B8gHyQe4B7UH/Qb7BvwF/gWoBK8E3gLmAgcBCwH9/vv+Af3+/Cv7J/tw+Wv5E/gS+Af3CPdG9kf2t/W19U/1T/Xp9On0tvSu9KH0mPSA9Hn0kPSL9M30y/Qb9SH1qfWw9UH2Q/YS9xD3/Pf69xn5GvlW+lT6p/um++H84vwl/ij+nP+g/+AA5AD2AfcBDwMQAzgEOwRCBUMFEwYUBqUGpgYrBykHrQeuBxcIGwhaCF4IggiJCLsIwwjoCO0IEAkYCR0JIgkzCTYJfgmACacJqQkMCg4KWQpZCnEKbgqHCoYKUApUCqEJpAmgCJ0IdAdvB7oFtAWxA68DgwGAATz/OP8Z/Rf90vrQ+tL4zvgY9xb31fXS9cn0xfTP88zz+vL78pnymPJV8lfyNPI38hTyFPJU8lXy5vLm8ljzV/Pp8+rzlvSW9Jr1lvWb9pX2kveN96T4nvjh+eL5+/oC+wn8EPzJ/Mz8rP2x/Xz+gv5w/3f/FgAcAOoA7gAWAhgCSANHA4gEigTZBdcFaAdiBzYJLwn1CvAKYwxgDOkN5g2ZD5gPbBFsEf8S/RILFAgUFRURFTAWKBa7FrIW9BXwFUwUSBQxEi0SaQ9qD4ILhAsRBxQH2gLbAh3/HP+F+4b7E/gT+PT09PRU8lXyLfAs8GzuaO4z7S/txOzH7M7s1uwk7Snt6e3m7d7u3e4D8AbwwvDC8IHxgfGd8p7yDfQT9GL1bPW49rz2R/hF+LT5sfka+xX7ePx0/JD9kP1e/mH+G/8e//f/9v8RARMB9wH5AZ0CoAJLA1ADZARqBIkFjwWtBrMGyQfNBzUJMwkQCw4LKA0pDV4PYw+zEbgRMRQ1FGIWYRZBGD8YVhlUGVEZUBlaGFkYhxaHFgMUBBSGEIYQeQx6DCEIJAh2A3UDa/5q/oz5kfly9X31JvIx8jfvQO/b7OLsY+tm67Tqteo46jjqA+r/6ZfqkuqV65TrxuzI7Njt2+3b7t/uX/Bk8LPxufGV8p3yXPNd80n0Q/S39bD1k/aN9i/3KveU+Jj4gvqI+p/8ofy4/rr+bwByAG8CbwJrBGgEBAYBBvcH+QfuCfgJ4wvtC1EOUw7MEM0QWxNhEyIWJxazGLEYRhtAG+0d5R24H7IfzCDKIJwgmiCMH4wfRB1IHToZOxl0FHQUhA6FDgUIBwg4ATYBWvpZ+k/0UfRN71DvJ+sn6zjoN+iZ5Zjl6+Pt40bjSOMl4ybjs+Oy427kbuR95XzlF+cS5/no7egS6wXr6ezj7IvuiO6z8KzwIvMb82L1XvU39zP3z/jN+J/6n/p9/H78Gv4f/nT/f/8NABYAFAAcACwALgBcAFUASQBAAHUAbwAvAScBygLFAn8FgAXUCNIIhgyDDKIQoRDiFOEUQhlBGSkdLB2uILUgZCNnI5wkmyTwJPAkfiSEJKgiqiLDH8Ifeht5G48WixYJEgUSLQ0rDcEHwQd4AnUCk/2Q/Tn5PPk/9UT1qPGo8a3urO537Hfs1OrX6mDpY+mP6JLoDugP6J3nnud553nn6efq59Lo0ujo6evp2era6tjr1et17XTtNu8478nwzfBb8lzyIvQh9Pf1+PWJ94r3xfjF+OL55fm9+sL6cPtz+9z73PvG+8T7iPuF+zv7Nfu++rj6m/qY+rH6tPpA+0f7hfyH/IP+fv5OAUoB5gTlBOMJ4wkVEBcQtRa3Fj0dQR1lI2gjUClQKWwtbC1FLkouyyzLLJ0qmCpeJ1wnlCGUIfsZ+RkkEyMTgg6GDrMKtgotBikG2AHWASH/JP8p/in+nPya/Hz5evkf9h72XPNc8zDxNvGq7q7uyevI6+Po4uiT5pLmfOV75T/lPuVf5V7lSeVI5fTk9+Sa5Z3lF+cY52LoX+ip6Kbou+i86BDpFOky6jTq1evY6+zs8Oxr7W/tlO6U7tXw0/DA87/zl/aY9pv4nPiS+o76jf2L/dkB1wHfBdoFEgkOCZkMmgz2EfgRmRiZGGkebB4EIwQjRSdEJ6krqSvTLtcuPS8/L+4s8SzLKcsphCZ/JiUiICLuHO0cnRedF84SzRIAD/wODAsHCykHJgeZA5oD9P/4/+v88Pyq+az5SPZL9jnzPPMG8AfwVe1Y7WDrZOu76bvpQ+hA6KHmoeZ45X3lD+UW5T/lQOW35bDlquWk5QDmAuZP51Dn8ujx6HDqb+ry6vfqSOtJ68Tswuz87vnu1fDR8KjxoPEe8hnyHPMa81v0XfRb9F308/L18pbxmPFi8WLxHfMd89T11fW0+LD4Cv4G/vMF8gVAD0APKBgmGDggMiBEKUMp+TH9MY43jzdiOV85RDlEORk4GjheNF80JC0nLUElRiWoH6sfPBs7GzwWNxYgESARQg1HDeAK4grQB88HiwOMA0v/S/+4+rb6XPVc9crv0O/+6gDr0+bT5mjiZ+Je3l7eHtwe3BXcFdx73HvcFtwS3KHcndyW3pTePOE+4Z7jm+On5KfkCOUM5a7lsOVK5kvmvea/5hbnGedF50fnyufP54Xpi+mw7LLsnO+b75LxkvEK9An0GvgW+Nj81fwVARQBQgVBBeIK4AosEi4SjRmRGZIflB9WJVclACwCLOMx6TF4NYQ1ZDdvN9s44TgLOQs5vTe8N1o1XzXjMekx/i0DLuYp6ynLJNAkBh4LHu0V9RVQDVUNAgUABZ78nPy+9L/0TO5I7mPpYuns5PHk2+Dg4Lrdud2Q24/bU9pW2sbYytiR15DXYthc2NPZztlw2nDaYdpk2ifbJ9uY3Zfd7d/v38fgyuAO4RDhvOG84azjruMP5Q7l1uTW5DbkNuT45Pfk8ubs5rrotugE6wPrT+5O7tPz0POv+6z7WQRYBIMNfg1RGEsY1yPSI/kt9C1XNVI1+zr8OoVAhkBvRG9EW0RYRBxBGkFPPkw+5TzkPG46bDpdNls2JDMiMxQxFDFRLVMtiiaKJi4eLh53FHgU5AnjCab+oP788vPyBen+6FngV+CB2H7YbNJo0knOR87yy/bLzMrNyiXLJcv1zPTMqs+pz7jTtdNU2FTYT9xX3ILfit9+4n/iL+Uv5YPmiOaY5pzmK+Yv5mjmaubW5tjmEecV53rmfea35rfmmeiW6FrrVOv+7fHttPGn8Tz3Nffv/e79vQW/BZgOmQ5MF0kXEB8NHxImEibKLMwsmzKfMkk2UDZCOEk46TnrORk8FTxnPWQ9nDyYPBw7HDt3Ons6sDm1OYM3hzfJM80zDC4MLoIlfiWvGqoalg6SDkcCRwJ39oD24Orr6vLg+OBp2mzaZ9Zr1gjSC9I7zj/Od859zjDRNtGu07HTD9UV1VvWYdb52frZ5d3m3XLfcN9g3l/eft1/3UzfTN+M4IvglN6S3nvcfNyX3Jnc4t3l3czezt58337fwuDD4F7jYeP45/nnDu4L7iX0IPQY+hT6QAI8AlwNWg25GLkYtCC0IAkmDCb+LAAtQzZKNpQ8njy3PME8dDt3OzQ+Lz6ZQpJCZUNjQylBKUG2QLlA5ULmQq9BsEEPOQ45UC1KLd8h1iEKFgUW6QjkCIT6ffrh7d7tKeUo5ajept4z2S/Z59Tm1GPSZNJX0lvSutO80w7VE9W91b7VT9dO1+jZ5dnZ3Nbc9t7y3nDfa9+w367fpOCk4AHhAOFD4D/gmd+R3wngBOA74T3htOG14ZvhnOGu4rHiSOVI5d3n3OcY6hfqju2N7YzzivM6+zv7vgK/ApoJnQkLEQsRPxk7GQQhASGWJ5gneSx7LJIwkjBzNXY1cjt4O7xAvkDzRPJEfkp8SvRP9U8vUjFSTVFPUWhNaE26RblFhTmFOaYpqSlaGFsYUgdRB4X3hPfx6PDootyh3OfT5NMIzgnOWMlZyV7FX8VVxVrF5sjryJrLoMuQzZXNeNF40XTWb9b32vDabt1p3VHeT9553nvent6d3mrfZt903mzegtuB27nZvdkB2gbamdub27/evN6w4rPiwebF5jXtNu2J9Yj18P3v/ckFywWyDbMN+BX1FbUcsByYIZIhCiYGJnoqdSrXLNMsvC68LiQzJzOvObE5FT8XPxdDGUMJSAlIq0ymTNVM0ky2RrdGED0TPSQyKTI9JUAlahVpFe8E6QRr92b3uey57G7jceOt26vbeNdw1xrXFNcs1yjXZtdk1ybZKNmJ243bLt4y3g/gEuA94D7gmOGX4YTkg+Re5l/mVOVW5dPj1ONc5GDkauVs5V7kX+Rg4mHiPOE/4WfhauHk4ubi6uTp5KPmouZW6VfpDO8M7w72DPbP/ND8KAMtAycJLgkVDxkPDRUPFdca2BrUH9YfFyQYJNEo1SgzLTotvS/BLycyKDKtM64z7TLsMnYxdjHiMOQwjTCNMDMvMi+nKqoqlyObI6MbohuKEoUScAhpCJb9kv1Y81Xzr+yt7Nfo1+iT5JPkE+AO4B/cGNwO2gra89rx2r/bvdu92rzaz9rU2sLdy93S4dbhLOQt5JfkluTd5dnlBOkB6fHq8eqh6qTqS+pN6nbrd+uq7avtJvAi8ALz+vK297T3kvuV+5f+nP67AcABFgYaBm4Kbwo5DjcOmhKZElUYUxhqH2kf2iTbJOcl6iVsI2ojaiBkINMc0BxWFlQWuA22Df0F/wXk/+n/e/uA+xT5Fvku9y33svWw9fb29Pb++v/63gDlADoGQwYuCzULchB0ECEVHxVGF0QXtxa1FvUT8RMuECkQIgsjC80EzwSh/qD+5/jk+ED0PvQJ8AfwTe1L7fPs7+z47vLuhe9+74nvgu/B8LjwhvOB8x72G/bj9uT2s/a29iv3Mve/98H3RPZD9jvzPfN/7oHu7unt6c/n0ef15vTmruWk5fPk6uQe6RvpFPES8YP6gvpQA1IDaQttC/ES9RL0GvcazR/PH2AgYSAhHyYfJRspG9UV0hXaD9QPlAiSCEgCRwLW/dn90/rW+jH8MPyUAJIAtQW0BQkNBw1qFWkVex5+HnEldSVAKEMouii3KJMnjSfZItQiqBqqGuER5xFMCVEJhwCOAGf2b/Yi7yLvcupw6mDlZ+VD4U3hh9+R39vf4t8h4SThGeEa4TzgPeAY4hniWONY4+jh5uFC3kHesNuy293a3toG2QDZXddV127YathA3UPdLuQ15Hztgu3l9+X3ggN/A6YMpAytFK0UpByjHJMglCCJIIYgcx5qHj8cOhzEGsYaCRgOGMwSzhIyETMR9xL3EhIVExWhGKMYJB0hHfgj8iOOLYotHzQeNK42rzZCOUE5qzilOL8zvjOoKqsq1B7VHicSIxJ/A3YDHfUW9RDoDehc3FvcUdFR0ebJ5snHxcTFz8PNw9fB2cG3wrvCQMhDyBXPGc9X1lnWytzJ3N3h2eFG5z7nQe057V3wU/DH8L3wYfFf8dPy1fIa9Bj02vPT8wT1//SK+In4Gv4c/iQEJATUCtEK1hHQEWIZWhmiH5ofZCRhJD0oQCixKbYpNSw1LMUtxS3RLNQs5CvnKzMtMy3qLektBywGLLgouiiVI5YjEx4SHi4XKxdkDmMOeAV3BdH90/3F98L3EPIK8vzr9uvP5s3mKOQm5IfgiODa3N7cadtw27Pat9pg2GLYL9Yu1lLVSdUM1QLV8dTt1CHVIdUd2BvYFt4U3tHkzOSI64LrCfQE9Gj9Yf1vBWoFVQpVCu4M8QykD6YP0hDTEOwP6w/XDtYO1Q/UD88RzRHVE9gTeBZ8FnQZchmiG50bkR2NHeMf3h8qISch4x/gH3kcdxztGPEYIhYlFpkRmhEqCykLIwUiBar/qf9s+2v7fvmA+QT5BfnU99T3X/hf+K76rvrt/O78Hf4b/pn9lv2p+qn6Mvcv9+fz4/Nc8FjwKOsj66zlp+Ur4yzjg+KI4unh7OH24fjhi+SO5IjnjOeB6Ybpq+uv66LtoO1U8Ezw2/LS8nb0cfSv9az1wvjA+HH9bf3sAuYCQglBCYYPiQ9vF3EX8SDyIOcp5ClWL08vIDIaMsYzwzMOMwsziS+ELy0pLikcISAhfBd9F1AMUQxEA0cD3fvg++ry6fK567nrzujN6Groaegq6i/qdO1+7a7wtPC487vzhvWH9W/2bPbQ9833cPdu95X0lfT48PXwRe1C7fXp9en96Proe+l26ZbplunN6tDqNO437k/yUPL99gH3nvqf+hL8D/y0/bH9nv6f/pv+of6Y/57/3gDiAEIARQCM/47/vgDCAOcE6QRaC1wLTBBREA4TFBN3FnkWZxtmG4Mefh77HPkcWRhYGOsR6hFhCl0KIAQbBGH/Yf9B+0P7r/ex9471j/Wz9bH12/nY+VUAVQAFBwcH3QrgCnEMcgybDpsOUBFRETMQNRBUC1kLEwYVBm8CbwJKAEcAj/2O/Vb4Wfi/9MP0D/UR9Zz2nPb79/f3s/ip+HD5Y/ku+yb72PzT/BL8Dfyj+aH5Gfga+Fj2W/YB8wbz1O/U7/rt9+0+7T/tBO4D7kvvRe9B8DrwYfNe80P5Qfmz/rL+5AHoAZIElgRSB1IHxgjDCGMIYgjFB8IHyAfCByYHIAfkA+ID0f7P/s/5zvnd9d/1dfN788Pxx/Hi8OXwQPJA8m31a/Vw+m/6dwJ8AqsLtAucEaERJRUpFY0bkBumJKckiimKKTUpMimKKIQojiiLKNYl2SUmHy0fBBQKFLgHuwdL/0v/kveP963up+6T5o7mveG54bjgsuBy4m3iBOUC5YHog+iO6pPqj+yR7JbwlPBv9Wz1E/kR+Vj7XPuP/ZL9xQLGAi8IKQg1CS4JWwhYCBgLGgvjDuUOoxCkEB0OHg4yCS8JWwhXCGIJXQlnBWcFLP4r/jX5M/mR9pP2VPRa9EXxR/EC7wLvc+517oLthu0e7SDtmu6X7g7xC/GG8oPyA/MD84/1jvV3+nb6IgAcAGcFXwUVDBAMkxGSEXUWcxaSGo0a8RzwHKkbsRt1FngWHQ4aDrcFtQXT/dT9jPWL9XHvb+9V6lTqkOeO53TodOjM6s3qq+6q7vjz8POJ94T3sPux+9EB1wGQB5cH5wvsC4ENgg1aDlcO8xL0Em0WdBaxFrsWGBccF8AZwxmxHbEd6iDmIC4fLh/UGdsZRBNHE10LWQsEAgQCMvcz98frx+tz4XPhgdmD2UTTQ9PXztXOu827zczOz86Q043TP9g62PPe7t5q6mfqWfdY99kE2ATCEr8Sfx55HhAnCieWLpMuMjIxMgUxAzEsKyortyGyIdwY2hitD7APqAWnBbX6s/pb71zvk+WX5brguuAX3hbeMN013T/fQ98h4yPjz+vO68D2wPYAAAEApQmoCWsSbhJLGlAaLSEzIYImhSaCKIEoOCg0KFUlUSVnH2MfaBhkGGYQZxDkBOgE9fX49arorujD3sjevdfA16jRqdEnzCnMRspHyh3LGcv0zvLOmNOb02jXb9e/28PbPuA74I/jh+Nj6F/oyfDM8Db6PPpIA00D2AzcDN8Y4xiiI6QjcixvLM40yDR5Onk6cTp0Ogc5BzkpOCw4UjNWM+Eq4SqbIJUg2xbYFpMMlgyQA5ID0fvQ+xj0FPR973vv7O/o76XzofPr+Of4wP69/j8FPgX9C/4Lnw+eD6URoxF5E3UThBN/E3UQcBAWChMKTwNQAxL9Ff2B9oL2Fu4T7sDkvuSg3aHdXdte20zaT9o51znXldaO1oTZftkO3hHeo+Cq4DjhOuHa39Tfftt62+zW7tY00zfTNNE50X/Rf9HY1dPV8N7t3mfqY+pV9lH2LgMuA9gU2hRAK0Mr7T/wP4RLhEsuUClQzVfKV6Neol7OWspatEyvTEM8QTzGLMgspR6oHukO8A6UAJwAN/c893zyfvLj8ODw1PDO8MLzvfMH+Qf5Lfsx+2r7a/sU/hj+N/89/737v/u19bX1J+8q7/roAOnn4uniHN0e3TzZP9lH1kvW79Tw1MPXxNdX3lfeO+g66EzwSPCX9pX2JP4j/lQEVgQ1BzgHiAaLBjIDMAPF/sP+5Pvk+5n4m/ij9aP1pvOm81LyVfJl8mfy1PPV81f4XfhcAWIB6Q3tDeob6RtwKG4o2DPZM1pBXkHvTPhMF08dTytHLkebPJ48kzSWND8qPiocGBMYOQIuAtDuze443z7fEtEV0drD18NOukq6pbWmtSqzLrM+tUC1EsATwCvPK8+327TbZORh5FfvWO+N/5P/OQ5ADngTfRNnEmgSyBLEEtoV2BUmGScZshe2Fx0RHxHyDfYN2g3fDeML4AtGCD8I8gbyBiMIIwhaClgK+wr7CrsKwQoZCyILSwtVCywJMQkcBR8F5gLrArcDvANrBXAFDAYSBv0GAQccChwKvwzADBcOGA5pD28PKg8zD3ENdw1UC1QLeAp1CsUIwwhoBGkEmv+c/9744/hJ70/vS+dO513hXuGD24bbb9Vy1e7R7tE80jnSHdUZ1d/a4Nrt4fbhyOjR6Lruwu6l9K30/foE+4EChgIBBwUHnwijCGwKcAoHDQkN0Q/QDz4RPBEZExcTkxeTF9od2R0ZJBYk0SjSKFUrUyt4K3ArTyhMKBsjHCP4HPUcOBQzFMwKzQpSAVYBBPgK+HHvd++Y6Jzoa+Zs5g/mDuZ/5Xzl2OTT5DbnNuec7J7s0PPR84b4g/ie+pz6OP44/oUBgwE4ADkARvlK+ZXzmfPu8PDwn+6g7qbqqOpR6FLojOiO6CnqKerA7L/s/fD58Fz0VPQL9wT32PnU+ZP9kv1BAT4BxgTDBJcHlwfdCuAKxA/FD+4S7BKPEowSHBAdEKoOrg7nD+wPLxAzEIAOhA4lDSENAgz8C10MXQxPDlIOyhDIENMS0RLAFcQVzhjWGD8bRBs8Hj4e/iD+IKchqyFhH2MfvRy8HPsZ+RnkE+UTGgkcCbH8tPx/83/zUOxO7M7lyeWe4Jvgx97F3j7hP+GT45njKOQx5N3m4eYG7AfsHe8Z71ntVO3M6svqROpE6qnpp+m64rni99f212DOXs4zyDLICMQFxILDfMPpx+DHks+Mz8bYxdjh5eXla/tv+1wVYxX5JwAoszC1MKw3qjfGQMFAFEYORt5B10E1OTA5nzGfMfwq+CoKJAEkwxu8G5sUmxTeDuUOjQuQC+UI4ghdCFwICw0ODSwSLxL0FfIVSBlGGV4dXR2MIYghWCFYIS8cNBzuFfAVMw8xD4gHhQfY/NP86e/o7z3kPuSN2YnZcM1qzd3C2sLzvfa9XrxjvKi7qrtMvUe9OcYxxtbV1NVp5Wnlh/CG8Ab4BfjrAO4AWAxbDBIVEhUmFicWnxKgEgkQCRDZD90PYw5pDgUKBQqPBIsEoQCdAB3+Hv4L/A/8R/tJ+2/8b/zQ/tP+nwCiAJ0AnAB4AnUCvAa/BtAI0gioBaYFBv8E/9764Po8/UD9CAMLA0cHSgeoCKkIogmhCYYPhQ9wHm0eqy6nLkg3SjdwN3U3PDg5OA49CT3lPOE8UjJRMmgfbR/tDPIMiv6L/s/uzu592nnaOsg3yEO+RL4cuxy7trq7usK7ybtwv3W/WcdZxwbTBtN84Hngq+yl7OP24Pb4APsA1grcCrEPtQ+pEKwQQxJEEicUJRQFFAQUYw9hD7wHugcfACAA+/wA/Vr9X/1B/EH8evd59xD0DPQl9SD1oPia+PX67/qy+q36O/06/UwDUgNRB1cHZQtnC6ARpBFXGlsaySHMISomKSYNKwkrNjIxMqc3pjcPNhI2pzCmMAorBiuSJZQlVhteG3MNeg1x/3L/OPQ29DLrLutN4kviaNlo2VnSXdJUz1zPvc3EzXrLf8uoyanJOck6yUfLR8vrzuvOtNGw0frU9NR423rbteK54szpzumz8rbyOf08/YYGiwZRDVUNRRNHE1wZXBl9HHocTx1NHfId6x12HnAe6SDpIO4j9CMVIxwj2B/dH4MehR5lHGocdBl3GREWDhaHEoQSfQ6CDmgJbgnmBOgE9AD1AH7+g/7v/PT81/vg+7z6xPr7+vr6iP6E/tkA2gCnAKkALwAqAMgBxwHgA+YDSgJNAtz93f0A+gb68fX49SPxIvFR60vrw+XC5c3f0d/p2uva39Tf1JLRlNF80oXS6tXv1WfaZdpl4WLh8erz6u718/XCAsICRBE+EQwgBSA7LDosEjYWNsw+zz4qRipG00jSSIxFjUXRPdU9JzInMrAjrCNUFU4VigaIBkb3Q/cH6AfogtuE26LSotLezNzMt8m2ySfGJsYsxSrFbshvyLzPvc+x1q/WAd383MLmvOYP9Qr1bARkBKQOmQ7RFMwUpRqlGrUhtSGPJY4luSS6JBkgGyCeGaAZLBQxFHUOeg6sCq4KFggbCAEEBwSt/rP+Bf0G/ab/pv9TBFIE1AbRBvIG8gbDCcQJ9gz1DAUMBAw7BDkEUPtK+zf1NvWj7artC+UV5THfNt+x3q/eNOQ05Ivrj+uG8obyT/pM+o4FjgXNEckR/Rj7GDMXMhdVEVQRtg+2DyYPJg+2BrYGufi2+DnwN/Ay7S7tVutR6xXmEOak4KLgGOMa40XrSusQ9hP2oQGlAa8Otg7OHNIc7yrqKgI2/TVpO2o7ZT5lPpM/kz9KPUY95DTgNHIqbSr1HvIezxDMEA0BDQG38bbxx+PD4wnVA9XcydrJkMSSxCXEKcSmxKbE3cLbwkfER8Q1yzbL29Tc1BvaG9q42bnZN9s62xnkFeQn7CLs2u3a7arwrfBl+GT4JAIlAsEIxgimDKoMkBGREWAWYhbHGssapx+uH7AjtSPoJuomqiqsKk0tTy1+K4ArIScjJwYhCyEAGwUbHhQeFCoNKg02CDcIcwRxBHACbQJbBV0FbQ1vDUgURRQKGgYapCChIL4puilxMHAwaDBpMKUrpStPJU8lgh2BHaYRoxH2//D/M+op6o3WhtZrxmbG2LbVtiapJqkcoR+hgqCEoA6jC6Pgptymwa+8r/+8/LzMy8fL7Nnp2QfmB+Zx73TvJfgm+OMB5QGmB6cHhQiGCFkFWgXBBL8EXQhbCJ0Pog+CF4YXpR+mH1ErUCtHOUU50UfRR7dTvFOMWpBaLFotWklWRlY8UjxSlUmWSfc69jqIKYgpoBmiGQQJCwlj+Gz4IOgn6KjZqtk/z0LPIMgkyOrG7MapyKvIJ84xzgXXEdcR4Rbh5O3k7f73AfhM/k/+uQS7BMgJygmGC4cL8AXwBcr9yP0Q9RD1OOs564Pbg9uEy4fLPsBBwNi627rtufG5aLtru4fDh8P10PDQkuKL4vP46vjrD+kPdSN3I+8y7jIsQShBIEwgTARQB1DpS+pLlkKTQqM4oThQLU4tbiFqIeAU2BSSC4gL9QTrBJECiwJTBVIFrAmuCSsOKw55EnQS6hXmFdMS0BKJDIYMoAadBusB6gGj+6j7Uu9X7/fj/eNI3EXcJdcf11rRWNE8zTzNacxnzBfPF8/91P3U6trr2k3hTeFD6UPpwfK+8vL88fw7BD4EUQlTCTsLPAvUDdUNFxEXEfMS9RIIEgwSCw8MD4IKgwqnBqoGfgN/A7oAuwAgASUBHAElAb8CxAI/BT4FzAbKBlcJVglyC3QLuA2+DVUOVw4qECoQhBKFEiEVHhVMFUYV8hLvEsoQzBBxDHEMvwe7B9n+1/4s8ivyJuYk5qDent5n3GbcwdrC2qraqdoY3xbfYuhk6A3zDPN5/HX8pASjBHgJfAm7D7oPBhUFFZAXkBcWFxUXRBU/FV4TXRPDEcURAREEEXoPfQ8PDRANcwpyCkELQwvaDt0OnRKfElwVXRXbFdoVzhXPFdET0xM9Dz8PrgatBuL73/v08unyleqL6mPgYuDh1ePVn82izYfGjMZOwVHBSb9Iv+W/5r+iv6e/nsChwFfHU8eQ1I3USuNK4/3xAfJDAUgBTBNKE7MlryUNNRA1cTx3PBxBIkFLRVJFo0WsRZpAoUC0Nrg27SvyKxwiISL4GPkYdg12DaMCpAIB/QD90fzT/Ej9TP3y+fT5QPhA+MH6xfpz/3b/iP+G/9362/pM+FL4H/kk+VP4Vvjr8u/yW+9i7yDxKPG+9cb1cPpz+jX8M/yC/Xn9yv7F/hsAHAAhAB8Aef51/q7/rP/EAsYC+wL+AnIAcgA5ADgAkf+W/2v5c/np8OvwFusT64Dof+j75f7ldOR25JflmeW+6sPqxe/O73PzefME9wf37P3u/eMG5QbNDNAM1xHZEfAY7hjKIMMgnCWVJY8liyVEI0Ijlx+VHw8aDRo/EDoQmwKUAgX0//PN5svmytzG3KfUodQO0QfRE9AQ0FfQWNCR05TTUdxT3B7pH+mv9q/2hAGEAa4MrQzEGcMZiyeJJ20ubC7jK+ErLSgoKPEn7ifoJeclBh0HHXkVexXXEtsSOg87D44JiwlyB20HZAhdCDUGLAZ9AHMAGv8T/w0DCgOnBqUG+wf6BygIJAhXCVMJ0AzNDI8PjQ/vDe4NvQi5CDsCNwJe+lr60fLN8qDrn+sB5gXmp+Ct4FraYdqY1JrUwtHB0UfPRc9ezV/NDs0PzbDMr8yDzYHN8s7vzuvQ5tAA1f7U09rO2gPhAuGZ55/nwO3E7TL2NfadAqACjRKNEkEhQCHtLugulTiMOGlCYUIwSyxLU1BQUBBSDlJxUG5QMk4sTvdI70iMQYpBIzcmN4QohigKGAoY+gf8B9n43Phd6F/oFtgZ2OTM4syYx5fHLcgwyKfNqs1N1U7VZNxn3Ojo6ujJ+Mf45gPiA/EH8ge0C7QLthC0EAYQAxBKCEsIjf+M/8L6wvqa9pj2GvEZ8cLswexX6Vnpx+rO6qHvpu/g9d71qvyi/KsEowSgCp0Kewx5DJMNjw0/DT4N6ArsCiUDJwPX+9X7vvi8+GL1ZfX17fjtWeRa5KzdrN2K2ona5tbn1nbVetWg2J/YmOGV4SzuK+7S+tD6YAZhBnoTfxMtJjEmrTSuNJ85oTl9OH44rzasNv8z/zOoK6kr2xvZGzUNLw3OBc0FngOdAzP9NP3k8+fza/Fs8dD2zfb3/+//1AXQBc4K0QqlDqgOMREzEcoSzxI2EToRiAyIDGQFYQWdAZsBZP9m/476kvrU9NP0RfFC8SjxJPEn8iDyU/RM9Fn1VvWO9o32Yflf+TL7Lvu2+bf5M/Yz9vzz+/Mo8ynzivCK8LHrruu45bXlQN8639jZz9nz1+vX9db11jjWONZz2G7YXNxV3K7iqeJq7GXsLfkv+fsFAQb3EfoR5B/nH/Iv9y8ROxU7ZEBnQINDg0NzQ3JDyT3JPYgzhDNgKFoowxrDGoMLiQtK/VP9oPCl8Nfn1+eR4pDidN113WnaaNqU2o/aad5h3qvjp+Pd6tvqX/Vf9SIAIwDnB+kHsA2xDUEWRRbfHeUddCB/IKwcthybFJ0UVRBOECMMHQwFAgICVfVW9TTtNe0e7B/sCuoI6qDmoOZi5WPlV+pV6uHx3fFc9lj2iPiI+Fz7X/uA/3//xwDBALD9qP0C+AD4V/Ra9DL0N/Ss9LD0ivWN9fT49/geASABPQs8C8sWyBbjI+AjgC9+L3s0fTTgNeI1MzgwOOIz3zOQJJEkwxHFEZ4EmwRN+0b77Ovo6xXVF9Wfw6TD0LzQvLe5tLnZtdu1WLNbs7q1vLV8vH+8PshByPXY8tib7JbstQCzAK4UrhT1JvIm6TfmN6RHpEdhT19PXk1eTU9FVUU3PDw87DHrMdIh0CGpCqcKs/C08CvcKtzhzuHOH8Mfw9a62Lp2uXi5dMB2wDPON8514HjgvPW99S4OLw56J34nKzstO1lJV0kuVS1VNVo1WolUiFQySTFJIz8gP/Yw9zD6Hfgd7A7pDo4FjAUX+w77KPAe8I7sjezE7Mns9+v964jojOjT49TjD+AQ4Ojd692M247btNay1lfRVNFczlzO387gzoHQhtAq0CrQ3MzczIPIhcgTxxTHyMjJyKHKnsqv0KvQ2NjX2DrgO+Ax5zLnEvUT9d8M4AwUJxUn3jvcO71GuUZaTlhOZ1VoVUFZRlk4UzxTz0HQQWQuZC7BH8If0BXUFe8I8wjX+9b7SfRD9IX1gfWQ+Yv5tACsAGoKZgpNE0oTKhkjGdof0x8ZJRMlGiUYJXAgcyDLFdAVfQSABBrzG/N+5X7lgNh82GrOZ87ZytbKccxzzKrOrs7E0snSntuk29jn2ueb8pnywPTA9P3zAfQA9wb3OP5A/sgBzgHj/uT+1vrR+qj5pPmJ/IX8pAGgASIEGwQJBAQEpQWiBT8KPQotEy8T7hvvGxkfGB8LHAkc8BjxGA8aEhoxGjMaKhMoE58FngVZ91f3eO907/rq9+p443rjwtfF113PX89z0HjQPNVC1c7Y09hz23jbNeE34WTrYev5+PX4wAe9B0YWQRZLJUclmS+YLz42OzYXPxU/JEUkRapGq0alQapBujfBN3MqdyqZHZwdew96D5j/l//Z7dvtvt7B3pPWldZ40nnSwNDE0NfQ2tBy1HLU69fo18vdxN1y5mbmsu+q72f2aPbC+8n7QgNJA+UM7AzHFM0UAhoIGucc7RzwHvce2x3fHZMXjxfRDssOgAeAB0ABQQFB+Tz5/fD48F7rX+sV6Rfp1uPT4xLdD90M1wjXlNOU0zTQNtAezx7PCNMF02LYXdit4Kjg++757jgCNgIOGA0YGC8aL99E4UQgVSFVG2AbYElkSWRJY0ljglyDXNhN2E0aOhs60CTRJLUPsA+0+LT4GuEe4QDPA8+9wsHCnbykvJ+4priFtoS2pLaftsi6w7o4wTPBt8SwxGjFZMWnx6XH48zmzGLVZ9W127vbCuIO4m3tae16/XX91g7SDrEesB5hLGEsGDYbNt894j3mQ+ZDhEaBRrhCtUK2OLM4kC+ML80mzCaCGoUa5gzqDFwBYAHc9933fPN782PzYfNv9mn2W/xU/EAFPwVNEU4R0R7THrUptil+L30vKjEoMUwvSy9bKF4odR16HXkTehMgCh8KdgB1AP70/vS65bTletRx1NbI08hKv0u/lLSVtOyp6akNowmjIKEhof+iA6PHpsGmpqmfqeyr66vwsvGyaMFpwR3UHNTk5eHlNvg2+LcMsgzjIdghXjRUNKZDnUPuTetNclRxVLxXu1eTVo5WSlRAVD1SOVLEUcVRF1AaUElLREv+Q/dD6DnlOYsuji7QINYgsQ23DWD3ZPcN5BPkAtcG1zLNL82Qw4rDcLxyvO289bymx63H+Nn82TvtP+2E/Yv9EA4WDkIhQyFKNE00fD9+P5s/nj8GNAs0RyNKI00TURMLAhACrO+v77rbuNtUzlLOFscUxzm/O78StxS3BbQAtJC1irVSuU25cL9uvwbHB8d20HjQgN2B3Xzqe+oS9g726QPhAx8VGRX9KPoofjl/OWtDa0NrRWhFyUTHRBlCGULnPew9ejSGNM8i3SLaD+EPjAKOAvH78PsC8//yrOas5ovaj9pD1kPWhtiA2LDbrduL34/fD+MY4yLoKOiy8rLyAwAFAF0KYAq1ErYS6hjqGMEfxR+jJKokWitaK9MyyzKiNJ00dS91LxEmDSbeH9cfGRsUG0QSRxI8BUEFb/d196/wtPAZ7Rjtj+iL6InjiONB4j/imOSV5BvmFebe5tPmoemb6YvuiO5g8V/xou6k7sTtxu068zzz0PnO+Zr5l/k69jr2fvV+9Qz2CfYc9Rf1F/EU8c/s0eze6N/oXORa5Nvf3N8V3hjer+G04SXmK+bP6dXpOOo96ubs4+wm9ST1rv+x/90J3QmBEn8SIBojGtIf1x+sIq4iyCjMKEM0SjTLOdA5Ojg8OKo2rjaIO5M7BEASQII7jzv9MQcy8yz2LKUsoix8KHYoRRxBHEYMSgy8/sT+K/Uz9RzsJOyo363fAtME0xzKGspyxW/Ff8B8wOK94b0cxBrEPs49zg3XC9dL3knevui56N312vUA/wP/eQF8Afr/9v+y/6//kP+P/8r7x/ss9Cz0T+1U7W/rcuuD6oTqNOkv6Xfrdesa8xvz6Pnm+bX7sPvgAN4A0AzUDHsYfhhjIGAgAyj6J9wv1i/KNMo0ITckN1E6VDqcOp06tTW1NcQtxi2xIrQiPRZEFl0MYQw+BEIEY/dq99/n6OeF34jf1t/T34Hefd7q2erZVNRX1DzTQNPt1/PX0tzZ3FrgYOAW6BjojPCR8C/0NPQK9Q/1hPyL/DYHPQeEB4IHMQArAHb5c/k0+i76jPyD/MT7u/tY91L3ffV69XL8bvxIBkEGbApjCvsK8grCDr8OwRXGFbQZvRkAGAgYVhhZGOoa6xrWG9sbyxrNGg8cDRzLIcUh2SnSKXYtcS2qKqUqhCaDJnMldSXjJOUk3h/fH1kVWRVGCkcKu/+//zPzO/NM6Ffovd3G3dnR2tFpw2jDd7d4t3mweLCHq4WrIaoiqq6osqhRrFes5bfqt3bEe8T5z/vPv9u824/qiuqn/aj9BxMNE3EleCXEMc4xXztkO/BF60VWSExIQ0M7Qzk5NDmXLJEswxvAG1oHWAf99P701OfX50riUOI44UHh0uPX4zjpPOkR8xTzOf42/q4Lpgv/HPkcfyp/KjMyMjK1N7M3sD+vP8dGykamRKpEJDolOo4tjy0YJRsleSB6IKUWoxaNCowKiP+J/4X4hPi58rjya+1q7WjoZ+iC44HjLOAr4FDdTN0O3A/cgNuB26Laotpj2WjZKdcw1/7RA9JAzkHOQMw8zF3GVcZJu0S7qrKqshWxFrG2sbWxpLWmteu98b2Py5HLxdzE3AnyCPJlDGQMfyd9J7ZAsECNU4hTi1uOWxJcGFz2WflZ0lPRU6VDokOjLqUuJh4nHsoSxxJ+CXwJWARYBAIDAAP5BvMGqwygDDgTLhN4HHEcvyO8I8AnuydxJmomCyAHICgbKBsaFhsW0w7PDoMFfQU4/Dj8Kvks+VH2Ufbu8+vzkPOL84DyfvI26zjrguCE4HjadNrI2MLYM9gw2H/VfNVD1EXUGtof2vHk9+QB7QftwOvC62bnYuc36DToY+tk61TtVe0n7Sjtnuqc6p3om+g86j/q3O7g7srzyvPt9u729Pb29hj0GPQQ8xLzjfSS9Cv2L/bp9ez1K/Uu9er36/f//v3+VQhTCGMRXRHIGcIZ8yHzIassrCwQORI5O0I7QuZH5UdrSmdKlEmOSShEJUSMPIw87TXvNVcvVi/FJcIlnBiZGNUM0gwCCAAIHwMhAz76RPpI8EvwYOpd6nnmeeYk4CbgydrK2o/Xj9dS1VTVo9Gl0enP589S007TW9pW2ufe5t5O30/f7N/p31jiVeLm5OjkMOYz5pflmuVC5EfkzuXR5QbsBuyE8oTyoPWh9Rf5FvlQ/k/+bwNuAykGKQY7BzsHCAoHCpwMlQxtDWMN8gzrDBAQDRDNEcoRTg5ODgILBQuKDIsMuBSxFMEauBrpHeId0yHOIZwpmykYMhoy5zLoMuou6C5aKVcpOSU8JQIgCSApFjAWGwsjCzsAPgD+8/zz+uT05CbXJNd3znPOIcgayE/ES8TKxtLGz9DV0K/bstvO4tHiB+kL6aD1n/X+A/sD9wn4CZwHnwc5AjgCsQKxAlYFWQX9AAEBuva99hvxG/GC84TzDPUS9YHwhfBH6kPqNuox6pTvkO8o9iX2Jf8i/+gL6wtvGXUZ7yTvJAwwCDDmP+E/Qk0+TdFPz0+fSaFJTUJRQlY+Wz57N3s3ACsBKz0bRBvYDN8M3wDkALbzuvMp5SjlldmQ2f3R99EzzC3MYcNcw7e7sLsZuhK6/7kAuoe2i7bsrfKtEqkUqbKsuKw+t0K3IMIhwtTO084/4D/gA/UF9TcIOAh5GncanC2XLUA6QDp1P3w/HEQgRLpKv0qvS7VLJkQpRNA50TkhNCA0VS5XLuEg5iCPD5YPIwMpA437i/tc81fzNus66w3mFOYl6SbpvfK+8tX71/tWAFQAVwVTBfkR8xF9InoiSilJKXYkdySNH48fjCGOIdYh2SEgGCUYaAdtB9j52/ny8fLxk+mT6ezf798S2hfaJdgo2JLZktmT3ZLdjuOP48Hovej65vXm4OHg4anfqd/n4eDhh+B94KrWo9ahzZ/NXsleycDKvcrLzcjN8NHx0a3brtte613rO/s3++cJ4QlBHz0fLTwsPLNZsllFbUJt5nTndJF0lnTbbNtsP187X09HTkd1JnQmOAQ1BOzo5eh012/XV8lWydG+z74xuS25T7tOu6DJpMmO35PfMPUx9XIBcgG4CLwIWhNiE8sizyIULBYspSenJx4cIRwVEhkS2Q3bDV4IXAhT/U/9i/CK8LzovOhf5mDmXONa417cV9zQ2MbYCtsD28Ldwd2T35jfVeFa4QXpCOmJ84bzmfyU/HMDcwNSC1ILfRV8FSkdKB19JIEk0CrWKpcqlioTJgsmqh+lHzAcKRzmGt8aQhNAEykFKgXd99v3BPIC8rPus+4m5ynnm92g3dLW09az0rTSzdHQ0YDTh9PY1N3U9dH00RbQF9A50zzTt9y53P/sAO21/bb9IQsfCw4YDBjVLNcs30XfRaBbm1sNZwtnVmhUaFRlVGWnX6hfMVU1VQhCCEL+J/snhgyBDJjzlPOo3qXe1c3TzUzBScGOto+2N688r1evXq/FtMe0yLvGuy3AMMBXw1nDvMq+yg7YFdiC5YnlQu9H78L4wvjEA8QD4RHiET4jPyM3MDowJzcqN7A2rjbvMeox5izlLPMh8iHuE+0TygjMCJIAkwAV+RP5M+4y7ubj5eOh36HfxN3G3bvcvNwO3Q/dxd/F37jituJ953fn1PDM8Iz7ifvwBvQGohalFrQotCi5O707tEu6S+pV8VW2W75bQVlEWQJR/1BrRGVEqDKkMi0fLx8MCxALXvpk+tjt3u1A5kHm4dzb3CTPHM8OwwzDDL0OvdC6zbpKsUWxhqGCofGT7pMwjy+PDZAIkFOUS5RrnGicV6tZqzXGN8bm6OnoVw1cDesv8C+BTYJNB2QIZMl0ynT/f/9/n36gfq9sr2xtUm1S2DvXO4YrgCtbGFkYVAFXAc3rz+tA3z/f893z3U7dTd2W3Jbc0+LW4vbx9/GbApsCtA61DjEcMRypLKQsWDtVO9dC2EJcQl1C4D/jPwA7BjsnMCswAh//Hm8LbQt6+X75L+kv6erV49UtwCnAaK5proGlg6WQoJOgNJ04nVCdVp3moumi1q3WrV65XbntwvDCD8wUzPHX7tcg5hjmNfIu8jn5OfmZAJkABgsCC5gVlBV7H3sf/Sj6KB4zFDNTPks+6kflR2JPYE9EVT5VXFhYWBdUFlS0Ta9NtEmwSc1EzUS+OMA40CTVJPQP9g8F/gH+oe6a7jTfLN9M0EfQP8M8w6S5nbn1tO+0dbR3tGm2bLanvKi8RcdEx6TYodil76Hv3wbeBg8fEh8bNiE2ZkpvSgtZD1kkXiNep1eoVzVCN0K+JL4kYgdjB3zsgeyzz7fPw7bFtrOot6gxpjSmVqhWqCmuKK6+vr6+EtkT2TH0MfTcCdoJ9xn4GZ8pnikyNi02az1oPbk9tj3kNd81XSpbKnAcbhzsCugKkvaO9sXiwuK80rXShsd+x6HCnsLJxMnEUsxTzE3ZT9nv5/bnlfic+MgMywwkISUh+zD/MOo17DW0NLc0cjN3M/Yx/TGjKaopNhg8GKMHpAda/Fz8PvRC9FTtWe0n6S3pXehi6FLnT+cx7C3s4/bc9usC5wKXC5gLghGGEdIY1xirH7EfHSUgJQAl/SScH5kfuBe6F6AQpBDVB9QHIvkf+Y7pkOmD3ILcfNF60fLG7cbLvsa+cL1tvUHEP8SzzbLN6tnm2YroiOit+rL6bAtwC3UbeBsBJwEnECwLLPEu6i53K3YrhSSJJCAaIBqtDKcMkwGKAa70p/Rc7Vnt0+7Y7lrzYfN/9oL2R/lE+fEA7wDTCdAJjxOOE0MZRRlhGWQZIhciF7QWsxZ1FnYWhxKLEn0MgwwdBCIEJPwn/G72bvaW75jvI+kp6ePj5OM64jbiDuMK49Pl0uUa6xnri/CN8H7zhPO+9MP0ufe891D5UvkV+hn6Lvku+X31efUi7SLtq+as5hboFeju6u7qQuxD7LHute4K9hH21QLfAh8PKQ/eGeMZOiU7JXgxeTGpPKg8NEMuQ2lEYETeQtlCEz8RP383ezfAKbopmBeVF/UG9gYJ+Av4queu503TVNP9wALBibqJuoi8h7zNwszCCM0LzWjcadyY7pjuewB6AN0U2xR0JXAlwivBK6copij7HfsdWBFdEaIEqQRE9Ev0ReFL4RHRFNEXyBjIWsNawyjBJsF/wn3CDcoOyljWXNbT5NjkL/U19c0GzQafGpoahy6DLpY6lDqzQq1CS0pCSmNRXlGNUIpQSUVJRXk1ezXTJ9cneRx4HOAQ3RD3APYAxO/E73bjd+MO3gze8d3v3eDd4d1S31LfseGy4YPlh+W76r/q+vD88Pn09/RM9E30X/Je8nXxcvG78b3x9vP589v23PaY+Jf4N/k1+XL5c/lE/kX+wQW+BYwJjQljCGgI2QbbBrMJsAmED4IPyBLEEjESLhISEhASiRSJFLoWvhZpF3MX+hT/FAIT/xKgEZoRKRAkEJoMlwyWB5YHMAQuBNQB0QFR/Vb9svS49FXvV+/27fLtsumv6avhreEj2ijajteT13TZednf2OPY6tPr0y3PM89q0XHRINsn2x7mIuZG8EzwlPub+6EMoQyxHKwcQSY+JvMs8ixzNHY0Mjg6OM0y0DLQJ88nCB4EHuUW4BY2DzIPYgVeBZ/7mvvy9/L3HP0h/eEF5AV1CnIKeAp0CosNhw0KEwQToBabFlIUURTrC+wLcgNzAx36Ivqe76bvF+Ug5Wvecd4C2wjbCNsN29rf3N/U5tTmru6z7vn4+/jrBecF8A/qD6MSoBLJEs4SgRWGFXoWfBYGDgYOiwKMAvj5/Pk68kDyeeh86G7eat5p2GnYK9cx1+jZ79mN3pPePOZC5tzu4O4c9xz3GQASAJIKjgr7E/sTQhtGG/Yh9yGnKKUo0i7TLuEx6DGTMpgyhzGJMbksuiyIJI8kWBthG8IRxBF0Am0Cs/Gq8d3j2OP+2f3ZDNMQ01DMU8yzya/JPc08zZrWntav4Lbgsum46aX0qPRT/1b/VQtaC28XdRfWIN4gaSJsImEbYhvDEr8SRA45DgoK+wmg/5X/wfG88bHqsurr7e7t1fTW9Fz4W/hi/WT98AfvBxsSHxLvF/cXfhuDGy0dKx1oG2IbcRZrFv4O/Q5BB0IH0QHUAdb81/z58vbyxua+5uTg3+B9437jNeU55eLi6OKq4rHiHukd6Q/xCfH79vn2f/9+//ML8AtsFGsUbhVvFcITxxOKFI8UXRZeFkISQRK0B7cHevp8+qjwpvDD6MHoGOAb4LnZvdmS2ZbZBd0H3angqeB/54DnKvYt9sMHxQdlF2UXRCVCJXczcTPJQ8RDT1JTUhVWHVZYTmFObEBvQE0vSy/RGcwZOAAzAGjjaOMBxwjHwK7HruSd5J0NmQuZMpwynJ6kpKQBsgiy2sTdxFDfT99//nr+lBmOGXssdSz5N/Y3/D/8P5tJnUmmTqhOP0g6SHU5bzlcKloquB64HmgUaRSGCIcIAfwF/I/ykPIS7hDuQ+xE7KPsquwd8CPwV/Rd9Hv3fvdt+Wr5S/1L/UX/Rv/7/vv+1vvU+2/2bfZf7V3tGOQa5Ingi+Aj4SPhnN6a3qjVotUJ0QTR7dfs18vn0OeX8p3yaPdt9y39Lf1WC1QLAx4GHqMnqCckKSIpRyZHJoYmjCYfIyIjxBrFGqsOqA46ADkAJ/Mo84fojOh45H3k6OPo4yfiJ+Ka4p/iA+wG7IL9f/3sD+YPISEcIYgyiTIpRy5HfFmAWVRhU2GOYYph/17/XpNXlVcXRh5GYChmKBoGGwaQ55Tn7c32zby0xLQ2nTqdD4sNi0GEOoSBiXyJ1pXYla+lsqWht523b85lzgHr+uoVCRMJ+B34Hawprin6Lv8uqyyuLIElgSXxGfUZbwtzC0P9Rf0q8i/yNOg96BbhHeF03nTe3t7d3vDi8eJU7VPtLP0u/XoNfw2MG48biiqGKs44xziGQIhApkKpQhZEFUQBRQBFOj49Pt4v4C8EIQsh/xQGFXUMeAzFAcgB4vbk9ubx6PGQ8pPy9fP08xX1FfXy9fP1IPkc+cH9wP3o/ez9wvjE+Krxq/E27TjtRuhK6MvczNzOzczNOMM2wzXCN8IwxC/EIsQfxNvH3cfS1dLVJ+kk6dv52fmXBpUGXRJXElwdVR3YJNQkiiaIJnUjeCOKHYkdNhg0GOYS4xIkDB8MPwU4BUgBQwHu/uz+dPxx/Ib7hPtm/mf+jAOPA6oHqgeUCZEJZgpiCr0MuAx1EHMQgRV9FToYOBjiGN8Y0BrJGkIcPhz2HPUcCRwNHMgayhp/FX0VTAtKCwoCDQLp++r7vvW/9QvtCe0M5gbmoOKd4l3eYd6T1pbWLc0ozVTGT8Y3wjfC677vvv66A7uJvI68jsSNxBfQFNCP3pDeh/GN8a4HsgdrHmweQzJAMgFD/UIQUQ9R41fmV1tXYVfVUdxRs0e7R0s4Tzh4JXolihOKE7QEtATO9tH2O+s/69Dk0eT34fjhgt2A3YXZgNl32nPaY95h3g/hDeE34zbjMOkw6fzw+/Bo+Wb5swGvAWILXQtYFVMV2B/VH04rUCtOMk4y9jHxMcQsuSzvJ+onJyIoItwV4RV6BXsFQ/U/9TnpMulO3kveM9I00sDIv8jWxdTFocigyNPJ1MkGygjKds92z/nc99yS7I7sRfRD9F73YfdP/U/9aAZiBqQMngylDJ8MngqbCmQMYwwCEgESDBcJF3UYdBgIFwgXahRoFIEWgRbcGtgakxqQGsEVvhUYERcRqhCqEIAShBIREhUS5wzlDM0GyAZ0A28DsgCyAFP8Vvza9t32mfOa8/jy9/J69Hn06vjq+CD+IP51AnYCwAfBB3YMdwzSDtMOExASEDgSOBKaFJ4UThNQE08NTQ0sBSwF4/7l/hj4F/gU7xTvkeOP46/XrtdBz0LPO8o7ysfIxsg9yDrIjMuJyxvVGdWo4qriyfHQ8VEAWAAgEiMSSiFHIb4pvCmYLpcuSDNHM4o1izUdMB8wWiRbJA8XEBdXDFkM8wL0AkD7QPtc9Vz1JvAn8EfuRe447zDv7vHj8ZD1ivX7/AH9VQRfBIcGjQb2B/gHaQttC4sOkA7dCt8KZABlABv2GvbE7MDscuNx48jZyNke1BvUTtRO1Hrae9pD50PnHvgc+KEJngl4GXUZdSd3J8kzzTO8Pb49XEJdQic/JT+4MrQydCJ1IvYU+BQmBiYGj/WO9SPlJOUe2h/ap9Ko0tXN1M1Tz0/P+df01xXlEeUU7xfvXvdg93j+d/73B/kHmRCgEBYUHxS7EcEREw4WDpAPlw/LDNEMsQO2A8b5zPn29Pz0W/Rj9EDyQvLO78fv++zz7DXrL+v66vnqnuqf6mvsa+xf8V/xjPiL+DP9Lv3j/t7+ywPFA3ALcQuoE6wTNBgzGHYccRyLI4gjlimUKfIs7iznK+MrYCZgJi4fMh/RGNcYTRBPEIEEgASg+Jz4Xu9d7wfqCer/5gDnHOMb41PfUd8T4A7gaeRm5Mflx+WG4Yvhit6N3r/hvOEn5iHmpeel517mYOav57Dnhe6E7pP3kvft/Oz8ewF+Ad8J3wlmFWcV/CEBIlgqVSpzL24vdDFzMcoxyjFRMVAxdCx1LCAiIyKDFYkVHQskCwwBDwEn+CX4B/IA8h7vF+8G7gTuOew67Pzv++9s+mr6PQI7AmkEaQTrA+gDkQWNBeUH5QffBOEEDf0L/Tr1NfU87zbvl+aU5rvbvdtW01rTnc6gzjfMOczZytfK78zuzI7Sk9L91wPYTN5N3uXm4eac8Zfxkf2K/akIqAiqFasVfSR8JGMwYjCtOrA6B0QIRMxLzUuzTrlOiEyOTKxGrkbbO947dS56LpYglyD4FfUVDAsOC8f9yv0S8g/yremr6R7jIuPA3cHdXt5j3q/js+Oq56znSOhI6EHrQuva79nvT/JO8ufy6PJN8kzyWvJX8n7yffIX8hTy2u7Z7rPpsemT5YzlfuR55Nnl1uWa55jnwuq76pzslOwL7QftZO9l7z70P/RU+1b7DgIRApQJlQmpEasRURdTF5wcmhy9ILsgRiNLI4ghjiEoHise6xrqGs4azhpBG0MbtRe1F/sR9xG/DLsM5ArjCrAKsApYCVwJhgSHBIP9f/3w9+33O/Y79uz18PUG8g3yc+9876zuru4Y7hbufu177TPuLe5q8Gfwy+/O7zbtOO2U65Drj+2I7VLxS/Gf9J30A/cF9/r5+flg/l7+tAK0AoQIhAhSDlMOcBNuE3gWcxbfGNsYrRyuHK0drh3dGtsadhRzFB0QHRBsD24PkA+RD/MN9Q3+CAMJ+QX8BUMCQQLg/dz9Mvoy+uH25PZ58nvywum/6UThQOHA3MHcj9yT3Ofd6t1j3mPeleCV4Ljku+T36vnqPfBA8FDzU/P29Pr02/jf+AsADwCaA5oDSgNGA0oCRAIAA/0CbwZyBtgI2Ag0CSwJ/Ar2CisOKg5PEE4QpRKlEkcXSBe0HLccIx8lH4wdkB2bHJ8cEB0VHWkcbxyjGKUYJRQnFIgQhRDDDsEOwQy/DKgIpgjyAusCFvsR+8zyy/L06/XrYOhg6EvlR+X54fHhOeA04FjiVOJ653bnTO1O7UfyT/IG+A34nvyg/MP+v/5eAFsAQQE9AccAwgAl/iP+d/t0+733svdN80Pzze/I7/nt9e2z7rDumfGb8af2rPb0/fb9eQR6BAYJBwn8DfwNdxN4E/EW8RYpFicWFRQVFFMTWRPCEcQRvQu5C2wEZgQ/AjoCXwNcA4ADgQN0AXUBjgCKAL4CuQKcBZgFWARZBOAD5gOMBZEFPgg+CM0JzgnFB8UH9wP4Ax0AHwCm/Kj8xvbG9vDu8u4E6Afo0eTV5Obk6eQ95kDmPelB6Zntm+2q86zznv2g/cIJwwlaFloWJB4lHkQhRyEdIiAieCB7IEwcSxxmFWIVsQusC60ArABn92X3au5m7iDnHed24XPhr92x3cjcytxi3mDe1uLU4r7ouehx7XDtlvGX8cn3y/es/7L/cQh5CJ4SqBLfGekZxR3OHeAf6B/KIc4h4iPeI00hRiF9G3obDhYNFtkR2RErCy4LdgF4AWf4aPi98b7x4uvm69/l4+Vl4mriEeMU4/7mAOfl6uLq3+vY6+rv5O9I+kX6cwVvBUgLQwsADAAMtw68Dk0TVRMlEykTOg42Dm8JZgngBNkEXgFZAST+If5M+Ev4T/JN8kjuSu6L74zvQfJB8tvx3fH48/nzJPsj+78CuwJ4BnYGnAabBpcHlgcdDB0MqRCnEAsTARP6EPIQRwxFDH0KgAoaDB0MxA3EDfgM+gwGCgYKUQdMB4gHgQcLCQcJ9AjyCLEEswQj/ij+k/qX+hv5IPkh9ib26fHp8dfu1+4M7A/sc+l36SzoMegk6CjoAOcF5yLkJeRz5HPkoOii6ITshuxi72XvzfLS8ur47vjPANcA+Qb+BuwL5gs1EC0QghKAEksSSRIvECwQvAy5DAcKBQrPCM4I6QflB2MFXQViAmICKAQoBHwIfAipCqsK2QvbCyoOLQ6EEIkQvxLDEt8T3BNGEz0TtxGxEUUORg6wCrIKAgj/B/gE8wTV/9T/Pfo7+if4Ivjb+Nb4BfgF+ET0RfRN81DzAvUG9Rj3HPfl9+j3VvdV9/r39/eO+Yn5W/pW+pb5lfmR+Jb41vbb9rr0u/RF8UbxHO4f7s/szezq6+brLuwu7A3tEu3J8MzwwfbE9iP9Kf0vBDIEEAwRDFwTXRPlF+YXlxubG9sd3x0AHvsdjhyEHMUZwBmyFbAVpw2sDQsEEAQK+wz72/Hd8efn8Ocx4TjhOd043dbZ0tmA2oPaieCN4MTrxOtK+Ev4vQS/BHMSbxKQH44fIioiKtcu1y5SLlMu9Cv7Kw8mGSZwGnQaNQwzDAcABwDU9tv2G/Al8BXsGuw36Tzpo+er5w/nFedK6E3o9uv461DxUvE39zX3Y/td+2P+YP7/AP8A2wHXAasCpQKHBIIE2AXTBfEF6QXrBeYFnAabBo4HjwfUBs8GTwRFBKcCoQKhAqICngKhAoABfgE2/jL+ffqA+lv5YPns+O74avdr96v0qPRK8kfyYvFi8XbxdvHh8ODwQu9C787s0uyh66XrWe5Z7kX0QPSr+qn6qgGpAcsJxglcElkS1RvWG/Uj9iOUKZQpxivHK6EsqSwQLBksoyepJ+Ue5R4BEgISIwUmBUH6RPoz8THxseev5yTeJd5z1nbWctJ20lDSUdLe09jTUNdR14Tdi90j5ijm9e/076b5pfniA+QDHA4eDrgVthXqGeUZjhyKHPsd9x3cG9Qb6hXjFQ0QDxBZDF8McAd1B+P/5P+g+KL4QPVE9fL18/VP9073cvdz9zH4M/he/F788gPxAzkKNwojDiAOLhIqEgcYAhjFHMMcpByiHEwYSBiaE5YTvA66DqsIsAguATcBWflf+frx//Fb617rq+av5rHitOIi4CPg7eDr4Pbi+OLH48nj3+Pf4xnlG+Wc6KHofOx+7DDvL+8h8iPy5/Tp9Mf1xfUG9gD2D/gM+AT7Avvk/ef9qwGtATcHNgePDo4OmhSfFJIYlhhSHFAc2x/XH/Ii9SJKI1Ij+iEFIpAgnSAzHj4e1RrWGuQX4BetFaUVRhNAE7QPsA+TC5ELzgfPBwAEBgRPAFUAi/uN+2X2YvYs8izyAO4C7inrK+uH6o/qU+ta60DrPusl6iDqOOs0603vSu9T8lfy8vH48XXvfO/07fvtpe6k7ifvJu/x7fPtOOw/7C3tMu3q7+7v3fHh8Q/zEfOd9J/0Gvge+FH9Tf0eAhgCAAb/BakKqwoPEA8QfhR8FJIWkRYnGCkY7hnwGZ4bnBvJG8obKRoqGmcYZhifFpoW/BT1FJUSkhLnDucOfwt+C0IJPQnPB8oH/QQABf4AAAF2/XP9ofmh+V/1YfVf8V/xv+6+7kTsQ+yP6IroBecB5/fn9eeY6ZXpUuxP7MLvvu8X9BD0kviS+L77wPvp/ez9T/5V/tP/1f9UAlEChwSEBJUElQQtAzIDnwOnA1MFVAWBBn4G/wf7B/MJ9AkGCwYLUgpRCgAK/QkZCxkLgwuHCxwKGQrCB7sH/wX4BRUFEQW6A7sDkAGSAXMAdQCIAI0AFQIaAn8DgAPOA8gD1ALPAvEA8ABd/2D/G/wl/HL2e/bE78fvruqv6ljnWOcj5Cjkm+Kk4tfh3uFO4k/iaORm5LDnreeD7H/sFPIR8p/4oPi8AMQAIAkoCU0RUhHlGesZESIaIn4ohCgCKwArRipEKocoiCiZJZwl9yD3IHcadhqVE5QTCA0IDYsHhgdlAl4Cn/yc/Hb4cvg79Tj1+fL68mvwa/CJ64br1+bT5rTlr+VL6ELov+q36hLtEO0x8DTwjfSS9Jn4m/jc+dz5FvsX+3L9cv1t/m7+tP2y/fL67vp1+HH4EPcN94r2h/Yx9i32bfVs9QT3Bfen+qb6+f33/UQBPwGHBYIF4grmCsYPzA9tE3ET5xXnFUIWPhZmFGIUqBGqERoQIRCNDpQOfwuHC7IJtwlACT8JsgivCFIGTAahApwCHAAYAMr9xf2t+qr62vfX9yj3J/cY+Rr5eft5+xn7Ffsx+TD5LPkv+Uj6Svrp+Ov4+fT89GnxafEM7wrvZ+1l7UTsRez66/3rE+wV7MTswuyC73zvZ/Nl8wj4C/j2/Pj8OwM3AyoKJAoCEPwPhBWCFfgZ+xkkHSYdjB6NHioeKB4fHRkdfxt7G80YzxgNFRAVthG4EZ0Nng3yB/UHugG8AfH88PyE+YL56/Xp9dXx1fHF7cbtEewT7JHsk+zS7NDsBewA7DXrLuuV7ZHtTPFK8Yvzi/MC9Ab0CPMM8+Ly6PJB80nzqvKu8nvxf/E88kHyGvYa9o36ifou/y7/AQQBBGoJagnXDdkN7RHuERoXGxfcGt4aXxtjG1cZWhleGGEYshe2FwgVChWJEYgRYA5dDigLIgthCVoJuQiyCIQGhQayArcCkwCXAPn//f+Z/pz+wP3C/br9vP2G/Yb9CfwF/AL5Afk+9UT1qPKq8vTw9PDa7dvt3uni6RTnFudP5k/msuay5h7mIOZL5U3leOd35/bs9+w98j7yu/W99bL5tfmF/4L/uQWzBSwLLAtiEGgQHhYjFvQa+hp1HXgdSB1HHYkbiRusGbIZERcdFzUTQBNkDm8OVAlaCdID0gOF/4T/B/wG/BX4FvjA9ML0DvIQ8sTvx+/J7szuy+7R7svu0e7N79LvifKO8iz2LvY1+jT6i/6K/tYC1AJDBkAG/Aj7CEsLTguFDIoMGgwiDF0LYgvGCsoKkwmVCb4HvAdvBW8FNgM5AyMBIwFj/1//4v3Y/T38MPx1+2z79fvt+wX9A/0a/Rv9aPxo/IX8hfzv/fP9zv/T/9P/1f9y/nD+yv3G/WT9Yv3S/Mz8yfvB+xX7EvsG+gz6TvlT+UT6Qvqm/Kf82P7a/r3/vf9ZAF4AOgI/Ao4DkAPWAtICTwBRAHX+fP7R/dj9iPyK/Gn6Z/p3+XH5WfpR+lX7T/v9+/n72PvZ+3b9ef2dAKAAxAPEA98E4gSwBbEFuwi5CFsMWwwODgsOMwwzDDYJOgkJCA8IIggmCKMGqgaTAZYBCfwK/P74//jy9/X3zvbU9uL05vRa9Fr0TfZM9vr4+vg9+zn7Nv0t/QEA//+wA7QDPgc8B8QJwwnZCN8IeQZ/Bl4FYQUaBB0EQgJEAvj/+/8Y/Rn9BfwB/Hn9d/3n/uf+Pv4//u787fwh/iL+rwGyAV0FXwXMBsgGMAYqBlYFWAXZBeQFiwaUBmoFbQWKAooCJ/8r/8j8y/wp+yr7o/mn+cP4xPjX+Nb4TflN+bn5u/no++v7p/+u/9MB2wGNAZQBxADGACkBKAH+Af0BUwBTAI38jPyD+oX6e/p9+lz5W/kc9hr2ZvNl84Hxf/Hl7+PvtvC28KPzo/Om9qT2DPoK+rj+tv6GA4IDjwePBy4LLwuSDpAOhxGBERoUFxTnFegVDRcMFwYXBxdUFVgVIRMnExgRGxE4EDcQ0A7RDswKywpVBVAFRAE/AZz+mv7X+9b7QPg++AT1AfWD8oLy3fDf8CLvJe+K7IrsaOpq6lLqWOr37PrsWfBZ8HPzb/Mg9h72FvgZ+Bz6JPpM/E78iv2E/T/9OP0W/RD9XP1Y/Sr+Kf6rAKwAGwMcA7QEtAR+Bn4GpgmkCfwM9Qz7DfoN1g3YDVwOXg45DzsPdw97Dz0PQQ+ZDp4OTA1MDcEKugoNBwcHdANzA1gAWQCa/J38CfoM+rf4uPjs9+73NPYy9jz0OvSe86HzW/Rd9AL2BfYt9zD3k/iR+O/66vp4/nL+aAFhAesB6QG3/7//gvuL+wn3DvdO807zPu8971zrXuvb6t7qfe597knzSvOl96j3mfyb/NMC1QK2Cr0KdBF8EeoU8BQqFysX/hoAG90e3x7OH84fuh2/HcQZyhkVFhcWlBOVE2QQZBA4CjIKuAKxAu386/wG+gr6gfiD+EP2Rfbf8ufysvC78L7wxfAY8RnxCfAI8Grvau9L8FHwGPIf8mnza/M59D30WvRg9LXzuPOn86Pz7fTs9FP3Vfdo+W/5bPp1+lj8Yfx3AHkAtgS0BHkGeAbjBuEGIQghCLcIvAhuBnMGGwIiAsX+x/59/n7+GQAbAGcBZQE0AjICjwSNBFMJTwm8DbsNXA9bD9EO0g5PD1IP7RHuEXETcBPwEu0SQBE/EdUO1Q5rCmsKbwRzBGH+Zv6T+JT4XfJc8qvsrOx06Xfp9Oj46Ijpjemz6bfpUOlP6fvo+uiD6oPqd+177UPwRPD+8/vziPqF+oADfAPOC88LAxEIEREUDxSKFoMW7RfsFzwXPxdgE2MT7Q3tDbsKuAqICoUK2AnWCbkGvQaWApoC9v/z/zT9M/1h+GT4kfOT8zrxPvFT8Fbwru+r7yTwH/BH8kfyG/Ue9f32//YA+AD4nPic+MH5wvnw+/L7MP8x/9ADywN7CXcJ6A7mDu0S6hJmFmAWxBe9F6QVohWhEKEQwQrDCtkF1wVUAk4CVf5S/gr5Dfmf9J/0GfIX8uzw7fBE70jvwO3F7R7uI+4C8AbwKvMu83X3dvcR/Q39zwLNAuoG6ga9CL8Iewl6CcYJvglPCUQJ3QfWB2wFawUUBBQELgUrBVUGUwbnBegFogSmBGEDZgOhAasBw/7M/nr8gfzZ+977jPuM+xv7FvtE+z77EfwM/OX93/2Q/4n/9//y/9D/yv+5ALEAcQJuAs0EzgS/B78HJgokCikLJwusC6sLOws4CxAIEAikAagBx/rJ+vr1+fVK80jztPGt8dLwyPBb8FfwQvFD8fvxAPLe8eHxmfGb8aLypvKu9bD1yvjF+NH6zvr5/fr9bwNzA4IKgQoWEBIQ0BHPEecR6BEPEhASlBGUEf8O/Q6dC5wL0wnbCe4I9ghKB1EHXgVjBbYDtwNAAToBmP2T/VP5UPle9Vz1p/Ok82HzY/Pn8ury8PPx8w34DfhP/FL8qf2s/eH95f1n/27/1wHXAewD6AO6BbgFowemB54JnwlIC0gLTQtOC4EJhgmPBZYFVwBeAM770PuF+If4O/Y59t301vR49XH1xPjF+Of87Py8/77/TwBTAGX/aP8K/wv/d/90/4D/e/8Y/hP+Mv0t/XP9cf0Q/hX+H/4l/or9kP2b/KL8ivyM/Gf9Yf3j/eT9ev6B/mf/bf/KAMsAlwKXAioELARABUQF+AX+BYwFkAVMBEoEVwNVAzEEMQQnBiUGggeFB5kIngjLCc8J9Qn1CcIIvwhaB1MHdgVuBUUCPAJd/1j/V/5W/u797v0V/RX9vvy//Bf9G/3z/fb98/70/qL/o/8k/yD/4P3d/cb8xPzF+8n7Ifso+/76AvvQ+dX5avdw9+r18PVS9Vn1CfMO84bwg/Cs8KfwxvPC84z3iPfK+sv6Df4S/gkDDAMCCQEJTwxMDD0MPAwkCyQLiwuJC28MawybC5YLTAlHCf0H+we9BrkGuwS4BK8CrQKSAI8Atf22/SL6JvpM+E345fjj+Jn6mvrI+8f7cvxs/PT98/07AEAAUgFYAdf/3P+V/ZT9vvy8/Ez9Sf2V/o/+xf/B/58AoQAIAg0C+QP8AyUFKAUzBDYEQAJDAkMBSQFNAU4BxwG/AYgCgAI3AzYDxgPEA5IEkgTRBNQEsAOyA38BfwHG/8T/QP89/3j/ef/9/gD/i/2N/Zn9mf35//j/fwJ6AmcCYAIt/yn/Wvtc+0z4UPi19bf1F/MZ8yTxKPG38Lnw4vHh8aDzn/Mv9Sv1QvdA9w/6DvqO/Y79+gD5AH4EdgQ2CC8IcAxwDBcQGBDfEdwRoxKfEmcSYRKgEJsQ2QzVDMAIvwjrBekFXwRaBEoDRwPuAe0B8ADzAHkAfAC//sD+i/uH+/34+Pir96v34Pbh9uj15/V49Xj1YPZl9t/34/da91z3bfVv9e3z7/NV9Fb0D/UN9ar1qfV/94D3mPqd+r7+xP4RAxEDiAaHBnsIewhuCW8JWAlRCTQILAjFBsUG7QXxBU4GUAaNB40H1wjWCOkJ6AnaCtgKKQsqC7AKsgquCawJUghSCDwHOgfSBs4GhwaGBugF5AVmBGEEzwLLAk0BUgHh/uj+MPs3+wb3DvfZ8+Lzw/HG8WvwafAw8DDwLPEu8UHyRfKc8qHyUPJW8jHxN/EX8BvwN/A58FfyV/Lr9ej14fjc+Br8Ffzb/9j/HQMaAxMFDwXUBs4G3gjYCPkL9wuJD40PixKQEk4UUhR9FHwU2BPWE8oSyhKBEIYQnAueC+YE4wSy/rH+DvsP+476jfph+1/7sPut+278bPw1/jT+LAAqAF0AXgBh/mT+RfxK/L77wvsN/Q/92f3a/ZX9lf2E/ob+yP/I/9r/3v8G/w3/fv5//hD+DP7K/Mn8U/tU+wj7Bfty+3D7//oA+5f6l/qF+n76IvoW+vz48/j19/P3W/hc+Cj6Lfq0/Lz8SgBOAPgE+ATUCdoJrg28Dc4P1g9+D4IPIw0hDRgLEQt6CXcJbgdxBycFKQVCA0IDiAGIAR7/HP9q/Gj8Zvln+aX1pvX78f/xbe9t7zfuNO7E7sLuevB78Knyr/Jj9Wv1dvh5+PH69fqy/LT8Bv8I/9wB3wH/BAQF5QjpCKINpQ1OEkwSSBU/FdAVyxWZFJYU4RLfEhUQGRCxC7sL5AXsBaUAqgC8/b/9T/xV/EH6Svql96z3G/Yd9tz13/Wa9Z31/PT99Pj09/T+9fv1WPhd+Pf6/vpw/HL8bf1x/Yr+j/4l/yr/y/7P/kz+Tf7j/uL+QgE9AUcEPgTtBekFegZ7BosHjQchCSIJugi7CCEGHgbDA8QD6gLsAu8C8QIZAhsCcgBxAHj/df/I/8v/UABTAAMAAgCr/qv+gPyB/Ez6Tfo5+Dj46Pbp9v31BfYk9Sv14PTj9AX2BvZq92z3KPgt+IH5hflP/FL8Pf9B/0kBSQFzA28DCQYIBoUIhghjCmMKDwsOC9QK0gpSClIKzgnTCUwJUwnWCN0IBAgJCO8F8wW2AroCZgBsADj/Pv9q/Wz9UvtS+//5APrl+eb5uvq7+l/7YPvV+9X7Iv0h/Vj/VP+0Aa8B+QL3AlwDXQPSA9UDAwQHBCkDLAPjAeQBaQBrAJT/mf91/nr+S/xK/PH57/mI+Iv4qPes9572nvZ89Xz1bPVu9cr2yPbP+Mn4UvtM+2v+a/6QAZQB5APjA/MF8QUQCA4IbQlmCWYJXgnUCNQICwgOCIAGgAZGBEQErwGvATP/Nf9e/V/9GPwU/Ar7CPsP+w37c/tu+6j7o/tp/GL8y/7G/nYCfAK1BbwF1wfYB/YI9wi3CLYIBwcHBykELARtAWgBP/80/2f9W/0y/Cj8jPuJ+477jvtf/F38cf1w/cr9yf1Q/k7+Sf9I/0cASAC3ALYAdQB1ADkANwDq/+z/T/9T/6r+qv5B/UH9A/sD+wX6Bfpq+m76yfrN+i77MvtM/FD8Nf41/p3/mf9QAEsAlwGTAS0DKwOUBJAEYgVdBZsFlwUzBjEGSQdHB5QIlQjGCckJDAoMCkQIRggBBggGcAR4BPEC+QK0ALYAnv2a/fv69fpI+Uf5QPhG+Lf3uPdL90L3Ofcu9/D47fj1+/P7bP5n/u3+7P60/rj+df91/1wBVwF3AnUCqwGuAX4AgADz//L/e/9z/7f9sf1R+1L7TfpO+sz7yvsJ/gr+LgAvAEICQgIcBB8EAQYHBvgH/gcUCRsJAgkGCaAHogeMBY8FGwQgBBoDHwP1AfgBwwDEAE0ATwAvATAB8QLvAukD5gNkA2YD+gH4AdIAzwCg/57/wP3B/fb7+ftx+nT6Hvge+EL1PPW08rLyFvET8Yfwg/BD8UDxk/OS89v23vZj+mn6xv3M/T4APgBTAk8CAAX5BGcHYwdECEMIggh8CI0JhAktCyoLVAxRDGwMZgxWDFEMjgyNDEMMRAw8CzsLkwiTCOIE4ARQAVABGf4X/o77h/t8+Xr5Kvcs9730w/RB80Xzn/Kg8lTyT/Lr8ebxPfI98s3zzfNC90H3pPug+wj/Af8WARMBDQMLA5YFlgVwB3AHgQd7B2sGZQaLBYsF5wXrBZ0GogYIBgwGqQSuBIcDjgMPAxUDLwMwA8wCywL/AfsB/wD9AJwAnwAGAQoB8gH0AesC7QLDA8EDmASTBOsE6gRDBEgEGAIcAgQABAC6/7n/GgAVAET/P//+/f39PP4//jv/P//b/uH+i/yU/CH6Jvrq+Ov4Zvhj+Af3//YL9QP1pvOh80zzRvMs8yLztPKr8pbykfLQ8s7yzvPK83H1Z/Wh95j37Prn+p7/mv8LBQUFVApKCtEOzA7XEtoS+BX6FWEXXhdBFz0XPhY5FvwU+BRWE1ETqRChEEkNQg0dChcKAAf9BlcDWANe/17/TPxK/Lr6ufqt+a35s/ix+Jz3m/dL91D3yvfS91b3W/eN9Y31QvRC9CL0I/Rg82Dz6PHl8WLxXfF28nTye/R79KD2nvbI+Mf4fPqA+hz8Ivxf/mT+bABpAKEBmgH0Au8CnQWaBeAI4AisC64LbA1vDbUNvA0sDTYNtgy7DLwMugx2DG0MOgs2C1wJXgl6B3sHFQYXBvIE+QTBA8MD6gHrAbT/uf/G/c79kfyW/HX7dft1+XX5UPdV91b1WPXL88fzmPKS8tzx2fEN8gnyNvI28oPyhfJu82rz5vTd9Pv29vbW+dP5Bf0B/RsAGwBoAmoCDQQMBMAFwgWZB54H+wgBCbUJtgkSChIKiwqNCtYK2grxCvMKSgpKCgMJBAk+CEYI5wfuB/EG8AYOBQoFVgNVAxQCFQJBAT4BVABRAKP/p/8F/w//1f3c/QT8A/yA+n769/n3+YL5ffl/+Hz4CfcL96L2oPY49zP3BvgD+A35DvlP+k/6fft5+7T8svxl/mH+DgAIAFoBVgGXApcCAwQEBHoFdwUiBiEGCwYUBugF8QXwBfcFNAUzBRcDEwOxALAAff+C/87+0/5S/U/9D/wP/Nr74Ptf/Gb87fzv/Gf9Yv0A/vv9KP8r/y0BNQG/AsQCDgMOA0oCSAKbAZkBSwFFAZsAlgBf/13/Vf5T/rf9t/27/bn9Ev4Q/mP+Yv6B/n7+AP/4/sn/wv9aAFUA+QD3AH4BegGeAZoBnwGaASICIQI1AzQD2APVA9MD0QPHA8kDtQO5A9oC2AIkASABQv9B/yz+Lv6M/Yr9hvyA/Ir7hPtT+1H7H/wh/Nb92/3f/+L/IAIlAhQEHwSzBbkFtge1B4cJiAkBCgcKLwk0CS4HLweaBKAEoAGsASD+J/4x+jL6KvYo9oLzffNL8kTy0vHO8Z7xnvF58nnyQfRC9D/2PfaA+Hn4kvqK+j78OPy6/bb97f7v/u3/9f+PAZUB5APpA5EFlAXRBdIFsAWyBVEGUQZiB10HQAg7CKwIrAgSCRkJpAmnCQYKAQrHCcMJPgk/Ca4IrAhrB2gHawVuBboCvgLY/93/xv3K/Xr8fvxj+2T7VPpR+pz5mPmD+YL5xPnD+YP6fvqt+6f7+Pz6/AL+Bv6T/pj+7/70/j3/RP/s//H/ugC9ALwAvQAiACEAov+h/1L/Uv/9/vz+e/54/g7+Bv7B/bv93/3d/fb99v1a/Vv9BvwJ/P76Avva+t36vvvC+3H8dfz8/P38qv6r/uoB8QFWBWEFwwfOBzwJPwlwCmoKVgtTC+cK7gqBCYkJPAc/B8AEvgR0AnMC9P/x/xT9EP2m+qj62/jh+Ar3D/co9TD1SPRR9Gr0bvQP9Qv1b/Zr9pz4mfhD+z/7B/4D/ogAhAC8ArgCvAS2BAIH/AZlCV8Jggp+CigKKwqNCZMJbAlyCQUJCwmKB40H7AXpBfQE7QT5A/EDAwIAArP/tP81/jT+Q/1A/V78Wvz8+v36j/mQ+Sn5LfkM+hP6E/sY+zT7M/si+yL7EvwU/B7+Gv4SAA0A4wDgAOUA5QApASYBXwJaAq0DrgMSAxIDSwFHAej/5f9G/0X/RP5C/nX8ePw/+kf6G/gf+H72g/a69cH1rvWz9TD2MPZJ90T3iPiB+Bb6Efqe/Jn87v/p/20DawOXBpgGqgmsCZsMmwxPD00PXhFgEW0SbBLQEssSGhIXEvoP+w8hDSINbwp0CrcHvwcgBCYEJQAoACj9LP2Y+5z7GPoc+sP3xPeg9Z71FfQR9JLzkPND80Pz7fLq8r3ytfIR8wvzJ/Qn9MT1xvXD98f3jfmP+Tn7PvtU/Vn9jP+U/0UBTwGBAosCFgQfBCkGMAYnCCoIPgk/CZgJmgn+CQAKNQo3CnAJcAnLB8sH4gXeBXUEcAR0A28DMQIvAmoAawBS/lP+oPye/Kj7pPs4+zT7wvrA+lL6Ufps+m76E/sS+2/8cPwo/ir+zf/O//kA+gCoAakB9AHxAbkBswGHAYcB6gDsAOL/5v/F/sX+//3//bH9sf2R/Y/94vzg/FL8T/xg/GH8A/0H/bP9tf3j/eL9df53/gMABwDgAeMB5ALoAn8DhANRBFQEYwVkBa8FrwVoBWQFcQVwBWwGcQZEB0sHTgdUB3QGeAYoBSsFqAOnA80BzQH5//n/yv3K/Z77m/s1+i76F/kR+e337PcT9xT3k/aQ9hj2E/Zk9mD2wPfC9zX5N/nz+e/5x/rB+m38bfye/p/+swCzAKICpQLWBNkE5wbmBooIigiDCYgJzwnUCXAJcQmfCJ0IfweCB+0F8wVnBGkE1ALSAsUAxACr/q7+G/0d/fH78fu2+rz6zPnV+Wr5afmL+Yb55/nn+dT60Pqm/KH8r/6q/rQArgCEAoICsQO0A4AEhgQuBTUFjgWWBUIFRgXMBMoE1wPWA3MCdwJ/AIMAdv52/sL8wPy0+7b7BvsH+1r6WPo8+jz6/foE+637tfv0+/j7jfyK/DD+KP4WABIATgFPAUwCSgLGA8MDrgWtBdYG1gYqBykHTgdNB+sG6wa+BcIFPARBBDcDOgO9Ab4B+//7/6L+o/6i/aH9pvyk/Kv7p/uL+oj6bvlq+dH40fjQ+NL4sviv+Av4CPjQ99D3gPiC+Iz5i/kM+gf6jvqL+lj8VvxE/z7/zQHIAXkDdwMABf8EhgaFBnkHegcMCAwIngidCGMJYwmECYQJ3QjcCJ4HngdPBlIGPQVABdID0wOqAaYB5f/g/1//Xv9B/z//yv7H/tX90/11/XT9OP43/gn/C////gX/VP5Z/gz+EP5x/nL+Jv8q/5//pv/S/9b/X/9i/6z+sP4G/gv+ff2C/Z78nfzP+8z77Pro+hj6F/qN+Yr5c/lx+XX5d/li+WT5CvkM+UP5Q/lS+lH69vvz+9393P27/7//+QH5AbgEuQTKB88HrAqzCsAMvwxrDWcNjw2RDXwNgQ2vDLQMDgsVC/YI/gjbBuAGzwTRBHQCcwL8//r/4/3j/aD7n/vt+Oz4ZfZm9s70zPQH9AX0tPOz8+bz5/Pr9Ov0ePZ49lD4Uvjx+fD5NPsv+7n8svyO/on+FAAQAIoBiQEbAx0DiASMBIUFiwXXBdUF1QXQBbYFuAVeBWQFqwSsBK4DrAOPAo0CcAFvAaMAngD3//P/VP9U/+H+5f5z/nX+y/3N/fn8/PzG/Mb8i/2K/Y3+jv47/zz/yQDNAF4DXwPoBecFLActB0wHTQcrByoHNAcyBxcHGwfiBekF0wPVA+MB6AFJAE4AdP52/u/78Ptr+Wz5rvew9+z27fZM9k72w/XI9X31g/XB9cP1J/cn90X5RPny+vP6Ifwh/Jb9lP1X/1b/ygDKAL8BvgGQAooCtAOvAxcFGAUhBiUGdQZ7BnMGdgZiBl8GFAYQBnoFewUGBQcFQgU9BUkFRAWyBLUEqAOuA8ECxQJsAW4BPv9E/xP9Gf2m+6n7V/tV+3j7d/vX+9X7WvxW/OD84PxX/Vj9+v38/Rb/Fv/e/9z/dABuACkBIwHpAegBmwKdAlUDVQMbBB4EqASpBOUE4wR+BH0EgwODA1QCVALsAOoAYf9h/+797f3N/Mn8k/uQ+1H6U/pj+Wj5O/lB+dD51vnj+uT67Pvk+zH9Jf01/y//QAE/AXYCfALLAtECMAMxA8ADugPWA9EDxwLEAiYBIwHn/+T/Cf8E/779tv1A/D/8b/tx+zj7NvsP+xD7H/se+5b7kvuw/LD85P3n/TD/Mf/bAN4A2gLbAiUFIwVsB20HjAmSCVQLVwv9C/4LmwubC3cKdwoMCQsJswewB/MF8QXSA9ED+AH2AWsAagCz/rn+Xf1i/VX8WPw8+z/7CPoL+mP5Zflr+Wz5O/k6+c74zvhw+Hb4sPi3+F/5ZPnM+cz5tPmw+Vz5Vvle+Vn5E/oO+vT68/qp+6X7O/w2/Lz8tvx4/XL9eP5z/qX/ov/CAMIAbwFtATACLwJxA3QDDAUTBY8GkAbuB+sHOgk8Ca4KsgpKDE0MUw1TDSkNJw1oDGUMZQtjC/4J/gkNCA0IUAVPBYoChwIWABUAGP4a/vn7+/vr+ej58/fp9zT2Lfbh9Nv0cPRn9Fn0UfRb9Fn0q/Ss9In1ifUM9w33vvjC+Iv6jfop/Cj8o/2g/d3+2v5aAFoAAQIHAlcDYgMKBBUEfQSHBEEFRwULBg4GFQYZBlUFXgVsBHQEFwQbBPYD9wOJA4kDbwJrAmkBZAExAS4BmgGdAdgB2QFsAWkBpQCkAHsAeQDcANgAiwGMAcYBzQF/AYUBiAGIAZEBkAFkAWEB5ADeAGQAYgAKAAwAu/+8/wf/CP+u/bL97/vy+1/6XPqT+Yz5K/kl+cL4xPiM+I/44/jk+Lb5svkY+xT73/zZ/KP+n/5WAFgAIwIpAucD6QNCBTsFHAYVBmUGZAY/BkAG8AXxBakFrAUjBSQFKgQqBEADQQPgAuICtwK5AmUCZwK6AbwBIQEjAVQAVQBy/3L/TP5J/jv9OP2W/Jb8JPwk/GP7YPsq+ij6aPll+Q35CfkE+QL5JPkd+WX5Wfn3+e/5SvtM+zz9Rv1O/1j/ggGHAccDxQPeBdgF5AfjB3sJewl6CnQKxgq8Cm8KbQqOCZIJVghdCOkG8AYJBQ4FZQJoAhH/Fv/o+/D7sfm0+UT4Q/hl92X3tva69tf22/ZI+Ez4cvpw+pn8mPyx/rP+8wD2ADMDMwP2BPgEJgYpBq0GsAZlBmsGfAWBBSwEMAR7An0CpQCnABD/Ev+q/a798Pv0+3n6e/qf+Zz5dvls+UH5Nvn8+PX4Lfkp+bf5svlu+mX6e/ty+/H88fwh/iL+Hf8i/zQANwC+Ab8BhAOFAwYFCAWFBoYG4AfcB98I3AhhCWAJMwkwCcYIwQhJCEcIWwddB68FsgXfA+QDaAJsAukA7wCu/7b/uv7C/iX+Kv7b/dv9x/3J/W39bv3+/P/8s/y1/Gv8cPwL/BT8W/tk+5P6l/ru+fH5pvmm+cD5vvki+iD6sPqy+n/7hPtv/HD8lf2Q/an+p/7P/9H/ywDQAFMBVgGGAYQBoQGeAbUBtQFdAWIBjQCTAJT/lf+z/rX+7v3x/U39T/0A/QX99Pz4/Gf9Z/2M/or+IwAcALwBuAEhAyMDoQSjBD0GPQaVB5QHUQhMCOEI1wh+CXMJ/Qn0CRwKFwrGCcAJdwhuCGEGWwYcBBcE/QH8AcH/xP8L/Q79U/pZ+lD4VvgB9wv3RvZN9rf1uPWc9Zv1TfZK9nL3avdz+Gz4SvlF+R/6HPpG+0T7U/xT/IT9hP3Q/s/+LQAnABIBCwGWAZIBBAIDAl8CYAKJAocCkgKSAnkCdAIkAhoCxgG5AZsBlQG0AbQBhwGGAfwA/AAEAQkBxQHGAZMCkALTAtACwgLBAuUC4gJJA0kDawNvAw4DEQO9ArwCAAP8AlADUQM6A0ADRQNHA3YDbwPVA9EDAgQEBMMDxwMWAxgDzQHNAbb/tf8h/SP9PPpA+l/3ZPcL9Q71avNu88zy0vL78gDzx/PH89702fSs9qn2FvkX+S78NPyu/7f/CAMPA+4F8QVICEsIKwopCkgLQwuXC5QLRAtCC4wKjgoyCTkJPAdHBz4FRwXrA/EDLQM2A3YCfQJzAXgBdAB7AJj/nv/k/ur+y/3R/Vv8XPxh+2L7Kfsr+5v7mvsa/Bb8PPw2/EX8Qfyr/Kf8Qf0+/Vb9Vf1x/XL9zP3N/Wn+av7T/tD+Gf8X/63/r/9zAHUA9AD1ABoBGQEoASgBQAE9AV4BWQFqAWYBMgExAeMA5ACqAK4AZQBlAML/vP8N/wr/Pv4//lL9UP2p/Kj8gvx//JH8ivyG/IH8w/y7/LH9qf0l/x3/wwC4AFgCTQKsA6UD2wTXBCgGIQaIB4QHYAhdCBQIFAhxB3QHewZ/BioFJgUpAx8DAAH1AOH+2f7d/Nn8Qfs++yX6IfrT+dL5xvnH+c35zPlX+lX6Qfs/+yH8H/zL/Mr8Rv1J/bv9v/2q/q3+KQAoAJUBkgGnAqUCYgNkA9oD3APEA8cDSwNOA0kCTALuAPMAh/+K/6L+pf4u/jH+2f3b/dH90P3g/d39Cf4I/j3+Qf68/sT+af9u/0kASwAHAQgBvwG/AZACkgIYAxoDTANOA78CvAK3AbIB0ADQAP3/AQBM/0//7v7t/gj/BP9Q/07/wv/F/ygAKAA2ADgAWwBdAKQApgDHAMcAbABpALn/tP83/zP/B/8C//r+9v64/rv+kP6W/pz+oP65/r3+pf6p/pf+mP7b/tb+Ev8N/0f/Rf+q/6v/YABiANMA1QAJAQwBIwEmAYYBhgHxAe4B6gHpAeQB4wFMAkcC9ALvAhwDGwO0ArEC4wHdAeoA5QDd/9n/d/51/gr9DP0P/A788Pvr+1b8UfzM/M78EP0Y/Xn9f/3n/ev9SP5K/nb+d/7b/tv+SP9F/5H/jP/D/73/RgBDAF0BWgF8AngCPgM1A34DcwOxA6cDiwOEA7oCuQJUAVcBPABBAA8AFAB9AH8A7gDxANUA2ACyALIAEwEPAewB6QFqAmgCPwI8AgoCCQLtAfABxgHOAUUBSwGHAIoAwf/B/+/+7f4+/jj+df1w/ZX8lfzd+9v7YPta+4v7hPsR/A/8hvyF/PX88Pw8/Tj9Y/1f/a/9rP0g/h7+vv6+/pH/k//ZANwAgwKDAvoD+gPiBOQEwwXEBaUGpAasBqwG0QXRBY4EkARmA2kDhwKJAmsBagHN/83/Df4Q/rv8v/zN+8v7Jvsg+8X6v/q8+rv6CvsL+xH8Evyv/a79Uf9S/2oAbAAYARYBvwG7AT8COQJ7AncCYQJgAgMCAQK4AbgBtAG1AdIB0wHDAcIB2gHZASMCIQIlAiMC3wHfAYUBgwEGAQMBcgByAEH/Rf/3/fr91PzW/DD8L/zF+8L7QPs++776vvqs+q/6cPt1++/88vyp/qn+EQAXAHABdwHcAt0CHgQcBNQE0ATqBOcEggR/BM0DywMzAzADhwKFAqkBqAFxAG8AKf8n/23+bP7h/d/9K/0t/Ur8T/yM+5H7QvtB+4/7ifvp+9/7hvx9/I/9jf3m/uf+PgA7AD4BPAEVAhcCPgM/A5MEkgSXBZcF7gXoBcYFvQV8BXYFHQUbBXEEbwRPA04D0AHQAXcAewBJ/07/S/5O/mH9X/2r/K38J/wp/MP7w/ud+5v71/vZ+0n8SPxk/F/8avxn/Fv8W/xK/Ef8S/xH/HX8dfzT/Nb8F/0a/WH9Yv3f/dz98/7w/mkAagCoAawBhgKIAm4DbwPOBNEEJgYsBugG6wYnByYHZgdnB54HoweIB4oHzgbNBkkFRgVHA0IDVwFUAa7/r/80/jj+Iv0n/UP8RPyh+577Yftd+0z7RvtN+0n7b/ts+877yvss/Cv81/zd/JD9lf1H/kP+CP8F/6f/qv+5/73/if+M/27/bv+3/7b/GgAYAGIAYwCYAJgA3wDfAD0BQQFiAWUBKAEoAa4AqwBcAFYAFAANAPD/5/8/ADYA5ADcALYBrQFTAk0CgwKCAmcCZQIaAhkCOQE2ATgANgBc/1//cv52/rP9tf1O/Uz9H/0e/V39Y/3K/dD9If4n/lj+Xv4+/z7/eAB2AIQBgwFYAlcCUANNA3wEeQQ7BTsFDwUUBSAEIwQ+AzoDYgJcAjoBPAHQ/9f/o/6n/p/9m/3b/NL8Y/xb/CT8IvwC/AT8Gvwc/HL8dPzw/PP8XP1g/eD94v2j/qT+Of84/8P/w/89AD4AdQB4ADgAOwDu//H/5P/o/9j/2P+3/7P/4f/d/xcAFAA8ADsARgBDAIoAhwDcANYA7gDrAN0A2wDqAOcATAFLAdUB1wF7An8CRQNGA9sD2wMxBDEERwRHBGIEXgREBEIEzwPRAwoDCgMlAiMCHwEgARYAGABB/0H/hf6B/sj9x/0e/SL95fzu/AD9Bf1V/VD9uv22/eX96/0a/iD+Qv5C/m3+bP5S/lH+5v3l/UL9Pv3Q/Mn8a/xl/DL8LfxF/EL8x/zB/I/9hv1c/lf++P71/oj/gv8rACgApwCnAEABPgEGAgMC0QLPAl0DXAOeA50DogOfA4wDiQMqAyoDtAK7AlsCZALiAeYBCQEJAT0APgCk/6f/R/9L/1f/Wf/O/87/fwB9AAkBCAGDAYcBCwIRAncCeALcAtkCJgMmAxQDFgNZAloCEgEVAbL/tf91/nf+dv16/Y78kvzj++L7mPuY+6D7ofu/+777Mfws/DP9Lf1d/lb+Iv8b/3j/d/+L/4v/iP+H/3j/e/8f/yP/mv6e/kb+SP4X/hb+F/4U/hr+Fv4f/hz+KP4o/oL+gv5J/0j/hACEALYBugGbAqICCAMNA6ADpQOaBJ0EaAVnBYMFggUgBSMFvATBBEYETgScA6EDwAK+ApIBkAGVAJQA1//X/yL/Jf9L/lH+kv2U/Rz9Hf3g/OL83Pzd/CL9Iv2y/bf9Pv5D/qL+of78/vf+cv9r/5z/mf9a/1//9v76/qX+pv5f/mL+9/39/Yr9jf0n/Sb9P/09/b/9vP0L/gr+LP4v/kL+Rf6Q/pL+CP8H/1z/Xf+//77/cwByAFsBXAEgAh4CnAKWAgMDAQNCA0gDeAN+A50DoAPPA9EDxQPFA2cDYQPvAuwCVAJTAtQB1QH6AP0AGAAWADn/NP+o/qj+X/5k/gP+A/7W/dT92f3Z/RP+Ff6H/ob+uP64/sD+wP7Q/sz+8/7q/lT/T//c/9//dwB8ACYBKgF2AXUB0wHPAfgB8QHsAeIBmQGVARYBGAGGAIgAxP/E/xT/Gv9l/mn+0v3S/UX9R/28/L78f/x+/LX8t/yM/Y/9ov6j/sH/xf/wAPEARQI+ApYDjgOcBJcEKAUpBQgFCgV7BHoE5QPmAyYDJwPVAdUBKAApAMT+xP6//b795Pzi/A38CvyK+4f7pvuk+wL8+vtv/GT8w/y6/DL9LP2i/aP9/P0B/hj+GP7//f/93f3e/Qj+B/5Y/lX+cf5x/q7+sf5g/2T/kwCYAPkBAAJtA3UD0gTbBPAF9wXPBtEGYwdhB3EHcgewBrcGQwVKBcYDzANwAnQCLAEuAY3/jf/z/fD9+fz3/L/8wPyc/J78K/wv/ND72vv8+wP8//wD/TP+Nv4J/wn/Y/9g/+T/4/9DAEgASgBPAO//8P+b/5v/d/92/2n/Z/9Z/1b/If8b/wz/Bf86/zb/f/9+/3r/ef8l/x//lv6O/jX+M/4i/ir+Xf5k/qD+of4J/wf/hf+F/3kAfQBrAXEBPQJCAt0C3AI8AzgDrgOqAz8EOwSmBKIEwATABMEExQSoBKsEeAR4BN4D4QOgAqcCHgEjAXv/ev8P/hD++Pz6/FH8UfwW/BP8LPwo/EX8Q/yT/JH8Df0M/ZL9lP36/f/9Rv5N/o7+kv7q/uv+cf90/9j/1//K/8T/Tv9G/wX//P7t/un+K/8s/xr/HP/4/vv+M/83/7P/tv9hAF4AFAEVAdAB0wEIAgkCzQHQAacBqgHeAdcBFQINAuwB6AGLAY8BKgEzAcMAxwB4AHcARwBGAO3/7/+V/5X/h/+H/+T/4/+XAJMAHgEaAXABcAHPAc8BMQIvAnICcgIbAiECWAFdAWcAZwBT/1H/WP5U/qr9o/0a/Rj9Xvxl/Hn7f/u5+rv6d/p2+m/6b/qx+rL6R/tG+x78F/xI/UH9+P7z/q0ApgAnAiACfAN1A6IEmQSGBYAF4QXfBfMF9AUWBhkG5QXrBTcFPgUsBDIEAQMBA80BzQFRAFMAyv7N/nX9ev2d/KH8Kvwp/CH8Gfxj/Fz8If0j/S3+Mf4p/yv/DgAKAPoA9ADJAcsBSwJQAmcCbAImAi0CxgHNASgBKgFFAEUAB/8K/7D9tf23/L38B/wL/Jn7mvtn+2r7vvvA+4L8hfx//YD9bP5s/pH/k/9+AIUAFgEbAXUBcwFyAW4BQAFAAUMBQwE7ATsBOAE2ARMBEgFBAUIB4AHhAZYCmgIOAxIDRQNJA5MDlwP/AwAERwRDBEsESQTnA+MDHQMXAw4CCwLyAPEA2v/Z/5v+mv4i/R/97Pvr+wr7C/t4+nb6BvoF+h36H/py+nb6OPs2+1n8V/yX/Zj9lv6a/p3/nf/5APcAmQKbAi8EMQR8BXkFhQZ+BkEHPAdnB2gHygbOBr8FwgWoBKwEZgNqA8EBwgG6/7z/iv2M/e776/uZ+pT6UPlP+V74X/jT99H35ffk94b4h/i7+bv5R/tE+xf9Ef0t/yz/NwE6Ae0C8gI4BD0EJgUqBaIFogWkBZ4FOwU1BasEqgS3A7sDUgJVAtMA0gBs/2z/KP4l/kj9P/2l/Jz8XvxY/Hf8c/wF/Qb92P3b/Qr/Df8xADEACQENAXkBfwHfAeEBPwI/AnQCdwJxAngCWQJfAmwCbAKzArAC9gL1Au4C6gKXApYCNgI5AtsB4wFiAWgB5QDpABwAIAA2/zz/Wv5c/qb9of3m/N/8TfxJ/M/7zvuj+6X7k/uX+4b7ifuj+6X7I/wg/AL9+vy1/a79SP5F/vT+9f6q/6r/PgA5AKgApQAkASYBzwHSAZ0CoAJ9A34DJgQjBDkENQTeA9oDIgMiA38CfQK+AcABvgDCAKT/pf/E/sL+NP4y/tr93f2o/a79hv2J/Zr9mP0F/gb++P77/h8AIwBJAUkBVwJZAhcDGAOXA5QDzAPIA7gDtwNjA2YD3gLiAtAB0AHFAL4A3f/b/xH/Ev87/j3+fv2A/QL9Bf27/Lv8q/yp/Hz8ffx9/H/8vvy//Bb9Gv12/Xr9CP4G/tn+1f5r/2r/jv+M/4b/h/+m/6f///8BADAAMQBiAGEAngCaAOUA5gAYARwBGQEcAUkBSgGFAYIBpgGgAYgBhQFPAVIBOgE/ATQBMgHcANUAHAAYAGP/ZP8S/xX/MP8v/0z/SP80/zD/L/8v/4L/h//2//r/aQBqANQA1gAQARYBWgFfAbMBtQEsAisCLQIsAukB6QGPAY4BRgFIATEBMwEcARwBoQCjAA0AEAC7/7f/jP+L/4r/kv83/zv/5f7j/o3+jf4s/jD+sf2y/UP9QP0Q/Q/9+vz9/A/9D/0j/Rv9eP1t/fH97v1V/lf+xf7H/mb/Zf8xAC8A1gDRAEgBQQGaAZUBCQIEAj4CPQIkAiUC8wH2AdoB3wHJAcwBgAGAAUoBSQEuASwBLwEuATABLQEkAR8BAQH8ANIA0gDRANUA6QDoAPwA+QD3APYABgEGAUgBQgGGAX4BhAGCAUYBSgHNAM8AEwAQADP/M/+w/rX+W/5e/vr99f1X/VT9wfzF/In8jPyf/Jz8z/zM/OX85Pwf/Rz94f3d/eP+4P7K/8X/ngCYACIBIwGHAYkB2AHaAfUB+gHQAdcBcAF0AeUA6ABbAFwA+v/6/4D/hv8+/0n/Gv8g/xf/Ev8w/zD/OP8//2P/Z/+4/7n/GQAbAGoAaQCHAIQAnQCWAOMA3wA7AUABnAGfAawBrAHCAcQB9AH3AU4CUQKkAqgCsgKxAlYCUgLEAb8BcAFuATIBNwHNANUAQABEAJ3/of/+/gP/rv6u/qv+pf6M/ob+Zv5o/ir+Lf7L/cj9if2I/TD9LP3C/L38Yfxf/ED8RPw8/EL8jvyU/E79Uf1e/l3+Yv9d/zYAMAAnASIBJAIfAuIC4AJJA0sDUgNVAxcDGgPWAtQCkQKOAjoCNwLSAdMBUgFUAa8AsQAdAB4A8v/v/+j/5//c/+H/yv/P/8b/xv/+//r/EwANABMADADn/+T/8//z/z4AQACoAKkA9wD7AEsBSwF0AW8BggGAAYoBiAFVAU8BxQDBANb/2v/E/sr+y/3M/Sf9Jv25/Ln8ifyL/G/8cfyC/IX88fz0/JP9kP0c/hb+iv6F/uz+6v5Y/1b/yf/E/z0ANQDNAMgAMgEwAX0BfAGQAZMBlgGfAWMBagEIAQwBsgCwAFIATAApACAAPgA1AHUAbwCTAJAAnACaAM0AzwAhASQBewF3AbcBrwHFAbwBtgGzAYQBiAFkAWcBQQE+ASEBHwHnAOcAowCiAJQAjwCDAIAAdwB0AI0AhwC4ALIA5QDiABgBFwEQAQ4BBAEEAc4A0QCbAJkATQBKAMD/xP8E/wr/Q/5C/of9hv3g/N38Kvwo/Ff7Vvul+qP6aPpo+qj6q/os+y77xfvE+3T8cfxH/UT9jf6O/uj/7v8BAQgBlQGWAQICBQKDAooCLwM1A9ID1wPsA+8D7QPsA+wD6wP1A/IDugO0A24DaQPkAuYCewKAAjYCNgIhAhwC7wHsAUoBSQG9ALkAMgAwAML/wf9B/0D/tP6y/ln+WP4k/iX+FP4U/hX+E/4k/iP+HP4f/gX+C/6z/bX9o/2m/dj94P1T/lv+yv7O/iD/If91/3T/5P/h/0sAQwCnAKAA2wDYAM8AzgB9AHoASwBKABQAFwDQ/9P/cf9w/zP/M/8q/yv/GP8Z/wX/Af/D/r3+p/6m/u7+7f6G/4H/QgA/AAEBAwHfAeEByALIAlgDVwPsA+oDWQRXBHkEeARLBEwEywPQAzEDNgOHAo0C2gHdATkBOAGAAIAAtP+3/9j+2/4D/gX+hf2F/V79W/0c/RT92fzQ/JX8jfx4/HT8kvyS/KT8pvyC/ID8YfxZ/H38d/zr/O38l/2h/VP+Xf4B/wf/u/++/5sAmwBAATsBtAGyAf0BAQI9AkACiAKJArsCvQLNAtICvALAApoCnQJBAj8CyAHEAVEBUQHPANEAXQBfAO3/6v95/3P/If8f/xj/Gf8o/yz/Kv8t/y//Lf9P/1D/WP9c/3X/d/+J/4j/0//S/xYAEgB9AHcA4QDeAEcBSgGTAZwBqAGzAdcB4AGmAawBmAGdAWsBbwE6ATYB2ADXAH8AhwDg/+f/MP8x/3z+fv78/fz9c/1y/eL85vxc/GD8EPwU/P77Afwr/Cv8oPye/Cn9J/3e/dr9g/6A/in/JP/E/73/fAB5AAEBAAGTAZEBAgICAj0CRwJGAlIC/wEAAmwBZwHEAMIAIgAkAI//kv8T/xH/rP6p/pH+kf7H/sb+MP8w/8v/y/9uAHIA/QD+AIgBgQHsAekBbwJzAsgCzAL1AvgCOgM8A1gDWANSA1QDMwM5AxoDGgO7ArUCOAI5Am0BcgG6ALsA9//4/wX/B/8r/i7+Wf1Y/dr81/yE/H/8TvxP/Bf8Gfzc+9375Pvn+yD8Ivxw/HT84Pzp/DT9Of26/bz9U/5Z/sj+zv4W/xr/aP9q//b/9v/PAM4AfgF6ARYCEgKRApIC4wLmAi8DMANbA1oDMwMuA74CswJhAlgC4gHdAT4BOwG6ALgAVABWADkAPAA7ADsA+//2/6H/nv9u/3D/Mf83/+j+7f6w/rH+kv6R/rP+t/7v/vb+JP8n/z7/Pf92/3X/l/+Z/67/qv+Z/5H/ZP9g/0r/Rv9y/23/BAD//38AfwDZAN8AFwEeAVYBVwGNAYsBeQF1AR4BFgGyAKoAKgAlALT/rv9A/zr/vP66/jb+Ov7h/ef9tv29/dT92v3b/d/9+f36/U3+TP7+/vv+2f/V/7QAsAB2AXQBJAIiAsICwgL8Av0C4QLgArgCtQK5ArcCrQKtAjACNAJ3AXwB1QDWADUANAB4/3v/qv6x/jL+Of76/f792v3b/c79zP3Q/dD9G/4f/pb+mf4z/zH/wP+//1wAXADGAMUA/wD/APYA9wDCAMIAuAC2AOcA5QDqAOgAyADKAH0AhgAyADoA/v/8//H/5f/8//T/FgATABQAEgAAAAAAEQARABkAFwDy//L/kf+O/x//Gv+l/qP+SP5K/uX95/2c/Zz9e/17/aP9o/3+/QD+gv6M/hv/Jv/U/9//lwCdAHIBdQFRAk8C+gL4Ak4DUANbA2MDMgM5A/4CAwOrArQCEQIZAkIBQgFQAE0AhP9//7T+sf72/fb9QP1B/cv8yfzj/N78AP36/EP9Rf2N/ZH9Df4P/tj+2v67/73/aQBrABIBFgGmAaYBBwIFAisCKgIhAiUCBQILAq4BsAFOAUsB0gDPAIAAhAAdACYAzv/T/5X/k/+E/4D/nv+U/6z/pv/E/8H/7P/p/+//7f/F/8b/sP+w/5D/kv+f/6T/zP/N/wIAAwAjACUAXgBfAHIAcwCMAIgAlACPAH4AegB3AHQAVQBWAFQAUQBdAFsAiQCJALkAuwDXANkAyADOAKEApwCLAIwAYwBlACsALgDo/+X/eP9y/9r+1f5m/mP+B/4G/pX9lP0a/Rb9zvzN/Nj82/xw/XX9Lv4y/gr/Cv////z/8ADvAOMB5AGlAqcCMQMyA44DlQO+A8UDzQPQA6sDrgNgA2EDxgLFAv0BAgIJAQ0BJQAlAEn/R/9n/mj+vP3A/VL9Vf0p/Sz9Df0K/QX9//wp/Sf9kP2M/fb97/0j/h3+T/5P/qv+q/4i/yT/pv+q/xMAGQBmAGoAuQC2AEIBOwGeAZYBwAG9AdMB0wHhAd4B0QHLAaQBnAGIAYMBXQFdAR0BHgG7ALwATQBOAAQABADX/9P/j/+I/1n/Wf8R/xb/2/7b/tv+2/4N/xD/Pv9E/3T/dP+4/7P/CwAKAHwAewAHAf4AmQGRAe8B7QE2AjkChAKHAsACvwKXApYCIQIhArwBuQFeAWAB2QDhANP/1/+0/q/+qf2e/d381fwp/Cf8f/t++/r69/qt+q/6xPrI+hf7FvuS+4/7T/xK/FL9Tv16/nn+m/+b/6AAoACkAaYBmQKbAmkDagMDBAcEuQS3BBsFEwUyBSoFCAUEBaUEogQqBCQEPwM7A0QCRwJWAVkBhQCGAKv/q/+w/q7+1/3b/WH9Zf01/Tf9M/0x/WD9Wv2y/a/9Tf5U/un+8P6q/6n/TQBJAOoA5QBpAWYBzQHLAf0B/AHiAeABcwFxAfcA9gBaAFcA7//p/3P/cv/r/u/+Yf5n/vb9A/7B/cr9m/2f/Z39nP2y/a/9//38/TD+M/5L/lH+b/52/rH+s/45/zf/mf+X//j/+f9UAFMApwCkAN8A2wAwASsBfgF7Ab8BvwErAisCnwKaAgAD+AIDAwcD6wL1AtIC1QKKAoYCAgIAAiwBLwFEAEkAS/9M/2T+Y/6i/aL9JP0o/dX82vyv/K/8s/yu/AT9/Pxt/Wn9A/4F/r3+vf53/3X/NQAzAN4A2ACNAYoBDAIOAmECYAKVApUCnwKkApACkQKFAoICZAJgAhwCGwLCAcUBQgFJAfAA8AChAJoAPAA2ALP/tv8o/yn/z/7Q/m7+c/4o/iv+5P3i/d/92f3C/b39x/3K/eT95v0d/hz+Nv43/o/+kf7r/ub+Zf9c/9j/0v8MAAUAIQAaADUANgB0AHoAmQCbAJwAmwCAAIAAmwCfAIYAiQBuAG8AJgAoAAMABAAEAAcA/v8BAOr/7v/Z/9r/KQAqAIUAiADSANYAAwEKATgBPwGNAZAB+wH6AVkCVwKPAowCrgKrAtMCzwK4ArYCMQIwAnYBeQGHAIoAmP+Z/7j+uv7n/ej9M/0w/aj8pvxO/Ev8Mfwt/HT8dPzO/NP8Jf0p/XX9ef3m/en9dP50/uD+4v4z/zf/of+k/zEAMwCyALUAKgErAZIBkgHgAdsBSwJBAoYCfQKdApkC0wLSAvgC9wLwAuoCvgK4AlwCWQL2AfQBZAFjAcEAxAAPABEAh/+D/xP/Ef+s/q/+P/5D/un96P21/bP9vP24/dH90v0D/gj+Xf5i/rH+rf4e/xX/nv+Y/zYANQC5ALsAAwEFAUkBRwGLAYYBmgGYAWoBaQEdAR0B3wDfAIkAiAAxAC0A6P/n/5r/mf8f/xz/rP6o/hD+D/7L/cr9nv2e/X/9f/2k/aP9Bv4H/rz+wP52/3r/KwAuAJ4AnwAGAQcBbgFuAcUBwwH8Af0B5AHlAa8BsAGDAYQBawFrAVYBVAFBATwBJAEgAQgBBQHUANYAqgCmAGsAaAA2ADkA8//7/9b/4P+t/7P/cv9y/1P/Uv8z/y//IP8c/wv/DP8G/wj/Rf9E/37/d/+7/7b/yv/M/8H/w//A/7//w//B/67/rP+I/4j/dv93/2f/aP9i/13/Zf9c/3//eP+v/6z/2v/X/9b/0//B/7//pP+k/6X/ov+q/6b/of+g/6P/ov/R/83/MgAsAH0AdgCpAKcA+gD8ADIBOQE0ATkBPAE8ARwBGwHyAO4AwAC8AG0AcAAqADAA2P/g/6j/rv+K/47/Xv9k/0T/S/9d/1z/nf+Z//X/8/9IAEsAgACCAMIAwQD4APUAKQEoASMBJAEFAQYB7QDyAJcAngAmACcAtv+1/2H/Y/8b/x7/yP7I/oH+fv5E/kX+If4m/gP+B/74/fz9/f0E/jv+Qv6v/rb+Xv9i/+L/4v8xADAAgwCCAO0A6wBFAUEBkAGLAaIBowGfAacBsgG3AbwBvAGcAZ0BbgFuAVYBVwE6AToBMgE2ARgBHQHxAPYAvQC6AIsAggBTAEcABAAAAJH/kv8g/yH/k/6T/hv+F/6Z/Zf9Uf1T/Tb9Of1s/Wz90/3T/UT+Qf7c/tn+jP+P/zcAOwC3ALkA9QD4AA8BDwExATABQAE/ATEBOAEDAQ8BswC7AHgAegA2ADwA/f///8j/yP/A/8D/uf+7/7v/vv/Y/93/DAAMADgANQBtAGoAlgCVAKMAoQC5ALEAnQCTAIIAfQBdAFwAMgAxACQAIQAhAB8ARwBEADoANgAPAAwA0P/P/8T/wf/C/7v/w/+9/73/vv+p/7D/ov+p/7X/tv+1/7L/pv+i/4T/g/9b/2H/Pv9E/zD/MP84/zT/Tf9I/zT/Mv8V/xP/AP/7/gf/Bv/5/v3+3v7j/u3+7/4f/x//iP+I////BACaAJ0ACQEDAXIBbAHsAewBWQJZApECkQJ3AnYCUgJPAhwCFQKsAagBEwEQAW4AawDK/8j/Ov85/9X+0f50/nL+T/5Q/mr+bv7M/tX+S/9S/7z/vP9OAEoA0QDQADEBMQFcAV4BZgFsAVgBXgFWAVYBNQEwAfgA8ACkAJ4APQA6AK3/r/80/zH/1v7J/mn+Xf4e/hb+rP2n/Xj9df18/X39zv3P/WL+Xv7z/u7+ev99/wgADgCfAKEAFgEUATABLgEhASQBGQEcAS4BLwE9ATwBGQESAdMA0ADJAM0A7wD4AP8ABAHEAMgAcwB4ADYANwAZABYACgAFANv/1v+x/7L/mP+c/2X/aP8g/yH/2/7a/p/+nf6M/oj+h/6E/mr+bP5t/nD+pf6l/s/+0f72/vb+QP88/4L/g//X/9r/MAA0AK8AtABAAUQB8gH1AZ4CoAIjAyMDmQOeA6YDpQNuA2gD8QLoAlwCWQKYAZgB0gDQAOf/5P8A/wH/K/4p/pb9kf1T/VD9Qv1C/Sv9Kv1b/Vv9m/2b/TH+Lv60/rH+Jf8j/9r/2P9kAGAA1gDPABIBDwEqASwBKQEpAR8BHQHyAPIAnQCeAFEAUgANAA8Ayv/N/1//Y//i/uj+ZP5o/if+KP7+/f395v3i/eT94f0O/gv+jf6H/gf/BP/L/83/bwB0AP0A/gB+AX4B6AHoAWYCaQK/AsMCBQMIAwMDAwPNAs4CggKBAicCIwKWAZEB8QDsAGoAYgD2/+//qP+j/3H/bv9N/0j/Rv9D/0z/Tf9I/07/Tv9Q/0//Tv9o/2b/c/9x/1j/U/9m/2D/b/9q/4P/f/+S/43/qf+i/8H/vv/U/9b/2f/Z//j/8v8WAA8ARwBAAHgAcACVAI4AtgCwAMUAvQCrAKcAagBrAAcADACq/7L/TP9S/+/+8P6T/pH+Q/5D/h/+JP4c/h/+T/5P/qz+rP4m/yX/0P/N/14AXQABAQABowGkAScCLQKGApACkgKWAqsCqwKcApkCdgJ5AgkCDwKOAZMBDgEPAaIAngAoAB8Aw/+8/1T/UP/y/vH+j/6N/i7+K/72/fb9xf3H/bb9uf2a/Zn9xf3E/Q3+Df6A/n/+Df8J/5b/mP8mACcArQCrACEBIAFTAVcBdQF7AXgBegFRAU4BIgEdAcYAxABTAFEAwP+9/yz/Lv+x/rf+Qv5H/v/9Af7i/ef9Av4L/oj+jv4t/zD/xv/K/18AYADhAN8AbAFtAcUByAENAhACIwIiAjgCOgI7AkQCaAJyAoMCgAJ9AnYCMwIwAuwB8QGeAaMBMwE2AbwAvABXAFQAAAD+/6H/ov9J/0b/5/7l/oD+f/4b/hv+rf2w/UL9Qv3j/OD8tfyx/L/8uvwG/QH9Xf1g/an9sv0V/h7+Z/5r/tz+3v5B/0D/uP+5/ygALQCQAJQABgEIAYEBfwH1AfMBQAJDAlkCXQJqAmkCVQJWAhYCFALLAcYBbAFnAQQBBAGtALQANwBAAM//1P9y/3b/I/8m/+v+6/7U/tD+t/60/rv+uf68/rv+5/7m/lH/UP+o/6n/FAAVAEwAUQCAAIQAlwCaAJsAmQCuAKsArwCwAKoAqACOAIwASQBKAP//AADY/9f/fP+A/yz/L//i/uL+s/60/rH+t/7J/s/+5f7l/hL/Ef9I/0f/hf+D/7j/uP/R/9D/HgAaAGYAYgCzALIA0QDUAP8AAQEKAQgB7ADqAKoAowAwACYAwP+3/17/XP/8/v3+t/6y/qP+of7b/uH+Rf9L/6//tP84AD0AtQC5AB0BHgFWAVQBWwFZAT8BQAEEAQgBtAC8AEkAUADh/+b/qf+t/4r/j/+R/5T/d/9y/1r/U/9s/2T/gP96/6z/rP/D/8X/5v/n//P/+f8NABEAMAAzAF4AXgB3AHMAggB/AJIAlQCdAKIAxADGAOMA4QDgAOMArQCvAIQAgwCEAH8AeQB0AGoAZQArACcABQAEAOr/6v/T/9b/pv+n/3D/cf82/zP/8/7t/u7+6f7V/tb+vf67/qn+pv6u/q7+5P7k/jT/L/95/3b/vf++/xAAEwBmAGwAuQC9AOcA6QAeAR4BIgEnATUBNgESAREB3ADcAKUApQBtAG4AKQAoAPj/9P/S/9D/0f/R/+j/5/8FAAMAEAAPAB8AHQBBADkAUABLAEQAQQAgACAABAAFAOT/4P/I/8b/yf/L/7f/u/+q/63/vP+9/7H/s/+N/43/Xf9c/z3/PP9Q/1H/df90/5T/k/9z/3L/c/91/5n/nP/1//n/KQAqADgAMgBTAEwAbgBpAHIAawBwAGoAZwBnADgAOwBJAEQAUwBMAF0AWgCGAIUAtgC1AOgA5QBVAVIBpAGjAd8B5QEPAhICKQImAjYCMAIXAhICzwHOATYBNQGFAIEA3f/c/0//Uf+y/rD+Lv4s/sT9xv1z/Xf9P/1F/fn8/vy5/Lv8mPyZ/Kf8qvzY/OD8Lv00/Zz9n/0r/i7+t/64/mH/Yv/o/+b/ZgBmAN4A5ABTAVkBxAHGARoCHwJFAkoCVAJWAjkCOwIhAiECCwIOAtQB2gGKAYwBTAFLARcBFgHhANwAtgCxAHwAeABUAFAAVwBRAFUAVgBJAE4APgA+ADsANQBEAEMAQQBHAFQAVgBNAE0ARABEAFIATwBGAEUAQwBMABsAJQD5//3/n/+f/1z/Wv8b/xj/4/7i/pf+nP5I/kv+J/4p/vf9+f3M/c/9q/2o/an9ov3K/cf9B/4G/kb+QP6n/qH+Cv8L/3f/ev8FAAcAkwCXABEBGgFvAXgB2QHeASoCLAJ1AnUCrAKnAqECnwJpAmoCSAJHAikCJQLjAd4BfgF4AQoBBgGeAJoAOAA2ALX/t/8x/zD/m/6d/i7+Mf7U/dT9vf25/cn9wP3V/c79D/4P/nP+eP4e/yD/x//F/1YAWADPANQAQgFFAZcBlQGrAasBtwG7AZsBoAGEAYkBYQFgASQBIAEBAfsA0QDNAKIAoQCVAJMAPAA5AA0ACwC7/7z/af9v/x3/IP/j/ub+uf69/qT+o/6b/pn+rP6r/r7+vP7c/tn+Cf8I/1r/W//D/8T/JgApAGsAcQDCAMkAMwE4AYQBiQHFAcUBwAHAAbEBsAF6AXkBNQE1Ac8A0gBQAFUAyP/I/zT/Lv+u/qr+GP4S/qv9ov1q/WH9R/1H/WD9Z/2i/aj9Lv4w/tf+1f7P/8v/xwDGAIABhAEpAikCugKyAkQDPgN2A3gDXQNgAxADEgO8AsACWAJaArsBuwH0APQAGwAZAHn/dv8J/wX/t/62/oD+fP5Q/kj+Mv4u/jH+M/5f/mD+mf6X/tv+2v4p/yr/iP+I/+j/5P88ADoAjACOAL0AwADrAO0A6gDpANAAygC7ALYAnwCeAGUAZAABAPz/nP+c/0n/TP8P/xD/4P7f/rD+r/5q/mj+Sf5I/kv+Sf6S/pP+0f7Y/uz+8/4l/yr/Wv9g/7r/vf8IAAgATgBMAIgAiADLAMoA8ADvAD0BPwGNAY8BtAG2Ac4B0wG2Ab4BqAGvAbUBtAGgAaABUwFVAesA7AByAG8A1//Y/y3/Lv+c/pf+GP4U/uD94v28/cL9xv3J/eb96f0c/h/+YP5g/p3+nv7d/uP+MP83/4b/h//G/8H/CgAAADoANgCHAI0A3wDlACsBLQFXAVcBkAGRAZABjAF8AXgBRQFJAQ8BFwHgAOkApwCtAF8AXwAEAAQAuP+3/1P/Vf8A/wj/uv7E/pb+mv6b/pz+wv7G/iH/Jv+a/5//DgAUAG0AcADPANEAHAEcAVcBVAFNAUkBKwEpAewA7QCgAKMATABMAO3/6/+h/57/Ov87/9X+0v6S/oj+Xf5Y/hb+FP7s/e395f3m/RT+FP5U/lT+u/67/hD/E/+H/4v//v/8/1QATwDFAL8AGgEUAVcBWAFlAWwBVgFaAUgBRwEDAQYB1QDdAJEAmQBdAGUARABLAD8ARQB5AHwAsgC4AOoA8QAgAR8BRQE+AWEBXgFiAWIBLgEvAeYA5wCIAIUAQwA+AAQAAACw/7T/bf9y/0P/Rv8x/zX/M/82/0P/Qv9G/0b/Wf9e/3f/e/+x/7L/5f/k/wUAAwA/ADsATQBIADAAMAABAAQAu/+6/2v/Zf8f/xz/zP7L/nP+cv5L/kb+Lf4r/hb+Fv4N/hD+Hv4k/ln+Xv6X/pv+7f7t/lD/Tv/R/87/OAA2AMUAyAA/AUABrAGoAQsCBQI8AjcCWwJZAlkCXQJOAlMCNgI5AhUCFgLjAeMBmgGaAWgBagEYARsB2ADbAJcAnABBAEUAGAAYAPL/7//W/9b/rf+s/5r/l/97/3v/Rv9L//v+AP+3/rn+l/6W/oL+gv57/n3+iv6L/rj+sf7y/ur+BP/+/hD/Dv8D/wD/Bf/+/iL/Gv8Y/xP/8v7x/u3+8P4X/xf/aP9l/9X/0/8ZAB0AZwBpAJMAkwDJAMsA/QD/ABUBGAEaARsBKAEnAU4BSwFPAUoBMQEtARkBGgH4APsA4gDjANUA0gCoAKEAeAB0AEkASAA2ADkAJwAtABQAFgDd/9r/sP+t/4P/fv9Z/0//Kf8d/+j+5P7N/tD+2P7c/uv+7f7n/uX+8f7v/vf+9v4j/yD/Qv9C/2L/ZP9e/13/Yf9c/5j/j//Z/9H/JwAlAGkAbADKAM4AHAEbAXEBawHPAcwBAwIEAhsCGwIQAhEC9gH7AcEBwwFhAV4B8QDrAJgAlgAtACwA2v/W/5f/lP9O/1D/Q/9H/yb/I/8R/w3/Kf8m/zP/MP9T/1L/VP9W/0L/QP8U/w7/8f7t/rD+sf6V/pj+Yf5g/kH+Pf5I/kT+cP5v/q7+tf4O/xP/Z/9p/7r/vf8aAB8AggCIAAgBFAFYAWMBngGjAeEB5AEPAhACJgInAhgCGwIaAiEC9QH3AcwBywGgAaMBUwFaAQQBCQGqAKgAUQBKANz/1/+R/4//MP8w/+7+8P7O/s3+qP6j/q3+qv7D/sD+4v7f/gD///4w/yz/Kv8i/z3/Of82/zb/L/8x/xL/Ev/0/u/+/P73/gH//v4K/wb/KP8l/zj/Nv9x/2z/q/+p/8H/xf8KAAwARABDAIUAhAC4ALUA6ADmAP4A/AAgAR0BOAE0ATgBMQE2AS8BDQEHAQMBBQHxAPcA5gDpAMoAywCwAK4AkgCSAJsAnQCtALAA4gDjAPIA8AAHAQUBAQH/APwA+ADlAOAArgCsAFsAWgDT/9T/MP8x/6b+pv4N/gv+gv19/QH9Af2R/Jn8ZPxl/Hv8d/yp/KP8Dv0I/Y/9if0w/jD++f78/r7/vv+jAKEAZAFkARECEQKBAoEC1gLXAgMDBwMEAwYD2gLaAoACgwIaAhwCsQGxATgBNwHgAOEAhwCHADoAOQAQAA8A9f/5//P/8/8RAA4APAA6AIUAhQCmAKIAzwDNANIA1QC8AMEAjgCOAEQAQwDf/9n/mP+W/0D/Rf///gL/wv7B/oD+gv5V/lb+TP5K/ob+gv60/rD+5v7n/gX/C/9D/0b/YP9i/4P/i/+W/6D/kf+b/3L/ef8q/yv/4/7h/qf+pf6L/oz+ev58/nH+dP6v/q3+Dv8H/6D/mv9GAEUA6wDtAKcBpQFdAl0C+gL+AoEDhgPkA+YD5gPmA9UD0QNpA2ID7gLrAkYCRAKVAZIB5ADkADoAPACt/6n/NP8z/83+0v6w/rP+lP6S/n3+fP54/nj+YP5h/nD+c/6Q/pP+nf6a/qv+qf6g/qD+k/6T/rn+vf7F/sz+6/7u/vj+9/4c/xj/QP8//3P/dP+k/6T/zf/Q/9v/4f/1//n/AAACABUAFgALAA0ADAANADMANwBVAFUAfgB6AJ0AmQCqAKoA2wDdAA8BEAFQAUwBdQFxAZUBkgGuAasBxQHEAc0BzAHFAcEBjgGOAVsBYQEMARABsQCyAEQARgC1/7b/Pv88/8n+wf5P/kX+3f3U/XT9cP0x/TT9Gv0i/SP9Kv02/Tv9df12/dj92P01/jn+gv6I/uD+5v5S/1b/x//F/0gARACfAJwA8ADxAG4BcgGzAbgBEAIQAkQCRgJTAlgCaQJpAmMCYQI2AjMC6wHuAYkBkgEaASABtQC0AEoASAD8//n/r/+q/33/ef9M/0z/Wv9c/4T/iv+O/43/pv+j/7j/uv/d/97/AwD//xIADwAJAAYAIwAfAAQABADg/+H/p/+m/2f/Zf9C/0L/OP85//j+9v7S/s/+vf68/sj+x/7w/vD+Cv8M/y7/Lf9a/1H/ev9x/4f/g/9+/4D/kv+V/6b/pv++/77/6f/q/xUAGQBRAFYAlQCaAPsA/wBIAU0BngGhAcwBzAH/AQACCwIJAg4CDgLiAeABnAGXAUoBRgHTANMAXQBdAN//4P98/3z/H/8d/7z+uf5x/m/+VP5P/l7+Wv59/n/+mv6e/sn+0/4N/xf/a/9w/9L/0P8oACEAaABiAKsApwDIAMUA9AD0ABQBEgEZARMBCQEAAfYA7gDOAMoAnACaAH4AeQAvAC4Ayf/K/4j/if9l/2P/QP88/0X/QP8r/yv/Kf8m/yz/K/9g/2X/mf+b/83/yv/4//T/DgAMAC8AMABNAE4AVQBRAFYAVABnAGkAhgCIAIcAiABxAG8AUABNAGAAXgBrAGwATwBRACAAIwDk/+b/v//B/4v/jv9p/3D/Ov9B/yL/If8Y/xL/Hf8Y/0b/Q/9x/3H/n/+f/+f/6P87ADkAqQClAAIBAAE4ATcBTgFPAVMBUgFPAUsBMAEqAfYA8ACyAKwAUABKAPz/+f+f/6P/ZP9p/x3/Hf/c/tj+sf6p/rf+sP6+/sD+8v74/h3/Hv9p/2P/uv+5/woADgBcAGAAvAC+APwA+gA0ATEBOAE4ASoBKgH8APkAwQDBAIIAgwAZABsAwP/D/1v/W/8c/x3/CP8L/+v+6P7k/tr+//77/hX/Gv9C/0f/bf9u/6//sv/k/+b/CAADACoAJAAiACIAGwAdABwAGQADAP3/1f/T/7r/tf+4/7T/zv/Q/+3/8v8CAAYAJQAqAFsAYACPAJQAxwDJAPIA8wAEAQIBBwEDAQcBAwEHAf8AzQDKAH0AewAxAC0A3v/c/5//of9m/2j/G/8g/+7+9P7p/uv+EP8P/zf/Nf9t/2z/lP+W/9b/2f8bAB0AVABWAIsAiwDUANQACAEJAR0BHAEPAQ0B5ADjALQAtQBjAGUAJQAsAMX/z/+P/5T/U/9Q/w//EP/k/uv+0v7a/tf+2v7w/u7+Fv8R/zf/NP9g/2P/mf+f/8//0f8LAAYAPgA6AH8AfADGAMAA0ADIAMcAvgC2ALAAoQCcAJMAjgBWAFYAGgAZAAgACgD6/////P/8/wEA///p/+b/7P/s//X/9P/e/93/0//U/8L/xP+5/73/jv+U/2b/av9t/2//ff9//5H/kf+d/6D/o/+r/73/xP8NABAAYABfAJcAkwDmAOUAHAEdASoBKQEkASMBAQECAa0AqwBVAFQACgAMAMH/wv+Q/4//fv97/2D/Y/9Q/1P/SP9H/1z/WP9h/13/av9l/3T/c/+Z/5f/rv+r/9v/2P8LAAkATwBJAH4AegCYAJoAqQCrAJgAmACaAJsAgQCDAEIAQQAPAAoA4v/e/6f/qP9p/27/QP8//xL/C//m/uX+3/7i/vf++P41/zX/fv98/8P/wP81ADIAhwCIAOMA4gA9ATYBZwFjAWQBZAFgAV4BSQFIARkBHgHQANkAfwCFACUAJwDT/9D/cv9t/zj/Mv8N/wb/9P7u/uL+3f7u/uj+KP8h/2v/ZP+o/6j/5P/q//X//v/u//L/5P/j//H/9P/g/+P/6P/n/+X/4//4//n/MgAxAFkAVACcAJcAwwDDAOIA5QD1APgABAEFAQAB/gD+APwA/QD+ANAA1QCeAKQAdwB6AFEAVQAcACEA4v/o/6L/pv9x/3P/UP9S/yP/IP///vj+AP/7/hL/Dv8c/x3/U/9X/4X/iv+6/73/8P/y/wwADQAxADMAXABdAHAAcgBOAFAADQARAOH/3/+e/5j/bv9o/0X/QP8q/yX/N/80/0n/TP9y/3T/qP+q/9H/0P8MAAoALAAtADoAPQBoAGkAdgBuAIkAggCiAKEAogCiAK4AqQC8ALgAxQDEAJUAmAB0AHMAYQBfAFUAVABYAFkATwBTAFUAVwBjAGQAfACAAGsAcABiAGUAXABeAD4APwAvAC8AGQAcAP7/AQD8//v/CAACAPn/9v/V/9X/v//C/7r/v/+7/73/0P/U/+j/7f/g/+T/5//r//X/9v/p/+f/0P/P/6D/nv95/3n/If8h/9L+0P6O/ov+U/5T/kP+RP5A/jz+c/5u/rD+rP4H/wj/XP9h/8D/yf8VACAAeQCAAMsAzAABAQIBDgEPARMBEwEXARQBEAEMAegA5wDOAM4AzADKAMYAxwDVANYA5ADgABEBDgEyATUBRwFJASwBLAH6APcAtgCzAHwAfQAvADUA4f/m/5D/j/9l/2T/Nv83/yz/Kv9K/0b/Sv9K/1j/W/9a/1z/aP9l/4r/hv+T/4z/p/+f/53/mP+u/6z/w//C/7T/tv+c/53/b/9v/4f/gv+T/4r/lv+T/6D/ov/D/8b/4//o/xQAFwA1ADgASABOAHoAgACgAKIAtQC1AK0ArQC6ALgAwgC8AMsAwwDSAMsAvAC3AKIAnACNAIgAZQBkAEUASwAQABMA7v/w/+P/6f/h/+r/xP/M/6f/qv+a/5f/df9z/2v/bf9x/3P/Wf9X/1j/Uv9a/1f/f/+A/5z/mv/Q/9D/8//5/wAABwAtADEARwBJAGkAaABoAGgAYwBmAF4AXwBSAFUARQBKAEQARwAlACcA7P/s/9H/0P+2/7f/nv+d/6T/pP+w/6//0//S//7/+/8cABkAKQAqAGUAaACRAJMAvQC/ANAA0ADqAOMAGAESAR0BGwEJAQgB1ADRAJwAmQBwAG4AOAA5APD/8/+J/4z/Q/9C/yv/K/8f/yL/If8o/xb/G/8b/xn/LP8m/zP/Mv87/0H/P/9F/0//VP9x/3X/mv+Y/9n/0v/9//f/LAAqAGYAZwCKAIoAsACuAMAAvADiAOEA5QDqAAYBCwEPAQ8BGwEYARwBGQH9APoA1gDUAJkAmAAwADEA5f/l/4f/if9F/0T/Bv8D/8f+yP6l/qn+jv6P/pP+lv6k/qT+uv60/uv+5f4l/yP/c/92/8r/zf8NAA4AXwBeAKoAqgDRAM4A3wDcAOAA3QC+ALgAoQCWAIYAfQBZAFkAJAAlAP//AQDm/+n/xv/H/57/of+A/4r/a/9v/4H/fP+A/3b/jv+J/6z/qf/3//T/SwBHAJ8AnADiAN4ADgEKAS8BJwFOAUsBVgFUATEBMAEJAQcBxADAAIEAewBDAEAAAQACAKH/of9S/0z//v76/qv+qv5o/mn+Tf5M/lv+Vv59/nj+sf6t/vf+8/5F/0L/i/+M/77/xf/l//H/CgATABYAHABEAEIAbABoAKIAmgDFAL4A2QDZAOgA7AD4APoACQEMAQEBAgH/AP0A7ADoAMgAxACkAKAAcQByABMAEwC//7z/Zf9i/yP/I//v/vL+s/62/oz+jP6N/on+v/66/vr+9f40/y7/jf+G/8j/xv8KAAoAUQBQAJ8AmgDxAO4AOAE3AWoBZwFvAWgBXgFZAUcBTAHrAPYAhwCRAA8AEwCA/4L/Bf8K/6f+rP5O/lT+Bv4N/gX+DP4U/hr+X/5i/rf+tv4S/w7/cv9w//P/8f+FAIEA+QD3AHEBcgHAAcUBBAIEAjgCMgIQAgoC5wHmAY0BkAEvATABygDMAGIAYgD5//f/ov+f/13/Wf8a/xb/3v7b/sj+xP6g/p7+j/6T/pj+nf7K/s7+9/74/iD/H/9H/0f/gf+B/7z/uf/X/9T/7f/n/9j/1P/x//H/FwAVACYAJQAwADUARwBJAFcAVgBrAGkAagBsAGQAZgBHAEkARQBGAC8ALwAyADMAHwAjABcAFgAbABYADwAMAP7/+v/9//n////5/xEADQATABEAHwAdAFUATwB1AHAApACjAMUAxADOAMsA5ADiANwA3gDUANYAxwDAALcArQBxAG8AHAAiAO3/8P+u/67/fP99/zn/O//l/uv+o/6u/n/+iv5j/mr+ZP5l/m7+a/6M/or+yf7I/gT/A/9L/0r/mf+b/9n/2/8MAA8AGAAaADkANgBXAFQAZwBpAHgAfAB9AH8AmQCdAJYAnACdAKEAsgC0ALUAvwDEAM4AzQDPAL8AwQDDAMYApwCoAKAAogBrAG4AUgBSADAALgARAA4ABgAHAO3/7f/a/9j/4P/f/97/2v/s/+v/8//z/+3/5f8IAP3/FAAMADMAMgA6ADsAQQBBAC8AMwAIAAsA///9/+T/4v+7/7v/eP92/2j/Zv8u/y3/NP8z/xr/Gf8G/wb/Hv8i/yb/Kv81/zn/W/9h/4T/hv/L/8n/DQALAEwATgCHAIoAxwDHAP0A/QA3ATkBPgE8AUwBRwE6ATcBJgEmAfsA/ADPAM8AjwCLAE0ARgAJAAQAzf/L/6v/qf97/3X/TP9E/yv/J/8a/xn/Kf8o/yr/KP8v/zD/UP9W/4D/hP/Q/9H//f/7/yoAKABVAFMAbQBsAJQAkACoAKcAtQC1AKcAqACpAKcAuAC5AJUAlQCVAJIAcgBtAFkAWwAtAC4AGgAUAO//6v/D/8D/tv+z/47/jP9//3//Wf9V/07/S/8//z3/Vv9U/3X/c/+T/5X/xP/E//n/9f8nACUAYwBoAIgAjACVAJYAuwDAAMcAywDUANMAxwDJAKwAsQCMAI0AhQCCAHUAdABGAEsANgA5ABkAGgDp/+v/0P/V/5T/lP9p/2T/Mv8w//f++f7k/uf+3P7e/tT+1f7u/u7+Gv8c/0f/Tf+N/5H/5f/n/zIALgBxAGoApACeAMAAvADpAOgABAEDARUBFQH/APwA3ADWALMAsgCcAJ4AmQCXAJcAjwBoAGIAWABSAFYAUQBOAEwASwBKAEMAQgA0AC4AQwA3AFQATABhAF0AZgBlAFQAWABhAGYAbQBuAGQAYQBPAFAANAA6AAEAAgDf/9z/xf/C/6T/pf9w/3b/Pv9E/w7/Ef/e/t7+s/62/oT+jf5t/nj+Wv5i/mP+af6M/pP+s/67/vT+9/5H/0T/kP+R//n//f8/AEMAhACJALUAuwDhAOQA9wD4ABoBGwEjASIBMwEsASMBHwEIAQoB8QDxAO8A7gDhAOAAugC5ALgAtQCVAJEAcABuAEoARgAnACAAAAD6/+f/4//i/+T/vP+7/7P/rP+l/6D/oP+i/5T/l/+T/5P/g/99/3b/df9w/3H/Yf9c/0n/Q/9O/07/Of84/z3/Pv9G/03/Pv9E/yn/Kf8h/yH/Df8P/wr/Cf8t/yv/P/88/2b/YP+r/6X/4P/Z/y8AKwCDAH0AnACUANQAzwD6APYAIwEhAUsBSwFoAWUBcQFwAW4BcwFTAVsBKwErAfMA8ACtAKwATwBTABEAEADA/7b/if9+/03/Tv80/zn/Gf8c/w//Dv8I/wj/Cf8I/xr/G/8O/xD/Dv8R/x7/HP87/zf/Sv9K/1L/VP9n/2f/iP+H/5H/kf+Y/5j/s/+2/97/4//4//r/HgAhAFEAVQCFAIkAtgC3AMwAzQDzAPUA9AD3AAwBEwEMARMBCQEJAR4BGwHxAPQA0gDVAKIAogBoAGgARABGAAQABADZ/9b/lP+U/3H/c/9d/17/NP82/z3/Pv9K/0j/Zv9h/4L/ef+i/5r/vP+5/8v/yv/d/9z/1//R/87/y//M/87/tP+3/4L/ff9T/1D/Jv8l//v+9/7X/tT+3v7b/uD+2f4Q/wz/Qv9C/4//j//l/+H/KgAlAIoAhwDYANoAGQEbAUoBSQFtAWoBgwGBAYUBgwFnAWUBOwE4AQwBCwGzALgAaABoABEADQDK/8b/if+I/2D/X/9D/0L/HP8b/yL/I/8f/yP/Mf83/0v/T/9N/07/YP9h/33/e/+q/6j/2P/X//7///81ADcATABMAGIAXQBoAGMAbQBtAGAAYgBrAGoAgQB7AG0AagBuAG8AQwBKACUAMAAYAB8AAgAHAPP/9v/k/+X/2v/Z/9X/1v/x//f/+/8CAP7/AQARABQANAA4ACYAKwA7AD0AIQAjAB4AIwABAAcA/P8EAPj//f/1//r///8GAB0AHwAiAB8AHAAaACAAHQArAC0AHAAhAAIABwDo/+n/wv+//7L/sf99/33/T/9O/yP/Jv/8/v/+/v76/hL/Ef9M/0z/ff96/7b/tf8PAA0AQwBAAGkAYwCLAIUAiQCGAIsAigB6AHkAXQBbAEwATABIAEsAQABEADcAOQAyADQASABNAE0ATgBwAG4AgwCBAJcAkACuAKcAswCzALwAvQC9ALsApgCnAIEAhgBnAG0ALQAuAAMABADR/8//uv+5/6L/pf9+/4P/a/9r/0//T/8z/zX/Ff8V/wP/Af/2/vX+/f7+/vj+/v4S/xr/Of88/1n/Wf90/3j/gP+F/6D/pf/M/9D/7//t/wIA+v8uACQAQwA4AGQAYACCAIQAkgCSAI8AjQCCAH8AeAB0AHAAbQBFAEYAHAAeAAcADAACAAgAJwApABoAHAA6AEAASwBQAGYAZwCWAJUAogCjAMMAxADcANYA1ADKAM8AywDEAMMAngCbAHwAewBFAEkAGwAhAOb/5f+p/6T/Vv9V/y//NP8S/xn/Bf8I/wn/Cv/q/uj+4v7g/t7+2/7l/uL++P71/jD/Mv9m/2z/tP+3/xAAEABkAGMAqwCsAOUA6gDrAO4A6wDuANIA1ACmAKkAfgB+AE4ATAAhACAA+//6/+7/7P/R/8//vf++/7D/s/+V/5T/ev94/2f/aP9k/2f/gf+E/4z/if+l/6H/xf+///n/9P8oACYAZABnAIMAiQC4AL4AxwDLAOUA5wAMAQsBIwEhASgBJgEsASoBFwEYAe0A7gDGAMUAjwCMAFUAVwARABcA3f/i/7L/t/+G/4n/Rv9J/wv/EP/k/un+xv7H/r/+v/7O/tD+5v7l/gn/Bf9H/0X/mP+W/+f/5/82ADYAhQCIAJMAmAC3ALsAzQDNAN0A2QDOAMsArwCvAJYAmABlAGoAMQA4APz/AADA/7//i/+E/2j/Zf9W/1n/ZP9q/3L/dP+R/5P/x//F/9n/2f8aABoALgAsAEoASABtAGsAgACBAIcAiACiAKUAsAC3ALkAvAC6ALUAiQCFAGQAYwBEAEAAGwAVAAcAAwDf/9n/z//I/8v/xf/U/87/y//I/8n/y//P/9H/0f/M/+P/2//P/9D/xf/L/8v/0f/M/9D/3P/f//L/8v8MABAAHgAjACwALQBMAEgAZQBmAJcAmwCrAKkAzQDFAOsA4QD8APUA9gD2AOEA5gC3ALcAbQBrAC4ALADJ/8b/b/9o/wr/Bv/b/tz+of6g/pf+lP6A/nz+m/6Z/rT+tP7u/u/+I/8n/3r/hf/X/93/MwAxAHsAdgCzAK0A7QDqAAgBCgEYARsBHwEeAREBDAHvAOkA3ADXALUAsACDAIIAPgBHAA4AFwDL/9D/v/+8/5j/kv+L/4r/l/+e/5X/m/+2/7f/vf+6/+n/5v8GAAUAKwAsADoAOwA8ADsAIwAjABQAFADu/+3/wv++/5b/lP9p/2X/aP9l/1X/T/9S/0r/OP80/yv/L/8w/zL/O/84/zr/Nv9N/0r/Vv9V/2n/a/+E/4f/tf+4/9b/3P8CAAcAOAA5AH8AegC+ALYA7ADiABEBBgEwASYBNQEvAUYBRgFKAU0BNAE1AR4BHQEFAQMB+AD0AOEA4ACyALEAjgCKAG8AawBFAEYAIQAmAOn/7v+v/7T/jf+R/0r/Tv8I/w7/2P7f/pj+l/6F/oL+ef56/pL+k/6v/rL+0f7a/g//Fv9J/0v/c/90/7X/sv/4//L/GwAYAFYAVQB1AHEAkQCKAJwAnQCkAKwAmQCiAJgAnACLAI0AmQCcAJAAkgCDAIEAlQCTAIgAigCgAKAAmACYAIoAjQBhAF8ARQA9ACkAIwAUAA8A+P/0//v/9P8GAP//EQAKADcAMgBPAE0AdgB2AIwAjQCtALAAtAC1AKoApACZAJAAYABfAB4AIADJ/8v/dv92/zn/N////v3+sf6x/n3+f/5z/nX+cv50/pb+mP7F/sv+/v4J/0n/T/+1/7f/FAAWAGAAYgCzALUAAgEHAUIBRQFpAWgBdgF0AX8BfAFmAWEBSQFGARABDQHMAMcAlACPAEIAPgDl/+T/j/+O/0H/QP8D/wT/1v7b/qv+sv6n/qv+mv6b/rX+tv72/vT+Lv8r/4T/gv+z/7T/BAAAADcAMgB7AHkAhACJALIAtgDKAMwAuAC7ALYAuACiAKIAgAB8AGwAZwA4ADQAGwAYAPr//P/n/+f/5f/o/87/1f/Y/+D/8//1/xMAEAAhAB8AGwAeADwAQAA3ADwAQQBHAD4AQABAAEAAKgAlACkAJwALAAoA/f///+3/8//O/9b/vf+//6L/nf+X/5D/gP9//4T/iP91/3r/Xv9h/13/Yv9Q/1f/Pv9F/1P/Wf9F/0j/SP9L/2z/df+O/5j/u/+9/+j/5f8OAAoARABGAGgAawCZAJUAvACyANAAyQDVANQAzgDSAN8A5gDLANEAyQDQAMYAzQCuALAArACqAI8AigBzAG4AZwBmAEwATwAqADAA9////9z/3//C/8H/qP+p/3z/f/9m/2X/Zv9n/0//V/9I/1H/SP9Q/2D/Zf91/3f/ev97/4T/gf+X/5T/o/+j/63/rP+6/7n/zP/L/83/yv/o/+b/9v/x//T/7f8KAAQAFwAQACIAGQA6ADIAQAA7AFQATwBYAFYAWgBaAFoAWABPAE0ARgBGAEkARwA/ADwAIAAbACAAGgD+//f/EwAMABUAFQANABMAHAAfABwAGwAUABUAEQAOAPf/8v/f/97/vf/B/5L/lP9x/3T/WP9a/yj/J/8j/x7/G/8S/zL/K/9Z/1H/cP9s/67/sv/Z/93/BwAHAEsARQBuAGYAggB+AKwArgCfAKAAoAChAKkApwCCAIAAdwB2AFcAWgBGAEsAGgAbABQAFQD2//z/3v/f//P/7/8HAAYAJQAkADoANgBdAFoAewB6AJsAmgCQAJIAggCIAIAAggBuAGoAVwBWACgALgDq//P/uP/A/5f/mf94/3b/Xf9d/0r/TP85/z7/Qv9J/0v/Tv9X/1f/a/9n/3n/df+X/5f/p/+s/6v/sf++/8D/zP/N/87/1P/r//L/7//0//n/+v8WABUAKQAoADIALwAzADIALQAvACMAJgA4ADcANgAyAC8AKgAuACQANQAqAC0AJgAuACoAKgAsACAAJAAOAA8ADQAOAA4AEQAVABgACgAMABYAFQAdABkAJwAlACEAJAARABQAEQATAAEA///8//z/7f/u//b/9f8GAAgA/v8BABUAEgAlACAAKgArACcAKAAsACsAIQAhAA4ADwD0//T/1//Y/8z/zP+b/57/ff+C/2L/Z/9k/2n/b/9v/5P/jv+w/6f/2f/U//7//f8mACQAVwBTAHwAeACdAJUAkACJAIgAhAB4AHkASQBNAAwAFADW/9z/qP+q/5D/kP97/3v/a/9q/17/W/99/3r/hv+I/6D/ov/F/8X/6v/p/yAAHABGADsAdgBsAH4AewB9AHwAiQCIAKEAnQCZAJIAlQCSAIoAiwCGAIkAdwB5AGgAaABPAFEALQAxAAwADQD7//v/3//i/9D/2f+4/8P/oP+p/5H/lP97/3n/bv9v/1H/UP9H/0f/SP9M/0H/R/9E/0n/Wf9e/3P/dv+3/7n/4v/j/yEAIwBOAE8AgQB9AKkAqAC8ALsAzADNAMcAzgDAAMgArQCvAJ8AngB1AHMATgBLAB4AFwDi/+H/uf+5/6P/nv+E/3z/ef93/33/gP+B/4X/lP+b/7P/t//d/97//v/9/xYAEwA6ADgAPgA+AFwAYQBdAGAAYABiAEkAUAAuADoAFwAgAAcACQDT/9H/kP+Q/2T/aP9F/0f/L/8u/yb/J/8s/y7/Qv8+/1v/V/+T/5D/vP+5/wQAAQAtACYAXABSAH0AdACQAIoAmwCaAJwAoACcAJ0AkQCSAI0AjQB0AHYAYwBlAGEAYwBYAFoAVgBXAGoAawBkAGMAaQBqAGMAZgBMAEwAOAA0ACcAJwAVABkA+v/9/9f/0/+7/7T/n/+a/5//mv+I/4L/hP+A/4H/ff+J/4j/kf+R/53/nP/I/8f/3f/Y//r/8f8UABAAFQAVAB0AHgAfAB8ACwALAP3//P/g/+H/1//X/77/vf+p/6f/mf+Y/4f/iP+R/5P/hv+E/5D/i/+l/6X/u//B/+r/6v8bABUATgBJAIAAhACsALAAwgDBANEAzADsAOgA5QDmAOYA6ADUANMA1wDSALEAqwCYAJEAdABzAFIAVQAgACEAAAD+/9D/z/+z/7H/kf+P/2v/aP9y/2//Zf9i/2j/Zv97/3z/pP+o/7n/uf/N/8z/7v/q/wgABgAWABYAKAAqACMAJAApACkAMwAwAEkARwBAAEAAXwBcAFcAVQBNAFEATABOAEEAOwA2ADIAGAAbAAsACgAGAAIA+//9/+H/6v/k/+z/3//i/+T/5//8//z/+P/5/xwAIAAwADIASQBEAGEAWgBaAFcATABJAFQAUwBVAFYARgBKABYAGgD2//r/xP/E/6b/qP+D/4n/b/91/3H/cv9s/2j/ef90/4j/h/+h/6X/wP/D/9f/2v/8//v/FAASADkANQBYAFYAZwBmAIAAfwCBAH0AlACQAJcAlACmAKYAoACjAIoAkQCKAI4AfAB7AIEAfgBbAFYAOgAzABcAEAD3//L/0//L/7D/pf+I/4H/Z/9l/07/TP8y/zT/Jf8q/x//JP8k/yX/MP8w/zf/Of86/z3/Uv9U/2n/af+V/5L/wf/B/+D/4/8JAA0AFgAXAD8APgBNAEoATgBRAFcAWwBbAFgAdgBzAHUAeABeAGUAbwB2AFcAVABEAEEAJQAmAP7/+//c/9T/vP+2/5n/mf9x/3T/cf9t/2z/Zf9o/2f/j/+Q/6D/nv/Z/9j/7//v/xkAFwBEAEMAYgBnAGsAdwBsAHMAbABxAFAAVQArADAAEQAWAOL/6P/P/8//vv+//6P/qP+m/6j/t/+1/8H/wP/J/8f/2f/X/wUABAAfABwAPgA9AEMARABSAFUAUwBVAF0AXQBWAFMAWABWAEIAQAA0ADIAJgAkABAAEAD9//7/7P/p/9//2v/i/+H/1//a/9f/2/+8/73/sf+y/6L/oP+N/4v/f/98/3H/bv9u/2b/av9h/37/eP93/3T/h/+E/6j/ov/R/83//f///ycAJwBLAEYAYQBbAHkAdQCHAIMAfAB2AGMAXwBTAFQANgA3AB8AHgAaABwACwATAPn/AgD7/wEA9P/0//j/8//v/+3/5f/m//H/8P8JAAYADAAKAC0ALQA2ADgAOAA4AFUAUgBiAGAATwBMAFQAUwBEAEMAHQAeAAoACgDu/+r/0f/P/7r/vP+u/7H/mP+b/5v/m/+c/5r/n/+b/7L/q//A/7r/y//E/9//2v/x//L/8P/z/wQAAAARAAoAHwAVACUAGwApACYAJwAoAC4ALgAuADAAKQAwADkAOwA+ADwAOwA8ADkAOgBDAEQAQQBEAE4ATwA6ADsAOwA+ACoAKgANAA4ABgAHAOH/5f/b/97/u//A/7r/vP+j/6H/nP+Y/5//m/+k/6L/vf+7/8z/zP/v//P/6v/y/wwADwA0ADQAQQBCAFwAWAB4AHAAjACBAKAAnQCdAJoAlQCQAIwAjAB1AHgAYwBiAEgASAAkACYACgAGAO3/5v+//77/qv+s/43/jP+E/4f/fv+A/4X/hv+H/4f/lP+T/6j/pP+q/6b/x//E/8T/wf/t/+j/8v/u/wEA//8=\" type=\"audio/wav\" />\n",
       "                    Your browser does not support the audio element.\n",
       "                </audio>\n",
       "              "
      ],
      "text/plain": [
       "<IPython.lib.display.Audio object>"
      ]
     },
     "execution_count": 182,
     "metadata": {},
     "output_type": "execute_result"
    }
   ],
   "source": [
    "###read a sample with librosa\n",
    "ipd.Audio('/Users/DELL/OneDrive/Desktop/DSE/UrbanSound8K/audio/fold5/100032-3-0-0.wav')"
   ]
  },
  {
   "cell_type": "code",
   "execution_count": 183,
   "metadata": {},
   "outputs": [
    {
     "name": "stdout",
     "output_type": "stream",
     "text": [
      "shape is (7002,), sample_rate is22050\n"
     ]
    }
   ],
   "source": [
    "#load the wav\n",
    "data, sample_rate=librosa.load('/Users/DELL/OneDrive/Desktop/DSE/UrbanSound8K/audio/fold5/100032-3-0-0.wav')\n",
    "print ('shape is {}, sample_rate is{}'.format(data.shape, sample_rate))"
   ]
  },
  {
   "cell_type": "code",
   "execution_count": 184,
   "metadata": {},
   "outputs": [
    {
     "data": {
      "text/plain": [
       "(array([-0.00346022, -0.00502555, -0.00465325, ..., -0.00248061,\n",
       "        -0.00155105, -0.0003528 ], dtype=float32),\n",
       " 22050)"
      ]
     },
     "execution_count": 184,
     "metadata": {},
     "output_type": "execute_result"
    }
   ],
   "source": [
    "data, sample_rate"
   ]
  },
  {
   "cell_type": "code",
   "execution_count": 185,
   "metadata": {},
   "outputs": [
    {
     "data": {
      "image/png": "[encoded data removed]",
      "text/plain": [
       "<Figure size 1152x288 with 1 Axes>"
      ]
     },
     "metadata": {
      "needs_background": "light"
     },
     "output_type": "display_data"
    }
   ],
   "source": [
    "# Seeing how the sound looks like on a wave plot\n",
    "fig, ax = plt.subplots(figsize = (16, 4))\n",
    "librosa.display.waveplot(data, sr = sample_rate)\n",
    "plt.ylabel('Amplitude')\n",
    "plt.title('Waveform for a dog bark sound')\n",
    "plt.show()"
   ]
  },
  {
   "cell_type": "code",
   "execution_count": 186,
   "metadata": {},
   "outputs": [],
   "source": [
    "data, sample_rate=librosa.load('/Users/DELL/OneDrive/Desktop/DSE/UrbanSound8K/audio/fold5/100032-3-0-0.wav')\n",
    "mfccs = librosa.feature.mfcc(y=data, sr=sample_rate, n_mfcc=40)"
   ]
  },
  {
   "cell_type": "code",
   "execution_count": 187,
   "metadata": {},
   "outputs": [
    {
     "name": "stdout",
     "output_type": "stream",
     "text": [
      "63.42263 -209.93578\n",
      "(40,)\n"
     ]
    }
   ],
   "source": [
    "####EXTRACT FEATURES:ere we will be using Mel-Frequency Cepstral Coefficients(MFCC) from the audio samples. \n",
    "#The MFCC summarises the frequency distribution across the window size, so it is possible \n",
    "#to analyse both the frequency and time characteristics of the sound. \n",
    "#These audio representations will allow us to identify features for classification.\n",
    "mfccs = librosa.feature.mfcc(y=data, sr=sample_rate, n_mfcc=40)\n",
    "mfccs = np.mean(librosa.feature.mfcc(y=data, sr=sample_rate, n_mfcc=40).T,axis=0)\n",
    "print(mfccs.max(),mfccs.min())\n",
    "print(mfccs.shape)"
   ]
  },
  {
   "cell_type": "code",
   "execution_count": 188,
   "metadata": {},
   "outputs": [
    {
     "data": {
      "text/plain": [
       "array([-209.93578   ,   63.42263   , -123.69025   ,  -60.019203  ,\n",
       "        -14.457383  ,  -29.090641  ,   -4.2511783 ,   12.419748  ,\n",
       "         12.739302  ,    9.053966  ,   -6.8080783 ,   -2.1365588 ,\n",
       "        -13.349953  ,    6.6780252 ,   -3.144794  ,   -3.695392  ,\n",
       "        -15.768193  ,   -0.38718554,   -3.2507935 ,    6.490812  ,\n",
       "        -11.352611  ,   -7.6883025 ,    5.4163556 ,   -2.7029934 ,\n",
       "         -6.27998   ,    0.45257625,   -3.8793392 ,    5.3696904 ,\n",
       "         -6.6641655 ,   -4.454918  ,    0.39725345,    8.100588  ,\n",
       "         -1.0730537 ,    2.7207093 ,   -6.7139773 ,   -1.8797903 ,\n",
       "          2.0122087 ,   -0.66254216,   -1.8982313 ,    1.3549525 ],\n",
       "      dtype=float32)"
      ]
     },
     "execution_count": 188,
     "metadata": {},
     "output_type": "execute_result"
    }
   ],
   "source": [
    "mfccs"
   ]
  },
  {
   "cell_type": "code",
   "execution_count": 189,
   "metadata": {},
   "outputs": [],
   "source": [
    "##Extracting MFCC's for every audio file\n",
    "def get_features(file):\n",
    "    data, sample_rate = librosa.load(file_name, res_type='kaiser_fast')\n",
    "    mfccs_features = librosa.feature.mfcc(y=data, sr=sample_rate, n_mfcc=40)\n",
    "    mfccs_scaled_features = np.mean(mfccs_features.T, axis=0)\n",
    "    \n",
    "    return mfccs_scaled_features"
   ]
  },
  {
   "cell_type": "code",
   "execution_count": 190,
   "metadata": {},
   "outputs": [
    {
     "name": "stderr",
     "output_type": "stream",
     "text": [
      "3555it [04:30,  8.21it/s]C:\\Users\\DELL\\anaconda3\\lib\\site-packages\\librosa\\core\\spectrum.py:222: UserWarning: n_fft=2048 is too small for input signal of length=1323\n",
      "  warnings.warn(\n",
      "8326it [10:37, 20.28it/s]C:\\Users\\DELL\\anaconda3\\lib\\site-packages\\librosa\\core\\spectrum.py:222: UserWarning: n_fft=2048 is too small for input signal of length=1103\n",
      "  warnings.warn(\n",
      "C:\\Users\\DELL\\anaconda3\\lib\\site-packages\\librosa\\core\\spectrum.py:222: UserWarning: n_fft=2048 is too small for input signal of length=1523\n",
      "  warnings.warn(\n",
      "8732it [11:06, 13.10it/s]\n"
     ]
    }
   ],
   "source": [
    "####USE CROSS VALIDATION: I use cross validation considering all my dataset to see how models performed better\n",
    "features = []\n",
    "\n",
    "for index,row in tqdm(metadata.iterrows()):\n",
    "    file_name = os.path.join(os.path.abspath(file_path),'fold'+str(row[\"fold\"])+'/'+str(row[\"slice_file_name\"]))\n",
    "    label_class = str(row[\"class\"])\n",
    "    \n",
    "    data = get_features(file_name)\n",
    "    features.append([data,label_class])"
   ]
  },
  {
   "cell_type": "code",
   "execution_count": 191,
   "metadata": {},
   "outputs": [
    {
     "data": {
      "text/html": [
       "<div>\n",
       "<style scoped>\n",
       "    .dataframe tbody tr th:only-of-type {\n",
       "        vertical-align: middle;\n",
       "    }\n",
       "\n",
       "    .dataframe tbody tr th {\n",
       "        vertical-align: top;\n",
       "    }\n",
       "\n",
       "    .dataframe thead th {\n",
       "        text-align: right;\n",
       "    }\n",
       "</style>\n",
       "<table border=\"1\" class=\"dataframe\">\n",
       "  <thead>\n",
       "    <tr style=\"text-align: right;\">\n",
       "      <th></th>\n",
       "      <th>Features</th>\n",
       "      <th>Class</th>\n",
       "    </tr>\n",
       "  </thead>\n",
       "  <tbody>\n",
       "    <tr>\n",
       "      <th>0</th>\n",
       "      <td>[-215.79301, 71.66612, -131.81377, -52.091328,...</td>\n",
       "      <td>dog_bark</td>\n",
       "    </tr>\n",
       "    <tr>\n",
       "      <th>1</th>\n",
       "      <td>[-424.68677, 110.56227, -54.148235, 62.01073, ...</td>\n",
       "      <td>children_playing</td>\n",
       "    </tr>\n",
       "    <tr>\n",
       "      <th>2</th>\n",
       "      <td>[-459.56467, 122.800354, -47.92471, 53.265694,...</td>\n",
       "      <td>children_playing</td>\n",
       "    </tr>\n",
       "    <tr>\n",
       "      <th>3</th>\n",
       "      <td>[-414.55377, 102.896904, -36.66495, 54.18041, ...</td>\n",
       "      <td>children_playing</td>\n",
       "    </tr>\n",
       "    <tr>\n",
       "      <th>4</th>\n",
       "      <td>[-447.397, 115.0954, -53.809113, 61.608585, 1....</td>\n",
       "      <td>children_playing</td>\n",
       "    </tr>\n",
       "    <tr>\n",
       "      <th>5</th>\n",
       "      <td>[-447.70856, 118.409454, -35.24866, 56.73993, ...</td>\n",
       "      <td>children_playing</td>\n",
       "    </tr>\n",
       "    <tr>\n",
       "      <th>6</th>\n",
       "      <td>[-477.1972, 120.63773, -29.692501, 57.05191, 1...</td>\n",
       "      <td>children_playing</td>\n",
       "    </tr>\n",
       "    <tr>\n",
       "      <th>7</th>\n",
       "      <td>[-464.84656, 117.71454, -30.163273, 50.72254, ...</td>\n",
       "      <td>children_playing</td>\n",
       "    </tr>\n",
       "    <tr>\n",
       "      <th>8</th>\n",
       "      <td>[-472.1215, 126.76601, -38.36653, 58.748646, -...</td>\n",
       "      <td>children_playing</td>\n",
       "    </tr>\n",
       "    <tr>\n",
       "      <th>9</th>\n",
       "      <td>[-196.18527, 114.94506, -14.661185, 1.2298628,...</td>\n",
       "      <td>car_horn</td>\n",
       "    </tr>\n",
       "  </tbody>\n",
       "</table>\n",
       "</div>"
      ],
      "text/plain": [
       "                                            Features             Class\n",
       "0  [-215.79301, 71.66612, -131.81377, -52.091328,...          dog_bark\n",
       "1  [-424.68677, 110.56227, -54.148235, 62.01073, ...  children_playing\n",
       "2  [-459.56467, 122.800354, -47.92471, 53.265694,...  children_playing\n",
       "3  [-414.55377, 102.896904, -36.66495, 54.18041, ...  children_playing\n",
       "4  [-447.397, 115.0954, -53.809113, 61.608585, 1....  children_playing\n",
       "5  [-447.70856, 118.409454, -35.24866, 56.73993, ...  children_playing\n",
       "6  [-477.1972, 120.63773, -29.692501, 57.05191, 1...  children_playing\n",
       "7  [-464.84656, 117.71454, -30.163273, 50.72254, ...  children_playing\n",
       "8  [-472.1215, 126.76601, -38.36653, 58.748646, -...  children_playing\n",
       "9  [-196.18527, 114.94506, -14.661185, 1.2298628,...          car_horn"
      ]
     },
     "execution_count": 191,
     "metadata": {},
     "output_type": "execute_result"
    }
   ],
   "source": [
    "#Converting extracted featured to Pandas dataframe\n",
    "features_df=pd.DataFrame(features, columns=['Features','Class'])\n",
    "features_df.head(10)"
   ]
  },
  {
   "cell_type": "code",
   "execution_count": 192,
   "metadata": {},
   "outputs": [],
   "source": [
    "X=np.array(features_df['Features'].tolist())\n",
    "y=np.array(features_df['Class'].tolist())"
   ]
  },
  {
   "cell_type": "code",
   "execution_count": 193,
   "metadata": {},
   "outputs": [],
   "source": [
    "labelencoder=LabelEncoder()\n",
    "y=to_categorical(labelencoder.fit_transform(y))"
   ]
  },
  {
   "cell_type": "code",
   "execution_count": 194,
   "metadata": {},
   "outputs": [],
   "source": [
    "###Model with 2 hidden layers(512 and 128n)\n",
    "def model1_cv():\n",
    "    n_labels = y.shape[1]\n",
    "    \n",
    "    model1_cv = tf.keras.Sequential([\n",
    "    tf.keras.layers.Dense(128,input_shape=(40,)),\n",
    "    tf.keras.layers.Dense(512, activation='relu'),\n",
    "    tf.keras.layers.Dense(128, activation='relu'),\n",
    "    tf.keras.layers.Dense(n_labels, activation='softmax')])\n",
    "    \n",
    "    model1_cv.compile(optimizer='adam',\n",
    "              loss='categorical_crossentropy',\n",
    "              metrics=['accuracy'])\n",
    "    return model1_cv"
   ]
  },
  {
   "cell_type": "code",
   "execution_count": 195,
   "metadata": {},
   "outputs": [
    {
     "name": "stderr",
     "output_type": "stream",
     "text": [
      "<ipython-input-195-1add0c73b5a4>:1: DeprecationWarning: KerasClassifier is deprecated, use Sci-Keras (https://github.com/adriangb/scikeras) instead.\n",
      "  estimator = KerasClassifier(build_fn=model1_cv, epochs=100, verbose=0)\n"
     ]
    },
    {
     "name": "stdout",
     "output_type": "stream",
     "text": [
      "Accuracy: 91.79% (1.62%)\n"
     ]
    }
   ],
   "source": [
    "estimator = KerasClassifier(build_fn=model1_cv, epochs=100, verbose=0)\n",
    "kfold = KFold(n_splits=10,random_state=1, shuffle=True)\n",
    "results = cross_val_score(estimator, X, y, cv=kfold)\n",
    "print(\"Accuracy: %.2f%% (%.2f%%)\" % (results.mean()*100, results.std()*100))"
   ]
  },
  {
   "cell_type": "code",
   "execution_count": 197,
   "metadata": {},
   "outputs": [],
   "source": [
    "#####Model with 2 hidden layer and Dropout(0.3)\n",
    "def model2_cv():\n",
    "    n_labels = y.shape[1]\n",
    "    \n",
    "    model2_cv = tf.keras.Sequential([\n",
    "    tf.keras.layers.Dense(128,input_shape=(40,)),\n",
    "    tf.keras.layers.Dropout(0.3),\n",
    "    tf.keras.layers.Dense(512, activation='relu'),\n",
    "    tf.keras.layers.Dropout(0.3),\n",
    "    tf.keras.layers.Dense(128, activation='relu'),\n",
    "    tf.keras.layers.Dropout(0.3),\n",
    "    tf.keras.layers.Dense(n_labels, activation='softmax')])\n",
    "    \n",
    "    model2_cv.compile(optimizer='adam',\n",
    "              loss='categorical_crossentropy',\n",
    "              metrics=['accuracy'])\n",
    "    return model2_cv\n",
    "    "
   ]
  },
  {
   "cell_type": "code",
   "execution_count": 198,
   "metadata": {},
   "outputs": [
    {
     "name": "stderr",
     "output_type": "stream",
     "text": [
      "<ipython-input-198-89be3e7fa37f>:1: DeprecationWarning: KerasClassifier is deprecated, use Sci-Keras (https://github.com/adriangb/scikeras) instead.\n",
      "  estimator = KerasClassifier(build_fn=model2_cv, epochs=100, verbose=0)\n"
     ]
    },
    {
     "name": "stdout",
     "output_type": "stream",
     "text": [
      "Accuracy: 90.66% (1.02%)\n"
     ]
    }
   ],
   "source": [
    "estimator = KerasClassifier(build_fn=model2_cv, epochs=100, verbose=0)\n",
    "kfold = KFold(n_splits=10, random_state=1, shuffle=True)\n",
    "results = cross_val_score(estimator, X, y, cv=kfold)\n",
    "print(\"Accuracy: %.2f%% (%.2f%%)\" % (results.mean()*100, results.std()*100))"
   ]
  },
  {
   "cell_type": "code",
   "execution_count": 199,
   "metadata": {},
   "outputs": [],
   "source": [
    "####Model with 2 hidden layer, Droupout(0.3) and Batch Normalization\n",
    "def model3_cv():\n",
    "    n_labels = y.shape[1]\n",
    "    \n",
    "    model3_cv = tf.keras.Sequential([\n",
    "    tf.keras.layers.Dense(128,input_shape=(40,)),\n",
    "    tf.keras.layers.Dropout(0.3),\n",
    "    tf.keras.layers.BatchNormalization(),\n",
    "    tf.keras.layers.Dense(512, activation='relu'),\n",
    "    tf.keras.layers.Dropout(0.3),\n",
    "    tf.keras.layers.BatchNormalization(),\n",
    "    tf.keras.layers.Dense(128, activation='relu'),\n",
    "    tf.keras.layers.Dropout(0.3),\n",
    "    tf.keras.layers.BatchNormalization(),\n",
    "    tf.keras.layers.Dense(n_labels, activation='softmax')])\n",
    "    \n",
    "    model3_cv.compile(optimizer='adam',\n",
    "              loss='categorical_crossentropy',\n",
    "              metrics=['accuracy'])\n",
    "    return model3_cv"
   ]
  },
  {
   "cell_type": "code",
   "execution_count": 200,
   "metadata": {},
   "outputs": [
    {
     "name": "stderr",
     "output_type": "stream",
     "text": [
      "<ipython-input-200-ce5b6de2b690>:1: DeprecationWarning: KerasClassifier is deprecated, use Sci-Keras (https://github.com/adriangb/scikeras) instead.\n",
      "  estimator = KerasClassifier(build_fn=model3_cv, epochs=100, verbose=0)\n"
     ]
    },
    {
     "name": "stdout",
     "output_type": "stream",
     "text": [
      "Accuracy: 90.86% (1.04%)\n"
     ]
    }
   ],
   "source": [
    "estimator = KerasClassifier(build_fn=model3_cv, epochs=100, verbose=0)\n",
    "kfold = KFold(n_splits=10,random_state=1, shuffle=True)\n",
    "results = cross_val_score(estimator, X, y, cv=kfold)\n",
    "print(\"Accuracy: %.2f%% (%.2f%%)\" % (results.mean()*100, results.std()*100))"
   ]
  },
  {
   "cell_type": "code",
   "execution_count": 265,
   "metadata": {},
   "outputs": [
    {
     "data": {
      "text/html": [
       "<div>\n",
       "<style scoped>\n",
       "    .dataframe tbody tr th:only-of-type {\n",
       "        vertical-align: middle;\n",
       "    }\n",
       "\n",
       "    .dataframe tbody tr th {\n",
       "        vertical-align: top;\n",
       "    }\n",
       "\n",
       "    .dataframe thead th {\n",
       "        text-align: right;\n",
       "    }\n",
       "</style>\n",
       "<table border=\"1\" class=\"dataframe\">\n",
       "  <thead>\n",
       "    <tr style=\"text-align: right;\">\n",
       "      <th></th>\n",
       "      <th>Accuracy</th>\n",
       "      <th>St.Err.</th>\n",
       "    </tr>\n",
       "  </thead>\n",
       "  <tbody>\n",
       "    <tr>\n",
       "      <th>Model1</th>\n",
       "      <td>91.79%</td>\n",
       "      <td>1.62%</td>\n",
       "    </tr>\n",
       "    <tr>\n",
       "      <th>Model2</th>\n",
       "      <td>90.66%</td>\n",
       "      <td>1.02%</td>\n",
       "    </tr>\n",
       "    <tr>\n",
       "      <th>Model3</th>\n",
       "      <td>90.86%</td>\n",
       "      <td>1.03%</td>\n",
       "    </tr>\n",
       "  </tbody>\n",
       "</table>\n",
       "</div>"
      ],
      "text/plain": [
       "       Accuracy St.Err.\n",
       "Model1   91.79%   1.62%\n",
       "Model2   90.66%   1.02%\n",
       "Model3   90.86%   1.03%"
      ]
     },
     "execution_count": 265,
     "metadata": {},
     "output_type": "execute_result"
    }
   ],
   "source": [
    "df = pd.DataFrame({'Accuracy':[str(91.79)+'%', str(90.66)+'%', str(90.86)+'%'],\n",
    "       'St.Err.': [str(1.62)+'%', str(1.02)+'%', str(1.03)+'%']},\n",
    "                 index=['Model1', 'Model2', 'Model3']) \n",
    "df"
   ]
  },
  {
   "cell_type": "code",
   "execution_count": 202,
   "metadata": {},
   "outputs": [
    {
     "name": "stderr",
     "output_type": "stream",
     "text": [
      "3554it [02:46, 17.49it/s]C:\\Users\\DELL\\anaconda3\\lib\\site-packages\\librosa\\core\\spectrum.py:222: UserWarning: n_fft=2048 is too small for input signal of length=1323\n",
      "  warnings.warn(\n",
      "8307it [05:35, 39.28it/s]C:\\Users\\DELL\\anaconda3\\lib\\site-packages\\librosa\\core\\spectrum.py:222: UserWarning: n_fft=2048 is too small for input signal of length=1103\n",
      "  warnings.warn(\n",
      "8327it [05:36, 51.60it/s]C:\\Users\\DELL\\anaconda3\\lib\\site-packages\\librosa\\core\\spectrum.py:222: UserWarning: n_fft=2048 is too small for input signal of length=1523\n",
      "  warnings.warn(\n",
      "8732it [05:50, 24.89it/s]\n"
     ]
    },
    {
     "data": {
      "text/plain": [
       "(4499, 2)"
      ]
     },
     "execution_count": 202,
     "metadata": {},
     "output_type": "execute_result"
    }
   ],
   "source": [
    "trainingset = []\n",
    "for index,row in tqdm(metadata.iterrows()):\n",
    "    if (str(row[\"fold\"]) == \"1\"):\n",
    "        file_name =\"/users/DELL/OneDrive/Desktop/DSE/UrbanSound8K/audio/fold1/\" +str(row[\"slice_file_name\"])\n",
    "        label_class = str(row[\"class\"])\n",
    "        data = get_features(file_name)\n",
    "        trainingset.append([data,label_class])\n",
    "    elif(str(row[\"fold\"]) == \"2\"):\n",
    "        file_name =\"/users/DELL/OneDrive/Desktop/DSE/UrbanSound8K/audio/fold2/\" +str(row[\"slice_file_name\"])\n",
    "        label_class = str(row[\"class\"])\n",
    "        data = get_features(file_name)\n",
    "        trainingset.append([data,label_class])\n",
    "    elif (str(row[\"fold\"]) == \"3\"):\n",
    "        file_name =\"/users/DELL/OneDrive/Desktop/DSE/UrbanSound8K/audio/fold3/\" +str(row[\"slice_file_name\"])\n",
    "        label_class = str(row[\"class\"])\n",
    "        data = get_features(file_name)\n",
    "        trainingset.append([data,label_class])\n",
    "    elif (str(row[\"fold\"]) == \"4\"):\n",
    "        file_name =\"/users/DELL/OneDrive/Desktop/DSE/UrbanSound8K/audio/fold4/\" +str(row[\"slice_file_name\"])\n",
    "        label_class = str(row[\"class\"])\n",
    "        data = get_features(file_name)\n",
    "        trainingset.append([data,label_class])\n",
    "    elif (str(row[\"fold\"]) == \"6\"):\n",
    "        file_name =\"/users/DELL/OneDrive/Desktop/DSE/UrbanSound8K/audio/fold6/\" +str(row[\"slice_file_name\"])\n",
    "        label_class = str(row[\"class\"])\n",
    "        data = get_features(file_name)\n",
    "        trainingset.append([data,label_class])\n",
    "    else:\n",
    "        continue\n",
    "        \n",
    "Trainingset_mfcc=pd.DataFrame(trainingset, columns=['Features', 'Class'])\n",
    "Trainingset_mfcc.shape     "
   ]
  },
  {
   "cell_type": "code",
   "execution_count": 203,
   "metadata": {},
   "outputs": [
    {
     "data": {
      "text/html": [
       "<div>\n",
       "<style scoped>\n",
       "    .dataframe tbody tr th:only-of-type {\n",
       "        vertical-align: middle;\n",
       "    }\n",
       "\n",
       "    .dataframe tbody tr th {\n",
       "        vertical-align: top;\n",
       "    }\n",
       "\n",
       "    .dataframe thead th {\n",
       "        text-align: right;\n",
       "    }\n",
       "</style>\n",
       "<table border=\"1\" class=\"dataframe\">\n",
       "  <thead>\n",
       "    <tr style=\"text-align: right;\">\n",
       "      <th></th>\n",
       "      <th>Features</th>\n",
       "      <th>Class</th>\n",
       "    </tr>\n",
       "  </thead>\n",
       "  <tbody>\n",
       "    <tr>\n",
       "      <th>0</th>\n",
       "      <td>[-275.89142, 101.7432, -91.016815, -4.603029, ...</td>\n",
       "      <td>dog_bark</td>\n",
       "    </tr>\n",
       "    <tr>\n",
       "      <th>1</th>\n",
       "      <td>[-294.21707, 104.33867, -98.29193, -8.635915, ...</td>\n",
       "      <td>dog_bark</td>\n",
       "    </tr>\n",
       "    <tr>\n",
       "      <th>2</th>\n",
       "      <td>[-301.5207, 105.01332, -92.563484, -10.303136,...</td>\n",
       "      <td>dog_bark</td>\n",
       "    </tr>\n",
       "    <tr>\n",
       "      <th>3</th>\n",
       "      <td>[-299.53833, 105.0457, -95.95926, -11.808134, ...</td>\n",
       "      <td>dog_bark</td>\n",
       "    </tr>\n",
       "    <tr>\n",
       "      <th>4</th>\n",
       "      <td>[-193.32758, 36.054405, -63.924595, 6.513842, ...</td>\n",
       "      <td>dog_bark</td>\n",
       "    </tr>\n",
       "  </tbody>\n",
       "</table>\n",
       "</div>"
      ],
      "text/plain": [
       "                                            Features     Class\n",
       "0  [-275.89142, 101.7432, -91.016815, -4.603029, ...  dog_bark\n",
       "1  [-294.21707, 104.33867, -98.29193, -8.635915, ...  dog_bark\n",
       "2  [-301.5207, 105.01332, -92.563484, -10.303136,...  dog_bark\n",
       "3  [-299.53833, 105.0457, -95.95926, -11.808134, ...  dog_bark\n",
       "4  [-193.32758, 36.054405, -63.924595, 6.513842, ...  dog_bark"
      ]
     },
     "execution_count": 203,
     "metadata": {},
     "output_type": "execute_result"
    }
   ],
   "source": [
    "Trainingset_mfcc.head()"
   ]
  },
  {
   "cell_type": "code",
   "execution_count": 204,
   "metadata": {},
   "outputs": [
    {
     "name": "stderr",
     "output_type": "stream",
     "text": [
      "8732it [04:53, 29.74it/s]\n"
     ]
    },
    {
     "data": {
      "text/plain": [
       "((936, 2), (838, 2), (806, 2), (816, 2), (837, 2))"
      ]
     },
     "execution_count": 204,
     "metadata": {},
     "output_type": "execute_result"
    }
   ],
   "source": [
    "test_fold5 = []\n",
    "test_fold7 = []\n",
    "test_fold8 = []\n",
    "test_fold9 = []\n",
    "test_fold10 = []\n",
    "\n",
    "\n",
    "for index,row in tqdm(metadata.iterrows()):\n",
    "    if (str(row[\"fold\"]) == \"5\"):\n",
    "        file_name = \"/users/DELL/OneDrive/Desktop/DSE/UrbanSound8K/audio/fold5/\" + str(row[\"slice_file_name\"])\n",
    "        label_class = str(row[\"class\"])\n",
    "        data = get_features(file_name)\n",
    "        test_fold5.append([data,label_class])\n",
    "    elif (str(row[\"fold\"]) == \"7\"):\n",
    "        file_name = \"/users/DELL/OneDrive/Desktop/DSE/UrbanSound8K/audio/fold7/\" + str(row[\"slice_file_name\"])\n",
    "        label_class = str(row[\"class\"])\n",
    "        data = get_features(file_name)\n",
    "        test_fold7.append([data,label_class])\n",
    "    elif (str(row[\"fold\"]) == \"8\"):\n",
    "        file_name = \"/users/DELL/OneDrive/Desktop/DSE/UrbanSound8K/audio/fold8/\" + str(row[\"slice_file_name\"])\n",
    "        label_class = str(row[\"class\"])\n",
    "        data = get_features(file_name)\n",
    "        test_fold8.append([data,label_class])\n",
    "    elif (str(row[\"fold\"]) == \"9\"):\n",
    "        file_name = \"/users/DELL/OneDrive/Desktop/DSE/UrbanSound8K/audio/fold9/\" + str(row[\"slice_file_name\"])\n",
    "        label_class = str(row[\"class\"])\n",
    "        data = get_features(file_name)\n",
    "        test_fold9.append([data,label_class])\n",
    "    elif (str(row[\"fold\"]) == \"10\"):\n",
    "        file_name = \"/users/DELL/OneDrive/Desktop/DSE/UrbanSound8K/audio/fold10/\" + str(row[\"slice_file_name\"])\n",
    "        label_class = str(row[\"class\"])\n",
    "        data = get_features(file_name)\n",
    "        test_fold10.append([data,label_class])\n",
    "    else:\n",
    "        continue\n",
    "\n",
    "fold5 = pd.DataFrame(test_fold5,columns=['Features','Class'])\n",
    "fold7 = pd.DataFrame(test_fold7,columns=['Features','Class'])\n",
    "fold8 = pd.DataFrame(test_fold8,columns=['Features','Class'])\n",
    "fold9 = pd.DataFrame(test_fold9,columns=['Features','Class'])\n",
    "fold10 = pd.DataFrame(test_fold10,columns=['Features','Class'])\n",
    "\n",
    "fold5.shape, fold7.shape, fold8.shape, fold9.shape, fold10.shape"
   ]
  },
  {
   "cell_type": "code",
   "execution_count": 205,
   "metadata": {},
   "outputs": [
    {
     "data": {
      "text/html": [
       "<div>\n",
       "<style scoped>\n",
       "    .dataframe tbody tr th:only-of-type {\n",
       "        vertical-align: middle;\n",
       "    }\n",
       "\n",
       "    .dataframe tbody tr th {\n",
       "        vertical-align: top;\n",
       "    }\n",
       "\n",
       "    .dataframe thead th {\n",
       "        text-align: right;\n",
       "    }\n",
       "</style>\n",
       "<table border=\"1\" class=\"dataframe\">\n",
       "  <thead>\n",
       "    <tr style=\"text-align: right;\">\n",
       "      <th></th>\n",
       "      <th>Features</th>\n",
       "      <th>Class</th>\n",
       "    </tr>\n",
       "  </thead>\n",
       "  <tbody>\n",
       "    <tr>\n",
       "      <th>0</th>\n",
       "      <td>[-215.79301, 71.66612, -131.81377, -52.091328,...</td>\n",
       "      <td>dog_bark</td>\n",
       "    </tr>\n",
       "    <tr>\n",
       "      <th>1</th>\n",
       "      <td>[-424.68677, 110.56227, -54.148235, 62.01073, ...</td>\n",
       "      <td>children_playing</td>\n",
       "    </tr>\n",
       "    <tr>\n",
       "      <th>2</th>\n",
       "      <td>[-459.56467, 122.800354, -47.92471, 53.265694,...</td>\n",
       "      <td>children_playing</td>\n",
       "    </tr>\n",
       "    <tr>\n",
       "      <th>3</th>\n",
       "      <td>[-414.55377, 102.896904, -36.66495, 54.18041, ...</td>\n",
       "      <td>children_playing</td>\n",
       "    </tr>\n",
       "    <tr>\n",
       "      <th>4</th>\n",
       "      <td>[-447.397, 115.0954, -53.809113, 61.608585, 1....</td>\n",
       "      <td>children_playing</td>\n",
       "    </tr>\n",
       "  </tbody>\n",
       "</table>\n",
       "</div>"
      ],
      "text/plain": [
       "                                            Features             Class\n",
       "0  [-215.79301, 71.66612, -131.81377, -52.091328,...          dog_bark\n",
       "1  [-424.68677, 110.56227, -54.148235, 62.01073, ...  children_playing\n",
       "2  [-459.56467, 122.800354, -47.92471, 53.265694,...  children_playing\n",
       "3  [-414.55377, 102.896904, -36.66495, 54.18041, ...  children_playing\n",
       "4  [-447.397, 115.0954, -53.809113, 61.608585, 1....  children_playing"
      ]
     },
     "execution_count": 205,
     "metadata": {},
     "output_type": "execute_result"
    }
   ],
   "source": [
    "fold5.head()"
   ]
  },
  {
   "cell_type": "code",
   "execution_count": 206,
   "metadata": {},
   "outputs": [],
   "source": [
    "### Split the dataset into features and labels\n",
    "X_train = np.array(Trainingset_mfcc['Features'].tolist())\n",
    "Y_train = np.array(Trainingset_mfcc['Class'].tolist())\n",
    "\n",
    "X_fold5 = np.array(fold5['Features'].tolist())\n",
    "Y_fold5 = np.array(fold5['Class'].tolist())\n",
    "\n",
    "X_fold7 = np.array(fold7['Features'].tolist())\n",
    "Y_fold7 = np.array(fold7['Class'].tolist())\n",
    "\n",
    "X_fold8 = np.array(fold8['Features'].tolist())\n",
    "Y_fold8 = np.array(fold8['Class'].tolist())\n",
    "\n",
    "X_fold9 = np.array(fold9['Features'].tolist())\n",
    "Y_fold9 = np.array(fold9['Class'].tolist())\n",
    "\n",
    "X_fold10 = np.array(fold10['Features'].tolist())\n",
    "Y_fold10 = np.array(fold10['Class'].tolist())"
   ]
  },
  {
   "cell_type": "code",
   "execution_count": 207,
   "metadata": {},
   "outputs": [],
   "source": [
    "### Label Encoding\n",
    "labelencoder = LabelEncoder()\n",
    "Y_train = to_categorical(labelencoder.fit_transform(Y_train))\n",
    "\n",
    "Y_fold5 = to_categorical(labelencoder.fit_transform(Y_fold5))\n",
    "Y_fold7 = to_categorical(labelencoder.fit_transform(Y_fold7))\n",
    "Y_fold8 = to_categorical(labelencoder.fit_transform(Y_fold8))\n",
    "Y_fold9 = to_categorical(labelencoder.fit_transform(Y_fold9))\n",
    "Y_fold10 = to_categorical(labelencoder.fit_transform(Y_fold10))"
   ]
  },
  {
   "cell_type": "code",
   "execution_count": 208,
   "metadata": {},
   "outputs": [
    {
     "name": "stdout",
     "output_type": "stream",
     "text": [
      "Train shape:\n",
      "X:  (4499, 40)\n",
      "y:  (4499, 10)\n",
      "Test shape\n",
      "X:  (936, 40)\n",
      "y:  (936, 10)\n"
     ]
    }
   ],
   "source": [
    "print('Train shape:')\n",
    "print('X: ',X_train.shape)\n",
    "print('y: ',Y_train.shape)\n",
    "\n",
    "print('Test shape')\n",
    "print('X: ',X_fold5.shape)\n",
    "print('y: ',Y_fold5.shape)"
   ]
  },
  {
   "cell_type": "code",
   "execution_count": 209,
   "metadata": {},
   "outputs": [
    {
     "data": {
      "text/plain": [
       "(array([[-2.7589142e+02,  1.0174320e+02, -9.1016815e+01, ...,\n",
       "          9.7096197e-02,  2.6730344e+00,  8.5336030e-01],\n",
       "        [-2.9421707e+02,  1.0433867e+02, -9.8291931e+01, ...,\n",
       "         -6.8780518e-01,  1.6340903e+00,  1.6499337e+00],\n",
       "        [-3.0152069e+02,  1.0501332e+02, -9.2563484e+01, ...,\n",
       "         -3.1876016e-01,  1.0875399e+00,  4.7585857e-01],\n",
       "        ...,\n",
       "        [-1.1965828e+02,  1.4271477e+02, -4.7209030e+01, ...,\n",
       "         -1.3909954e+00,  2.1198912e+00,  5.7377915e+00],\n",
       "        [-1.1181638e+02,  1.3991504e+02, -4.1092350e+01, ...,\n",
       "         -2.3852682e+00,  3.8598619e+00,  8.1123943e+00],\n",
       "        [-9.1143326e+01,  1.3814082e+02, -4.9765118e+01, ...,\n",
       "         -1.9491849e+00,  1.5663247e+00,  6.2767806e+00]], dtype=float32),\n",
       " (4499, 40))"
      ]
     },
     "execution_count": 209,
     "metadata": {},
     "output_type": "execute_result"
    }
   ],
   "source": [
    "X_train, X_train.shape"
   ]
  },
  {
   "cell_type": "code",
   "execution_count": 210,
   "metadata": {},
   "outputs": [
    {
     "data": {
      "text/plain": [
       "(array([[0., 0., 0., ..., 0., 0., 0.],\n",
       "        [0., 0., 1., ..., 0., 0., 0.],\n",
       "        [0., 0., 1., ..., 0., 0., 0.],\n",
       "        ...,\n",
       "        [0., 0., 0., ..., 0., 0., 0.],\n",
       "        [0., 0., 0., ..., 0., 0., 0.],\n",
       "        [0., 0., 0., ..., 0., 0., 0.]], dtype=float32),\n",
       " (936, 10))"
      ]
     },
     "execution_count": 210,
     "metadata": {},
     "output_type": "execute_result"
    }
   ],
   "source": [
    "Y_fold5, Y_fold5.shape"
   ]
  },
  {
   "cell_type": "markdown",
   "metadata": {},
   "source": [
    "In this step, we will create a models using TensorFlow. Our layers will be stacked in sequence. The last layer will have a softmax activation layer because it is a multi-class classification problem. We can summarize the construction of deep learning models in Keras using the Sequential model as follows: 1.Define your model: create a Sequential model and add layers. 2.Compile your model: specify loss function and optimizers and call the .compile() function. 3.Fit your model: train the model on data by calling the .fit() function. 4.Make predictions: use the model to generate predictions on new data by calling functions such as .evaluate() or .predict().\n",
    "\n",
    "Dropout is regularization technique to avoid overfitting (increase the validation accuracy) thus increasing the generalizing power. -Generally, use a small dropout value of 20%-50% of neurons with 20% providing a good starting point. A probability too low has minimal effect and a value too high results in under-learning by the network. -Use a larger network. You are likely to get better performance when dropout is used on a larger network, giving the model more of an opportunity to learn independent representations."
   ]
  },
  {
   "cell_type": "code",
   "execution_count": 283,
   "metadata": {},
   "outputs": [],
   "source": [
    "###MODEL3_NN with Dropout and batch normalizzation\n",
    "num_labels = Y_train.shape[1]\n",
    "\n",
    "model3_NN = tf.keras.Sequential([\n",
    "    tf.keras.layers.Dense(512,input_shape=(40,)),\n",
    "    tf.keras.layers.Dropout(0.3),\n",
    "    tf.keras.layers.BatchNormalization(),\n",
    "    tf.keras.layers.Dense(128, activation='relu'),\n",
    "    tf.keras.layers.Dropout(0.3),\n",
    "    tf.keras.layers.BatchNormalization(),\n",
    "    tf.keras.layers.Dense(128, activation='relu'),\n",
    "    tf.keras.layers.Dropout(0.3),\n",
    "    tf.keras.layers.BatchNormalization(),\n",
    "    tf.keras.layers.Dense(num_labels, activation='softmax')\n",
    "])\n",
    "\n",
    "model3_NN.compile(optimizer='adam',\n",
    "              loss='categorical_crossentropy',\n",
    "              metrics=['accuracy'])\n",
    "\n"
   ]
  },
  {
   "cell_type": "code",
   "execution_count": 284,
   "metadata": {},
   "outputs": [
    {
     "name": "stdout",
     "output_type": "stream",
     "text": [
      "Model: \"sequential_141\"\n",
      "_________________________________________________________________\n",
      " Layer (type)                Output Shape              Param #   \n",
      "=================================================================\n",
      " dense_564 (Dense)           (None, 512)               20992     \n",
      "                                                                 \n",
      " dropout_303 (Dropout)       (None, 512)               0         \n",
      "                                                                 \n",
      " batch_normalization_138 (Ba  (None, 512)              2048      \n",
      " tchNormalization)                                               \n",
      "                                                                 \n",
      " dense_565 (Dense)           (None, 128)               65664     \n",
      "                                                                 \n",
      " dropout_304 (Dropout)       (None, 128)               0         \n",
      "                                                                 \n",
      " batch_normalization_139 (Ba  (None, 128)              512       \n",
      " tchNormalization)                                               \n",
      "                                                                 \n",
      " dense_566 (Dense)           (None, 128)               16512     \n",
      "                                                                 \n",
      " dropout_305 (Dropout)       (None, 128)               0         \n",
      "                                                                 \n",
      " batch_normalization_140 (Ba  (None, 128)              512       \n",
      " tchNormalization)                                               \n",
      "                                                                 \n",
      " dense_567 (Dense)           (None, 10)                1290      \n",
      "                                                                 \n",
      "=================================================================\n",
      "Total params: 107,530\n",
      "Trainable params: 105,994\n",
      "Non-trainable params: 1,536\n",
      "_________________________________________________________________\n"
     ]
    }
   ],
   "source": [
    "model3_NN.summary()"
   ]
  },
  {
   "cell_type": "code",
   "execution_count": 285,
   "metadata": {},
   "outputs": [
    {
     "name": "stdout",
     "output_type": "stream",
     "text": [
      "Epoch 1/100\n",
      "141/141 [==============================] - 5s 8ms/step - loss: 2.3381 - accuracy: 0.2180 - val_loss: 2.3299 - val_accuracy: 0.1132\n",
      "Epoch 2/100\n",
      "141/141 [==============================] - 1s 5ms/step - loss: 1.9677 - accuracy: 0.2954 - val_loss: 2.6038 - val_accuracy: 0.1560\n",
      "Epoch 3/100\n",
      "141/141 [==============================] - 1s 5ms/step - loss: 1.8530 - accuracy: 0.3343 - val_loss: 2.3502 - val_accuracy: 0.2179\n",
      "Epoch 4/100\n",
      "141/141 [==============================] - 1s 5ms/step - loss: 1.7522 - accuracy: 0.3723 - val_loss: 1.9112 - val_accuracy: 0.3056\n",
      "Epoch 5/100\n",
      "141/141 [==============================] - 1s 5ms/step - loss: 1.6786 - accuracy: 0.4008 - val_loss: 1.9871 - val_accuracy: 0.3184\n",
      "Epoch 6/100\n",
      "141/141 [==============================] - 1s 5ms/step - loss: 1.6538 - accuracy: 0.4059 - val_loss: 1.6592 - val_accuracy: 0.4060\n",
      "Epoch 7/100\n",
      "141/141 [==============================] - 1s 5ms/step - loss: 1.6123 - accuracy: 0.4268 - val_loss: 1.8018 - val_accuracy: 0.3889\n",
      "Epoch 8/100\n",
      "141/141 [==============================] - 1s 5ms/step - loss: 1.5765 - accuracy: 0.4290 - val_loss: 1.6755 - val_accuracy: 0.4177\n",
      "Epoch 9/100\n",
      "141/141 [==============================] - 1s 5ms/step - loss: 1.5391 - accuracy: 0.4503 - val_loss: 1.6768 - val_accuracy: 0.4113\n",
      "Epoch 10/100\n",
      "141/141 [==============================] - 1s 6ms/step - loss: 1.5131 - accuracy: 0.4621 - val_loss: 1.6711 - val_accuracy: 0.4359\n",
      "Epoch 11/100\n",
      "141/141 [==============================] - 1s 6ms/step - loss: 1.4986 - accuracy: 0.4632 - val_loss: 1.6706 - val_accuracy: 0.4295\n",
      "Epoch 12/100\n",
      "141/141 [==============================] - 1s 7ms/step - loss: 1.4900 - accuracy: 0.4743 - val_loss: 1.5818 - val_accuracy: 0.4776\n",
      "Epoch 13/100\n",
      "141/141 [==============================] - 1s 7ms/step - loss: 1.4635 - accuracy: 0.4848 - val_loss: 1.5922 - val_accuracy: 0.4551\n",
      "Epoch 14/100\n",
      "141/141 [==============================] - 1s 6ms/step - loss: 1.4456 - accuracy: 0.4812 - val_loss: 1.5923 - val_accuracy: 0.4936\n",
      "Epoch 15/100\n",
      "141/141 [==============================] - 1s 5ms/step - loss: 1.4325 - accuracy: 0.4937 - val_loss: 1.7506 - val_accuracy: 0.3900\n",
      "Epoch 16/100\n",
      "141/141 [==============================] - 1s 6ms/step - loss: 1.4330 - accuracy: 0.4934 - val_loss: 1.6610 - val_accuracy: 0.4241\n",
      "Epoch 17/100\n",
      "141/141 [==============================] - 1s 7ms/step - loss: 1.4017 - accuracy: 0.5003 - val_loss: 1.6290 - val_accuracy: 0.4295\n",
      "Epoch 18/100\n",
      "141/141 [==============================] - 1s 6ms/step - loss: 1.3847 - accuracy: 0.5094 - val_loss: 1.5355 - val_accuracy: 0.4583\n",
      "Epoch 19/100\n",
      "141/141 [==============================] - 1s 6ms/step - loss: 1.3908 - accuracy: 0.5008 - val_loss: 1.5860 - val_accuracy: 0.4498\n",
      "Epoch 20/100\n",
      "141/141 [==============================] - 1s 5ms/step - loss: 1.3962 - accuracy: 0.5090 - val_loss: 1.5916 - val_accuracy: 0.4893\n",
      "Epoch 21/100\n",
      "141/141 [==============================] - 1s 6ms/step - loss: 1.3529 - accuracy: 0.5186 - val_loss: 1.6197 - val_accuracy: 0.4231\n",
      "Epoch 22/100\n",
      "141/141 [==============================] - 1s 5ms/step - loss: 1.3540 - accuracy: 0.5148 - val_loss: 1.6186 - val_accuracy: 0.4498\n",
      "Epoch 23/100\n",
      "141/141 [==============================] - 1s 5ms/step - loss: 1.3395 - accuracy: 0.5341 - val_loss: 1.6001 - val_accuracy: 0.4679\n",
      "Epoch 24/100\n",
      "141/141 [==============================] - 1s 5ms/step - loss: 1.3359 - accuracy: 0.5288 - val_loss: 1.6057 - val_accuracy: 0.4989\n",
      "Epoch 25/100\n",
      "141/141 [==============================] - 1s 5ms/step - loss: 1.3226 - accuracy: 0.5357 - val_loss: 1.5670 - val_accuracy: 0.4882\n",
      "Epoch 26/100\n",
      "141/141 [==============================] - 1s 5ms/step - loss: 1.3264 - accuracy: 0.5281 - val_loss: 1.6460 - val_accuracy: 0.4444\n",
      "Epoch 27/100\n",
      "141/141 [==============================] - 1s 5ms/step - loss: 1.3100 - accuracy: 0.5306 - val_loss: 1.6240 - val_accuracy: 0.4701\n",
      "Epoch 28/100\n",
      "141/141 [==============================] - 1s 6ms/step - loss: 1.3066 - accuracy: 0.5339 - val_loss: 1.6099 - val_accuracy: 0.4904\n",
      "Epoch 29/100\n",
      "141/141 [==============================] - 1s 5ms/step - loss: 1.3049 - accuracy: 0.5368 - val_loss: 1.8438 - val_accuracy: 0.3910\n",
      "Epoch 30/100\n",
      "141/141 [==============================] - 1s 7ms/step - loss: 1.2996 - accuracy: 0.5372 - val_loss: 1.7531 - val_accuracy: 0.4209\n",
      "Epoch 31/100\n",
      "141/141 [==============================] - 1s 6ms/step - loss: 1.2853 - accuracy: 0.5468 - val_loss: 1.6705 - val_accuracy: 0.4284\n",
      "Epoch 32/100\n",
      "141/141 [==============================] - 1s 5ms/step - loss: 1.2790 - accuracy: 0.5410 - val_loss: 1.7902 - val_accuracy: 0.4295\n",
      "Epoch 33/100\n",
      "141/141 [==============================] - 1s 5ms/step - loss: 1.2822 - accuracy: 0.5468 - val_loss: 1.6823 - val_accuracy: 0.4936\n",
      "Epoch 34/100\n",
      "141/141 [==============================] - 1s 5ms/step - loss: 1.2751 - accuracy: 0.5615 - val_loss: 1.8249 - val_accuracy: 0.4306\n",
      "Epoch 35/100\n",
      "141/141 [==============================] - 1s 5ms/step - loss: 1.2588 - accuracy: 0.5530 - val_loss: 1.7433 - val_accuracy: 0.4957\n",
      "Epoch 36/100\n",
      "141/141 [==============================] - 1s 4ms/step - loss: 1.2455 - accuracy: 0.5597 - val_loss: 1.7017 - val_accuracy: 0.4850\n",
      "Epoch 37/100\n",
      "141/141 [==============================] - 1s 4ms/step - loss: 1.2419 - accuracy: 0.5652 - val_loss: 1.6975 - val_accuracy: 0.4252\n",
      "Epoch 38/100\n",
      "141/141 [==============================] - 1s 5ms/step - loss: 1.2474 - accuracy: 0.5632 - val_loss: 1.7024 - val_accuracy: 0.4551\n",
      "Epoch 39/100\n",
      "141/141 [==============================] - 1s 5ms/step - loss: 1.2636 - accuracy: 0.5486 - val_loss: 1.7281 - val_accuracy: 0.4690\n",
      "Epoch 40/100\n",
      "141/141 [==============================] - 1s 5ms/step - loss: 1.2499 - accuracy: 0.5650 - val_loss: 1.6813 - val_accuracy: 0.4733\n",
      "Epoch 41/100\n",
      "141/141 [==============================] - 1s 4ms/step - loss: 1.2279 - accuracy: 0.5635 - val_loss: 1.7365 - val_accuracy: 0.4476\n",
      "Epoch 42/100\n",
      "141/141 [==============================] - 1s 4ms/step - loss: 1.2237 - accuracy: 0.5619 - val_loss: 1.7209 - val_accuracy: 0.4615\n",
      "Epoch 43/100\n",
      "141/141 [==============================] - 1s 4ms/step - loss: 1.2193 - accuracy: 0.5619 - val_loss: 1.7586 - val_accuracy: 0.4712\n",
      "Epoch 44/100\n",
      "141/141 [==============================] - 1s 6ms/step - loss: 1.2080 - accuracy: 0.5690 - val_loss: 1.6293 - val_accuracy: 0.4829\n",
      "Epoch 45/100\n",
      "141/141 [==============================] - 1s 5ms/step - loss: 1.2449 - accuracy: 0.5615 - val_loss: 1.7973 - val_accuracy: 0.4551\n",
      "Epoch 46/100\n",
      "141/141 [==============================] - 1s 5ms/step - loss: 1.2292 - accuracy: 0.5635 - val_loss: 1.7177 - val_accuracy: 0.4658\n",
      "Epoch 47/100\n",
      "141/141 [==============================] - 1s 6ms/step - loss: 1.2043 - accuracy: 0.5706 - val_loss: 1.7934 - val_accuracy: 0.4338\n",
      "Epoch 48/100\n",
      "141/141 [==============================] - 1s 5ms/step - loss: 1.1936 - accuracy: 0.5835 - val_loss: 1.7309 - val_accuracy: 0.5107\n",
      "Epoch 49/100\n",
      "141/141 [==============================] - 1s 5ms/step - loss: 1.2132 - accuracy: 0.5739 - val_loss: 1.8352 - val_accuracy: 0.4647\n",
      "Epoch 50/100\n",
      "141/141 [==============================] - 1s 6ms/step - loss: 1.1856 - accuracy: 0.5839 - val_loss: 1.6823 - val_accuracy: 0.5053\n",
      "Epoch 51/100\n",
      "141/141 [==============================] - 1s 6ms/step - loss: 1.1779 - accuracy: 0.5892 - val_loss: 1.7710 - val_accuracy: 0.4391\n",
      "Epoch 52/100\n",
      "141/141 [==============================] - 1s 5ms/step - loss: 1.1910 - accuracy: 0.5808 - val_loss: 1.9185 - val_accuracy: 0.4177\n",
      "Epoch 53/100\n",
      "141/141 [==============================] - 1s 5ms/step - loss: 1.1861 - accuracy: 0.5788 - val_loss: 1.7350 - val_accuracy: 0.4829\n",
      "Epoch 54/100\n",
      "141/141 [==============================] - 1s 5ms/step - loss: 1.1791 - accuracy: 0.5815 - val_loss: 1.7431 - val_accuracy: 0.4679\n",
      "Epoch 55/100\n",
      "141/141 [==============================] - 1s 5ms/step - loss: 1.1802 - accuracy: 0.5784 - val_loss: 1.7061 - val_accuracy: 0.4882\n",
      "Epoch 56/100\n",
      "141/141 [==============================] - 1s 5ms/step - loss: 1.1685 - accuracy: 0.5846 - val_loss: 1.7002 - val_accuracy: 0.4797\n",
      "Epoch 57/100\n",
      "141/141 [==============================] - 1s 5ms/step - loss: 1.1901 - accuracy: 0.5808 - val_loss: 1.7718 - val_accuracy: 0.4519\n"
     ]
    },
    {
     "name": "stdout",
     "output_type": "stream",
     "text": [
      "Epoch 58/100\n",
      "141/141 [==============================] - 1s 5ms/step - loss: 1.1807 - accuracy: 0.5779 - val_loss: 1.7791 - val_accuracy: 0.4509\n",
      "Epoch 59/100\n",
      "141/141 [==============================] - 1s 5ms/step - loss: 1.1778 - accuracy: 0.5850 - val_loss: 1.7706 - val_accuracy: 0.4647\n",
      "Epoch 60/100\n",
      "141/141 [==============================] - 1s 4ms/step - loss: 1.1770 - accuracy: 0.5928 - val_loss: 1.7874 - val_accuracy: 0.4733\n",
      "Epoch 61/100\n",
      "141/141 [==============================] - 1s 5ms/step - loss: 1.1946 - accuracy: 0.5850 - val_loss: 1.7219 - val_accuracy: 0.4882\n",
      "Epoch 62/100\n",
      "141/141 [==============================] - 1s 5ms/step - loss: 1.1730 - accuracy: 0.5866 - val_loss: 1.8090 - val_accuracy: 0.4915\n",
      "Epoch 63/100\n",
      "141/141 [==============================] - 1s 5ms/step - loss: 1.1689 - accuracy: 0.5946 - val_loss: 1.6872 - val_accuracy: 0.5085\n",
      "Epoch 64/100\n",
      "141/141 [==============================] - 1s 4ms/step - loss: 1.1645 - accuracy: 0.5904 - val_loss: 1.7952 - val_accuracy: 0.4893\n",
      "Epoch 65/100\n",
      "141/141 [==============================] - 1s 4ms/step - loss: 1.1321 - accuracy: 0.6032 - val_loss: 1.6970 - val_accuracy: 0.4915\n",
      "Epoch 66/100\n",
      "141/141 [==============================] - 1s 4ms/step - loss: 1.1458 - accuracy: 0.5957 - val_loss: 1.6768 - val_accuracy: 0.5000\n",
      "Epoch 67/100\n",
      "141/141 [==============================] - 1s 5ms/step - loss: 1.1496 - accuracy: 0.5995 - val_loss: 1.7042 - val_accuracy: 0.4904\n",
      "Epoch 68/100\n",
      "141/141 [==============================] - 1s 5ms/step - loss: 1.1609 - accuracy: 0.5897 - val_loss: 1.7557 - val_accuracy: 0.4893\n",
      "Epoch 69/100\n",
      "141/141 [==============================] - 1s 4ms/step - loss: 1.1577 - accuracy: 0.5915 - val_loss: 1.6957 - val_accuracy: 0.4861\n",
      "Epoch 70/100\n",
      "141/141 [==============================] - 1s 5ms/step - loss: 1.1769 - accuracy: 0.5855 - val_loss: 1.8878 - val_accuracy: 0.4712\n",
      "Epoch 71/100\n",
      "141/141 [==============================] - 1s 5ms/step - loss: 1.1573 - accuracy: 0.5872 - val_loss: 1.7521 - val_accuracy: 0.4647\n",
      "Epoch 72/100\n",
      "141/141 [==============================] - 1s 5ms/step - loss: 1.1708 - accuracy: 0.5901 - val_loss: 1.7563 - val_accuracy: 0.4701\n",
      "Epoch 73/100\n",
      "141/141 [==============================] - 1s 5ms/step - loss: 1.1436 - accuracy: 0.5921 - val_loss: 1.7080 - val_accuracy: 0.5043\n",
      "Epoch 74/100\n",
      "141/141 [==============================] - 1s 5ms/step - loss: 1.1517 - accuracy: 0.5955 - val_loss: 1.7593 - val_accuracy: 0.4818\n",
      "Epoch 75/100\n",
      "141/141 [==============================] - 1s 7ms/step - loss: 1.1686 - accuracy: 0.5850 - val_loss: 1.7494 - val_accuracy: 0.4690\n",
      "Epoch 76/100\n",
      "141/141 [==============================] - 1s 5ms/step - loss: 1.1261 - accuracy: 0.5988 - val_loss: 1.7544 - val_accuracy: 0.4893\n",
      "Epoch 77/100\n",
      "141/141 [==============================] - 1s 5ms/step - loss: 1.1336 - accuracy: 0.5990 - val_loss: 1.6896 - val_accuracy: 0.4925\n",
      "Epoch 78/100\n",
      "141/141 [==============================] - 1s 5ms/step - loss: 1.1139 - accuracy: 0.6079 - val_loss: 1.7791 - val_accuracy: 0.4647\n",
      "Epoch 79/100\n",
      "141/141 [==============================] - 1s 5ms/step - loss: 1.1278 - accuracy: 0.5975 - val_loss: 1.9138 - val_accuracy: 0.4252\n",
      "Epoch 80/100\n",
      "141/141 [==============================] - 1s 5ms/step - loss: 1.1230 - accuracy: 0.6059 - val_loss: 1.9262 - val_accuracy: 0.4402\n",
      "Epoch 81/100\n",
      "141/141 [==============================] - 1s 4ms/step - loss: 1.1002 - accuracy: 0.6110 - val_loss: 1.7697 - val_accuracy: 0.4765\n",
      "Epoch 82/100\n",
      "141/141 [==============================] - 1s 5ms/step - loss: 1.1221 - accuracy: 0.6041 - val_loss: 1.8133 - val_accuracy: 0.4466\n",
      "Epoch 83/100\n",
      "141/141 [==============================] - 1s 5ms/step - loss: 1.1373 - accuracy: 0.5966 - val_loss: 1.6771 - val_accuracy: 0.4818\n",
      "Epoch 84/100\n",
      "141/141 [==============================] - 1s 5ms/step - loss: 1.1199 - accuracy: 0.6035 - val_loss: 1.7777 - val_accuracy: 0.4647\n",
      "Epoch 85/100\n",
      "141/141 [==============================] - 1s 6ms/step - loss: 1.1205 - accuracy: 0.6121 - val_loss: 1.7450 - val_accuracy: 0.4786\n",
      "Epoch 86/100\n",
      "141/141 [==============================] - 1s 5ms/step - loss: 1.1349 - accuracy: 0.5990 - val_loss: 1.7375 - val_accuracy: 0.4872\n",
      "Epoch 87/100\n",
      "141/141 [==============================] - 1s 5ms/step - loss: 1.1441 - accuracy: 0.5946 - val_loss: 1.8116 - val_accuracy: 0.4915\n",
      "Epoch 88/100\n",
      "141/141 [==============================] - 1s 5ms/step - loss: 1.1024 - accuracy: 0.6168 - val_loss: 1.7296 - val_accuracy: 0.5000\n",
      "Epoch 89/100\n",
      "141/141 [==============================] - 1s 5ms/step - loss: 1.1027 - accuracy: 0.6092 - val_loss: 1.7097 - val_accuracy: 0.4733\n",
      "Epoch 90/100\n",
      "141/141 [==============================] - 1s 5ms/step - loss: 1.1037 - accuracy: 0.6079 - val_loss: 1.7492 - val_accuracy: 0.4850\n",
      "Epoch 91/100\n",
      "141/141 [==============================] - 1s 6ms/step - loss: 1.1019 - accuracy: 0.6144 - val_loss: 1.7170 - val_accuracy: 0.5128\n",
      "Epoch 92/100\n",
      "141/141 [==============================] - 1s 5ms/step - loss: 1.1200 - accuracy: 0.6084 - val_loss: 1.7257 - val_accuracy: 0.4829\n",
      "Epoch 93/100\n",
      "141/141 [==============================] - 1s 5ms/step - loss: 1.1166 - accuracy: 0.5992 - val_loss: 1.8372 - val_accuracy: 0.4594\n",
      "Epoch 94/100\n",
      "141/141 [==============================] - 1s 5ms/step - loss: 1.1154 - accuracy: 0.6086 - val_loss: 1.9080 - val_accuracy: 0.4241\n",
      "Epoch 95/100\n",
      "141/141 [==============================] - 1s 5ms/step - loss: 1.1206 - accuracy: 0.6108 - val_loss: 1.8767 - val_accuracy: 0.4199\n",
      "Epoch 96/100\n",
      "141/141 [==============================] - 1s 5ms/step - loss: 1.0770 - accuracy: 0.6230 - val_loss: 1.8551 - val_accuracy: 0.4434\n",
      "Epoch 97/100\n",
      "141/141 [==============================] - 1s 5ms/step - loss: 1.0934 - accuracy: 0.6115 - val_loss: 1.8345 - val_accuracy: 0.4434\n",
      "Epoch 98/100\n",
      "141/141 [==============================] - 1s 5ms/step - loss: 1.0941 - accuracy: 0.6106 - val_loss: 1.7836 - val_accuracy: 0.4573\n",
      "Epoch 99/100\n",
      "141/141 [==============================] - 1s 5ms/step - loss: 1.1025 - accuracy: 0.6164 - val_loss: 1.8065 - val_accuracy: 0.4391\n",
      "Epoch 100/100\n",
      "141/141 [==============================] - 1s 5ms/step - loss: 1.0929 - accuracy: 0.6168 - val_loss: 1.8017 - val_accuracy: 0.5032\n"
     ]
    }
   ],
   "source": [
    "history = model3_NN.fit(X_train, Y_train, epochs=100, validation_data=(X_fold5, Y_fold5), verbose=1)"
   ]
  },
  {
   "cell_type": "code",
   "execution_count": 286,
   "metadata": {},
   "outputs": [
    {
     "data": {
      "text/plain": [
       "0.41168596744537356"
      ]
     },
     "execution_count": 286,
     "metadata": {},
     "output_type": "execute_result"
    }
   ],
   "source": [
    "accuracy = []\n",
    "\n",
    "test_accuracy = model3_NN.evaluate(X_fold5,Y_fold5,verbose=0)\n",
    "value = test_accuracy[1]\n",
    "accuracy.append(value)\n",
    "\n",
    "test_accuracy = model3_NN.evaluate(X_fold7,Y_fold7,verbose=0)\n",
    "value = test_accuracy[1]\n",
    "accuracy.append(value)\n",
    "\n",
    "test_accuracy = model3_NN.evaluate(X_fold8,Y_fold8,verbose=0)\n",
    "value = test_accuracy[1]\n",
    "accuracy.append(value)\n",
    "\n",
    "test_accuracy = model3_NN.evaluate(X_fold9,Y_fold9,verbose=0)\n",
    "value = test_accuracy[1]\n",
    "accuracy.append(value)\n",
    "\n",
    "test_accuracy = model3_NN.evaluate(X_fold10,Y_fold10,verbose=0)\n",
    "value = test_accuracy[1]\n",
    "accuracy.append(value)\n",
    "\n",
    "\n",
    "avg_accuracy = np.mean(accuracy)\n",
    "avg_accuracy"
   ]
  },
  {
   "cell_type": "code",
   "execution_count": 287,
   "metadata": {},
   "outputs": [
    {
     "data": {
      "image/png": "[encoded data removed]",
      "text/plain": [
       "<Figure size 1080x720 with 1 Axes>"
      ]
     },
     "metadata": {
      "needs_background": "light"
     },
     "output_type": "display_data"
    }
   ],
   "source": [
    "# Plot loss per iteration\n",
    "import matplotlib.pyplot as plt\n",
    "from pylab import rcParams\n",
    "rcParams['figure.figsize'] = 15, 10\n",
    "plt.title(\"loss function and accuracy scores after each epoch, for both train and test sets\")\n",
    "plt.plot(history.history['loss'], label='train loss')\n",
    "plt.plot(history.history['val_loss'], label='validation loss')\n",
    "plt.plot(history.history['accuracy'], label='train accuracy')\n",
    "plt.plot(history.history['val_accuracy'], label='validation accuracy')\n",
    "plt.legend()\n",
    "plt.savefig(\"/Users/DELL/OneDrive/Desktop/DSE/Machine Learning/accloss.jpg\")"
   ]
  },
  {
   "cell_type": "code",
   "execution_count": 288,
   "metadata": {},
   "outputs": [
    {
     "data": {
      "image/png": "[encoded data removed]",
      "text/plain": [
       "<Figure size 1080x720 with 2 Axes>"
      ]
     },
     "metadata": {
      "needs_background": "light"
     },
     "output_type": "display_data"
    }
   ],
   "source": [
    "plt.figure(1) \n",
    "   \n",
    "   \n",
    "plt.subplot(211)  \n",
    "plt.plot(history.history['accuracy'])  \n",
    "plt.plot(history.history['val_accuracy'])  \n",
    "plt.title('model accuracy')  \n",
    "plt.ylabel('accuracy')  \n",
    "plt.xlabel('epoch')  \n",
    "plt.legend(['train', 'test'], loc='upper left')  \n",
    "   \n",
    "   \n",
    "plt.subplot(212)  \n",
    "plt.plot(history.history['loss'])  \n",
    "plt.plot(history.history['val_loss'])  \n",
    "plt.title('model loss')  \n",
    "plt.ylabel('loss')  \n",
    "plt.xlabel('epoch')  \n",
    "plt.legend(['train', 'test'], loc='upper left')  \n",
    "plt.show()"
   ]
  },
  {
   "cell_type": "code",
   "execution_count": 289,
   "metadata": {},
   "outputs": [],
   "source": [
    "num_labels = Y_train.shape[1]\n",
    "    \n",
    "model2_NN = tf.keras.Sequential([\n",
    "tf.keras.layers.Dense(128,input_shape=(40,)),\n",
    "tf.keras.layers.Dropout(0.3),\n",
    "tf.keras.layers.Dense(512, activation='relu'),\n",
    "tf.keras.layers.Dropout(0.3),\n",
    "tf.keras.layers.Dense(128, activation='relu'),\n",
    "tf.keras.layers.Dropout(0.3),\n",
    "tf.keras.layers.Dense(num_labels, activation='softmax')])\n",
    "    \n",
    "model2_NN.compile(optimizer='adam',\n",
    "              loss='categorical_crossentropy',\n",
    "              metrics=['accuracy'])\n",
    "     "
   ]
  },
  {
   "cell_type": "code",
   "execution_count": 290,
   "metadata": {},
   "outputs": [
    {
     "name": "stdout",
     "output_type": "stream",
     "text": [
      "Model: \"sequential_142\"\n",
      "_________________________________________________________________\n",
      " Layer (type)                Output Shape              Param #   \n",
      "=================================================================\n",
      " dense_568 (Dense)           (None, 128)               5248      \n",
      "                                                                 \n",
      " dropout_306 (Dropout)       (None, 128)               0         \n",
      "                                                                 \n",
      " dense_569 (Dense)           (None, 512)               66048     \n",
      "                                                                 \n",
      " dropout_307 (Dropout)       (None, 512)               0         \n",
      "                                                                 \n",
      " dense_570 (Dense)           (None, 128)               65664     \n",
      "                                                                 \n",
      " dropout_308 (Dropout)       (None, 128)               0         \n",
      "                                                                 \n",
      " dense_571 (Dense)           (None, 10)                1290      \n",
      "                                                                 \n",
      "=================================================================\n",
      "Total params: 138,250\n",
      "Trainable params: 138,250\n",
      "Non-trainable params: 0\n",
      "_________________________________________________________________\n"
     ]
    }
   ],
   "source": [
    "model2_NN.summary()"
   ]
  },
  {
   "cell_type": "code",
   "execution_count": 291,
   "metadata": {},
   "outputs": [
    {
     "name": "stdout",
     "output_type": "stream",
     "text": [
      "Epoch 1/10\n",
      "141/141 [==============================] - 1s 5ms/step - loss: 2.1873 - accuracy: 0.1774 - val_loss: 2.0498 - val_accuracy: 0.2660\n",
      "Epoch 2/10\n",
      "141/141 [==============================] - 1s 4ms/step - loss: 1.9002 - accuracy: 0.3007 - val_loss: 1.8514 - val_accuracy: 0.3472\n",
      "Epoch 3/10\n",
      "141/141 [==============================] - 1s 4ms/step - loss: 1.6954 - accuracy: 0.3832 - val_loss: 1.6980 - val_accuracy: 0.4156\n",
      "Epoch 4/10\n",
      "141/141 [==============================] - 1s 6ms/step - loss: 1.5685 - accuracy: 0.4383 - val_loss: 1.7758 - val_accuracy: 0.3718\n",
      "Epoch 5/10\n",
      "141/141 [==============================] - 1s 6ms/step - loss: 1.5059 - accuracy: 0.4570 - val_loss: 1.6178 - val_accuracy: 0.4092\n",
      "Epoch 6/10\n",
      "141/141 [==============================] - 1s 5ms/step - loss: 1.4291 - accuracy: 0.4968 - val_loss: 1.6051 - val_accuracy: 0.4498\n",
      "Epoch 7/10\n",
      "141/141 [==============================] - 1s 4ms/step - loss: 1.3899 - accuracy: 0.5010 - val_loss: 1.6319 - val_accuracy: 0.4177\n",
      "Epoch 8/10\n",
      "141/141 [==============================] - 1s 4ms/step - loss: 1.3451 - accuracy: 0.5199 - val_loss: 1.6361 - val_accuracy: 0.4177\n",
      "Epoch 9/10\n",
      "141/141 [==============================] - 1s 4ms/step - loss: 1.3097 - accuracy: 0.5352 - val_loss: 1.6642 - val_accuracy: 0.4594\n",
      "Epoch 10/10\n",
      "141/141 [==============================] - 1s 4ms/step - loss: 1.2739 - accuracy: 0.5428 - val_loss: 1.5989 - val_accuracy: 0.4690\n"
     ]
    }
   ],
   "source": [
    "history = model2_NN.fit(X_train, Y_train, epochs=10, validation_data=(X_fold5, Y_fold5), verbose=1)"
   ]
  },
  {
   "cell_type": "code",
   "execution_count": 292,
   "metadata": {},
   "outputs": [
    {
     "data": {
      "text/plain": [
       "0.40235552191734314"
      ]
     },
     "execution_count": 292,
     "metadata": {},
     "output_type": "execute_result"
    }
   ],
   "source": [
    "accuracy = []\n",
    "\n",
    "test_accuracy = model2_NN.evaluate(X_fold5,Y_fold5,verbose=0)\n",
    "value = test_accuracy[1]\n",
    "accuracy.append(value)\n",
    "\n",
    "test_accuracy = model2_NN.evaluate(X_fold7,Y_fold7,verbose=0)\n",
    "value = test_accuracy[1]\n",
    "accuracy.append(value)\n",
    "\n",
    "test_accuracy = model2_NN.evaluate(X_fold8,Y_fold8,verbose=0)\n",
    "value = test_accuracy[1]\n",
    "accuracy.append(value)\n",
    "\n",
    "test_accuracy = model2_NN.evaluate(X_fold9,Y_fold9,verbose=0)\n",
    "value = test_accuracy[1]\n",
    "accuracy.append(value)\n",
    "\n",
    "test_accuracy = model2_NN.evaluate(X_fold10,Y_fold10,verbose=0)\n",
    "value = test_accuracy[1]\n",
    "accuracy.append(value)\n",
    "\n",
    "\n",
    "avg_accuracy = np.mean(accuracy)\n",
    "avg_accuracy"
   ]
  },
  {
   "cell_type": "code",
   "execution_count": 293,
   "metadata": {},
   "outputs": [
    {
     "data": {
      "image/png": "[encoded data removed]",
      "text/plain": [
       "<Figure size 1080x720 with 1 Axes>"
      ]
     },
     "metadata": {
      "needs_background": "light"
     },
     "output_type": "display_data"
    }
   ],
   "source": [
    "# Plot loss per iteration\n",
    "import matplotlib.pyplot as plt\n",
    "from pylab import rcParams\n",
    "rcParams['figure.figsize'] = 15, 10\n",
    "plt.title(\"loss function and accuracy scores after each epoch, for both train and test sets\")\n",
    "plt.plot(history.history['loss'], label='train loss')\n",
    "plt.plot(history.history['val_loss'], label='validation loss')\n",
    "plt.plot(history.history['accuracy'], label='train accuracy')\n",
    "plt.plot(history.history['val_accuracy'], label='validation accuracy')\n",
    "plt.legend()\n",
    "plt.savefig(\"/Users/DELL/OneDrive/Desktop/DSE/Machine Learning/accloss2.jpg\")"
   ]
  },
  {
   "cell_type": "code",
   "execution_count": 294,
   "metadata": {},
   "outputs": [
    {
     "data": {
      "image/png": "[encoded data removed]",
      "text/plain": [
       "<Figure size 1080x720 with 2 Axes>"
      ]
     },
     "metadata": {
      "needs_background": "light"
     },
     "output_type": "display_data"
    }
   ],
   "source": [
    "plt.figure(1) \n",
    "   \n",
    "   \n",
    "plt.subplot(211)  \n",
    "plt.plot(history.history['accuracy'])  \n",
    "plt.plot(history.history['val_accuracy'])  \n",
    "plt.title('model accuracy')  \n",
    "plt.ylabel('accuracy')  \n",
    "plt.xlabel('epoch')  \n",
    "plt.legend(['train', 'test'], loc='upper left')  \n",
    "   \n",
    "   \n",
    "plt.subplot(212)  \n",
    "plt.plot(history.history['loss'])  \n",
    "plt.plot(history.history['val_loss'])  \n",
    "plt.title('model loss')  \n",
    "plt.ylabel('loss')  \n",
    "plt.xlabel('epoch')  \n",
    "plt.legend(['train', 'test'], loc='upper left')  \n",
    "plt.show()"
   ]
  },
  {
   "cell_type": "code",
   "execution_count": 318,
   "metadata": {},
   "outputs": [],
   "source": [
    "num_labels = Y_train.shape[1]\n",
    "    \n",
    "model1_NN = tf.keras.Sequential([\n",
    "tf.keras.layers.Dense(128,input_shape=(40,)),\n",
    "tf.keras.layers.Dense(512, activation='relu'),\n",
    "tf.keras.layers.Dense(128, activation='relu'),\n",
    "tf.keras.layers.Dense(num_labels, activation='softmax')])\n",
    "    \n",
    "model1_NN.compile(optimizer='adam',\n",
    "              loss='categorical_crossentropy',\n",
    "              metrics=['accuracy'])"
   ]
  },
  {
   "cell_type": "code",
   "execution_count": 319,
   "metadata": {},
   "outputs": [
    {
     "name": "stdout",
     "output_type": "stream",
     "text": [
      "Model: \"sequential_144\"\n",
      "_________________________________________________________________\n",
      " Layer (type)                Output Shape              Param #   \n",
      "=================================================================\n",
      " dense_576 (Dense)           (None, 128)               5248      \n",
      "                                                                 \n",
      " dense_577 (Dense)           (None, 512)               66048     \n",
      "                                                                 \n",
      " dense_578 (Dense)           (None, 128)               65664     \n",
      "                                                                 \n",
      " dense_579 (Dense)           (None, 10)                1290      \n",
      "                                                                 \n",
      "=================================================================\n",
      "Total params: 138,250\n",
      "Trainable params: 138,250\n",
      "Non-trainable params: 0\n",
      "_________________________________________________________________\n"
     ]
    }
   ],
   "source": [
    "model1_NN.summary()"
   ]
  },
  {
   "cell_type": "code",
   "execution_count": 322,
   "metadata": {},
   "outputs": [
    {
     "name": "stdout",
     "output_type": "stream",
     "text": [
      "Epoch 1/100\n",
      "141/141 [==============================] - 0s 4ms/step - loss: 0.8571 - accuracy: 0.7075 - val_loss: 1.8339 - val_accuracy: 0.4658\n",
      "Epoch 2/100\n",
      "141/141 [==============================] - 1s 4ms/step - loss: 0.8301 - accuracy: 0.7106 - val_loss: 2.0045 - val_accuracy: 0.4509\n",
      "Epoch 3/100\n",
      "141/141 [==============================] - 1s 4ms/step - loss: 0.7789 - accuracy: 0.7373 - val_loss: 1.9759 - val_accuracy: 0.4850\n",
      "Epoch 4/100\n",
      "141/141 [==============================] - 0s 3ms/step - loss: 0.7691 - accuracy: 0.7377 - val_loss: 2.1110 - val_accuracy: 0.4498\n",
      "Epoch 5/100\n",
      "141/141 [==============================] - 0s 3ms/step - loss: 0.7297 - accuracy: 0.7475 - val_loss: 1.9964 - val_accuracy: 0.4551\n",
      "Epoch 6/100\n",
      "141/141 [==============================] - 1s 4ms/step - loss: 0.7020 - accuracy: 0.7586 - val_loss: 2.0869 - val_accuracy: 0.4530\n",
      "Epoch 7/100\n",
      "141/141 [==============================] - 1s 4ms/step - loss: 0.6731 - accuracy: 0.7619 - val_loss: 2.1891 - val_accuracy: 0.4626\n",
      "Epoch 8/100\n",
      "141/141 [==============================] - 0s 3ms/step - loss: 0.6635 - accuracy: 0.7713 - val_loss: 2.0960 - val_accuracy: 0.4786\n",
      "Epoch 9/100\n",
      "141/141 [==============================] - 0s 3ms/step - loss: 0.6015 - accuracy: 0.7906 - val_loss: 2.3222 - val_accuracy: 0.4925\n",
      "Epoch 10/100\n",
      "141/141 [==============================] - 1s 4ms/step - loss: 0.6068 - accuracy: 0.7904 - val_loss: 2.1585 - val_accuracy: 0.4605\n",
      "Epoch 11/100\n",
      "141/141 [==============================] - 1s 4ms/step - loss: 0.5859 - accuracy: 0.8031 - val_loss: 2.3466 - val_accuracy: 0.4712\n",
      "Epoch 12/100\n",
      "141/141 [==============================] - 1s 4ms/step - loss: 0.5661 - accuracy: 0.8004 - val_loss: 2.5339 - val_accuracy: 0.4316\n",
      "Epoch 13/100\n",
      "141/141 [==============================] - 1s 5ms/step - loss: 0.5511 - accuracy: 0.8157 - val_loss: 2.4031 - val_accuracy: 0.4808\n",
      "Epoch 14/100\n",
      "141/141 [==============================] - 1s 4ms/step - loss: 0.5222 - accuracy: 0.8237 - val_loss: 2.2908 - val_accuracy: 0.4818\n",
      "Epoch 15/100\n",
      "141/141 [==============================] - 1s 4ms/step - loss: 0.5146 - accuracy: 0.8208 - val_loss: 2.5811 - val_accuracy: 0.4637\n",
      "Epoch 16/100\n",
      "141/141 [==============================] - 1s 4ms/step - loss: 0.4966 - accuracy: 0.8342 - val_loss: 2.5945 - val_accuracy: 0.4199\n",
      "Epoch 17/100\n",
      "141/141 [==============================] - 1s 4ms/step - loss: 0.4808 - accuracy: 0.8326 - val_loss: 2.4881 - val_accuracy: 0.4391\n",
      "Epoch 18/100\n",
      "141/141 [==============================] - 1s 4ms/step - loss: 0.4599 - accuracy: 0.8409 - val_loss: 2.7706 - val_accuracy: 0.4519\n",
      "Epoch 19/100\n",
      "141/141 [==============================] - 1s 4ms/step - loss: 0.4539 - accuracy: 0.8422 - val_loss: 2.6993 - val_accuracy: 0.4658\n",
      "Epoch 20/100\n",
      "141/141 [==============================] - 1s 4ms/step - loss: 0.4099 - accuracy: 0.8593 - val_loss: 2.6682 - val_accuracy: 0.4765\n",
      "Epoch 21/100\n",
      "141/141 [==============================] - 1s 4ms/step - loss: 0.4098 - accuracy: 0.8602 - val_loss: 2.8629 - val_accuracy: 0.4380\n",
      "Epoch 22/100\n",
      "141/141 [==============================] - 1s 4ms/step - loss: 0.4020 - accuracy: 0.8657 - val_loss: 2.8527 - val_accuracy: 0.4402\n",
      "Epoch 23/100\n",
      "141/141 [==============================] - 1s 4ms/step - loss: 0.4018 - accuracy: 0.8635 - val_loss: 3.2563 - val_accuracy: 0.4199\n",
      "Epoch 24/100\n",
      "141/141 [==============================] - 1s 4ms/step - loss: 0.3950 - accuracy: 0.8615 - val_loss: 2.7460 - val_accuracy: 0.4776\n",
      "Epoch 25/100\n",
      "141/141 [==============================] - 1s 4ms/step - loss: 0.3894 - accuracy: 0.8644 - val_loss: 3.1715 - val_accuracy: 0.4263\n",
      "Epoch 26/100\n",
      "141/141 [==============================] - 1s 4ms/step - loss: 0.3742 - accuracy: 0.8711 - val_loss: 3.0601 - val_accuracy: 0.4284\n",
      "Epoch 27/100\n",
      "141/141 [==============================] - 1s 4ms/step - loss: 0.3420 - accuracy: 0.8842 - val_loss: 3.2557 - val_accuracy: 0.4167\n",
      "Epoch 28/100\n",
      "141/141 [==============================] - 1s 4ms/step - loss: 0.3548 - accuracy: 0.8753 - val_loss: 3.3397 - val_accuracy: 0.4434\n",
      "Epoch 29/100\n",
      "141/141 [==============================] - 1s 4ms/step - loss: 0.3139 - accuracy: 0.8973 - val_loss: 3.4148 - val_accuracy: 0.4466\n",
      "Epoch 30/100\n",
      "141/141 [==============================] - 1s 4ms/step - loss: 0.3220 - accuracy: 0.8842 - val_loss: 3.3682 - val_accuracy: 0.4071\n",
      "Epoch 31/100\n",
      "141/141 [==============================] - 1s 4ms/step - loss: 0.3234 - accuracy: 0.8906 - val_loss: 3.2078 - val_accuracy: 0.4541\n",
      "Epoch 32/100\n",
      "141/141 [==============================] - 1s 4ms/step - loss: 0.3126 - accuracy: 0.8924 - val_loss: 3.6257 - val_accuracy: 0.4498\n",
      "Epoch 33/100\n",
      "141/141 [==============================] - 1s 4ms/step - loss: 0.3143 - accuracy: 0.8911 - val_loss: 3.3443 - val_accuracy: 0.4316\n",
      "Epoch 34/100\n",
      "141/141 [==============================] - 1s 4ms/step - loss: 0.3292 - accuracy: 0.8858 - val_loss: 3.1865 - val_accuracy: 0.4615\n",
      "Epoch 35/100\n",
      "141/141 [==============================] - 1s 4ms/step - loss: 0.2806 - accuracy: 0.9033 - val_loss: 3.0738 - val_accuracy: 0.4744\n",
      "Epoch 36/100\n",
      "141/141 [==============================] - 0s 4ms/step - loss: 0.2571 - accuracy: 0.9169 - val_loss: 3.7257 - val_accuracy: 0.4434\n",
      "Epoch 37/100\n",
      "141/141 [==============================] - 1s 4ms/step - loss: 0.2538 - accuracy: 0.9151 - val_loss: 3.6344 - val_accuracy: 0.4370\n",
      "Epoch 38/100\n",
      "141/141 [==============================] - 1s 4ms/step - loss: 0.2443 - accuracy: 0.9162 - val_loss: 3.7513 - val_accuracy: 0.4263\n",
      "Epoch 39/100\n",
      "141/141 [==============================] - 1s 4ms/step - loss: 0.3054 - accuracy: 0.8926 - val_loss: 3.8667 - val_accuracy: 0.4124\n",
      "Epoch 40/100\n",
      "141/141 [==============================] - 0s 3ms/step - loss: 0.2792 - accuracy: 0.9022 - val_loss: 3.9222 - val_accuracy: 0.4359\n",
      "Epoch 41/100\n",
      "141/141 [==============================] - 1s 4ms/step - loss: 0.2304 - accuracy: 0.9220 - val_loss: 4.0001 - val_accuracy: 0.4573\n",
      "Epoch 42/100\n",
      "141/141 [==============================] - 1s 4ms/step - loss: 0.2443 - accuracy: 0.9180 - val_loss: 3.8513 - val_accuracy: 0.4444\n",
      "Epoch 43/100\n",
      "141/141 [==============================] - 1s 4ms/step - loss: 0.2484 - accuracy: 0.9175 - val_loss: 3.8344 - val_accuracy: 0.4306\n",
      "Epoch 44/100\n",
      "141/141 [==============================] - 1s 4ms/step - loss: 0.2185 - accuracy: 0.9291 - val_loss: 3.8863 - val_accuracy: 0.4231\n",
      "Epoch 45/100\n",
      "141/141 [==============================] - 1s 4ms/step - loss: 0.2284 - accuracy: 0.9215 - val_loss: 4.0095 - val_accuracy: 0.4391\n",
      "Epoch 46/100\n",
      "141/141 [==============================] - 1s 4ms/step - loss: 0.1998 - accuracy: 0.9395 - val_loss: 3.9734 - val_accuracy: 0.4658\n",
      "Epoch 47/100\n",
      "141/141 [==============================] - 1s 4ms/step - loss: 0.1797 - accuracy: 0.9387 - val_loss: 4.2976 - val_accuracy: 0.4252\n",
      "Epoch 48/100\n",
      "141/141 [==============================] - 1s 4ms/step - loss: 0.1924 - accuracy: 0.9362 - val_loss: 4.0017 - val_accuracy: 0.4466\n",
      "Epoch 49/100\n",
      "141/141 [==============================] - 1s 4ms/step - loss: 0.1922 - accuracy: 0.9335 - val_loss: 3.9462 - val_accuracy: 0.4156\n",
      "Epoch 50/100\n",
      "141/141 [==============================] - 1s 4ms/step - loss: 0.2072 - accuracy: 0.9324 - val_loss: 4.1783 - val_accuracy: 0.4765\n",
      "Epoch 51/100\n",
      "141/141 [==============================] - 1s 4ms/step - loss: 0.2108 - accuracy: 0.9280 - val_loss: 4.1332 - val_accuracy: 0.4573\n",
      "Epoch 52/100\n",
      "141/141 [==============================] - 1s 4ms/step - loss: 0.1903 - accuracy: 0.9418 - val_loss: 4.7047 - val_accuracy: 0.4274\n",
      "Epoch 53/100\n",
      "141/141 [==============================] - 1s 4ms/step - loss: 0.1624 - accuracy: 0.9529 - val_loss: 4.1308 - val_accuracy: 0.4284\n",
      "Epoch 54/100\n",
      "141/141 [==============================] - 1s 4ms/step - loss: 0.1547 - accuracy: 0.9522 - val_loss: 4.5752 - val_accuracy: 0.4103\n",
      "Epoch 55/100\n",
      "141/141 [==============================] - 1s 4ms/step - loss: 0.1914 - accuracy: 0.9367 - val_loss: 4.7362 - val_accuracy: 0.4071\n",
      "Epoch 56/100\n",
      "141/141 [==============================] - 1s 4ms/step - loss: 0.2499 - accuracy: 0.9166 - val_loss: 4.4457 - val_accuracy: 0.4370\n",
      "Epoch 57/100\n",
      "141/141 [==============================] - 1s 4ms/step - loss: 0.1827 - accuracy: 0.9420 - val_loss: 4.6777 - val_accuracy: 0.4466\n"
     ]
    },
    {
     "name": "stdout",
     "output_type": "stream",
     "text": [
      "Epoch 58/100\n",
      "141/141 [==============================] - 0s 3ms/step - loss: 0.1588 - accuracy: 0.9458 - val_loss: 4.7195 - val_accuracy: 0.4338\n",
      "Epoch 59/100\n",
      "141/141 [==============================] - 1s 4ms/step - loss: 0.1720 - accuracy: 0.9435 - val_loss: 4.7362 - val_accuracy: 0.4295\n",
      "Epoch 60/100\n",
      "141/141 [==============================] - 1s 4ms/step - loss: 0.1365 - accuracy: 0.9595 - val_loss: 4.5352 - val_accuracy: 0.4573\n",
      "Epoch 61/100\n",
      "141/141 [==============================] - 0s 4ms/step - loss: 0.1607 - accuracy: 0.9467 - val_loss: 5.3191 - val_accuracy: 0.4092\n",
      "Epoch 62/100\n",
      "141/141 [==============================] - 1s 4ms/step - loss: 0.1202 - accuracy: 0.9633 - val_loss: 5.4072 - val_accuracy: 0.4038\n",
      "Epoch 63/100\n",
      "141/141 [==============================] - 1s 4ms/step - loss: 0.1295 - accuracy: 0.9575 - val_loss: 4.9270 - val_accuracy: 0.4316\n",
      "Epoch 64/100\n",
      "141/141 [==============================] - 1s 4ms/step - loss: 0.1237 - accuracy: 0.9584 - val_loss: 5.2818 - val_accuracy: 0.4167\n",
      "Epoch 65/100\n",
      "141/141 [==============================] - 1s 4ms/step - loss: 0.1344 - accuracy: 0.9575 - val_loss: 5.4622 - val_accuracy: 0.4231\n",
      "Epoch 66/100\n",
      "141/141 [==============================] - 0s 4ms/step - loss: 0.1365 - accuracy: 0.9531 - val_loss: 5.1947 - val_accuracy: 0.4231\n",
      "Epoch 67/100\n",
      "141/141 [==============================] - 0s 3ms/step - loss: 0.1455 - accuracy: 0.9575 - val_loss: 5.3246 - val_accuracy: 0.4252\n",
      "Epoch 68/100\n",
      "141/141 [==============================] - 1s 4ms/step - loss: 0.1535 - accuracy: 0.9527 - val_loss: 5.1186 - val_accuracy: 0.4167\n",
      "Epoch 69/100\n",
      "141/141 [==============================] - 1s 5ms/step - loss: 0.1704 - accuracy: 0.9473 - val_loss: 5.0393 - val_accuracy: 0.4220\n",
      "Epoch 70/100\n",
      "141/141 [==============================] - 1s 8ms/step - loss: 0.1372 - accuracy: 0.9553 - val_loss: 5.2468 - val_accuracy: 0.4284\n",
      "Epoch 71/100\n",
      "141/141 [==============================] - 1s 7ms/step - loss: 0.1076 - accuracy: 0.9693 - val_loss: 5.4640 - val_accuracy: 0.3974\n",
      "Epoch 72/100\n",
      "141/141 [==============================] - 1s 8ms/step - loss: 0.0882 - accuracy: 0.9735 - val_loss: 5.0424 - val_accuracy: 0.4145\n",
      "Epoch 73/100\n",
      "141/141 [==============================] - 1s 9ms/step - loss: 0.1269 - accuracy: 0.9604 - val_loss: 5.4481 - val_accuracy: 0.4017\n",
      "Epoch 74/100\n",
      "141/141 [==============================] - 1s 7ms/step - loss: 0.1401 - accuracy: 0.9522 - val_loss: 5.3023 - val_accuracy: 0.4370\n",
      "Epoch 75/100\n",
      "141/141 [==============================] - 1s 6ms/step - loss: 0.2000 - accuracy: 0.9362 - val_loss: 5.4471 - val_accuracy: 0.4231\n",
      "Epoch 76/100\n",
      "141/141 [==============================] - 1s 6ms/step - loss: 0.2006 - accuracy: 0.9318 - val_loss: 5.8480 - val_accuracy: 0.3889\n",
      "Epoch 77/100\n",
      "141/141 [==============================] - 1s 6ms/step - loss: 0.1262 - accuracy: 0.9658 - val_loss: 5.9351 - val_accuracy: 0.4145\n",
      "Epoch 78/100\n",
      "141/141 [==============================] - 1s 6ms/step - loss: 0.0926 - accuracy: 0.9740 - val_loss: 5.5784 - val_accuracy: 0.4402\n",
      "Epoch 79/100\n",
      "141/141 [==============================] - 1s 6ms/step - loss: 0.0778 - accuracy: 0.9778 - val_loss: 5.7153 - val_accuracy: 0.4466\n",
      "Epoch 80/100\n",
      "141/141 [==============================] - 1s 5ms/step - loss: 0.0814 - accuracy: 0.9762 - val_loss: 5.7553 - val_accuracy: 0.4274\n",
      "Epoch 81/100\n",
      "141/141 [==============================] - 1s 5ms/step - loss: 0.0733 - accuracy: 0.9793 - val_loss: 5.7504 - val_accuracy: 0.4316\n",
      "Epoch 82/100\n",
      "141/141 [==============================] - 1s 6ms/step - loss: 0.0898 - accuracy: 0.9729 - val_loss: 6.2005 - val_accuracy: 0.4028\n",
      "Epoch 83/100\n",
      "141/141 [==============================] - 1s 4ms/step - loss: 0.1714 - accuracy: 0.9411 - val_loss: 5.7886 - val_accuracy: 0.4455\n",
      "Epoch 84/100\n",
      "141/141 [==============================] - 0s 3ms/step - loss: 0.0994 - accuracy: 0.9718 - val_loss: 7.0910 - val_accuracy: 0.4188\n",
      "Epoch 85/100\n",
      "141/141 [==============================] - 0s 3ms/step - loss: 0.1530 - accuracy: 0.9518 - val_loss: 6.3067 - val_accuracy: 0.4220\n",
      "Epoch 86/100\n",
      "141/141 [==============================] - 1s 4ms/step - loss: 0.1146 - accuracy: 0.9658 - val_loss: 6.0215 - val_accuracy: 0.4284\n",
      "Epoch 87/100\n",
      "141/141 [==============================] - 0s 3ms/step - loss: 0.0738 - accuracy: 0.9789 - val_loss: 6.1008 - val_accuracy: 0.4380\n",
      "Epoch 88/100\n",
      "141/141 [==============================] - 0s 3ms/step - loss: 0.0599 - accuracy: 0.9853 - val_loss: 6.5634 - val_accuracy: 0.4113\n",
      "Epoch 89/100\n",
      "141/141 [==============================] - 1s 4ms/step - loss: 0.1025 - accuracy: 0.9680 - val_loss: 6.7370 - val_accuracy: 0.3964\n",
      "Epoch 90/100\n",
      "141/141 [==============================] - 0s 4ms/step - loss: 0.1216 - accuracy: 0.9587 - val_loss: 6.0542 - val_accuracy: 0.4209\n",
      "Epoch 91/100\n",
      "141/141 [==============================] - 1s 4ms/step - loss: 0.1201 - accuracy: 0.9642 - val_loss: 7.3731 - val_accuracy: 0.3750\n",
      "Epoch 92/100\n",
      "141/141 [==============================] - 1s 4ms/step - loss: 0.1874 - accuracy: 0.9420 - val_loss: 7.3900 - val_accuracy: 0.4060\n",
      "Epoch 93/100\n",
      "141/141 [==============================] - 1s 4ms/step - loss: 0.1204 - accuracy: 0.9671 - val_loss: 6.5663 - val_accuracy: 0.4274\n",
      "Epoch 94/100\n",
      "141/141 [==============================] - 0s 3ms/step - loss: 0.0847 - accuracy: 0.9769 - val_loss: 6.3176 - val_accuracy: 0.4263\n",
      "Epoch 95/100\n",
      "141/141 [==============================] - 0s 3ms/step - loss: 0.0610 - accuracy: 0.9842 - val_loss: 6.9567 - val_accuracy: 0.3996\n",
      "Epoch 96/100\n",
      "141/141 [==============================] - 1s 4ms/step - loss: 0.0450 - accuracy: 0.9889 - val_loss: 6.7174 - val_accuracy: 0.4177\n",
      "Epoch 97/100\n",
      "141/141 [==============================] - 0s 3ms/step - loss: 0.0411 - accuracy: 0.9898 - val_loss: 6.6379 - val_accuracy: 0.4188\n",
      "Epoch 98/100\n",
      "141/141 [==============================] - 0s 3ms/step - loss: 0.0513 - accuracy: 0.9851 - val_loss: 6.5880 - val_accuracy: 0.4295\n",
      "Epoch 99/100\n",
      "141/141 [==============================] - 0s 3ms/step - loss: 0.0489 - accuracy: 0.9858 - val_loss: 7.3065 - val_accuracy: 0.3835\n",
      "Epoch 100/100\n",
      "141/141 [==============================] - 0s 3ms/step - loss: 0.0469 - accuracy: 0.9882 - val_loss: 6.8507 - val_accuracy: 0.4412\n"
     ]
    }
   ],
   "source": [
    "history1 = model1_NN.fit(X_train, Y_train, epochs=100, validation_data=(X_fold5, Y_fold5), verbose=1)"
   ]
  },
  {
   "cell_type": "code",
   "execution_count": 323,
   "metadata": {},
   "outputs": [
    {
     "data": {
      "text/plain": [
       "0.37483031749725343"
      ]
     },
     "execution_count": 323,
     "metadata": {},
     "output_type": "execute_result"
    }
   ],
   "source": [
    "accuracy = []\n",
    "\n",
    "test_accuracy = model1_NN.evaluate(X_fold5,Y_fold5,verbose=0)\n",
    "value = test_accuracy[1]\n",
    "accuracy.append(value)\n",
    "\n",
    "test_accuracy = model1_NN.evaluate(X_fold7,Y_fold7,verbose=0)\n",
    "value = test_accuracy[1]\n",
    "accuracy.append(value)\n",
    "\n",
    "test_accuracy = model1_NN.evaluate(X_fold8,Y_fold8,verbose=0)\n",
    "value = test_accuracy[1]\n",
    "accuracy.append(value)\n",
    "\n",
    "test_accuracy = model1_NN.evaluate(X_fold9,Y_fold9,verbose=0)\n",
    "value = test_accuracy[1]\n",
    "accuracy.append(value)\n",
    "\n",
    "test_accuracy = model1_NN.evaluate(X_fold10,Y_fold10,verbose=0)\n",
    "value = test_accuracy[1]\n",
    "accuracy.append(value)\n",
    "\n",
    "\n",
    "avg_accuracy = np.mean(accuracy)\n",
    "avg_accuracy"
   ]
  },
  {
   "cell_type": "code",
   "execution_count": 331,
   "metadata": {},
   "outputs": [
    {
     "data": {
      "text/html": [
       "<div>\n",
       "<style scoped>\n",
       "    .dataframe tbody tr th:only-of-type {\n",
       "        vertical-align: middle;\n",
       "    }\n",
       "\n",
       "    .dataframe tbody tr th {\n",
       "        vertical-align: top;\n",
       "    }\n",
       "\n",
       "    .dataframe thead th {\n",
       "        text-align: right;\n",
       "    }\n",
       "</style>\n",
       "<table border=\"1\" class=\"dataframe\">\n",
       "  <thead>\n",
       "    <tr style=\"text-align: right;\">\n",
       "      <th></th>\n",
       "      <th>MFCC Accuracy</th>\n",
       "      <th>Chroma Accuracy</th>\n",
       "    </tr>\n",
       "  </thead>\n",
       "  <tbody>\n",
       "    <tr>\n",
       "      <th>Model1</th>\n",
       "      <td>37.5%</td>\n",
       "      <td>38.4%</td>\n",
       "    </tr>\n",
       "    <tr>\n",
       "      <th>Model2</th>\n",
       "      <td>41.2%</td>\n",
       "      <td>38.7%</td>\n",
       "    </tr>\n",
       "    <tr>\n",
       "      <th>Model3</th>\n",
       "      <td>40.2%</td>\n",
       "      <td>0%</td>\n",
       "    </tr>\n",
       "  </tbody>\n",
       "</table>\n",
       "</div>"
      ],
      "text/plain": [
       "       MFCC Accuracy Chroma Accuracy\n",
       "Model1         37.5%           38.4%\n",
       "Model2         41.2%           38.7%\n",
       "Model3         40.2%              0%"
      ]
     },
     "execution_count": 331,
     "metadata": {},
     "output_type": "execute_result"
    }
   ],
   "source": [
    "df = pd.DataFrame({'MFCC Accuracy':[str(37.5)+'%',str(41.2)+'%', str(40.2)+'%'],'Chroma Accuracy':[str(38.4)+'%',str(38.7)+'%', str(0)+'%']},\n",
    "                 index=['Model1', 'Model2', 'Model3']) \n",
    "df"
   ]
  },
  {
   "cell_type": "markdown",
   "metadata": {},
   "source": [
    "NOW WE EXTRACT THE CHROMAGRAM FEATURE Chroma Features In music, the term chroma feature or chromagram closely relates to the twelve different pitch classes. Chroma-based features, which are also referred to as \"pitch class profiles\", are a powerful tool for analyzing music whose pitches can be meaningfully categorized (often into twelve categories) and whose tuning approximates to the equal-tempered scale. One main property of chroma features is that they capture harmonic and melodic characteristics of music, while being robust to changes in timbre and instrumentation."
   ]
  },
  {
   "cell_type": "code",
   "execution_count": 224,
   "metadata": {},
   "outputs": [
    {
     "data": {
      "text/plain": [
       "array([[0.06784214, 0.03653395, 0.14451778, 0.532895  , 0.41430506,\n",
       "        0.21749756, 0.3419956 , 0.17985173, 0.19505554, 0.33065987,\n",
       "        0.16094336, 0.23370582, 0.29423442, 0.13490824],\n",
       "       [0.08701078, 0.01440925, 0.04423781, 0.36561692, 0.23972408,\n",
       "        0.19968526, 0.21286732, 0.2064054 , 0.13919358, 0.12223718,\n",
       "        0.11968958, 0.09727897, 0.09711967, 0.0729048 ],\n",
       "       [0.04019055, 0.00759871, 0.04658814, 0.16309343, 0.10881723,\n",
       "        0.23498122, 0.438387  , 0.491152  , 0.15549603, 0.19801971,\n",
       "        0.20880634, 0.21809526, 0.18396752, 0.13267365],\n",
       "       [0.01526497, 0.00727723, 0.04644716, 0.15881905, 0.23083569,\n",
       "        0.53792346, 1.        , 0.77325374, 0.60489035, 0.5395942 ,\n",
       "        0.24028516, 0.19956356, 0.38721555, 0.3988565 ],\n",
       "       [0.02054251, 0.00489875, 0.0368928 , 0.14621043, 0.18848753,\n",
       "        0.42522246, 0.89016104, 1.        , 1.        , 0.29715034,\n",
       "        0.2326394 , 0.17758185, 0.17302352, 0.6122523 ],\n",
       "       [0.01395121, 0.00369636, 0.04194792, 0.25467855, 0.23916057,\n",
       "        0.2563852 , 0.3786644 , 0.41627133, 0.61459714, 0.25786883,\n",
       "        0.28718412, 0.14553173, 0.12924302, 0.20748045],\n",
       "       [0.01328084, 0.00621683, 0.06040168, 0.37847516, 0.233008  ,\n",
       "        0.4177752 , 0.64516276, 0.164418  , 0.1899974 , 0.21273027,\n",
       "        0.15436837, 0.1026245 , 0.18075074, 0.15869403],\n",
       "       [0.00931011, 0.00728577, 0.05780872, 0.19172552, 0.08397602,\n",
       "        0.12316527, 0.1860221 , 0.11590365, 0.12727582, 0.06269279,\n",
       "        0.0423013 , 0.06161863, 0.1266497 , 0.14721338],\n",
       "       [0.00582592, 0.01082208, 0.04791249, 0.12205582, 0.0886526 ,\n",
       "        0.07201559, 0.04467128, 0.03584243, 0.03629317, 0.03804477,\n",
       "        0.07049701, 0.07890578, 0.18610409, 0.13438195],\n",
       "       [0.01187317, 0.01396137, 0.05807055, 0.08104059, 0.05235983,\n",
       "        0.05238925, 0.05900455, 0.1870987 , 0.18438981, 0.09457487,\n",
       "        0.08739707, 0.062764  , 0.08667906, 0.06927862],\n",
       "       [0.01522146, 0.02330995, 0.09180961, 0.11612194, 0.0591783 ,\n",
       "        0.06139322, 0.1307025 , 0.46500376, 0.40244862, 0.23101954,\n",
       "        0.13216218, 0.10261934, 0.06684383, 0.04774352],\n",
       "       [0.02814339, 0.0157029 , 0.02736925, 0.04256528, 0.02771336,\n",
       "        0.02710494, 0.0854887 , 0.23268463, 0.10435614, 0.09276441,\n",
       "        0.04267607, 0.05915129, 0.05412883, 0.02360185],\n",
       "       [0.0187415 , 0.0131277 , 0.02618889, 0.02772648, 0.02163782,\n",
       "        0.04860993, 0.06470707, 0.034901  , 0.0241908 , 0.02004062,\n",
       "        0.01361575, 0.01786499, 0.0297014 , 0.03022479],\n",
       "       [0.04192282, 0.02485337, 0.03753026, 0.02880298, 0.02869477,\n",
       "        0.05693446, 0.05118506, 0.0181262 , 0.03063897, 0.02060439,\n",
       "        0.01126292, 0.01923954, 0.0490989 , 0.0542246 ],\n",
       "       [0.0490327 , 0.01903418, 0.03327892, 0.05546788, 0.04482662,\n",
       "        0.04638642, 0.0316362 , 0.02944911, 0.0234829 , 0.02307805,\n",
       "        0.02137677, 0.01852401, 0.02669387, 0.02370827],\n",
       "       [0.0291245 , 0.00939436, 0.02333744, 0.16801818, 0.13425608,\n",
       "        0.06696744, 0.08032014, 0.15524884, 0.10886443, 0.09277461,\n",
       "        0.09166871, 0.04280275, 0.0548423 , 0.05490888],\n",
       "       [0.03124203, 0.0064166 , 0.01278065, 0.12275673, 0.15157463,\n",
       "        0.06805002, 0.1116987 , 0.16883752, 0.19416808, 0.14183718,\n",
       "        0.11225591, 0.05262738, 0.08624776, 0.10355643],\n",
       "       [0.01016227, 0.00463132, 0.01048971, 0.04055323, 0.08759682,\n",
       "        0.08139901, 0.0616188 , 0.09131084, 0.12958564, 0.06052639,\n",
       "        0.088278  , 0.07931618, 0.05461098, 0.07321335],\n",
       "       [0.01464159, 0.00635215, 0.01955198, 0.04233925, 0.05141116,\n",
       "        0.05156381, 0.06097053, 0.0406647 , 0.04436171, 0.04981378,\n",
       "        0.08205695, 0.06516608, 0.03759228, 0.03158267],\n",
       "       [0.00496145, 0.00478468, 0.01513733, 0.04342233, 0.04530675,\n",
       "        0.04976753, 0.04448052, 0.05153558, 0.04766892, 0.03303627,\n",
       "        0.02417292, 0.0229583 , 0.03398766, 0.04129424],\n",
       "       [0.00965736, 0.00470561, 0.02752941, 0.09446099, 0.06674756,\n",
       "        0.04433887, 0.02912665, 0.04497854, 0.05223683, 0.04178623,\n",
       "        0.0282945 , 0.02984312, 0.03350215, 0.03177781],\n",
       "       [0.02457609, 0.01026404, 0.03082129, 0.10802352, 0.05556708,\n",
       "        0.03150044, 0.05719515, 0.05179789, 0.05922715, 0.11659344,\n",
       "        0.0509057 , 0.03233176, 0.02413786, 0.02626132],\n",
       "       [0.16164577, 0.04761356, 0.06557024, 0.06278051, 0.05526632,\n",
       "        0.09229004, 0.12389905, 0.06401691, 0.10586845, 0.17812495,\n",
       "        0.052084  , 0.05158317, 0.04340966, 0.0433883 ],\n",
       "       [0.3057481 , 0.1860544 , 0.149728  , 0.04013626, 0.04331689,\n",
       "        0.05960157, 0.06503478, 0.04854554, 0.05345197, 0.10327396,\n",
       "        0.06465182, 0.03476861, 0.0347331 , 0.03381914],\n",
       "       [0.3386083 , 0.42656925, 0.22570594, 0.05410928, 0.06643806,\n",
       "        0.06397769, 0.04287424, 0.04547394, 0.1563888 , 0.2490542 ,\n",
       "        0.32612976, 0.14422286, 0.12671496, 0.08947563],\n",
       "       [1.        , 0.7741544 , 0.6824151 , 0.4591742 , 0.26999295,\n",
       "        0.17120822, 0.04568406, 0.02842665, 0.17108297, 0.35616297,\n",
       "        1.        , 0.6655434 , 0.23583186, 0.17397924],\n",
       "       [0.54836696, 1.        , 1.        , 1.        , 0.46822107,\n",
       "        0.2847724 , 0.17037572, 0.16331924, 0.33945093, 0.28661442,\n",
       "        0.45472714, 0.27657372, 0.38828412, 0.61640495],\n",
       "       [0.37351847, 0.9003528 , 0.85142845, 0.40975785, 0.53318   ,\n",
       "        0.48362473, 0.58920014, 0.5979226 , 0.60765374, 0.42207286,\n",
       "        0.3836428 , 0.19582395, 0.39993885, 0.5968579 ],\n",
       "       [0.34587535, 0.43131843, 0.7792348 , 0.55269504, 0.4743613 ,\n",
       "        0.42349374, 0.419832  , 0.27292192, 0.24639612, 0.44341546,\n",
       "        0.7603579 , 1.        , 0.92347324, 0.4975479 ],\n",
       "       [0.08113747, 0.18366393, 0.4775616 , 0.8284376 , 1.        ,\n",
       "        1.        , 0.9518948 , 0.49497983, 0.9435656 , 1.        ,\n",
       "        0.75685364, 0.5849157 , 0.9282146 , 1.        ],\n",
       "       [0.05363098, 0.11602617, 0.16611008, 0.40109825, 0.3693368 ,\n",
       "        0.23664337, 0.33388272, 0.33059323, 0.49935597, 0.6956273 ,\n",
       "        0.44293892, 0.138469  , 0.16112895, 0.21304269],\n",
       "       [0.06149019, 0.06752621, 0.1642544 , 0.22761114, 0.12283286,\n",
       "        0.07334223, 0.09072648, 0.20777752, 0.18013854, 0.15696298,\n",
       "        0.20891334, 0.07923016, 0.07870302, 0.1187471 ],\n",
       "       [0.04555342, 0.03655598, 0.10499684, 0.19464354, 0.10575771,\n",
       "        0.0909213 , 0.1435562 , 0.18398996, 0.08405156, 0.10216094,\n",
       "        0.19062501, 0.05972857, 0.07577407, 0.08721609],\n",
       "       [0.06451797, 0.04831007, 0.15564953, 0.13249007, 0.03917261,\n",
       "        0.08051606, 0.23501752, 0.18202661, 0.08372479, 0.0932348 ,\n",
       "        0.19533598, 0.06520586, 0.15615405, 0.14191519],\n",
       "       [0.01970238, 0.03129088, 0.19680883, 0.19020778, 0.07624906,\n",
       "        0.09457391, 0.11990873, 0.10552534, 0.09754888, 0.09500992,\n",
       "        0.15233071, 0.11116184, 0.12146448, 0.08071178],\n",
       "       [0.01870599, 0.0220053 , 0.13888401, 0.1875874 , 0.08588478,\n",
       "        0.12169224, 0.22004484, 0.13255385, 0.08329607, 0.07269513,\n",
       "        0.06140825, 0.0305382 , 0.04831386, 0.04555874],\n",
       "       [0.00712005, 0.03467939, 0.07126589, 0.08949361, 0.06540654,\n",
       "        0.11165937, 0.22042438, 0.11951582, 0.11989862, 0.21746111,\n",
       "        0.08875274, 0.08323888, 0.17296843, 0.13632427],\n",
       "       [0.01483591, 0.0317825 , 0.05897864, 0.08837464, 0.05130439,\n",
       "        0.029845  , 0.07576986, 0.10380762, 0.09492566, 0.19052395,\n",
       "        0.05685442, 0.10073097, 0.21538566, 0.1763875 ],\n",
       "       [0.01160956, 0.03207319, 0.07929081, 0.0947275 , 0.06084801,\n",
       "        0.0868992 , 0.17334485, 0.25487927, 0.14894308, 0.15158069,\n",
       "        0.13327573, 0.28655577, 0.540228  , 0.50602955],\n",
       "       [0.03054662, 0.03719882, 0.20246457, 0.23960875, 0.17392303,\n",
       "        0.17907988, 0.362359  , 0.26128024, 0.21430545, 0.24949495,\n",
       "        0.16290765, 0.60541683, 1.        , 0.6403667 ]], dtype=float32)"
      ]
     },
     "execution_count": 224,
     "metadata": {},
     "output_type": "execute_result"
    }
   ],
   "source": [
    "data, sample_rate=librosa.load('/Users/DELL/OneDrive/Desktop/DSE/UrbanSound8K/audio/fold5/100032-3-0-0.wav')\n",
    "chroma=librosa.feature.chroma_stft(y=data, sr=sample_rate,n_chroma=40)\n",
    "chroma.shape\n",
    "chroma"
   ]
  },
  {
   "cell_type": "code",
   "execution_count": 225,
   "metadata": {},
   "outputs": [
    {
     "data": {
      "image/png": "[encoded data removed]",
      "text/plain": [
       "<Figure size 720x288 with 2 Axes>"
      ]
     },
     "metadata": {
      "needs_background": "light"
     },
     "output_type": "display_data"
    }
   ],
   "source": [
    "#Chromagram of dog bark\n",
    "plt.figure(figsize=(10,4))\n",
    "librosa.display.specshow(chroma, y_axis='chroma', x_axis='time')\n",
    "plt.colorbar()\n",
    "plt.title('Chromagram')\n",
    "plt.tight_layout()"
   ]
  },
  {
   "cell_type": "code",
   "execution_count": 226,
   "metadata": {},
   "outputs": [],
   "source": [
    "#####Defining a function that extracts the Chromagram feature from a single audio file\n",
    "def get_chroma(file):\n",
    "    data, sample_rate = librosa.load(file_name, res_type='kaiser_fast')\n",
    "    chroma_features = librosa.feature.chroma_stft(y=data, sr=sample_rate, n_chroma=40)\n",
    "    chroma_scaled_features = np.mean(chroma_features.T, axis=0)\n",
    "    \n",
    "    return chroma_scaled_features"
   ]
  },
  {
   "cell_type": "code",
   "execution_count": 227,
   "metadata": {},
   "outputs": [
    {
     "name": "stderr",
     "output_type": "stream",
     "text": [
      "67it [00:04, 13.62it/s]C:\\Users\\DELL\\anaconda3\\lib\\site-packages\\librosa\\core\\pitch.py:153: UserWarning: Trying to estimate tuning from empty frequency set.\n",
      "  warnings.warn(\"Trying to estimate tuning from empty frequency set.\")\n",
      "3555it [04:28, 13.49it/s]C:\\Users\\DELL\\anaconda3\\lib\\site-packages\\librosa\\core\\spectrum.py:222: UserWarning: n_fft=2048 is too small for input signal of length=1323\n",
      "  warnings.warn(\n",
      "8326it [10:24, 19.34it/s]C:\\Users\\DELL\\anaconda3\\lib\\site-packages\\librosa\\core\\spectrum.py:222: UserWarning: n_fft=2048 is too small for input signal of length=1103\n",
      "  warnings.warn(\n",
      "C:\\Users\\DELL\\anaconda3\\lib\\site-packages\\librosa\\core\\spectrum.py:222: UserWarning: n_fft=2048 is too small for input signal of length=1523\n",
      "  warnings.warn(\n",
      "8732it [10:53, 13.36it/s]\n"
     ]
    }
   ],
   "source": [
    "####10-cv with chromagram feature\n",
    "chfeatures = []\n",
    "\n",
    "for index,row in tqdm(metadata.iterrows()):\n",
    "    file_name = os.path.join(os.path.abspath(file_path),'fold'+str(row[\"fold\"])+'/'+str(row[\"slice_file_name\"]))\n",
    "    label_class = str(row[\"class\"])\n",
    "    data = get_chroma(file_name)\n",
    "    chfeatures.append([data,label_class])"
   ]
  },
  {
   "cell_type": "code",
   "execution_count": 228,
   "metadata": {},
   "outputs": [
    {
     "data": {
      "text/html": [
       "<div>\n",
       "<style scoped>\n",
       "    .dataframe tbody tr th:only-of-type {\n",
       "        vertical-align: middle;\n",
       "    }\n",
       "\n",
       "    .dataframe tbody tr th {\n",
       "        vertical-align: top;\n",
       "    }\n",
       "\n",
       "    .dataframe thead th {\n",
       "        text-align: right;\n",
       "    }\n",
       "</style>\n",
       "<table border=\"1\" class=\"dataframe\">\n",
       "  <thead>\n",
       "    <tr style=\"text-align: right;\">\n",
       "      <th></th>\n",
       "      <th>Features</th>\n",
       "      <th>Class</th>\n",
       "    </tr>\n",
       "  </thead>\n",
       "  <tbody>\n",
       "    <tr>\n",
       "      <th>0</th>\n",
       "      <td>[0.23463225, 0.14415364, 0.1876867, 0.36711416...</td>\n",
       "      <td>dog_bark</td>\n",
       "    </tr>\n",
       "    <tr>\n",
       "      <th>1</th>\n",
       "      <td>[0.311111, 0.30781618, 0.33181983, 0.33207315,...</td>\n",
       "      <td>children_playing</td>\n",
       "    </tr>\n",
       "    <tr>\n",
       "      <th>2</th>\n",
       "      <td>[0.3856114, 0.42340618, 0.44800016, 0.42128587...</td>\n",
       "      <td>children_playing</td>\n",
       "    </tr>\n",
       "    <tr>\n",
       "      <th>3</th>\n",
       "      <td>[0.3715312, 0.3859846, 0.3820113, 0.39440072, ...</td>\n",
       "      <td>children_playing</td>\n",
       "    </tr>\n",
       "    <tr>\n",
       "      <th>4</th>\n",
       "      <td>[0.5069898, 0.5173537, 0.5118571, 0.5463822, 0...</td>\n",
       "      <td>children_playing</td>\n",
       "    </tr>\n",
       "  </tbody>\n",
       "</table>\n",
       "</div>"
      ],
      "text/plain": [
       "                                            Features             Class\n",
       "0  [0.23463225, 0.14415364, 0.1876867, 0.36711416...          dog_bark\n",
       "1  [0.311111, 0.30781618, 0.33181983, 0.33207315,...  children_playing\n",
       "2  [0.3856114, 0.42340618, 0.44800016, 0.42128587...  children_playing\n",
       "3  [0.3715312, 0.3859846, 0.3820113, 0.39440072, ...  children_playing\n",
       "4  [0.5069898, 0.5173537, 0.5118571, 0.5463822, 0...  children_playing"
      ]
     },
     "execution_count": 228,
     "metadata": {},
     "output_type": "execute_result"
    }
   ],
   "source": [
    "chfeatures_df = pd.DataFrame(chfeatures,columns=['Features','Class'])\n",
    "chfeatures_df.head()"
   ]
  },
  {
   "cell_type": "code",
   "execution_count": 229,
   "metadata": {},
   "outputs": [],
   "source": [
    "X = np.array(chfeatures_df['Features'].tolist())\n",
    "Y = np.array(chfeatures_df['Class'].tolist())"
   ]
  },
  {
   "cell_type": "code",
   "execution_count": 230,
   "metadata": {},
   "outputs": [],
   "source": [
    "labelencoder = LabelEncoder()\n",
    "Y = to_categorical(labelencoder.fit_transform(Y))"
   ]
  },
  {
   "cell_type": "code",
   "execution_count": 231,
   "metadata": {},
   "outputs": [],
   "source": [
    "####MODEL 1\n",
    "def model1c_cv():\n",
    "    n_labels = Y.shape[1]\n",
    "    \n",
    "    model1c_cv = tf.keras.Sequential([\n",
    "    tf.keras.layers.Dense(128,input_shape=(40,)),\n",
    "    tf.keras.layers.Dense(512, activation='relu'),\n",
    "    tf.keras.layers.Dense(128, activation='relu'),\n",
    "    tf.keras.layers.Dense(n_labels, activation='softmax')])\n",
    "    \n",
    "    model1c_cv.compile(optimizer='adam',\n",
    "              loss='categorical_crossentropy',\n",
    "              metrics=['accuracy'])\n",
    "    return model1c_cv"
   ]
  },
  {
   "cell_type": "code",
   "execution_count": 232,
   "metadata": {},
   "outputs": [
    {
     "name": "stderr",
     "output_type": "stream",
     "text": [
      "<ipython-input-232-f1343246526d>:1: DeprecationWarning: KerasClassifier is deprecated, use Sci-Keras (https://github.com/adriangb/scikeras) instead.\n",
      "  estimator = KerasClassifier(build_fn=model1c_cv, epochs=100, verbose=0)\n"
     ]
    },
    {
     "name": "stdout",
     "output_type": "stream",
     "text": [
      "Accuracy: 70.56% (1.50%)\n"
     ]
    }
   ],
   "source": [
    "estimator = KerasClassifier(build_fn=model1c_cv, epochs=100, verbose=0)\n",
    "kfold = KFold(n_splits=10, shuffle=True)\n",
    "results = cross_val_score(estimator, X, Y, cv=kfold)\n",
    "print(\"Accuracy: %.2f%% (%.2f%%)\" % (results.mean()*100, results.std()*100))"
   ]
  },
  {
   "cell_type": "code",
   "execution_count": 233,
   "metadata": {},
   "outputs": [],
   "source": [
    "#####Model with 2 hidden layer and Dropout(0.3)\n",
    "def model2c_cv():\n",
    "    n_labels = Y.shape[1]\n",
    "    \n",
    "    model2c_cv = tf.keras.Sequential([\n",
    "    tf.keras.layers.Dense(128,input_shape=(40,)),\n",
    "    tf.keras.layers.Dropout(0.3),\n",
    "    tf.keras.layers.Dense(512, activation='relu'),\n",
    "    tf.keras.layers.Dropout(0.3),\n",
    "    tf.keras.layers.Dense(128, activation='relu'),\n",
    "    tf.keras.layers.Dropout(0.3),\n",
    "    tf.keras.layers.Dense(n_labels, activation='softmax')])\n",
    "    \n",
    "    model2c_cv.compile(optimizer='adam',\n",
    "              loss='categorical_crossentropy',\n",
    "              metrics=['accuracy'])\n",
    "    return model2c_cv"
   ]
  },
  {
   "cell_type": "code",
   "execution_count": 234,
   "metadata": {},
   "outputs": [
    {
     "name": "stderr",
     "output_type": "stream",
     "text": [
      "<ipython-input-234-17a6df4ac33f>:1: DeprecationWarning: KerasClassifier is deprecated, use Sci-Keras (https://github.com/adriangb/scikeras) instead.\n",
      "  estimator = KerasClassifier(build_fn=model2c_cv, epochs=100, verbose=0)\n"
     ]
    },
    {
     "name": "stdout",
     "output_type": "stream",
     "text": [
      "Accuracy: 70.28% (1.47%)\n"
     ]
    }
   ],
   "source": [
    "estimator = KerasClassifier(build_fn=model2c_cv, epochs=100, verbose=0)\n",
    "kfold = KFold(n_splits=10, shuffle=True)\n",
    "results = cross_val_score(estimator, X, Y, cv=kfold)\n",
    "print(\"Accuracy: %.2f%% (%.2f%%)\" % (results.mean()*100, results.std()*100))"
   ]
  },
  {
   "cell_type": "code",
   "execution_count": 235,
   "metadata": {},
   "outputs": [],
   "source": [
    "###MODEL 3 WITH DROPOUT AND BATCHNORMALIZATION\n",
    "def model3c_cv():\n",
    "    n_labels = Y.shape[1]\n",
    "    \n",
    "    model3c_cv = tf.keras.Sequential([\n",
    "    tf.keras.layers.Dense(128,input_shape=(40,)),\n",
    "    tf.keras.layers.Dropout(0.3),\n",
    "    tf.keras.layers.BatchNormalization(),\n",
    "    tf.keras.layers.Dense(512, activation='relu'),\n",
    "    tf.keras.layers.Dropout(0.3),\n",
    "    tf.keras.layers.BatchNormalization(),\n",
    "    tf.keras.layers.Dense(128, activation='relu'),\n",
    "    tf.keras.layers.Dropout(0.3),\n",
    "    tf.keras.layers.BatchNormalization(),\n",
    "    tf.keras.layers.Dense(n_labels, activation='softmax')])\n",
    "    \n",
    "    model3c_cv.compile(optimizer='adam',\n",
    "              loss='categorical_crossentropy',\n",
    "              metrics=['accuracy'])\n",
    "    return model3c_cv"
   ]
  },
  {
   "cell_type": "code",
   "execution_count": 236,
   "metadata": {},
   "outputs": [
    {
     "name": "stderr",
     "output_type": "stream",
     "text": [
      "<ipython-input-236-6300ffc60815>:1: DeprecationWarning: KerasClassifier is deprecated, use Sci-Keras (https://github.com/adriangb/scikeras) instead.\n",
      "  estimator = KerasClassifier(build_fn=model3c_cv, epochs=100, verbose=0)\n"
     ]
    },
    {
     "name": "stdout",
     "output_type": "stream",
     "text": [
      "Accuracy: 66.86% (1.77%)\n"
     ]
    }
   ],
   "source": [
    "estimator = KerasClassifier(build_fn=model3c_cv, epochs=100, verbose=0)\n",
    "kfold = KFold(n_splits=10, shuffle=True)\n",
    "results = cross_val_score(estimator, X, Y, cv=kfold)\n",
    "print(\"Accuracy: %.2f%% (%.2f%%)\" % (results.mean()*100, results.std()*100))"
   ]
  },
  {
   "cell_type": "code",
   "execution_count": 266,
   "metadata": {},
   "outputs": [
    {
     "data": {
      "text/html": [
       "<div>\n",
       "<style scoped>\n",
       "    .dataframe tbody tr th:only-of-type {\n",
       "        vertical-align: middle;\n",
       "    }\n",
       "\n",
       "    .dataframe tbody tr th {\n",
       "        vertical-align: top;\n",
       "    }\n",
       "\n",
       "    .dataframe thead th {\n",
       "        text-align: right;\n",
       "    }\n",
       "</style>\n",
       "<table border=\"1\" class=\"dataframe\">\n",
       "  <thead>\n",
       "    <tr style=\"text-align: right;\">\n",
       "      <th></th>\n",
       "      <th>Accuracy</th>\n",
       "      <th>St.Err.</th>\n",
       "    </tr>\n",
       "  </thead>\n",
       "  <tbody>\n",
       "    <tr>\n",
       "      <th>Model1</th>\n",
       "      <td>70.56%</td>\n",
       "      <td>1.5%</td>\n",
       "    </tr>\n",
       "    <tr>\n",
       "      <th>Model2</th>\n",
       "      <td>70.28%</td>\n",
       "      <td>1.47%</td>\n",
       "    </tr>\n",
       "    <tr>\n",
       "      <th>Model3</th>\n",
       "      <td>66.88%</td>\n",
       "      <td>1.77%</td>\n",
       "    </tr>\n",
       "  </tbody>\n",
       "</table>\n",
       "</div>"
      ],
      "text/plain": [
       "       Accuracy St.Err.\n",
       "Model1   70.56%    1.5%\n",
       "Model2   70.28%   1.47%\n",
       "Model3   66.88%   1.77%"
      ]
     },
     "execution_count": 266,
     "metadata": {},
     "output_type": "execute_result"
    }
   ],
   "source": [
    "df1 = pd.DataFrame({'Accuracy':[str(70.56)+'%', str(70.28)+'%', str(66.88)+'%'],\n",
    "       'St.Err.': [str(1.50)+'%', str(1.47)+'%', str(1.77)+'%']},\n",
    "                 index=['Model1', 'Model2', 'Model3']) \n",
    "df1"
   ]
  },
  {
   "cell_type": "code",
   "execution_count": 238,
   "metadata": {},
   "outputs": [
    {
     "name": "stderr",
     "output_type": "stream",
     "text": [
      "118it [00:01, 48.44it/s]C:\\Users\\DELL\\anaconda3\\lib\\site-packages\\librosa\\core\\pitch.py:153: UserWarning: Trying to estimate tuning from empty frequency set.\n",
      "  warnings.warn(\"Trying to estimate tuning from empty frequency set.\")\n",
      "3554it [02:18, 16.90it/s]C:\\Users\\DELL\\anaconda3\\lib\\site-packages\\librosa\\core\\spectrum.py:222: UserWarning: n_fft=2048 is too small for input signal of length=1323\n",
      "  warnings.warn(\n",
      "8323it [05:25, 37.77it/s]C:\\Users\\DELL\\anaconda3\\lib\\site-packages\\librosa\\core\\spectrum.py:222: UserWarning: n_fft=2048 is too small for input signal of length=1103\n",
      "  warnings.warn(\n",
      "C:\\Users\\DELL\\anaconda3\\lib\\site-packages\\librosa\\core\\spectrum.py:222: UserWarning: n_fft=2048 is too small for input signal of length=1523\n",
      "  warnings.warn(\n",
      "8732it [05:43, 25.39it/s]\n"
     ]
    },
    {
     "data": {
      "text/plain": [
       "(4499, 2)"
      ]
     },
     "execution_count": 238,
     "metadata": {},
     "output_type": "execute_result"
    }
   ],
   "source": [
    "chroma_train = []\n",
    "for index,row in tqdm(metadata.iterrows()):\n",
    "    if (str(row[\"fold\"]) == \"1\"):\n",
    "        file_name =\"/users/DELL/OneDrive/Desktop/DSE/UrbanSound8K/audio/fold1/\" +str(row[\"slice_file_name\"])\n",
    "        label_class = str(row[\"class\"])\n",
    "        data = get_chroma(file_name)\n",
    "        chroma_train.append([data,label_class])\n",
    "    elif(str(row[\"fold\"]) == \"2\"):\n",
    "        file_name =\"/users/DELL/OneDrive/Desktop/DSE/UrbanSound8K/audio/fold2/\" +str(row[\"slice_file_name\"])\n",
    "        label_class = str(row[\"class\"])\n",
    "        data = get_chroma(file_name)\n",
    "        chroma_train.append([data,label_class])\n",
    "    elif (str(row[\"fold\"]) == \"3\"):\n",
    "        file_name =\"/users/DELL/OneDrive/Desktop/DSE/UrbanSound8K/audio/fold3/\" +str(row[\"slice_file_name\"])\n",
    "        label_class = str(row[\"class\"])\n",
    "        data = get_chroma(file_name)\n",
    "        chroma_train.append([data,label_class])\n",
    "    elif (str(row[\"fold\"]) == \"4\"):\n",
    "        file_name =\"/users/DELL/OneDrive/Desktop/DSE/UrbanSound8K/audio/fold4/\" +str(row[\"slice_file_name\"])\n",
    "        label_class = str(row[\"class\"])\n",
    "        data = get_chroma(file_name)\n",
    "        chroma_train.append([data,label_class])\n",
    "    elif (str(row[\"fold\"]) == \"6\"):\n",
    "        file_name =\"/users/DELL/OneDrive/Desktop/DSE/UrbanSound8K/audio/fold6/\" +str(row[\"slice_file_name\"])\n",
    "        label_class = str(row[\"class\"])\n",
    "        data = get_chroma(file_name)\n",
    "        chroma_train.append([data,label_class])\n",
    "    else:\n",
    "        continue\n",
    "        \n",
    "chroma_train=pd.DataFrame(chroma_train, columns=['Features', 'Class'])\n",
    "chroma_train.shape     "
   ]
  },
  {
   "cell_type": "code",
   "execution_count": 239,
   "metadata": {},
   "outputs": [
    {
     "data": {
      "text/html": [
       "<div>\n",
       "<style scoped>\n",
       "    .dataframe tbody tr th:only-of-type {\n",
       "        vertical-align: middle;\n",
       "    }\n",
       "\n",
       "    .dataframe tbody tr th {\n",
       "        vertical-align: top;\n",
       "    }\n",
       "\n",
       "    .dataframe thead th {\n",
       "        text-align: right;\n",
       "    }\n",
       "</style>\n",
       "<table border=\"1\" class=\"dataframe\">\n",
       "  <thead>\n",
       "    <tr style=\"text-align: right;\">\n",
       "      <th></th>\n",
       "      <th>Features</th>\n",
       "      <th>Class</th>\n",
       "    </tr>\n",
       "  </thead>\n",
       "  <tbody>\n",
       "    <tr>\n",
       "      <th>0</th>\n",
       "      <td>[0.2710792, 0.27672955, 0.26019442, 0.28824687...</td>\n",
       "      <td>dog_bark</td>\n",
       "    </tr>\n",
       "    <tr>\n",
       "      <th>1</th>\n",
       "      <td>[0.2520228, 0.25411195, 0.28011847, 0.28778392...</td>\n",
       "      <td>dog_bark</td>\n",
       "    </tr>\n",
       "    <tr>\n",
       "      <th>2</th>\n",
       "      <td>[0.2233227, 0.2172269, 0.24068363, 0.26733828,...</td>\n",
       "      <td>dog_bark</td>\n",
       "    </tr>\n",
       "    <tr>\n",
       "      <th>3</th>\n",
       "      <td>[0.19607443, 0.1807053, 0.20618178, 0.23650484...</td>\n",
       "      <td>dog_bark</td>\n",
       "    </tr>\n",
       "    <tr>\n",
       "      <th>4</th>\n",
       "      <td>[0.3844667, 0.4533357, 0.47552526, 0.4666204, ...</td>\n",
       "      <td>dog_bark</td>\n",
       "    </tr>\n",
       "  </tbody>\n",
       "</table>\n",
       "</div>"
      ],
      "text/plain": [
       "                                            Features     Class\n",
       "0  [0.2710792, 0.27672955, 0.26019442, 0.28824687...  dog_bark\n",
       "1  [0.2520228, 0.25411195, 0.28011847, 0.28778392...  dog_bark\n",
       "2  [0.2233227, 0.2172269, 0.24068363, 0.26733828,...  dog_bark\n",
       "3  [0.19607443, 0.1807053, 0.20618178, 0.23650484...  dog_bark\n",
       "4  [0.3844667, 0.4533357, 0.47552526, 0.4666204, ...  dog_bark"
      ]
     },
     "execution_count": 239,
     "metadata": {},
     "output_type": "execute_result"
    }
   ],
   "source": [
    "chroma_train.head()"
   ]
  },
  {
   "cell_type": "code",
   "execution_count": 240,
   "metadata": {},
   "outputs": [
    {
     "name": "stderr",
     "output_type": "stream",
     "text": [
      "63it [00:06, 10.50it/s]C:\\Users\\DELL\\anaconda3\\lib\\site-packages\\librosa\\core\\pitch.py:153: UserWarning: Trying to estimate tuning from empty frequency set.\n",
      "  warnings.warn(\"Trying to estimate tuning from empty frequency set.\")\n",
      "8732it [05:31, 26.34it/s]\n"
     ]
    },
    {
     "data": {
      "text/plain": [
       "((936, 2), (838, 2), (806, 2), (816, 2), (837, 2))"
      ]
     },
     "execution_count": 240,
     "metadata": {},
     "output_type": "execute_result"
    }
   ],
   "source": [
    "test_fold5 = []\n",
    "test_fold7 = []\n",
    "test_fold8 = []\n",
    "test_fold9 = []\n",
    "test_fold10 = []\n",
    "\n",
    "\n",
    "for index,row in tqdm(metadata.iterrows()):\n",
    "    if (str(row[\"fold\"]) == \"5\"):\n",
    "        file_name = \"/users/DELL/OneDrive/Desktop/DSE/UrbanSound8K/audio/fold5/\" + str(row[\"slice_file_name\"])\n",
    "        label_class = str(row[\"class\"])\n",
    "        data = get_chroma(file_name)\n",
    "        test_fold5.append([data,label_class])\n",
    "    elif (str(row[\"fold\"]) == \"7\"):\n",
    "        file_name = \"/users/DELL/OneDrive/Desktop/DSE/UrbanSound8K/audio/fold7/\" + str(row[\"slice_file_name\"])\n",
    "        label_class = str(row[\"class\"])\n",
    "        data = get_chroma(file_name)\n",
    "        test_fold7.append([data,label_class])\n",
    "    elif (str(row[\"fold\"]) == \"8\"):\n",
    "        file_name = \"/users/DELL/OneDrive/Desktop/DSE/UrbanSound8K/audio/fold8/\" + str(row[\"slice_file_name\"])\n",
    "        label_class = str(row[\"class\"])\n",
    "        data = get_chroma(file_name)\n",
    "        test_fold8.append([data,label_class])\n",
    "    elif (str(row[\"fold\"]) == \"9\"):\n",
    "        file_name = \"/users/DELL/OneDrive/Desktop/DSE/UrbanSound8K/audio/fold9/\" + str(row[\"slice_file_name\"])\n",
    "        label_class = str(row[\"class\"])\n",
    "        data = get_chroma(file_name)\n",
    "        test_fold9.append([data,label_class])\n",
    "    elif (str(row[\"fold\"]) == \"10\"):\n",
    "        file_name = \"/users/DELL/OneDrive/Desktop/DSE/UrbanSound8K/audio/fold10/\" + str(row[\"slice_file_name\"])\n",
    "        label_class = str(row[\"class\"])\n",
    "        data = get_chroma(file_name)\n",
    "        test_fold10.append([data,label_class])\n",
    "    else:\n",
    "        continue\n",
    "\n",
    "fold5 = pd.DataFrame(test_fold5,columns=['Features','Class'])\n",
    "fold7 = pd.DataFrame(test_fold7,columns=['Features','Class'])\n",
    "fold8 = pd.DataFrame(test_fold8,columns=['Features','Class'])\n",
    "fold9 = pd.DataFrame(test_fold9,columns=['Features','Class'])\n",
    "fold10 = pd.DataFrame(test_fold10,columns=['Features','Class'])\n",
    "\n",
    "fold5.shape, fold7.shape, fold8.shape, fold9.shape, fold10.shape"
   ]
  },
  {
   "cell_type": "code",
   "execution_count": 241,
   "metadata": {},
   "outputs": [
    {
     "data": {
      "text/html": [
       "<div>\n",
       "<style scoped>\n",
       "    .dataframe tbody tr th:only-of-type {\n",
       "        vertical-align: middle;\n",
       "    }\n",
       "\n",
       "    .dataframe tbody tr th {\n",
       "        vertical-align: top;\n",
       "    }\n",
       "\n",
       "    .dataframe thead th {\n",
       "        text-align: right;\n",
       "    }\n",
       "</style>\n",
       "<table border=\"1\" class=\"dataframe\">\n",
       "  <thead>\n",
       "    <tr style=\"text-align: right;\">\n",
       "      <th></th>\n",
       "      <th>Features</th>\n",
       "      <th>Class</th>\n",
       "    </tr>\n",
       "  </thead>\n",
       "  <tbody>\n",
       "    <tr>\n",
       "      <th>0</th>\n",
       "      <td>[0.189138, 0.1922851, 0.19128238, 0.21139479, ...</td>\n",
       "      <td>dog_bark</td>\n",
       "    </tr>\n",
       "    <tr>\n",
       "      <th>1</th>\n",
       "      <td>[0.18439794, 0.1867124, 0.21436809, 0.28241467...</td>\n",
       "      <td>dog_bark</td>\n",
       "    </tr>\n",
       "    <tr>\n",
       "      <th>2</th>\n",
       "      <td>[0.095137335, 0.15184322, 0.22396974, 0.282998...</td>\n",
       "      <td>dog_bark</td>\n",
       "    </tr>\n",
       "    <tr>\n",
       "      <th>3</th>\n",
       "      <td>[0.24265836, 0.22355193, 0.22022238, 0.2230266...</td>\n",
       "      <td>engine_idling</td>\n",
       "    </tr>\n",
       "    <tr>\n",
       "      <th>4</th>\n",
       "      <td>[0.28011605, 0.26917058, 0.24652153, 0.2425813...</td>\n",
       "      <td>engine_idling</td>\n",
       "    </tr>\n",
       "  </tbody>\n",
       "</table>\n",
       "</div>"
      ],
      "text/plain": [
       "                                            Features          Class\n",
       "0  [0.189138, 0.1922851, 0.19128238, 0.21139479, ...       dog_bark\n",
       "1  [0.18439794, 0.1867124, 0.21436809, 0.28241467...       dog_bark\n",
       "2  [0.095137335, 0.15184322, 0.22396974, 0.282998...       dog_bark\n",
       "3  [0.24265836, 0.22355193, 0.22022238, 0.2230266...  engine_idling\n",
       "4  [0.28011605, 0.26917058, 0.24652153, 0.2425813...  engine_idling"
      ]
     },
     "execution_count": 241,
     "metadata": {},
     "output_type": "execute_result"
    }
   ],
   "source": [
    "fold8.head()"
   ]
  },
  {
   "cell_type": "code",
   "execution_count": 242,
   "metadata": {},
   "outputs": [],
   "source": [
    "### Split the dataset into features and labels\n",
    "X_train = np.array(chroma_train['Features'].tolist())\n",
    "Y_train = np.array(chroma_train['Class'].tolist())\n",
    "\n",
    "X_fold5 = np.array(fold5['Features'].tolist())\n",
    "Y_fold5 = np.array(fold5['Class'].tolist())\n",
    "\n",
    "X_fold7 = np.array(fold7['Features'].tolist())\n",
    "Y_fold7 = np.array(fold7['Class'].tolist())\n",
    "\n",
    "X_fold8 = np.array(fold8['Features'].tolist())\n",
    "Y_fold8 = np.array(fold8['Class'].tolist())\n",
    "\n",
    "X_fold9 = np.array(fold9['Features'].tolist())\n",
    "Y_fold9 = np.array(fold9['Class'].tolist())\n",
    "\n",
    "X_fold10 = np.array(fold10['Features'].tolist())\n",
    "Y_fold10 = np.array(fold10['Class'].tolist())"
   ]
  },
  {
   "cell_type": "code",
   "execution_count": 243,
   "metadata": {},
   "outputs": [],
   "source": [
    "### Label Encoding\n",
    "labelencoder = LabelEncoder()\n",
    "Y_train = to_categorical(labelencoder.fit_transform(Y_train))\n",
    "Y_fold5 = to_categorical(labelencoder.fit_transform(Y_fold5))\n",
    "Y_fold7 = to_categorical(labelencoder.fit_transform(Y_fold7))\n",
    "Y_fold8 = to_categorical(labelencoder.fit_transform(Y_fold8))\n",
    "Y_fold9 = to_categorical(labelencoder.fit_transform(Y_fold9))\n",
    "Y_fold10 = to_categorical(labelencoder.fit_transform(Y_fold10))"
   ]
  },
  {
   "cell_type": "code",
   "execution_count": 326,
   "metadata": {},
   "outputs": [],
   "source": [
    "num_labels = Y_train.shape[1]\n",
    "    \n",
    "model1 = tf.keras.Sequential([\n",
    "tf.keras.layers.Dense(128,input_shape=(40,)),\n",
    "tf.keras.layers.Dense(512, activation='relu'),\n",
    "tf.keras.layers.Dense(128, activation='relu'),\n",
    "tf.keras.layers.Dense(num_labels, activation='softmax')])\n",
    "    \n",
    "model1.compile(optimizer='adam',\n",
    "              loss='categorical_crossentropy',\n",
    "              metrics=['accuracy'])"
   ]
  },
  {
   "cell_type": "code",
   "execution_count": 328,
   "metadata": {},
   "outputs": [
    {
     "name": "stdout",
     "output_type": "stream",
     "text": [
      "Model: \"sequential_145\"\n",
      "_________________________________________________________________\n",
      " Layer (type)                Output Shape              Param #   \n",
      "=================================================================\n",
      " dense_580 (Dense)           (None, 128)               5248      \n",
      "                                                                 \n",
      " dense_581 (Dense)           (None, 512)               66048     \n",
      "                                                                 \n",
      " dense_582 (Dense)           (None, 128)               65664     \n",
      "                                                                 \n",
      " dense_583 (Dense)           (None, 10)                1290      \n",
      "                                                                 \n",
      "=================================================================\n",
      "Total params: 138,250\n",
      "Trainable params: 138,250\n",
      "Non-trainable params: 0\n",
      "_________________________________________________________________\n"
     ]
    }
   ],
   "source": [
    "model1.summary()"
   ]
  },
  {
   "cell_type": "code",
   "execution_count": 329,
   "metadata": {},
   "outputs": [
    {
     "name": "stdout",
     "output_type": "stream",
     "text": [
      "Epoch 1/100\n",
      "141/141 [==============================] - 1s 4ms/step - loss: 2.0427 - accuracy: 0.2481 - val_loss: 1.8413 - val_accuracy: 0.3408\n",
      "Epoch 2/100\n",
      "141/141 [==============================] - 0s 3ms/step - loss: 1.5736 - accuracy: 0.4417 - val_loss: 1.5952 - val_accuracy: 0.4423\n",
      "Epoch 3/100\n",
      "141/141 [==============================] - 0s 3ms/step - loss: 1.3609 - accuracy: 0.5194 - val_loss: 1.6765 - val_accuracy: 0.4327\n",
      "Epoch 4/100\n",
      "141/141 [==============================] - 1s 4ms/step - loss: 1.2397 - accuracy: 0.5621 - val_loss: 1.7356 - val_accuracy: 0.4391\n",
      "Epoch 5/100\n",
      "141/141 [==============================] - 1s 4ms/step - loss: 1.1581 - accuracy: 0.5928 - val_loss: 1.7000 - val_accuracy: 0.4701\n",
      "Epoch 6/100\n",
      "141/141 [==============================] - 1s 4ms/step - loss: 1.0777 - accuracy: 0.6235 - val_loss: 1.6059 - val_accuracy: 0.5139\n",
      "Epoch 7/100\n",
      "141/141 [==============================] - 1s 4ms/step - loss: 1.0227 - accuracy: 0.6386 - val_loss: 1.8088 - val_accuracy: 0.4412\n",
      "Epoch 8/100\n",
      "141/141 [==============================] - 1s 4ms/step - loss: 0.9600 - accuracy: 0.6728 - val_loss: 1.7553 - val_accuracy: 0.4968\n",
      "Epoch 9/100\n",
      "141/141 [==============================] - 1s 5ms/step - loss: 0.8945 - accuracy: 0.6999 - val_loss: 1.8314 - val_accuracy: 0.5064\n",
      "Epoch 10/100\n",
      "141/141 [==============================] - 1s 4ms/step - loss: 0.8824 - accuracy: 0.6957 - val_loss: 1.8117 - val_accuracy: 0.4925\n",
      "Epoch 11/100\n",
      "141/141 [==============================] - 1s 6ms/step - loss: 0.8196 - accuracy: 0.7215 - val_loss: 1.9256 - val_accuracy: 0.4957\n",
      "Epoch 12/100\n",
      "141/141 [==============================] - 1s 4ms/step - loss: 0.7811 - accuracy: 0.7337 - val_loss: 1.9448 - val_accuracy: 0.4519\n",
      "Epoch 13/100\n",
      "141/141 [==============================] - 1s 4ms/step - loss: 0.7576 - accuracy: 0.7379 - val_loss: 1.9892 - val_accuracy: 0.4733\n",
      "Epoch 14/100\n",
      "141/141 [==============================] - 1s 5ms/step - loss: 0.7241 - accuracy: 0.7508 - val_loss: 1.9527 - val_accuracy: 0.4690\n",
      "Epoch 15/100\n",
      "141/141 [==============================] - 1s 4ms/step - loss: 0.6969 - accuracy: 0.7606 - val_loss: 2.4784 - val_accuracy: 0.4188\n",
      "Epoch 16/100\n",
      "141/141 [==============================] - 1s 4ms/step - loss: 0.6616 - accuracy: 0.7744 - val_loss: 2.3819 - val_accuracy: 0.4327\n",
      "Epoch 17/100\n",
      "141/141 [==============================] - 1s 4ms/step - loss: 0.6490 - accuracy: 0.7724 - val_loss: 2.1295 - val_accuracy: 0.4338\n",
      "Epoch 18/100\n",
      "141/141 [==============================] - 1s 4ms/step - loss: 0.6362 - accuracy: 0.7784 - val_loss: 2.3843 - val_accuracy: 0.4647\n",
      "Epoch 19/100\n",
      "141/141 [==============================] - 1s 4ms/step - loss: 0.6011 - accuracy: 0.7900 - val_loss: 2.3238 - val_accuracy: 0.4690\n",
      "Epoch 20/100\n",
      "141/141 [==============================] - 1s 4ms/step - loss: 0.5565 - accuracy: 0.8124 - val_loss: 2.3246 - val_accuracy: 0.5150\n",
      "Epoch 21/100\n",
      "141/141 [==============================] - 1s 4ms/step - loss: 0.5548 - accuracy: 0.8113 - val_loss: 2.4743 - val_accuracy: 0.4690\n",
      "Epoch 22/100\n",
      "141/141 [==============================] - 1s 4ms/step - loss: 0.5187 - accuracy: 0.8240 - val_loss: 2.4839 - val_accuracy: 0.4466\n",
      "Epoch 23/100\n",
      "141/141 [==============================] - 1s 4ms/step - loss: 0.5094 - accuracy: 0.8277 - val_loss: 2.7570 - val_accuracy: 0.4327\n",
      "Epoch 24/100\n",
      "141/141 [==============================] - 1s 4ms/step - loss: 0.4893 - accuracy: 0.8313 - val_loss: 2.5221 - val_accuracy: 0.5043\n",
      "Epoch 25/100\n",
      "141/141 [==============================] - 1s 4ms/step - loss: 0.4875 - accuracy: 0.8337 - val_loss: 2.7043 - val_accuracy: 0.4434\n",
      "Epoch 26/100\n",
      "141/141 [==============================] - 1s 4ms/step - loss: 0.4605 - accuracy: 0.8397 - val_loss: 2.7540 - val_accuracy: 0.4626\n",
      "Epoch 27/100\n",
      "141/141 [==============================] - 1s 4ms/step - loss: 0.4355 - accuracy: 0.8513 - val_loss: 2.9764 - val_accuracy: 0.4220\n",
      "Epoch 28/100\n",
      "141/141 [==============================] - 1s 4ms/step - loss: 0.4320 - accuracy: 0.8517 - val_loss: 2.8090 - val_accuracy: 0.4412\n",
      "Epoch 29/100\n",
      "141/141 [==============================] - 1s 4ms/step - loss: 0.4051 - accuracy: 0.8666 - val_loss: 2.7858 - val_accuracy: 0.4594\n",
      "Epoch 30/100\n",
      "141/141 [==============================] - 1s 4ms/step - loss: 0.3932 - accuracy: 0.8673 - val_loss: 2.8818 - val_accuracy: 0.4423\n",
      "Epoch 31/100\n",
      "141/141 [==============================] - 1s 4ms/step - loss: 0.3821 - accuracy: 0.8726 - val_loss: 3.4295 - val_accuracy: 0.4444\n",
      "Epoch 32/100\n",
      "141/141 [==============================] - 1s 4ms/step - loss: 0.3811 - accuracy: 0.8677 - val_loss: 3.4363 - val_accuracy: 0.4541\n",
      "Epoch 33/100\n",
      "141/141 [==============================] - 1s 5ms/step - loss: 0.3879 - accuracy: 0.8677 - val_loss: 3.1762 - val_accuracy: 0.4188\n",
      "Epoch 34/100\n",
      "141/141 [==============================] - 1s 4ms/step - loss: 0.3378 - accuracy: 0.8898 - val_loss: 3.2225 - val_accuracy: 0.4327\n",
      "Epoch 35/100\n",
      "141/141 [==============================] - 1s 4ms/step - loss: 0.3324 - accuracy: 0.8840 - val_loss: 3.0803 - val_accuracy: 0.4519\n",
      "Epoch 36/100\n",
      "141/141 [==============================] - 1s 4ms/step - loss: 0.3242 - accuracy: 0.8926 - val_loss: 3.5416 - val_accuracy: 0.4167\n",
      "Epoch 37/100\n",
      "141/141 [==============================] - 1s 4ms/step - loss: 0.3309 - accuracy: 0.8875 - val_loss: 3.2419 - val_accuracy: 0.4306\n",
      "Epoch 38/100\n",
      "141/141 [==============================] - 1s 5ms/step - loss: 0.2919 - accuracy: 0.9002 - val_loss: 3.4891 - val_accuracy: 0.4327\n",
      "Epoch 39/100\n",
      "141/141 [==============================] - 1s 5ms/step - loss: 0.2991 - accuracy: 0.8960 - val_loss: 3.3914 - val_accuracy: 0.4519\n",
      "Epoch 40/100\n",
      "141/141 [==============================] - 1s 4ms/step - loss: 0.2669 - accuracy: 0.9138 - val_loss: 3.5310 - val_accuracy: 0.4380\n",
      "Epoch 41/100\n",
      "141/141 [==============================] - 1s 4ms/step - loss: 0.2663 - accuracy: 0.9102 - val_loss: 3.8635 - val_accuracy: 0.4263\n",
      "Epoch 42/100\n",
      "141/141 [==============================] - 1s 5ms/step - loss: 0.2964 - accuracy: 0.8971 - val_loss: 4.3271 - val_accuracy: 0.4081\n",
      "Epoch 43/100\n",
      "141/141 [==============================] - 1s 5ms/step - loss: 0.2866 - accuracy: 0.9024 - val_loss: 3.4552 - val_accuracy: 0.4658\n",
      "Epoch 44/100\n",
      "141/141 [==============================] - 1s 4ms/step - loss: 0.2497 - accuracy: 0.9182 - val_loss: 3.5407 - val_accuracy: 0.4498\n",
      "Epoch 45/100\n",
      "141/141 [==============================] - 0s 3ms/step - loss: 0.2413 - accuracy: 0.9209 - val_loss: 3.8028 - val_accuracy: 0.4712\n",
      "Epoch 46/100\n",
      "141/141 [==============================] - 1s 5ms/step - loss: 0.2568 - accuracy: 0.9122 - val_loss: 4.0784 - val_accuracy: 0.4818\n",
      "Epoch 47/100\n",
      "141/141 [==============================] - 1s 4ms/step - loss: 0.2488 - accuracy: 0.9175 - val_loss: 4.2729 - val_accuracy: 0.4359\n",
      "Epoch 48/100\n",
      "141/141 [==============================] - 1s 4ms/step - loss: 0.2284 - accuracy: 0.9229 - val_loss: 4.0681 - val_accuracy: 0.3910\n",
      "Epoch 49/100\n",
      "141/141 [==============================] - 1s 4ms/step - loss: 0.2377 - accuracy: 0.9182 - val_loss: 4.5512 - val_accuracy: 0.4231\n",
      "Epoch 50/100\n",
      "141/141 [==============================] - 1s 4ms/step - loss: 0.2191 - accuracy: 0.9242 - val_loss: 4.1852 - val_accuracy: 0.4338\n",
      "Epoch 51/100\n",
      "141/141 [==============================] - 1s 4ms/step - loss: 0.1871 - accuracy: 0.9393 - val_loss: 4.0639 - val_accuracy: 0.4509\n",
      "Epoch 52/100\n",
      "141/141 [==============================] - 1s 4ms/step - loss: 0.2554 - accuracy: 0.9091 - val_loss: 4.7706 - val_accuracy: 0.3942\n",
      "Epoch 53/100\n",
      "141/141 [==============================] - 1s 4ms/step - loss: 0.2405 - accuracy: 0.9182 - val_loss: 4.5995 - val_accuracy: 0.3750\n",
      "Epoch 54/100\n",
      "141/141 [==============================] - 1s 4ms/step - loss: 0.2312 - accuracy: 0.9195 - val_loss: 4.6286 - val_accuracy: 0.3964\n",
      "Epoch 55/100\n",
      "141/141 [==============================] - 1s 4ms/step - loss: 0.1897 - accuracy: 0.9351 - val_loss: 4.4023 - val_accuracy: 0.4241\n",
      "Epoch 56/100\n",
      "141/141 [==============================] - 1s 4ms/step - loss: 0.2024 - accuracy: 0.9318 - val_loss: 4.5492 - val_accuracy: 0.4167\n",
      "Epoch 57/100\n",
      "141/141 [==============================] - 1s 4ms/step - loss: 0.1873 - accuracy: 0.9347 - val_loss: 4.6975 - val_accuracy: 0.4049\n"
     ]
    },
    {
     "name": "stdout",
     "output_type": "stream",
     "text": [
      "Epoch 58/100\n",
      "141/141 [==============================] - 0s 3ms/step - loss: 0.1546 - accuracy: 0.9500 - val_loss: 4.3413 - val_accuracy: 0.4092\n",
      "Epoch 59/100\n",
      "141/141 [==============================] - 1s 4ms/step - loss: 0.1811 - accuracy: 0.9347 - val_loss: 5.1688 - val_accuracy: 0.3729\n",
      "Epoch 60/100\n",
      "141/141 [==============================] - 1s 4ms/step - loss: 0.1700 - accuracy: 0.9480 - val_loss: 4.7950 - val_accuracy: 0.4519\n",
      "Epoch 61/100\n",
      "141/141 [==============================] - 1s 4ms/step - loss: 0.2171 - accuracy: 0.9262 - val_loss: 4.6941 - val_accuracy: 0.4103\n",
      "Epoch 62/100\n",
      "141/141 [==============================] - 0s 3ms/step - loss: 0.1330 - accuracy: 0.9607 - val_loss: 4.8222 - val_accuracy: 0.4316\n",
      "Epoch 63/100\n",
      "141/141 [==============================] - 1s 4ms/step - loss: 0.1513 - accuracy: 0.9509 - val_loss: 4.8500 - val_accuracy: 0.4274\n",
      "Epoch 64/100\n",
      "141/141 [==============================] - 1s 4ms/step - loss: 0.1449 - accuracy: 0.9509 - val_loss: 4.9096 - val_accuracy: 0.4530\n",
      "Epoch 65/100\n",
      "141/141 [==============================] - 1s 4ms/step - loss: 0.2113 - accuracy: 0.9287 - val_loss: 4.6715 - val_accuracy: 0.4573\n",
      "Epoch 66/100\n",
      "141/141 [==============================] - 1s 5ms/step - loss: 0.1234 - accuracy: 0.9627 - val_loss: 4.7622 - val_accuracy: 0.4241\n",
      "Epoch 67/100\n",
      "141/141 [==============================] - 1s 4ms/step - loss: 0.1159 - accuracy: 0.9651 - val_loss: 5.1391 - val_accuracy: 0.4103\n",
      "Epoch 68/100\n",
      "141/141 [==============================] - 1s 4ms/step - loss: 0.1097 - accuracy: 0.9655 - val_loss: 4.7871 - val_accuracy: 0.4530\n",
      "Epoch 69/100\n",
      "141/141 [==============================] - 1s 4ms/step - loss: 0.1208 - accuracy: 0.9647 - val_loss: 5.2566 - val_accuracy: 0.4327\n",
      "Epoch 70/100\n",
      "141/141 [==============================] - 1s 4ms/step - loss: 0.1110 - accuracy: 0.9633 - val_loss: 5.2080 - val_accuracy: 0.4306\n",
      "Epoch 71/100\n",
      "141/141 [==============================] - 1s 5ms/step - loss: 0.1509 - accuracy: 0.9478 - val_loss: 5.7274 - val_accuracy: 0.4241\n",
      "Epoch 72/100\n",
      "141/141 [==============================] - 1s 4ms/step - loss: 0.1897 - accuracy: 0.9384 - val_loss: 5.4731 - val_accuracy: 0.4241\n",
      "Epoch 73/100\n",
      "141/141 [==============================] - 1s 4ms/step - loss: 0.2455 - accuracy: 0.9213 - val_loss: 5.4390 - val_accuracy: 0.3996\n",
      "Epoch 74/100\n",
      "141/141 [==============================] - 1s 4ms/step - loss: 0.1469 - accuracy: 0.9504 - val_loss: 5.4627 - val_accuracy: 0.3825\n",
      "Epoch 75/100\n",
      "141/141 [==============================] - 1s 4ms/step - loss: 0.1222 - accuracy: 0.9593 - val_loss: 5.5151 - val_accuracy: 0.4220\n",
      "Epoch 76/100\n",
      "141/141 [==============================] - 1s 4ms/step - loss: 0.1055 - accuracy: 0.9647 - val_loss: 5.7132 - val_accuracy: 0.4156\n",
      "Epoch 77/100\n",
      "141/141 [==============================] - 0s 4ms/step - loss: 0.0813 - accuracy: 0.9767 - val_loss: 5.5634 - val_accuracy: 0.4359\n",
      "Epoch 78/100\n",
      "141/141 [==============================] - 1s 4ms/step - loss: 0.0847 - accuracy: 0.9727 - val_loss: 5.7591 - val_accuracy: 0.4295\n",
      "Epoch 79/100\n",
      "141/141 [==============================] - 1s 4ms/step - loss: 0.1010 - accuracy: 0.9671 - val_loss: 5.7614 - val_accuracy: 0.4274\n",
      "Epoch 80/100\n",
      "141/141 [==============================] - 1s 4ms/step - loss: 0.1226 - accuracy: 0.9589 - val_loss: 5.5295 - val_accuracy: 0.4103\n",
      "Epoch 81/100\n",
      "141/141 [==============================] - 0s 4ms/step - loss: 0.0940 - accuracy: 0.9689 - val_loss: 5.3136 - val_accuracy: 0.4145\n",
      "Epoch 82/100\n",
      "141/141 [==============================] - 1s 4ms/step - loss: 0.0987 - accuracy: 0.9687 - val_loss: 5.4508 - val_accuracy: 0.3857\n",
      "Epoch 83/100\n",
      "141/141 [==============================] - 1s 4ms/step - loss: 0.1608 - accuracy: 0.9480 - val_loss: 5.7006 - val_accuracy: 0.4380\n",
      "Epoch 84/100\n",
      "141/141 [==============================] - 1s 4ms/step - loss: 0.2898 - accuracy: 0.9049 - val_loss: 5.7891 - val_accuracy: 0.4231\n",
      "Epoch 85/100\n",
      "141/141 [==============================] - 0s 4ms/step - loss: 0.1534 - accuracy: 0.9502 - val_loss: 6.5286 - val_accuracy: 0.4060\n",
      "Epoch 86/100\n",
      "141/141 [==============================] - 1s 4ms/step - loss: 0.1112 - accuracy: 0.9653 - val_loss: 5.9621 - val_accuracy: 0.3835\n",
      "Epoch 87/100\n",
      "141/141 [==============================] - 1s 4ms/step - loss: 0.0953 - accuracy: 0.9700 - val_loss: 6.2392 - val_accuracy: 0.4049\n",
      "Epoch 88/100\n",
      "141/141 [==============================] - 1s 4ms/step - loss: 0.0959 - accuracy: 0.9715 - val_loss: 6.4905 - val_accuracy: 0.4006\n",
      "Epoch 89/100\n",
      "141/141 [==============================] - 0s 3ms/step - loss: 0.1060 - accuracy: 0.9720 - val_loss: 6.4477 - val_accuracy: 0.3953\n",
      "Epoch 90/100\n",
      "141/141 [==============================] - 1s 4ms/step - loss: 0.0578 - accuracy: 0.9824 - val_loss: 6.3867 - val_accuracy: 0.3932\n",
      "Epoch 91/100\n",
      "141/141 [==============================] - 1s 4ms/step - loss: 0.0768 - accuracy: 0.9767 - val_loss: 6.1358 - val_accuracy: 0.4220\n",
      "Epoch 92/100\n",
      "141/141 [==============================] - 1s 4ms/step - loss: 0.0548 - accuracy: 0.9856 - val_loss: 6.1880 - val_accuracy: 0.4167\n",
      "Epoch 93/100\n",
      "141/141 [==============================] - 1s 4ms/step - loss: 0.0922 - accuracy: 0.9707 - val_loss: 6.3142 - val_accuracy: 0.4423\n",
      "Epoch 94/100\n",
      "141/141 [==============================] - 1s 4ms/step - loss: 0.1934 - accuracy: 0.9324 - val_loss: 6.2752 - val_accuracy: 0.4423\n",
      "Epoch 95/100\n",
      "141/141 [==============================] - 1s 4ms/step - loss: 0.0805 - accuracy: 0.9773 - val_loss: 6.2821 - val_accuracy: 0.4220\n",
      "Epoch 96/100\n",
      "141/141 [==============================] - 1s 4ms/step - loss: 0.0710 - accuracy: 0.9758 - val_loss: 6.9821 - val_accuracy: 0.4188\n",
      "Epoch 97/100\n",
      "141/141 [==============================] - 1s 4ms/step - loss: 0.0726 - accuracy: 0.9782 - val_loss: 6.6322 - val_accuracy: 0.4284\n",
      "Epoch 98/100\n",
      "141/141 [==============================] - 1s 4ms/step - loss: 0.0473 - accuracy: 0.9887 - val_loss: 6.2379 - val_accuracy: 0.4284\n",
      "Epoch 99/100\n",
      "141/141 [==============================] - 1s 4ms/step - loss: 0.0432 - accuracy: 0.9884 - val_loss: 6.4650 - val_accuracy: 0.4295\n",
      "Epoch 100/100\n",
      "141/141 [==============================] - 1s 4ms/step - loss: 0.0425 - accuracy: 0.9882 - val_loss: 6.7933 - val_accuracy: 0.4348\n"
     ]
    }
   ],
   "source": [
    "history1c = model1.fit(X_train, Y_train, epochs=100, validation_data=(X_fold5, Y_fold5), verbose=1)"
   ]
  },
  {
   "cell_type": "code",
   "execution_count": 330,
   "metadata": {},
   "outputs": [
    {
     "data": {
      "text/plain": [
       "0.383976149559021"
      ]
     },
     "execution_count": 330,
     "metadata": {},
     "output_type": "execute_result"
    }
   ],
   "source": [
    "accuracy = []\n",
    "\n",
    "test_accuracy = model1.evaluate(X_fold5,Y_fold5,verbose=0)\n",
    "value = test_accuracy[1]\n",
    "accuracy.append(value)\n",
    "\n",
    "test_accuracy = model1.evaluate(X_fold7,Y_fold7,verbose=0)\n",
    "value = test_accuracy[1]\n",
    "accuracy.append(value)\n",
    "\n",
    "test_accuracy = model1.evaluate(X_fold8,Y_fold8,verbose=0)\n",
    "value = test_accuracy[1]\n",
    "accuracy.append(value)\n",
    "\n",
    "test_accuracy = model1.evaluate(X_fold9,Y_fold9,verbose=0)\n",
    "value = test_accuracy[1]\n",
    "accuracy.append(value)\n",
    "\n",
    "test_accuracy = model1.evaluate(X_fold10,Y_fold10,verbose=0)\n",
    "value = test_accuracy[1]\n",
    "accuracy.append(value)\n",
    "\n",
    "\n",
    "avg_accuracy = np.mean(accuracy)\n",
    "avg_accuracy"
   ]
  },
  {
   "cell_type": "code",
   "execution_count": 297,
   "metadata": {},
   "outputs": [],
   "source": [
    "####MODEL\n",
    "n_labels = Y_train.shape[1]\n",
    "\n",
    "model2 = models.Sequential()\n",
    "model2.add(Dense(128, input_shape=(40,)))\n",
    "model2.add(Activation('relu'))\n",
    "model2.add(Dropout(0.3))\n",
    "\n",
    "model2.add(Dense(512))\n",
    "model2.add(Activation('relu'))\n",
    "model2.add(Dropout(0.3))\n",
    "\n",
    "model2.add(Dense(128))\n",
    "model2.add(Activation('relu'))\n",
    "model2.add(Dropout(0.3))\n",
    "\n",
    "model2.add(Dense(n_labels))\n",
    "model2.add(Activation('softmax'))\n",
    "\n",
    "\n",
    "model2.compile(optimizer='adam',\n",
    "              loss='categorical_crossentropy',\n",
    "              metrics=['accuracy'])"
   ]
  },
  {
   "cell_type": "code",
   "execution_count": 304,
   "metadata": {},
   "outputs": [
    {
     "name": "stdout",
     "output_type": "stream",
     "text": [
      "Epoch 1/100\n",
      "141/141 [==============================] - 1s 4ms/step - loss: 0.6564 - accuracy: 0.7693 - val_loss: 2.1286 - val_accuracy: 0.4637\n",
      "Epoch 2/100\n",
      "141/141 [==============================] - 1s 4ms/step - loss: 0.6506 - accuracy: 0.7639 - val_loss: 2.1762 - val_accuracy: 0.4904\n",
      "Epoch 3/100\n",
      "141/141 [==============================] - 1s 4ms/step - loss: 0.6371 - accuracy: 0.7695 - val_loss: 2.3622 - val_accuracy: 0.4380\n",
      "Epoch 4/100\n",
      "141/141 [==============================] - 1s 4ms/step - loss: 0.6417 - accuracy: 0.7677 - val_loss: 2.2536 - val_accuracy: 0.4615\n",
      "Epoch 5/100\n",
      "141/141 [==============================] - 1s 4ms/step - loss: 0.6472 - accuracy: 0.7631 - val_loss: 2.0672 - val_accuracy: 0.4733\n",
      "Epoch 6/100\n",
      "141/141 [==============================] - 1s 5ms/step - loss: 0.6543 - accuracy: 0.7691 - val_loss: 2.0876 - val_accuracy: 0.4594\n",
      "Epoch 7/100\n",
      "141/141 [==============================] - 1s 5ms/step - loss: 0.6364 - accuracy: 0.7728 - val_loss: 2.1026 - val_accuracy: 0.4722\n",
      "Epoch 8/100\n",
      "141/141 [==============================] - 1s 5ms/step - loss: 0.6365 - accuracy: 0.7719 - val_loss: 2.1503 - val_accuracy: 0.4476\n",
      "Epoch 9/100\n",
      "141/141 [==============================] - 1s 5ms/step - loss: 0.6396 - accuracy: 0.7675 - val_loss: 2.1054 - val_accuracy: 0.4957\n",
      "Epoch 10/100\n",
      "141/141 [==============================] - 1s 6ms/step - loss: 0.6374 - accuracy: 0.7708 - val_loss: 2.1633 - val_accuracy: 0.4786\n",
      "Epoch 11/100\n",
      "141/141 [==============================] - 1s 4ms/step - loss: 0.5961 - accuracy: 0.7888 - val_loss: 2.1902 - val_accuracy: 0.4818\n",
      "Epoch 12/100\n",
      "141/141 [==============================] - 1s 4ms/step - loss: 0.6387 - accuracy: 0.7744 - val_loss: 2.0630 - val_accuracy: 0.4893\n",
      "Epoch 13/100\n",
      "141/141 [==============================] - 1s 4ms/step - loss: 0.6175 - accuracy: 0.7820 - val_loss: 2.1102 - val_accuracy: 0.4968\n",
      "Epoch 14/100\n",
      "141/141 [==============================] - 1s 4ms/step - loss: 0.6286 - accuracy: 0.7735 - val_loss: 2.2680 - val_accuracy: 0.4295\n",
      "Epoch 15/100\n",
      "141/141 [==============================] - 1s 5ms/step - loss: 0.6199 - accuracy: 0.7782 - val_loss: 2.1643 - val_accuracy: 0.4818\n",
      "Epoch 16/100\n",
      "141/141 [==============================] - 1s 5ms/step - loss: 0.6234 - accuracy: 0.7800 - val_loss: 2.1568 - val_accuracy: 0.4776\n",
      "Epoch 17/100\n",
      "141/141 [==============================] - 1s 5ms/step - loss: 0.6014 - accuracy: 0.7800 - val_loss: 2.2784 - val_accuracy: 0.4316\n",
      "Epoch 18/100\n",
      "141/141 [==============================] - 1s 5ms/step - loss: 0.6330 - accuracy: 0.7722 - val_loss: 2.3283 - val_accuracy: 0.4765\n",
      "Epoch 19/100\n",
      "141/141 [==============================] - 1s 5ms/step - loss: 0.6244 - accuracy: 0.7686 - val_loss: 2.1208 - val_accuracy: 0.4712\n",
      "Epoch 20/100\n",
      "141/141 [==============================] - 1s 4ms/step - loss: 0.6134 - accuracy: 0.7775 - val_loss: 2.4433 - val_accuracy: 0.4338\n",
      "Epoch 21/100\n",
      "141/141 [==============================] - 1s 4ms/step - loss: 0.6142 - accuracy: 0.7766 - val_loss: 2.2609 - val_accuracy: 0.4615\n",
      "Epoch 22/100\n",
      "141/141 [==============================] - 1s 5ms/step - loss: 0.6120 - accuracy: 0.7791 - val_loss: 2.1861 - val_accuracy: 0.4626\n",
      "Epoch 23/100\n",
      "141/141 [==============================] - 1s 5ms/step - loss: 0.6202 - accuracy: 0.7846 - val_loss: 2.1789 - val_accuracy: 0.4882\n",
      "Epoch 24/100\n",
      "141/141 [==============================] - 1s 4ms/step - loss: 0.6056 - accuracy: 0.7848 - val_loss: 2.2513 - val_accuracy: 0.4722\n",
      "Epoch 25/100\n",
      "141/141 [==============================] - 1s 5ms/step - loss: 0.5920 - accuracy: 0.7811 - val_loss: 2.3310 - val_accuracy: 0.4712\n",
      "Epoch 26/100\n",
      "141/141 [==============================] - 1s 4ms/step - loss: 0.6066 - accuracy: 0.7908 - val_loss: 2.2550 - val_accuracy: 0.4679\n",
      "Epoch 27/100\n",
      "141/141 [==============================] - 1s 4ms/step - loss: 0.5980 - accuracy: 0.7908 - val_loss: 2.3672 - val_accuracy: 0.4530\n",
      "Epoch 28/100\n",
      "141/141 [==============================] - 1s 4ms/step - loss: 0.6078 - accuracy: 0.7784 - val_loss: 2.2589 - val_accuracy: 0.4690\n",
      "Epoch 29/100\n",
      "141/141 [==============================] - 1s 4ms/step - loss: 0.5973 - accuracy: 0.7797 - val_loss: 2.2315 - val_accuracy: 0.4979\n",
      "Epoch 30/100\n",
      "141/141 [==============================] - 1s 5ms/step - loss: 0.6143 - accuracy: 0.7844 - val_loss: 2.1666 - val_accuracy: 0.4872\n",
      "Epoch 31/100\n",
      "141/141 [==============================] - 1s 5ms/step - loss: 0.5819 - accuracy: 0.7902 - val_loss: 2.2628 - val_accuracy: 0.4690\n",
      "Epoch 32/100\n",
      "141/141 [==============================] - 1s 6ms/step - loss: 0.5605 - accuracy: 0.8037 - val_loss: 2.3152 - val_accuracy: 0.4701\n",
      "Epoch 33/100\n",
      "141/141 [==============================] - 1s 5ms/step - loss: 0.5717 - accuracy: 0.8000 - val_loss: 2.2371 - val_accuracy: 0.4765\n",
      "Epoch 34/100\n",
      "141/141 [==============================] - 1s 5ms/step - loss: 0.5845 - accuracy: 0.7946 - val_loss: 2.2471 - val_accuracy: 0.4637\n",
      "Epoch 35/100\n",
      "141/141 [==============================] - 1s 5ms/step - loss: 0.5942 - accuracy: 0.7851 - val_loss: 2.1503 - val_accuracy: 0.4733\n",
      "Epoch 36/100\n",
      "141/141 [==============================] - 1s 4ms/step - loss: 0.5747 - accuracy: 0.7957 - val_loss: 2.2589 - val_accuracy: 0.4797\n",
      "Epoch 37/100\n",
      "141/141 [==============================] - 1s 4ms/step - loss: 0.5898 - accuracy: 0.7862 - val_loss: 2.1830 - val_accuracy: 0.4562\n",
      "Epoch 38/100\n",
      "141/141 [==============================] - 1s 4ms/step - loss: 0.6077 - accuracy: 0.7835 - val_loss: 2.1334 - val_accuracy: 0.4786\n",
      "Epoch 39/100\n",
      "141/141 [==============================] - 1s 4ms/step - loss: 0.5756 - accuracy: 0.7897 - val_loss: 2.0762 - val_accuracy: 0.4808\n",
      "Epoch 40/100\n",
      "141/141 [==============================] - 1s 4ms/step - loss: 0.5442 - accuracy: 0.8026 - val_loss: 2.1136 - val_accuracy: 0.4947\n",
      "Epoch 41/100\n",
      "141/141 [==============================] - 1s 4ms/step - loss: 0.5640 - accuracy: 0.8000 - val_loss: 2.2463 - val_accuracy: 0.4979\n",
      "Epoch 42/100\n",
      "141/141 [==============================] - 1s 4ms/step - loss: 0.5858 - accuracy: 0.7908 - val_loss: 2.2088 - val_accuracy: 0.4904\n",
      "Epoch 43/100\n",
      "141/141 [==============================] - 1s 5ms/step - loss: 0.5624 - accuracy: 0.8002 - val_loss: 2.1859 - val_accuracy: 0.5032\n",
      "Epoch 44/100\n",
      "141/141 [==============================] - 1s 4ms/step - loss: 0.5639 - accuracy: 0.7984 - val_loss: 2.1166 - val_accuracy: 0.4754\n",
      "Epoch 45/100\n",
      "141/141 [==============================] - 1s 4ms/step - loss: 0.5571 - accuracy: 0.8008 - val_loss: 2.2561 - val_accuracy: 0.4498\n",
      "Epoch 46/100\n",
      "141/141 [==============================] - 1s 5ms/step - loss: 0.5784 - accuracy: 0.7966 - val_loss: 2.1511 - val_accuracy: 0.4968\n",
      "Epoch 47/100\n",
      "141/141 [==============================] - 1s 4ms/step - loss: 0.5769 - accuracy: 0.7828 - val_loss: 2.1810 - val_accuracy: 0.4594\n",
      "Epoch 48/100\n",
      "141/141 [==============================] - 1s 4ms/step - loss: 0.5755 - accuracy: 0.7866 - val_loss: 2.2378 - val_accuracy: 0.4776\n",
      "Epoch 49/100\n",
      "141/141 [==============================] - 1s 4ms/step - loss: 0.5613 - accuracy: 0.7957 - val_loss: 2.3064 - val_accuracy: 0.4647\n",
      "Epoch 50/100\n",
      "141/141 [==============================] - 1s 4ms/step - loss: 0.5622 - accuracy: 0.7948 - val_loss: 2.2784 - val_accuracy: 0.4818\n",
      "Epoch 51/100\n",
      "141/141 [==============================] - 1s 4ms/step - loss: 0.5474 - accuracy: 0.8028 - val_loss: 2.2844 - val_accuracy: 0.4861\n",
      "Epoch 52/100\n",
      "141/141 [==============================] - 1s 4ms/step - loss: 0.5623 - accuracy: 0.8022 - val_loss: 2.3604 - val_accuracy: 0.4679\n",
      "Epoch 53/100\n",
      "141/141 [==============================] - 1s 5ms/step - loss: 0.5594 - accuracy: 0.8006 - val_loss: 2.2538 - val_accuracy: 0.4754\n",
      "Epoch 54/100\n",
      "141/141 [==============================] - 1s 5ms/step - loss: 0.5643 - accuracy: 0.8004 - val_loss: 2.3514 - val_accuracy: 0.4551\n",
      "Epoch 55/100\n",
      "141/141 [==============================] - 1s 4ms/step - loss: 0.5676 - accuracy: 0.8002 - val_loss: 2.2698 - val_accuracy: 0.4701\n",
      "Epoch 56/100\n",
      "141/141 [==============================] - 1s 5ms/step - loss: 0.5455 - accuracy: 0.8073 - val_loss: 2.1886 - val_accuracy: 0.4797\n",
      "Epoch 57/100\n",
      "141/141 [==============================] - 1s 6ms/step - loss: 0.5372 - accuracy: 0.8113 - val_loss: 2.2204 - val_accuracy: 0.4786\n"
     ]
    },
    {
     "name": "stdout",
     "output_type": "stream",
     "text": [
      "Epoch 58/100\n",
      "141/141 [==============================] - 1s 7ms/step - loss: 0.5687 - accuracy: 0.8051 - val_loss: 2.3920 - val_accuracy: 0.4690\n",
      "Epoch 59/100\n",
      "141/141 [==============================] - 1s 6ms/step - loss: 0.5393 - accuracy: 0.8084 - val_loss: 2.3176 - val_accuracy: 0.4626\n",
      "Epoch 60/100\n",
      "141/141 [==============================] - 1s 4ms/step - loss: 0.5500 - accuracy: 0.8066 - val_loss: 2.1935 - val_accuracy: 0.5053\n",
      "Epoch 61/100\n",
      "141/141 [==============================] - 1s 4ms/step - loss: 0.5548 - accuracy: 0.8042 - val_loss: 2.2169 - val_accuracy: 0.4957\n",
      "Epoch 62/100\n",
      "141/141 [==============================] - 1s 4ms/step - loss: 0.5367 - accuracy: 0.8020 - val_loss: 2.4183 - val_accuracy: 0.4786\n",
      "Epoch 63/100\n",
      "141/141 [==============================] - 1s 4ms/step - loss: 0.5189 - accuracy: 0.8088 - val_loss: 2.3558 - val_accuracy: 0.4744\n",
      "Epoch 64/100\n",
      "141/141 [==============================] - 1s 4ms/step - loss: 0.5289 - accuracy: 0.8071 - val_loss: 2.4331 - val_accuracy: 0.4733\n",
      "Epoch 65/100\n",
      "141/141 [==============================] - 1s 4ms/step - loss: 0.5308 - accuracy: 0.8028 - val_loss: 2.2659 - val_accuracy: 0.4840\n",
      "Epoch 66/100\n",
      "141/141 [==============================] - 1s 4ms/step - loss: 0.5119 - accuracy: 0.8117 - val_loss: 2.4579 - val_accuracy: 0.4583\n",
      "Epoch 67/100\n",
      "141/141 [==============================] - 1s 4ms/step - loss: 0.5401 - accuracy: 0.8053 - val_loss: 2.3551 - val_accuracy: 0.4562\n",
      "Epoch 68/100\n",
      "141/141 [==============================] - 1s 4ms/step - loss: 0.5314 - accuracy: 0.8104 - val_loss: 2.3704 - val_accuracy: 0.4690\n",
      "Epoch 69/100\n",
      "141/141 [==============================] - 1s 4ms/step - loss: 0.5427 - accuracy: 0.8071 - val_loss: 2.3512 - val_accuracy: 0.4818\n",
      "Epoch 70/100\n",
      "141/141 [==============================] - 1s 4ms/step - loss: 0.5441 - accuracy: 0.8088 - val_loss: 2.4504 - val_accuracy: 0.4626\n",
      "Epoch 71/100\n",
      "141/141 [==============================] - 1s 4ms/step - loss: 0.5464 - accuracy: 0.8080 - val_loss: 2.3675 - val_accuracy: 0.4573\n",
      "Epoch 72/100\n",
      "141/141 [==============================] - 1s 4ms/step - loss: 0.5252 - accuracy: 0.8086 - val_loss: 2.4709 - val_accuracy: 0.4530\n",
      "Epoch 73/100\n",
      "141/141 [==============================] - 1s 4ms/step - loss: 0.5337 - accuracy: 0.8066 - val_loss: 2.3724 - val_accuracy: 0.4647\n",
      "Epoch 74/100\n",
      "141/141 [==============================] - 1s 4ms/step - loss: 0.5359 - accuracy: 0.8053 - val_loss: 2.2777 - val_accuracy: 0.4722\n",
      "Epoch 75/100\n",
      "141/141 [==============================] - 1s 4ms/step - loss: 0.5335 - accuracy: 0.8077 - val_loss: 2.3893 - val_accuracy: 0.4786\n",
      "Epoch 76/100\n",
      "141/141 [==============================] - 1s 4ms/step - loss: 0.5229 - accuracy: 0.8084 - val_loss: 2.4419 - val_accuracy: 0.4605\n",
      "Epoch 77/100\n",
      "141/141 [==============================] - 1s 4ms/step - loss: 0.5558 - accuracy: 0.8000 - val_loss: 2.4000 - val_accuracy: 0.4690\n",
      "Epoch 78/100\n",
      "141/141 [==============================] - 1s 4ms/step - loss: 0.5199 - accuracy: 0.8155 - val_loss: 2.6409 - val_accuracy: 0.4519\n",
      "Epoch 79/100\n",
      "141/141 [==============================] - 1s 4ms/step - loss: 0.5306 - accuracy: 0.8048 - val_loss: 2.6510 - val_accuracy: 0.4498\n",
      "Epoch 80/100\n",
      "141/141 [==============================] - 1s 4ms/step - loss: 0.5218 - accuracy: 0.8173 - val_loss: 2.4150 - val_accuracy: 0.4776\n",
      "Epoch 81/100\n",
      "141/141 [==============================] - 1s 5ms/step - loss: 0.4995 - accuracy: 0.8211 - val_loss: 2.4510 - val_accuracy: 0.4679\n",
      "Epoch 82/100\n",
      "141/141 [==============================] - 1s 5ms/step - loss: 0.5296 - accuracy: 0.8033 - val_loss: 2.3389 - val_accuracy: 0.4679\n",
      "Epoch 83/100\n",
      "141/141 [==============================] - 1s 5ms/step - loss: 0.4954 - accuracy: 0.8244 - val_loss: 2.4086 - val_accuracy: 0.4808\n",
      "Epoch 84/100\n",
      "141/141 [==============================] - 1s 4ms/step - loss: 0.4996 - accuracy: 0.8242 - val_loss: 2.4933 - val_accuracy: 0.4658\n",
      "Epoch 85/100\n",
      "141/141 [==============================] - 1s 5ms/step - loss: 0.5057 - accuracy: 0.8151 - val_loss: 2.3636 - val_accuracy: 0.4701\n",
      "Epoch 86/100\n",
      "141/141 [==============================] - 1s 6ms/step - loss: 0.5052 - accuracy: 0.8186 - val_loss: 2.5142 - val_accuracy: 0.4679\n",
      "Epoch 87/100\n",
      "141/141 [==============================] - 1s 4ms/step - loss: 0.5262 - accuracy: 0.8088 - val_loss: 2.3646 - val_accuracy: 0.4690\n",
      "Epoch 88/100\n",
      "141/141 [==============================] - 1s 4ms/step - loss: 0.4793 - accuracy: 0.8280 - val_loss: 2.5508 - val_accuracy: 0.4786\n",
      "Epoch 89/100\n",
      "141/141 [==============================] - 1s 4ms/step - loss: 0.4962 - accuracy: 0.8188 - val_loss: 2.5052 - val_accuracy: 0.4679\n",
      "Epoch 90/100\n",
      "141/141 [==============================] - 1s 4ms/step - loss: 0.5114 - accuracy: 0.8144 - val_loss: 2.3370 - val_accuracy: 0.4647\n",
      "Epoch 91/100\n",
      "141/141 [==============================] - 1s 4ms/step - loss: 0.4987 - accuracy: 0.8175 - val_loss: 2.4937 - val_accuracy: 0.4658\n",
      "Epoch 92/100\n",
      "141/141 [==============================] - 1s 4ms/step - loss: 0.5043 - accuracy: 0.8217 - val_loss: 2.5485 - val_accuracy: 0.4669\n",
      "Epoch 93/100\n",
      "141/141 [==============================] - 1s 4ms/step - loss: 0.5036 - accuracy: 0.8202 - val_loss: 2.5800 - val_accuracy: 0.4370\n",
      "Epoch 94/100\n",
      "141/141 [==============================] - 1s 4ms/step - loss: 0.4977 - accuracy: 0.8193 - val_loss: 2.5795 - val_accuracy: 0.4551\n",
      "Epoch 95/100\n",
      "141/141 [==============================] - 1s 4ms/step - loss: 0.5139 - accuracy: 0.8146 - val_loss: 2.4398 - val_accuracy: 0.4776\n",
      "Epoch 96/100\n",
      "141/141 [==============================] - 1s 4ms/step - loss: 0.4856 - accuracy: 0.8228 - val_loss: 2.5389 - val_accuracy: 0.4562\n",
      "Epoch 97/100\n",
      "141/141 [==============================] - 1s 4ms/step - loss: 0.5133 - accuracy: 0.8171 - val_loss: 2.5153 - val_accuracy: 0.4541\n",
      "Epoch 98/100\n",
      "141/141 [==============================] - 1s 6ms/step - loss: 0.5071 - accuracy: 0.8160 - val_loss: 2.5186 - val_accuracy: 0.4551\n",
      "Epoch 99/100\n",
      "141/141 [==============================] - 1s 5ms/step - loss: 0.4994 - accuracy: 0.8251 - val_loss: 2.5788 - val_accuracy: 0.4562\n",
      "Epoch 100/100\n",
      "141/141 [==============================] - 1s 4ms/step - loss: 0.4824 - accuracy: 0.8275 - val_loss: 2.4568 - val_accuracy: 0.4765\n"
     ]
    }
   ],
   "source": [
    "history2c = model2.fit(X_train, Y_train, epochs=100, validation_data=(X_fold5, Y_fold5), verbose=1)"
   ]
  },
  {
   "cell_type": "code",
   "execution_count": 305,
   "metadata": {},
   "outputs": [
    {
     "data": {
      "text/plain": [
       "0.387112158536911"
      ]
     },
     "execution_count": 305,
     "metadata": {},
     "output_type": "execute_result"
    }
   ],
   "source": [
    "accuracy = []\n",
    "\n",
    "test_accuracy = model2.evaluate(X_fold5,Y_fold5,verbose=0)\n",
    "value = test_accuracy[1]\n",
    "accuracy.append(value)\n",
    "\n",
    "test_accuracy = model2.evaluate(X_fold7,Y_fold7,verbose=0)\n",
    "value = test_accuracy[1]\n",
    "accuracy.append(value)\n",
    "\n",
    "test_accuracy = model2.evaluate(X_fold8,Y_fold8,verbose=0)\n",
    "value = test_accuracy[1]\n",
    "accuracy.append(value)\n",
    "\n",
    "test_accuracy = model2.evaluate(X_fold9,Y_fold9,verbose=0)\n",
    "value = test_accuracy[1]\n",
    "accuracy.append(value)\n",
    "\n",
    "test_accuracy = model2.evaluate(X_fold10,Y_fold10,verbose=0)\n",
    "value = test_accuracy[1]\n",
    "accuracy.append(value)\n",
    "\n",
    "\n",
    "avg_accuracy = np.mean(accuracy)\n",
    "avg_accuracy"
   ]
  },
  {
   "cell_type": "code",
   "execution_count": 309,
   "metadata": {},
   "outputs": [
    {
     "data": {
      "image/png": "[encoded data removed]",
      "text/plain": [
       "<Figure size 1080x720 with 2 Axes>"
      ]
     },
     "metadata": {
      "needs_background": "light"
     },
     "output_type": "display_data"
    }
   ],
   "source": [
    "plt.figure(1) \n",
    "   \n",
    "   \n",
    "plt.subplot(211)  \n",
    "plt.plot(history2c.history['accuracy'])  \n",
    "plt.plot(history2c.history['val_accuracy'])  \n",
    "plt.title('model accuracy')  \n",
    "plt.ylabel('accuracy')  \n",
    "plt.xlabel('epoch')  \n",
    "plt.legend(['train', 'test'], loc='upper left')  \n",
    "   \n",
    "   \n",
    "plt.subplot(212)  \n",
    "plt.plot(history2c.history['loss'])  \n",
    "plt.plot(history2c.history['val_loss'])  \n",
    "plt.title('model loss')  \n",
    "plt.ylabel('loss')  \n",
    "plt.xlabel('epoch')  \n",
    "plt.legend(['train', 'test'], loc='upper left')  \n",
    "plt.show()"
   ]
  },
  {
   "cell_type": "code",
   "execution_count": 308,
   "metadata": {},
   "outputs": [
    {
     "data": {
      "image/png": "[encoded data removed]",
      "text/plain": [
       "<Figure size 1080x720 with 1 Axes>"
      ]
     },
     "metadata": {
      "needs_background": "light"
     },
     "output_type": "display_data"
    }
   ],
   "source": [
    "# Plot loss per iteration\n",
    "import matplotlib.pyplot as plt\n",
    "from pylab import rcParams\n",
    "rcParams['figure.figsize'] = 15, 10\n",
    "plt.title(\"loss function and accuracy scores after each epoch, for both train and test sets\")\n",
    "plt.plot(history2c.history['loss'], label='train loss')\n",
    "plt.plot(history2c.history['val_loss'], label='validation loss')\n",
    "plt.plot(history2c.history['accuracy'], label='train accuracy')\n",
    "plt.plot(history2c.history['val_accuracy'], label='validation accuracy')\n",
    "plt.legend()\n",
    "plt.savefig(\"/Users/DELL/OneDrive/Desktop/DSE/Machine Learning/acclossc.jpg\")"
   ]
  },
  {
   "cell_type": "code",
   "execution_count": 249,
   "metadata": {},
   "outputs": [
    {
     "data": {
      "text/plain": [
       "array(['dog_bark'], dtype='<U16')"
      ]
     },
     "execution_count": 249,
     "metadata": {},
     "output_type": "execute_result"
    }
   ],
   "source": [
    "#dog\n",
    "filename = \"/Users/DELL/OneDrive/Desktop/DSE/UrbanSound8K/audio/fold5/100032-3-0-0.wav\"\n",
    "data, sample_rate = librosa.load(filename, res_type='kaiser_fast') \n",
    "mfccs_features = librosa.feature.mfcc(y=data, sr=sample_rate, n_mfcc=40)\n",
    "mfccs_scaled_features = np.mean(mfccs_features.T,axis=0)\n",
    "\n",
    "mfccs_scaled_features = mfccs_scaled_features.reshape(1,-1)\n",
    "predicted_label = np.argmax(model3_NN.predict(mfccs_scaled_features), axis=1)\n",
    "prediction_class = labelencoder.inverse_transform(predicted_label) \n",
    "prediction_class"
   ]
  },
  {
   "cell_type": "code",
   "execution_count": 250,
   "metadata": {},
   "outputs": [
    {
     "data": {
      "text/plain": [
       "array(['siren'], dtype='<U16')"
      ]
     },
     "execution_count": 250,
     "metadata": {},
     "output_type": "execute_result"
    }
   ],
   "source": [
    "# siren\n",
    "filename = \"/Users/DELL/OneDrive/Desktop/DSE/UrbanSound8K/audio/fold7/107357-8-1-10.wav\"\n",
    "data, sample_rate = librosa.load(filename, res_type='kaiser_fast') \n",
    "mfccs_features = librosa.feature.mfcc(y=data, sr=sample_rate, n_mfcc=40)\n",
    "mfccs_scaled_features = np.mean(mfccs_features.T,axis=0)\n",
    "\n",
    "mfccs_scaled_features = mfccs_scaled_features.reshape(1,-1)\n",
    "predicted_label = np.argmax(model3_NN.predict(mfccs_scaled_features), axis=1)\n",
    "prediction_class = labelencoder.inverse_transform(predicted_label) \n",
    "prediction_class"
   ]
  },
  {
   "cell_type": "code",
   "execution_count": 251,
   "metadata": {},
   "outputs": [
    {
     "data": {
      "text/plain": [
       "array(['dog_bark'], dtype='<U16')"
      ]
     },
     "execution_count": 251,
     "metadata": {},
     "output_type": "execute_result"
    }
   ],
   "source": [
    "# children_playing\n",
    "filename = \"/Users/DELL/OneDrive/Desktop/DSE/UrbanSound8K/audio/fold5/100263-2-0-117.wav\"\n",
    "data, sample_rate = librosa.load(filename, res_type='kaiser_fast') \n",
    "mfccs_features = librosa.feature.mfcc(y=data, sr=sample_rate, n_mfcc=40)\n",
    "mfccs_scaled_features = np.mean(mfccs_features.T,axis=0)\n",
    "\n",
    "mfccs_scaled_features = mfccs_scaled_features.reshape(1,-1)\n",
    "predicted_label = np.argmax(model2_NN.predict(mfccs_scaled_features), axis=1)\n",
    "prediction_class = labelencoder.inverse_transform(predicted_label) \n",
    "prediction_class"
   ]
  },
  {
   "cell_type": "code",
   "execution_count": 252,
   "metadata": {},
   "outputs": [
    {
     "data": {
      "text/plain": [
       "array(['dog_bark'], dtype='<U16')"
      ]
     },
     "execution_count": 252,
     "metadata": {},
     "output_type": "execute_result"
    }
   ],
   "source": [
    "#dog\n",
    "filename = \"/Users/DELL/OneDrive/Desktop/DSE/UrbanSound8K/audio/fold5/100032-3-0-0.wav\"\n",
    "data, sample_rate = librosa.load(filename, res_type='kaiser_fast') \n",
    "mfccs_features = librosa.feature.mfcc(y=data, sr=sample_rate, n_mfcc=40)\n",
    "mfccs_scaled_features = np.mean(mfccs_features.T,axis=0)\n",
    "\n",
    "mfccs_scaled_features = mfccs_scaled_features.reshape(1,-1)\n",
    "predicted_label = np.argmax(model3_NN.predict(mfccs_scaled_features), axis=1)\n",
    "prediction_class = labelencoder.inverse_transform(predicted_label) \n",
    "prediction_class"
   ]
  },
  {
   "cell_type": "code",
   "execution_count": 253,
   "metadata": {},
   "outputs": [
    {
     "data": {
      "text/plain": [
       "array(['car_horn'], dtype='<U16')"
      ]
     },
     "execution_count": 253,
     "metadata": {},
     "output_type": "execute_result"
    }
   ],
   "source": [
    "#car horn\n",
    "filename = \"/Users/DELL/OneDrive/Desktop/DSE/UrbanSound8K/audio/fold1/24074-1-0-7.wav\"\n",
    "data, sample_rate = librosa.load(filename, res_type='kaiser_fast') \n",
    "mfccs_features = librosa.feature.mfcc(y=data, sr=sample_rate, n_mfcc=40)\n",
    "mfccs_scaled_features = np.mean(mfccs_features.T,axis=0)\n",
    "\n",
    "mfccs_scaled_features = mfccs_scaled_features.reshape(1,-1)\n",
    "predicted_label = np.argmax(model3_NN.predict(mfccs_scaled_features), axis=1)\n",
    "prediction_class = labelencoder.inverse_transform(predicted_label) \n",
    "prediction_class"
   ]
  },
  {
   "cell_type": "code",
   "execution_count": 254,
   "metadata": {},
   "outputs": [
    {
     "data": {
      "text/plain": [
       "array(['drilling'], dtype='<U16')"
      ]
     },
     "execution_count": 254,
     "metadata": {},
     "output_type": "execute_result"
    }
   ],
   "source": [
    "#air conditionair\n",
    "filename = \"/Users/DELL/OneDrive/Desktop/DSE/UrbanSound8K/audio/fold5/100852-0-0-1.wav\"\n",
    "data, sample_rate = librosa.load(filename, res_type='kaiser_fast') \n",
    "mfccs_features = librosa.feature.mfcc(y=data, sr=sample_rate, n_mfcc=40)\n",
    "mfccs_scaled_features = np.mean(mfccs_features.T,axis=0)\n",
    "\n",
    "mfccs_scaled_features = mfccs_scaled_features.reshape(1,-1)\n",
    "predicted_label = np.argmax(model3_NN.predict(mfccs_scaled_features), axis=1)\n",
    "prediction_class = labelencoder.inverse_transform(predicted_label) \n",
    "prediction_class"
   ]
  },
  {
   "cell_type": "code",
   "execution_count": 255,
   "metadata": {},
   "outputs": [
    {
     "data": {
      "text/plain": [
       "array(['street_music'], dtype='<U16')"
      ]
     },
     "execution_count": 255,
     "metadata": {},
     "output_type": "execute_result"
    }
   ],
   "source": [
    "#street music\n",
    "filename = \"/Users/DELL/OneDrive/Desktop/DSE/UrbanSound8K/audio/fold7/101848-9-0-0.wav\"\n",
    "data, sample_rate = librosa.load(filename, res_type='kaiser_fast') \n",
    "mfccs_features = librosa.feature.mfcc(y=data, sr=sample_rate, n_mfcc=40)\n",
    "mfccs_scaled_features = np.mean(mfccs_features.T,axis=0)\n",
    "\n",
    "mfccs_scaled_features = mfccs_scaled_features.reshape(1,-1)\n",
    "predicted_label = np.argmax(model3_NN.predict(mfccs_scaled_features), axis=1)\n",
    "prediction_class = labelencoder.inverse_transform(predicted_label) \n",
    "prediction_class"
   ]
  },
  {
   "cell_type": "code",
   "execution_count": 256,
   "metadata": {},
   "outputs": [
    {
     "data": {
      "text/plain": [
       "array(['gun_shot'], dtype='<U16')"
      ]
     },
     "execution_count": 256,
     "metadata": {},
     "output_type": "execute_result"
    }
   ],
   "source": [
    "#gun shot\n",
    "filename = \"/Users/DELL/OneDrive/Desktop/DSE/UrbanSound8K/audio/fold1/102305-6-0-0.wav\"\n",
    "data, sample_rate = librosa.load(filename, res_type='kaiser_fast') \n",
    "mfccs_features = librosa.feature.mfcc(y=data, sr=sample_rate, n_mfcc=40)\n",
    "mfccs_scaled_features = np.mean(mfccs_features.T,axis=0)\n",
    "\n",
    "mfccs_scaled_features = mfccs_scaled_features.reshape(1,-1)\n",
    "predicted_label = np.argmax(model3_NN.predict(mfccs_scaled_features), axis=1)\n",
    "prediction_class = labelencoder.inverse_transform(predicted_label) \n",
    "prediction_class"
   ]
  },
  {
   "cell_type": "code",
   "execution_count": 257,
   "metadata": {},
   "outputs": [
    {
     "data": {
      "text/plain": [
       "array(['engine_idling'], dtype='<U16')"
      ]
     },
     "execution_count": 257,
     "metadata": {},
     "output_type": "execute_result"
    }
   ],
   "source": [
    "#engine idling\n",
    "filename = \"/Users/DELL/OneDrive/Desktop/DSE/UrbanSound8K/audio/fold2/102858-5-0-1.wav\"\n",
    "data, sample_rate = librosa.load(filename, res_type='kaiser_fast') \n",
    "mfccs_features = librosa.feature.mfcc(y=data, sr=sample_rate, n_mfcc=40)\n",
    "mfccs_scaled_features = np.mean(mfccs_features.T,axis=0)\n",
    "\n",
    "mfccs_scaled_features = mfccs_scaled_features.reshape(1,-1)\n",
    "predicted_label = np.argmax(model3_NN.predict(mfccs_scaled_features), axis=1)\n",
    "prediction_class = labelencoder.inverse_transform(predicted_label) \n",
    "prediction_class"
   ]
  },
  {
   "cell_type": "code",
   "execution_count": 258,
   "metadata": {},
   "outputs": [
    {
     "data": {
      "text/plain": [
       "array(['jackhammer'], dtype='<U16')"
      ]
     },
     "execution_count": 258,
     "metadata": {},
     "output_type": "execute_result"
    }
   ],
   "source": [
    "#jackhammer\n",
    "filename = \"/Users/DELL/OneDrive/Desktop/DSE/UrbanSound8K/audio/fold1/103074-7-0-0.wav\"\n",
    "data, sample_rate = librosa.load(filename, res_type='kaiser_fast') \n",
    "mfccs_features = librosa.feature.mfcc(y=data, sr=sample_rate, n_mfcc=40)\n",
    "mfccs_scaled_features = np.mean(mfccs_features.T,axis=0)\n",
    "\n",
    "mfccs_scaled_features = mfccs_scaled_features.reshape(1,-1)\n",
    "predicted_label = np.argmax(model3_NN.predict(mfccs_scaled_features), axis=1)\n",
    "prediction_class = labelencoder.inverse_transform(predicted_label) \n",
    "prediction_class"
   ]
  },
  {
   "cell_type": "code",
   "execution_count": 259,
   "metadata": {},
   "outputs": [
    {
     "data": {
      "text/plain": [
       "array(['drilling'], dtype='<U16')"
      ]
     },
     "execution_count": 259,
     "metadata": {},
     "output_type": "execute_result"
    }
   ],
   "source": [
    "#drilling\n",
    "filename = \"/Users/DELL/OneDrive/Desktop/DSE/UrbanSound8K/audio/fold3/103199-4-1-0.wav\"\n",
    "data, sample_rate = librosa.load(filename, res_type='kaiser_fast') \n",
    "mfccs_features = librosa.feature.mfcc(y=data, sr=sample_rate, n_mfcc=40)\n",
    "mfccs_scaled_features = np.mean(mfccs_features.T,axis=0)\n",
    "\n",
    "mfccs_scaled_features = mfccs_scaled_features.reshape(1,-1)\n",
    "predicted_label = np.argmax(model3_NN.predict(mfccs_scaled_features), axis=1)\n",
    "prediction_class = labelencoder.inverse_transform(predicted_label) \n",
    "prediction_class"
   ]
  },
  {
   "cell_type": "code",
   "execution_count": null,
   "metadata": {},
   "outputs": [],
   "source": []
  },
  {
   "cell_type": "code",
   "execution_count": null,
   "metadata": {},
   "outputs": [],
   "source": []
  },
  {
   "cell_type": "code",
   "execution_count": null,
   "metadata": {},
   "outputs": [],
   "source": []
  },
  {
   "cell_type": "code",
   "execution_count": null,
   "metadata": {},
   "outputs": [],
   "source": []
  },
  {
   "cell_type": "code",
   "execution_count": null,
   "metadata": {},
   "outputs": [],
   "source": []
  },
  {
   "cell_type": "code",
   "execution_count": null,
   "metadata": {},
   "outputs": [],
   "source": []
  }
 ],
 "metadata": {
  "kernelspec": {
   "display_name": "Python 3",
   "language": "python",
   "name": "python3"
  },
  "language_info": {
   "codemirror_mode": {
    "name": "ipython",
    "version": 3
   },
   "file_extension": ".py",
   "mimetype": "text/x-python",
   "name": "python",
   "nbconvert_exporter": "python",
   "pygments_lexer": "ipython3",
   "version": "3.8.5"
  }
 },
 "nbformat": 4,
 "nbformat_minor": 4
}
